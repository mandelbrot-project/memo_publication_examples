{
 "cells": [
  {
   "cell_type": "markdown",
   "metadata": {},
   "source": [
    "# Qemistree Evaluation Dataset Analysis\n",
    "\n",
    "Comparison of CSCS, Qemistree and MEMO methods using the Qemistree Evaluation Dataset"
   ]
  },
  {
   "cell_type": "markdown",
   "metadata": {},
   "source": [
    "First: Load the required packages and define a function"
   ]
  },
  {
   "cell_type": "code",
   "execution_count": 1,
   "metadata": {},
   "outputs": [],
   "source": [
    "import memo_ms as memo\n",
    "import pandas as pd\n",
    "import numpy as np\n",
    "from plotly.subplots import make_subplots\n",
    "import plotly.graph_objects as go\n",
    "import time\n",
    "import scipy as sp\n",
    "from skbio.stats.ordination import pcoa\n",
    "from skbio.stats.distance import permanova\n",
    "from skbio.stats.distance import DistanceMatrix \n",
    "import plotly.graph_objects as go\n",
    "\n",
    "\n",
    "def conditions(df_meta):\n",
    "    if ((df_meta['Proportion_Fecal_1']>0) & (df_meta['Proportion_Fecal_2']==0)& (df_meta['Proportion_Tomato']==0) & (df_meta['Proportion_NIST_1950_SRM']==0)):\n",
    "        return 'Fecal_1'\n",
    "    if ((df_meta['Proportion_Fecal_1']==0) & (df_meta['Proportion_Fecal_2']>0)& (df_meta['Proportion_Tomato']==0) & (df_meta['Proportion_NIST_1950_SRM']==0)):\n",
    "        return 'Fecal_2'\n",
    "    if ((df_meta['Proportion_Fecal_1']==0) & (df_meta['Proportion_Fecal_2']==0)& (df_meta['Proportion_Tomato']>0) & (df_meta['Proportion_NIST_1950_SRM']==0)):\n",
    "        return 'Tomato'\n",
    "    if ((df_meta['Proportion_Fecal_1']==0) & (df_meta['Proportion_Fecal_2']==0)& (df_meta['Proportion_Tomato']==0) & (df_meta['Proportion_NIST_1950_SRM']>0)):\n",
    "        return 'Plasma'\n",
    "    if ((df_meta['Proportion_Fecal_1']>0) & (df_meta['Proportion_Fecal_2']>0)& (df_meta['Proportion_Tomato']==0) & (df_meta['Proportion_NIST_1950_SRM']==0)):\n",
    "        return 'Fecal_1 + Fecal_2'\n",
    "    if ((df_meta['Proportion_Fecal_1']>0) & (df_meta['Proportion_Fecal_2']==0)& (df_meta['Proportion_Tomato']>0) & (df_meta['Proportion_NIST_1950_SRM']==0)):\n",
    "        return 'Fecal_1 + Tomato'\n",
    "    if ((df_meta['Proportion_Fecal_1']>0) & (df_meta['Proportion_Fecal_2']==0)& (df_meta['Proportion_Tomato']==0) & (df_meta['Proportion_NIST_1950_SRM']>0)):\n",
    "        return 'Fecal_1 + Plasma'\n",
    "    if ((df_meta['Proportion_Fecal_1']==0) & (df_meta['Proportion_Fecal_2']>0)& (df_meta['Proportion_Tomato']>0) & (df_meta['Proportion_NIST_1950_SRM']==0)):\n",
    "        return 'Fecal_2 + Tomato'\n",
    "    if ((df_meta['Proportion_Fecal_1']==0) & (df_meta['Proportion_Fecal_2']>0)& (df_meta['Proportion_Tomato']==0) & (df_meta['Proportion_NIST_1950_SRM']>0)):\n",
    "        return 'Fecal_2 + Plasma'\n",
    "    if ((df_meta['Proportion_Fecal_1']==0) & (df_meta['Proportion_Fecal_2']==0)& (df_meta['Proportion_Tomato']>0) & (df_meta['Proportion_NIST_1950_SRM']>0)):\n",
    "        return 'Tomato + Plasma'\n",
    "    if ((df_meta['Proportion_Fecal_1']>0) & (df_meta['Proportion_Fecal_2']>0)& (df_meta['Proportion_Tomato']>0) & (df_meta['Proportion_NIST_1950_SRM']>0)):\n",
    "        return 'Fecal_1 + Fecal_2 + Tomato + Plasma' \n",
    "    else:\n",
    "        return 'What is it? :)'"
   ]
  },
  {
   "cell_type": "markdown",
   "metadata": {},
   "source": [
    "# 1. Compare CSCS, Qemistree and MEMO"
   ]
  },
  {
   "cell_type": "markdown",
   "metadata": {},
   "source": [
    "## Generate MEMO matrix from aligned feature table and spectra\n"
   ]
  },
  {
   "cell_type": "code",
   "execution_count": 3,
   "metadata": {},
   "outputs": [
    {
     "name": "stdout",
     "output_type": "stream",
     "text": [
      "generating memo_matrix from input featuretable and spectradocument\n"
     ]
    },
    {
     "name": "stderr",
     "output_type": "stream",
     "text": [
      "100%|██████████| 198/198 [00:07<00:00, 28.11it/s]\n"
     ]
    }
   ],
   "source": [
    "feat_table_qe = memo.FeatureTable(path=\"../01_input_data/02_qemistree/qemistree_memo_cscs_comparison/quantification_table-00000.csv\", software='mzmine')\n",
    "spectra_qe = memo.SpectraDocuments(path=\"../01_input_data/02_qemistree/qemistree_memo_cscs_comparison/qemistree_specs_ms.mgf\", min_relative_intensity = 0.01,\n",
    "            max_relative_intensity = 1, min_peaks_required=10, losses_from = 10, losses_to = 200, n_decimals = 2)\n",
    "\n",
    "memo_qe = memo.MemoMatrix()\n",
    "\n",
    "memo_qe.memo_from_aligned_samples(featuretable= feat_table_qe, spectradocuments= spectra_qe)\n",
    "\n",
    "    # We use the filter function to remove blanks and \n",
    "memo_qe = memo_qe.filter(samples_pattern='blank|Qcmix')\n",
    "feat_table_qe = feat_table_qe.filter(samples_pattern='blank|Qcmix')"
   ]
  },
  {
   "cell_type": "markdown",
   "metadata": {},
   "source": [
    "## Generate MEMO matrix from unaligned .mgf"
   ]
  },
  {
   "cell_type": "code",
   "execution_count": 4,
   "metadata": {},
   "outputs": [
    {
     "name": "stderr",
     "output_type": "stream",
     "text": [
      "100%|██████████| 99/99 [00:29<00:00,  3.39it/s]\n",
      "100%|██████████| 99/99 [00:29<00:00,  3.33it/s]\n"
     ]
    }
   ],
   "source": [
    "    # Path to folder containning the mgf (QEC18)\n",
    "path_to_file = \"../01_input_data/02_qemistree/mgf_individual_files/Qemistree_QE_C18/\"\n",
    "    # Generating memo matrix\n",
    "memo_unaligned = memo.MemoMatrix()\n",
    "memo_unaligned.memo_from_unaligned_samples(path_to_file, min_relative_intensity = 0.01,\n",
    "            max_relative_intensity = 1, min_peaks_required=10, losses_from = 10, losses_to = 200, n_decimals = 2)\n",
    "\n",
    "memo_unaligned = memo_unaligned.filter(samples_pattern='blank|Qcmix')\n",
    "\n",
    "    # Path to folder containning the mgf (QEC18RT)\n",
    "path_to_file = \"../01_input_data/02_qemistree/mgf_individual_files/Qemistree_QE_C18RT/\"\n",
    "    # Generating memo matrix\n",
    "memo_unaligned2 = memo.MemoMatrix()\n",
    "memo_unaligned2.memo_from_unaligned_samples(path_to_file, min_relative_intensity = 0.01,\n",
    "            max_relative_intensity = 1, min_peaks_required=10, losses_from = 10, losses_to = 200, n_decimals = 2)\n",
    "\n",
    "memo_unaligned2= memo_unaligned2.filter(samples_pattern='blank|Qcmix')\n",
    "\n",
    "    # Merge both MEMO matrices\n",
    "memo_merged = memo_unaligned.merge_memo(memo_unaligned2, drop_not_in_common=False)\n",
    "memo_merged.memo_matrix.index += '.mzML'\n",
    "memo_merged.memo_matrix = memo_merged.memo_matrix.div(memo_merged.memo_matrix.sum(axis=1), axis=0)"
   ]
  },
  {
   "cell_type": "markdown",
   "metadata": {},
   "source": [
    "## Load and clean metadata"
   ]
  },
  {
   "cell_type": "code",
   "execution_count": 5,
   "metadata": {},
   "outputs": [],
   "source": [
    "df_meta = pd.read_csv(\"../01_input_data/02_qemistree/1901_gradient_benchmarking_dataset_v4_sample_metadata.txt\", sep='\\t')\n",
    "df_meta['Samplename'] = df_meta['Samplename'].str[:-6]\n",
    "df_meta['Samplename'] = df_meta['Samplename'].str.replace('BLANK_', 'BLANK')\n",
    "df_meta = df_meta[['Filename', 'Experiment', 'Samplename', 'Triplicate_number', 'Proportion_Fecal_1', 'Proportion_Fecal_2', 'Proportion_Tomato', 'Proportion_NIST_1950_SRM']]\n",
    "df_meta['contains'] = df_meta.apply(conditions, axis=1)\n",
    "df_meta['instrument'] = np.where(df_meta['Samplename'].str.contains('qTOF'), 'qTOF', 'QE')\n",
    "df_meta['blank_qc'] = np.where(df_meta['Samplename'].str.contains('blank|qcmix', case = False), 'yes', 'no')\n",
    "df_meta['Proportion_Fecal_1'] = df_meta['Proportion_Fecal_1'].apply(str)\n",
    "df_meta['Proportion_Fecal_2'] = df_meta['Proportion_Fecal_2'].apply(str)\n",
    "df_meta['Proportion_Tomato'] = df_meta['Proportion_Tomato'].apply(str)\n",
    "df_meta['Proportion_NIST_1950_SRM'] = df_meta['Proportion_NIST_1950_SRM'].apply(str)"
   ]
  },
  {
   "cell_type": "markdown",
   "metadata": {},
   "source": [
    "## Generating/loading the distance matrix for pcoa\n",
    "Distance matrices for CSCS and Qemistree methods were generated using respectively [CSCS](https://github.com/madeleineernst/q2-cscs) and [Qemistree](https://github.com/knightlab-analyses/qemistree-analyses/blob/master/Evaluation-Dataset-Analyses.ipynb) implementations. Minimal modifications to allow distance matrix export were used. "
   ]
  },
  {
   "cell_type": "code",
   "execution_count": 6,
   "metadata": {},
   "outputs": [
    {
     "name": "stdout",
     "output_type": "stream",
     "text": [
      "computing dm from aligned took 4.359861135482788 seconds\n",
      "computing dm from unaligned took 12.494494915008545 seconds\n"
     ]
    }
   ],
   "source": [
    "samples = feat_table_qe.feature_table.index.to_list()\n",
    "df_meta = df_meta[df_meta['Filename'].isin(samples)]\n",
    "df_meta.set_index('Filename', inplace=True)\n",
    "df_meta = df_meta.loc[samples]\n",
    "\n",
    "    # Bray-curtis\n",
    "df_feature_trans = feat_table_qe.feature_table.loc[samples]\n",
    "dm_braycurtis = sp.spatial.distance.pdist(df_feature_trans, 'braycurtis')\n",
    "\n",
    "    # CSCS\n",
    "dm_cscs_weighted = pd.read_csv(\"../01_input_data/02_qemistree/qemistree_memo_cscs_comparison/cscs_weighed_dm.tsv\", sep='\\t')\n",
    "dm_cscs_weighted.set_index('Unnamed: 0', inplace=True)\n",
    "dm_cscs_weighted = dm_cscs_weighted[samples]\n",
    "dm_cscs_weighted = dm_cscs_weighted.loc[samples]\n",
    "\n",
    "dm_cscs_unweighted = pd.read_csv(\"../01_input_data/02_qemistree/qemistree_memo_cscs_comparison/cscs_unweighed_dm.tsv\", sep='\\t')\n",
    "dm_cscs_unweighted.set_index('Unnamed: 0', inplace=True)\n",
    "dm_cscs_unweighted = dm_cscs_unweighted[samples]\n",
    "dm_cscs_unweighted = dm_cscs_unweighted.loc[samples]\n",
    "\n",
    "    #Qemistree\n",
    "dm_qemistree_weighted = pd.read_csv(\"../01_input_data/02_qemistree/qemistree_memo_cscs_comparison/weighted_unifrac_dm.csv\", sep=',')\n",
    "dm_qemistree_weighted = dm_qemistree_weighted.drop('Unnamed: 0', axis = 1)\n",
    "dm_qemistree_weighted.index = dm_qemistree_weighted.columns\n",
    "dm_qemistree_weighted = dm_qemistree_weighted[samples]\n",
    "dm_qemistree_weighted = dm_qemistree_weighted.loc[samples]\n",
    "\n",
    "dm_qemistree_unweighted = pd.read_csv(\"../01_input_data/02_qemistree/qemistree_memo_cscs_comparison/unweighted_unifrac_dm.csv\", sep=',')\n",
    "dm_qemistree_unweighted = dm_qemistree_unweighted.drop('Unnamed: 0', axis = 1)\n",
    "dm_qemistree_unweighted.index = dm_qemistree_unweighted.columns\n",
    "dm_qemistree_unweighted = dm_qemistree_unweighted[samples]\n",
    "dm_qemistree_unweighted = dm_qemistree_unweighted.loc[samples]\n",
    "\n",
    "    #MEMO aligned\n",
    "df_fingerprints = memo_qe.memo_matrix.loc[samples]\n",
    "dm_memo = sp.spatial.distance.pdist(df_fingerprints, 'braycurtis') \n",
    "\n",
    "    #MEMO unaligned\n",
    "df_fingerprints2 = memo_merged.memo_matrix.loc[samples]\n",
    "start = time.time()\n",
    "dm_memo2 = sp.spatial.distance.pdist(df_fingerprints2, 'braycurtis') "
   ]
  },
  {
   "cell_type": "markdown",
   "metadata": {},
   "source": [
    "## Plotting PCoA comparison of: feature-based distance matrix, CSCS, Qemistree and MEMO\n"
   ]
  },
  {
   "cell_type": "code",
   "execution_count": 7,
   "metadata": {},
   "outputs": [
    {
     "name": "stderr",
     "output_type": "stream",
     "text": [
      "C:\\Users\\gaudrya.FARMA\\Anaconda3\\envs\\memo\\lib\\site-packages\\skbio\\stats\\ordination\\_principal_coordinate_analysis.py:143: RuntimeWarning: The result contains negative eigenvalues. Please compare their magnitude with the magnitude of some of the largest positive eigenvalues. If the negative ones are smaller, it's probably safe to ignore them, but if they are large in magnitude, the results won't be useful. See the Notes section for more details. The smallest eigenvalue is -0.4772992374295274 and the largest is 22.57698409944124.\n",
      "  warn(\n",
      "C:\\Users\\gaudrya.FARMA\\Anaconda3\\envs\\memo\\lib\\site-packages\\skbio\\stats\\ordination\\_principal_coordinate_analysis.py:143: RuntimeWarning: The result contains negative eigenvalues. Please compare their magnitude with the magnitude of some of the largest positive eigenvalues. If the negative ones are smaller, it's probably safe to ignore them, but if they are large in magnitude, the results won't be useful. See the Notes section for more details. The smallest eigenvalue is -0.34383642432181477 and the largest is 4.738861993772905.\n",
      "  warn(\n",
      "C:\\Users\\gaudrya.FARMA\\Anaconda3\\envs\\memo\\lib\\site-packages\\skbio\\stats\\ordination\\_principal_coordinate_analysis.py:143: RuntimeWarning: The result contains negative eigenvalues. Please compare their magnitude with the magnitude of some of the largest positive eigenvalues. If the negative ones are smaller, it's probably safe to ignore them, but if they are large in magnitude, the results won't be useful. See the Notes section for more details. The smallest eigenvalue is -1.2373455468965957 and the largest is 14.427720003520424.\n",
      "  warn(\n",
      "C:\\Users\\gaudrya.FARMA\\Anaconda3\\envs\\memo\\lib\\site-packages\\skbio\\stats\\ordination\\_principal_coordinate_analysis.py:143: RuntimeWarning: The result contains negative eigenvalues. Please compare their magnitude with the magnitude of some of the largest positive eigenvalues. If the negative ones are smaller, it's probably safe to ignore them, but if they are large in magnitude, the results won't be useful. See the Notes section for more details. The smallest eigenvalue is -0.014828929749549922 and the largest is 0.4437312099331719.\n",
      "  warn(\n",
      "C:\\Users\\gaudrya.FARMA\\Anaconda3\\envs\\memo\\lib\\site-packages\\skbio\\stats\\ordination\\_principal_coordinate_analysis.py:143: RuntimeWarning: The result contains negative eigenvalues. Please compare their magnitude with the magnitude of some of the largest positive eigenvalues. If the negative ones are smaller, it's probably safe to ignore them, but if they are large in magnitude, the results won't be useful. See the Notes section for more details. The smallest eigenvalue is -0.013553489236284808 and the largest is 2.0200690500334404.\n",
      "  warn(\n",
      "C:\\Users\\gaudrya.FARMA\\Anaconda3\\envs\\memo\\lib\\site-packages\\skbio\\stats\\ordination\\_principal_coordinate_analysis.py:143: RuntimeWarning: The result contains negative eigenvalues. Please compare their magnitude with the magnitude of some of the largest positive eigenvalues. If the negative ones are smaller, it's probably safe to ignore them, but if they are large in magnitude, the results won't be useful. See the Notes section for more details. The smallest eigenvalue is -0.06480404848109454 and the largest is 1.1354261882360133.\n",
      "  warn(\n"
     ]
    }
   ],
   "source": [
    "results = pd.DataFrame()\n",
    "results_expvar = {}\n",
    "metrics = ['Feature Table (Bray-Curtis)', 'MEMO unaligned (Bray-Curtis)', 'Qemistree weighted UniFrac', 'CSCS weighted', 'MEMO aligned (Bray-Curtis)', 'Qemistree unweighted UniFrac', 'CSCS unweighted']\n",
    "pos = [[1,1], [1,2], [1,3], [1,4], [2,2], [2,3], [2,4]]\n",
    "legend = [True, False, False, False, False, False, False]\n",
    "\n",
    "dms = [dm_braycurtis,dm_memo2, dm_qemistree_weighted,dm_cscs_weighted, dm_memo, dm_qemistree_unweighted, dm_cscs_unweighted]\n",
    "\n",
    "for metric, dm in zip(metrics, dms):\n",
    "    pcoa_results = pcoa(dm)\n",
    "\n",
    "    results[metric+'_PC1'] = pcoa_results.samples['PC1']\n",
    "    results[metric+'_PC2'] = pcoa_results.samples['PC2']\n",
    "\n",
    "    results_expvar[metric] = {}\n",
    "    results_expvar[metric]['varPC1'] = round(100*pcoa_results.proportion_explained[0], 1)\n",
    "    results_expvar[metric]['varPC2'] = round(100*pcoa_results.proportion_explained[1], 1)\n",
    "\n",
    "results['contains'] = list(df_meta['contains'])\n",
    "results['Experiment'] = list(df_meta['Experiment'])\n",
    "results['Samplename'] = list(df_meta['Samplename'])\n",
    "results['Samplename'] = results['Samplename'].str.replace('QE_C18_', '')\n",
    "results['Samplename'] = results['Samplename'].str.replace('QE_C18-RTshift_', '')\n",
    "results['Triplicate_number'] = list(df_meta['Triplicate_number'])\n",
    "results['Proportion_Fecal_1'] = list(df_meta['Proportion_Fecal_1'].apply(str))\n",
    "results['Proportion_Fecal_2'] = list(df_meta['Proportion_Fecal_2'].apply(str))\n",
    "results['Proportion_Tomato'] = list(df_meta['Proportion_Tomato'].apply(str))\n",
    "results['Proportion_NIST_1950_SRM'] = list(df_meta['Proportion_NIST_1950_SRM'].apply(str))\n",
    "results['size'] = np.where(results['contains'].isin(['Fecal_2', 'Fecal_1', 'Tomato', 'Plasma']), 11, 7)\n",
    "results['line'] = np.where(results['contains'].isin(['Fecal_2', 'Fecal_1', 'Tomato', 'Plasma']), 0.8, 0)"
   ]
  },
  {
   "cell_type": "markdown",
   "metadata": {},
   "source": [
    "Change the 'plot' variable according to the groups to visualize on the plot"
   ]
  },
  {
   "cell_type": "code",
   "execution_count": 8,
   "metadata": {},
   "outputs": [
    {
     "data": {
      "application/vnd.plotly.v1+json": {
       "config": {
        "plotlyServerURL": "https://plot.ly"
       },
       "data": [
        {
         "line": {
          "color": "black",
          "width": 0.07
         },
         "mode": "lines",
         "showlegend": false,
         "type": "scatter",
         "x": [
          0.13655470754000687,
          -0.4006424530724825
         ],
         "xaxis": "x",
         "y": [
          0.08124611608644694,
          -0.24744055357996794
         ],
         "yaxis": "y"
        },
        {
         "line": {
          "color": "black",
          "width": 0.07
         },
         "mode": "lines",
         "showlegend": false,
         "type": "scatter",
         "x": [
          0.41279909434086,
          -0.38516283118916783
         ],
         "xaxis": "x",
         "y": [
          -0.23222953187672027,
          -0.23273166354423214
         ],
         "yaxis": "y"
        },
        {
         "line": {
          "color": "black",
          "width": 0.07
         },
         "mode": "lines",
         "showlegend": false,
         "type": "scatter",
         "x": [
          0.3611558626700086,
          -0.4031147577711521
         ],
         "xaxis": "x",
         "y": [
          -0.16532479685230791,
          -0.24127238869074144
         ],
         "yaxis": "y"
        },
        {
         "line": {
          "color": "black",
          "width": 0.07
         },
         "mode": "lines",
         "showlegend": false,
         "type": "scatter",
         "x": [
          0.1974094598406868,
          -0.3958401778134825
         ],
         "xaxis": "x",
         "y": [
          0.017339471427830745,
          -0.14519975298796875
         ],
         "yaxis": "y"
        },
        {
         "line": {
          "color": "black",
          "width": 0.07
         },
         "mode": "lines",
         "showlegend": false,
         "type": "scatter",
         "x": [
          0.39543937813142105,
          -0.3989099811054548
         ],
         "xaxis": "x",
         "y": [
          -0.13822105190991307,
          -0.13987072285144625
         ],
         "yaxis": "y"
        },
        {
         "line": {
          "color": "black",
          "width": 0.07
         },
         "mode": "lines",
         "showlegend": false,
         "type": "scatter",
         "x": [
          0.3979037334887123,
          -0.3986665758086457
         ],
         "xaxis": "x",
         "y": [
          -0.15147804041280613,
          -0.13969093256313186
         ],
         "yaxis": "y"
        },
        {
         "line": {
          "color": "black",
          "width": 0.07
         },
         "mode": "lines",
         "showlegend": false,
         "type": "scatter",
         "x": [
          0.4636410714250044,
          -0.42116269909480786
         ],
         "xaxis": "x",
         "y": [
          -0.052859015151853005,
          -0.03241770307153907
         ],
         "yaxis": "y"
        },
        {
         "line": {
          "color": "black",
          "width": 0.07
         },
         "mode": "lines",
         "showlegend": false,
         "type": "scatter",
         "x": [
          0.4629594780197856,
          -0.4562944643625373
         ],
         "xaxis": "x",
         "y": [
          -0.04453105854746209,
          -0.04695911976405537
         ],
         "yaxis": "y"
        },
        {
         "line": {
          "color": "black",
          "width": 0.07
         },
         "mode": "lines",
         "showlegend": false,
         "type": "scatter",
         "x": [
          0.4626224686488455,
          -0.4558034614758588
         ],
         "xaxis": "x",
         "y": [
          -0.04917125527527195,
          -0.04743234737749503
         ],
         "yaxis": "y"
        },
        {
         "line": {
          "color": "black",
          "width": 0.07
         },
         "mode": "lines",
         "showlegend": false,
         "type": "scatter",
         "x": [
          0.462745495742593,
          -0.44280713595677396
         ],
         "xaxis": "x",
         "y": [
          -0.0033913851748804016,
          -0.000030032861997262916
         ],
         "yaxis": "y"
        },
        {
         "line": {
          "color": "black",
          "width": 0.07
         },
         "mode": "lines",
         "showlegend": false,
         "type": "scatter",
         "x": [
          0.45893371464245375,
          -0.4472745153095163
         ],
         "xaxis": "x",
         "y": [
          -0.0047305204881090725,
          0.0043773320532620105
         ],
         "yaxis": "y"
        },
        {
         "line": {
          "color": "black",
          "width": 0.07
         },
         "mode": "lines",
         "showlegend": false,
         "type": "scatter",
         "x": [
          0.45790465329808605,
          -0.4542164484372175
         ],
         "xaxis": "x",
         "y": [
          0.00393204399694225,
          0.002188566060636838
         ],
         "yaxis": "y"
        },
        {
         "line": {
          "color": "black",
          "width": 0.07
         },
         "mode": "lines",
         "showlegend": false,
         "type": "scatter",
         "x": [
          0.4686562542601797,
          -0.45298898521530856
         ],
         "xaxis": "x",
         "y": [
          -0.05919382663313377,
          -0.05429863869394628
         ],
         "yaxis": "y"
        },
        {
         "line": {
          "color": "black",
          "width": 0.07
         },
         "mode": "lines",
         "showlegend": false,
         "type": "scatter",
         "x": [
          0.46708440424259284,
          -0.45455401047990224
         ],
         "xaxis": "x",
         "y": [
          -0.052579401869900934,
          -0.05259278068770475
         ],
         "yaxis": "y"
        },
        {
         "line": {
          "color": "black",
          "width": 0.07
         },
         "mode": "lines",
         "showlegend": false,
         "type": "scatter",
         "x": [
          0.465749754615229,
          -0.4554677616530291
         ],
         "xaxis": "x",
         "y": [
          -0.04813069947464522,
          -0.05790389966194871
         ],
         "yaxis": "y"
        },
        {
         "line": {
          "color": "black",
          "width": 0.07
         },
         "mode": "lines",
         "showlegend": false,
         "type": "scatter",
         "x": [
          0.4120719829348957,
          -0.38343556405416684
         ],
         "xaxis": "x",
         "y": [
          -0.020083320548567592,
          -0.02192222656995085
         ],
         "yaxis": "y"
        },
        {
         "line": {
          "color": "black",
          "width": 0.07
         },
         "mode": "lines",
         "showlegend": false,
         "type": "scatter",
         "x": [
          0.4248220544287961,
          -0.3990702318611981
         ],
         "xaxis": "x",
         "y": [
          -0.037522368914152046,
          -0.030550071374550448
         ],
         "yaxis": "y"
        },
        {
         "line": {
          "color": "black",
          "width": 0.07
         },
         "mode": "lines",
         "showlegend": false,
         "type": "scatter",
         "x": [
          0.3978846308064977,
          -0.3990510188878384
         ],
         "xaxis": "x",
         "y": [
          -0.011642053836903468,
          -0.040391567177254596
         ],
         "yaxis": "y"
        },
        {
         "line": {
          "color": "black",
          "width": 0.07
         },
         "mode": "lines",
         "showlegend": false,
         "type": "scatter",
         "x": [
          0.14453630719675048,
          -0.39823250809690564
         ],
         "xaxis": "x",
         "y": [
          0.10198374105422485,
          0.059062293455082654
         ],
         "yaxis": "y"
        },
        {
         "line": {
          "color": "black",
          "width": 0.07
         },
         "mode": "lines",
         "showlegend": false,
         "type": "scatter",
         "x": [
          0.4043889266429883,
          -0.39854748030010523
         ],
         "xaxis": "x",
         "y": [
          0.04443075574536383,
          0.061993418839075935
         ],
         "yaxis": "y"
        },
        {
         "line": {
          "color": "black",
          "width": 0.07
         },
         "mode": "lines",
         "showlegend": false,
         "type": "scatter",
         "x": [
          0.40245487821956205,
          -0.3966267297505758
         ],
         "xaxis": "x",
         "y": [
          0.04916990531007056,
          0.06255523213188584
         ],
         "yaxis": "y"
        },
        {
         "line": {
          "color": "black",
          "width": 0.07
         },
         "mode": "lines",
         "showlegend": false,
         "type": "scatter",
         "x": [
          0.46266037538509375,
          -0.4492417467324535
         ],
         "xaxis": "x",
         "y": [
          -0.07553511921440922,
          -0.07896255117716244
         ],
         "yaxis": "y"
        },
        {
         "line": {
          "color": "black",
          "width": 0.07
         },
         "mode": "lines",
         "showlegend": false,
         "type": "scatter",
         "x": [
          0.46080351303710615,
          -0.44376465841019297
         ],
         "xaxis": "x",
         "y": [
          -0.07426843217450368,
          -0.07541900159009667
         ],
         "yaxis": "y"
        },
        {
         "line": {
          "color": "black",
          "width": 0.07
         },
         "mode": "lines",
         "showlegend": false,
         "type": "scatter",
         "x": [
          0.4602613908057719,
          -0.44827629093172283
         ],
         "xaxis": "x",
         "y": [
          -0.08405350800566364,
          -0.0784232687494825
         ],
         "yaxis": "y"
        },
        {
         "line": {
          "color": "black",
          "width": 0.07
         },
         "mode": "lines",
         "showlegend": false,
         "type": "scatter",
         "x": [
          0.4031187725821692,
          -0.38694339950406637
         ],
         "xaxis": "x",
         "y": [
          -0.22353480911840864,
          -0.2513394055652125
         ],
         "yaxis": "y"
        },
        {
         "line": {
          "color": "black",
          "width": 0.07
         },
         "mode": "lines",
         "showlegend": false,
         "type": "scatter",
         "x": [
          0.39984765013702167,
          -0.3906970233015799
         ],
         "xaxis": "x",
         "y": [
          -0.24097474812349418,
          -0.2444268509797374
         ],
         "yaxis": "y"
        },
        {
         "line": {
          "color": "black",
          "width": 0.07
         },
         "mode": "lines",
         "showlegend": false,
         "type": "scatter",
         "x": [
          0.39510995823920614,
          -0.38984385258027293
         ],
         "xaxis": "x",
         "y": [
          -0.2319702770072772,
          -0.24209775187006788
         ],
         "yaxis": "y"
        },
        {
         "line": {
          "color": "black",
          "width": 0.07
         },
         "mode": "lines",
         "showlegend": false,
         "type": "scatter",
         "x": [
          0.39154295918722154,
          -0.3939991918422098
         ],
         "xaxis": "x",
         "y": [
          -0.22334217537912252,
          -0.19945181332694747
         ],
         "yaxis": "y"
        },
        {
         "line": {
          "color": "black",
          "width": 0.07
         },
         "mode": "lines",
         "showlegend": false,
         "type": "scatter",
         "x": [
          0.3869577653051741,
          -0.3937261883674724
         ],
         "xaxis": "x",
         "y": [
          -0.2336420661755267,
          -0.19558074779063098
         ],
         "yaxis": "y"
        },
        {
         "line": {
          "color": "black",
          "width": 0.07
         },
         "mode": "lines",
         "showlegend": false,
         "type": "scatter",
         "x": [
          0.3900330414617283,
          -0.3943851290625163
         ],
         "xaxis": "x",
         "y": [
          -0.23061198022455606,
          -0.19333876319555549
         ],
         "yaxis": "y"
        },
        {
         "line": {
          "color": "black",
          "width": 0.07
         },
         "mode": "lines",
         "showlegend": false,
         "type": "scatter",
         "x": [
          0.44853825484008625,
          -0.4384777482813281
         ],
         "xaxis": "x",
         "y": [
          -0.12521690786502537,
          -0.12527936213572294
         ],
         "yaxis": "y"
        },
        {
         "line": {
          "color": "black",
          "width": 0.07
         },
         "mode": "lines",
         "showlegend": false,
         "type": "scatter",
         "x": [
          0.44614646887456183,
          -0.4368569575198242
         ],
         "xaxis": "x",
         "y": [
          -0.12856791281454694,
          -0.12945824317864482
         ],
         "yaxis": "y"
        },
        {
         "line": {
          "color": "black",
          "width": 0.07
         },
         "mode": "lines",
         "showlegend": false,
         "type": "scatter",
         "x": [
          0.4456798279403053,
          -0.4384984615449552
         ],
         "xaxis": "x",
         "y": [
          -0.13841630436017563,
          -0.12970730598563768
         ],
         "yaxis": "y"
        },
        {
         "line": {
          "color": "black",
          "width": 0.07
         },
         "mode": "lines",
         "showlegend": false,
         "type": "scatter",
         "x": [
          0.3298065947252955,
          -0.34608581070594685
         ],
         "xaxis": "x",
         "y": [
          0.2805762540037843,
          0.24175556405465576
         ],
         "yaxis": "y"
        },
        {
         "line": {
          "color": "black",
          "width": 0.07
         },
         "mode": "lines",
         "showlegend": false,
         "type": "scatter",
         "x": [
          0.3553632466750963,
          -0.3451683764891077
         ],
         "xaxis": "x",
         "y": [
          0.22416262221829933,
          0.23483552869247606
         ],
         "yaxis": "y"
        },
        {
         "line": {
          "color": "black",
          "width": 0.07
         },
         "mode": "lines",
         "showlegend": false,
         "type": "scatter",
         "x": [
          0.3577754239167294,
          -0.3483219081383484
         ],
         "xaxis": "x",
         "y": [
          0.2068454382192743,
          0.23735719463366683
         ],
         "yaxis": "y"
        },
        {
         "line": {
          "color": "black",
          "width": 0.07
         },
         "mode": "lines",
         "showlegend": false,
         "type": "scatter",
         "x": [
          0.11332646262580631,
          -0.3718156456676337
         ],
         "xaxis": "x",
         "y": [
          0.1437632708221268,
          0.033770845820375865
         ],
         "yaxis": "y"
        },
        {
         "line": {
          "color": "black",
          "width": 0.07
         },
         "mode": "lines",
         "showlegend": false,
         "type": "scatter",
         "x": [
          0.3694011329566742,
          -0.36773771392975957
         ],
         "xaxis": "x",
         "y": [
          0.021770671897958182,
          0.02973752477853144
         ],
         "yaxis": "y"
        },
        {
         "line": {
          "color": "black",
          "width": 0.07
         },
         "mode": "lines",
         "showlegend": false,
         "type": "scatter",
         "x": [
          0.37473846697567004,
          -0.37117804158580364
         ],
         "xaxis": "x",
         "y": [
          0.02627865830367434,
          0.03275419516220387
         ],
         "yaxis": "y"
        },
        {
         "line": {
          "color": "black",
          "width": 0.07
         },
         "mode": "lines",
         "showlegend": false,
         "type": "scatter",
         "x": [
          0.4032230178161922,
          -0.3961509011473026
         ],
         "xaxis": "x",
         "y": [
          -0.1524133751835407,
          -0.14513734746587142
         ],
         "yaxis": "y"
        },
        {
         "line": {
          "color": "black",
          "width": 0.07
         },
         "mode": "lines",
         "showlegend": false,
         "type": "scatter",
         "x": [
          0.4080391699326887,
          -0.3971435442716556
         ],
         "xaxis": "x",
         "y": [
          -0.14826493116210007,
          -0.14434612884495018
         ],
         "yaxis": "y"
        },
        {
         "line": {
          "color": "black",
          "width": 0.07
         },
         "mode": "lines",
         "showlegend": false,
         "type": "scatter",
         "x": [
          0.4135677774260858,
          -0.3977231580529449
         ],
         "xaxis": "x",
         "y": [
          -0.14899314476792938,
          -0.1487856355152412
         ],
         "yaxis": "y"
        },
        {
         "line": {
          "color": "black",
          "width": 0.07
         },
         "mode": "lines",
         "showlegend": false,
         "type": "scatter",
         "x": [
          0.38723864500061633,
          -0.38195051940592173
         ],
         "xaxis": "x",
         "y": [
          -0.03474573695739909,
          -0.023072862836722403
         ],
         "yaxis": "y"
        },
        {
         "line": {
          "color": "black",
          "width": 0.07
         },
         "mode": "lines",
         "showlegend": false,
         "type": "scatter",
         "x": [
          0.3847237050892929,
          -0.383215671579207
         ],
         "xaxis": "x",
         "y": [
          -0.03208597841257128,
          -0.02418563794863264
         ],
         "yaxis": "y"
        },
        {
         "line": {
          "color": "black",
          "width": 0.07
         },
         "mode": "lines",
         "showlegend": false,
         "type": "scatter",
         "x": [
          0.3893135858431063,
          -0.3846966540809082
         ],
         "xaxis": "x",
         "y": [
          -0.0380188560069836,
          -0.02146291931464559
         ],
         "yaxis": "y"
        },
        {
         "line": {
          "color": "black",
          "width": 0.07
         },
         "mode": "lines",
         "showlegend": false,
         "type": "scatter",
         "x": [
          0.37718827824146606,
          -0.36746442508104166
         ],
         "xaxis": "x",
         "y": [
          -0.2513727445480882,
          -0.23018642855442803
         ],
         "yaxis": "y"
        },
        {
         "line": {
          "color": "black",
          "width": 0.07
         },
         "mode": "lines",
         "showlegend": false,
         "type": "scatter",
         "x": [
          0.37398148234833906,
          -0.3693368517889744
         ],
         "xaxis": "x",
         "y": [
          -0.23925333927827008,
          -0.2322593780202578
         ],
         "yaxis": "y"
        },
        {
         "line": {
          "color": "black",
          "width": 0.07
         },
         "mode": "lines",
         "showlegend": false,
         "type": "scatter",
         "x": [
          0.37714773248325123,
          -0.37285407356064004
         ],
         "xaxis": "x",
         "y": [
          -0.24409152382107066,
          -0.22926684200091388
         ],
         "yaxis": "y"
        },
        {
         "line": {
          "color": "black",
          "width": 0.07
         },
         "mode": "lines",
         "showlegend": false,
         "type": "scatter",
         "x": [
          0.3905238125542919,
          -0.3232243766402031
         ],
         "xaxis": "x",
         "y": [
          -0.27008593968616673,
          -0.197689297210125
         ],
         "yaxis": "y"
        },
        {
         "line": {
          "color": "black",
          "width": 0.07
         },
         "mode": "lines",
         "showlegend": false,
         "type": "scatter",
         "x": [
          0.39049324003631564,
          -0.39266844149526214
         ],
         "xaxis": "x",
         "y": [
          -0.2716380686711918,
          -0.25710731055239133
         ],
         "yaxis": "y"
        },
        {
         "line": {
          "color": "black",
          "width": 0.07
         },
         "mode": "lines",
         "showlegend": false,
         "type": "scatter",
         "x": [
          0.3932175319292531,
          -0.3739424685696191
         ],
         "xaxis": "x",
         "y": [
          -0.2576269100877892,
          -0.2595741871088662
         ],
         "yaxis": "y"
        },
        {
         "line": {
          "color": "black",
          "width": 0.07
         },
         "mode": "lines",
         "showlegend": false,
         "type": "scatter",
         "x": [
          0.396174828424108,
          -0.37230368005798337
         ],
         "xaxis": "x",
         "y": [
          0.13417111223767422,
          0.14564552388158472
         ],
         "yaxis": "y"
        },
        {
         "line": {
          "color": "black",
          "width": 0.07
         },
         "mode": "lines",
         "showlegend": false,
         "type": "scatter",
         "x": [
          0.39035339938696356,
          -0.3835099125034292
         ],
         "xaxis": "x",
         "y": [
          0.16225364416776955,
          0.14374806987144317
         ],
         "yaxis": "y"
        },
        {
         "line": {
          "color": "black",
          "width": 0.07
         },
         "mode": "lines",
         "showlegend": false,
         "type": "scatter",
         "x": [
          0.39461517434861865,
          -0.3798917780713977
         ],
         "xaxis": "x",
         "y": [
          0.12885988413348082,
          0.13715063202922484
         ],
         "yaxis": "y"
        },
        {
         "line": {
          "color": "black",
          "width": 0.07
         },
         "mode": "lines",
         "showlegend": false,
         "type": "scatter",
         "x": [
          0.24426385104119266,
          -0.21911683545608768
         ],
         "xaxis": "x",
         "y": [
          0.14963338160782003,
          0.18490741352162268
         ],
         "yaxis": "y"
        },
        {
         "line": {
          "color": "black",
          "width": 0.07
         },
         "mode": "lines",
         "showlegend": false,
         "type": "scatter",
         "x": [
          0.23666393009517772,
          -0.22379314314094498
         ],
         "xaxis": "x",
         "y": [
          0.14938817822289913,
          0.19068663701444435
         ],
         "yaxis": "y"
        },
        {
         "line": {
          "color": "black",
          "width": 0.07
         },
         "mode": "lines",
         "showlegend": false,
         "type": "scatter",
         "x": [
          0.2330219867652285,
          -0.22495053314655664
         ],
         "xaxis": "x",
         "y": [
          0.15527474738172206,
          0.18863477629578707
         ],
         "yaxis": "y"
        },
        {
         "line": {
          "color": "black",
          "width": 0.07
         },
         "mode": "lines",
         "showlegend": false,
         "type": "scatter",
         "x": [
          0.3971571510135843,
          -0.3640673530911297
         ],
         "xaxis": "x",
         "y": [
          0.055435739802951946,
          0.053323373072231145
         ],
         "yaxis": "y"
        },
        {
         "line": {
          "color": "black",
          "width": 0.07
         },
         "mode": "lines",
         "showlegend": false,
         "type": "scatter",
         "x": [
          0.38719123287089763,
          -0.3577040153418656
         ],
         "xaxis": "x",
         "y": [
          0.043784838725927554,
          0.045360355108568125
         ],
         "yaxis": "y"
        },
        {
         "line": {
          "color": "black",
          "width": 0.07
         },
         "mode": "lines",
         "showlegend": false,
         "type": "scatter",
         "x": [
          0.38556681674541543,
          -0.3739975738427452
         ],
         "xaxis": "x",
         "y": [
          0.06397676654453292,
          0.04943233136271063
         ],
         "yaxis": "y"
        },
        {
         "line": {
          "color": "black",
          "width": 0.07
         },
         "mode": "lines",
         "showlegend": false,
         "type": "scatter",
         "x": [
          0.36772390725221776,
          -0.32893817173144163
         ],
         "xaxis": "x",
         "y": [
          -0.06965502598257522,
          -0.08456347098249355
         ],
         "yaxis": "y"
        },
        {
         "line": {
          "color": "black",
          "width": 0.07
         },
         "mode": "lines",
         "showlegend": false,
         "type": "scatter",
         "x": [
          0.36750654032403335,
          -0.35588654238727374
         ],
         "xaxis": "x",
         "y": [
          -0.06463373329612412,
          -0.07175842493475489
         ],
         "yaxis": "y"
        },
        {
         "line": {
          "color": "black",
          "width": 0.07
         },
         "mode": "lines",
         "showlegend": false,
         "type": "scatter",
         "x": [
          0.3661084717064298,
          -0.3552815288940166
         ],
         "xaxis": "x",
         "y": [
          -0.0726133909348463,
          -0.07438166316158401
         ],
         "yaxis": "y"
        },
        {
         "line": {
          "color": "black",
          "width": 0.07
         },
         "mode": "lines",
         "showlegend": false,
         "type": "scatter",
         "x": [
          0.3220679680033192,
          -0.29613979992452677
         ],
         "xaxis": "x",
         "y": [
          0.35879103214056746,
          0.39106425255277794
         ],
         "yaxis": "y"
        },
        {
         "line": {
          "color": "black",
          "width": 0.07
         },
         "mode": "lines",
         "showlegend": false,
         "type": "scatter",
         "x": [
          0.33179372674694896,
          -0.2953185599619667
         ],
         "xaxis": "x",
         "y": [
          0.3353071610379314,
          0.3824145794953437
         ],
         "yaxis": "y"
        },
        {
         "line": {
          "color": "black",
          "width": 0.07
         },
         "mode": "lines",
         "showlegend": false,
         "type": "scatter",
         "x": [
          0.32545796037524666,
          -0.3149877378864433
         ],
         "xaxis": "x",
         "y": [
          0.35078019550399053,
          0.3797248879278134
         ],
         "yaxis": "y"
        },
        {
         "line": {
          "color": "black",
          "width": 0.07
         },
         "mode": "lines",
         "showlegend": false,
         "type": "scatter",
         "x": [
          0.31313619049003766,
          -0.29818982456770815
         ],
         "xaxis": "x",
         "y": [
          -0.09915748044111494,
          -0.1056751780646909
         ],
         "yaxis": "y"
        },
        {
         "line": {
          "color": "black",
          "width": 0.07
         },
         "mode": "lines",
         "showlegend": false,
         "type": "scatter",
         "x": [
          0.3181772164190925,
          -0.3029117223960824
         ],
         "xaxis": "x",
         "y": [
          -0.09603999478347197,
          -0.11278095136937709
         ],
         "yaxis": "y"
        },
        {
         "line": {
          "color": "black",
          "width": 0.07
         },
         "mode": "lines",
         "showlegend": false,
         "type": "scatter",
         "x": [
          0.31442785580649224,
          -0.30498075828845483
         ],
         "xaxis": "x",
         "y": [
          -0.10001130300265128,
          -0.11098656206606773
         ],
         "yaxis": "y"
        },
        {
         "line": {
          "color": "black",
          "width": 0.07
         },
         "mode": "lines",
         "showlegend": false,
         "type": "scatter",
         "x": [
          0.3493304985327532,
          -0.3373618831071427
         ],
         "xaxis": "x",
         "y": [
          -0.2623310910736562,
          -0.25479251587941043
         ],
         "yaxis": "y"
        },
        {
         "line": {
          "color": "black",
          "width": 0.07
         },
         "mode": "lines",
         "showlegend": false,
         "type": "scatter",
         "x": [
          0.3481097637304964,
          -0.3368940886413328
         ],
         "xaxis": "x",
         "y": [
          -0.2663563767057318,
          -0.2543953875090172
         ],
         "yaxis": "y"
        },
        {
         "line": {
          "color": "black",
          "width": 0.07
         },
         "mode": "lines",
         "showlegend": false,
         "type": "scatter",
         "x": [
          0.34566707178697725,
          -0.3425948335640888
         ],
         "xaxis": "x",
         "y": [
          -0.26717051001824116,
          -0.2613925380473069
         ],
         "yaxis": "y"
        },
        {
         "line": {
          "color": "black",
          "width": 0.07
         },
         "mode": "lines",
         "showlegend": false,
         "type": "scatter",
         "x": [
          0.286737129289508,
          -0.27880921538333464
         ],
         "xaxis": "x",
         "y": [
          0.35505422758967076,
          0.4007225198176094
         ],
         "yaxis": "y"
        },
        {
         "line": {
          "color": "black",
          "width": 0.07
         },
         "mode": "lines",
         "showlegend": false,
         "type": "scatter",
         "x": [
          0.31014035390683115,
          -0.2736722223869415
         ],
         "xaxis": "x",
         "y": [
          0.350407888378023,
          0.39459229042148114
         ],
         "yaxis": "y"
        },
        {
         "line": {
          "color": "black",
          "width": 0.07
         },
         "mode": "lines",
         "showlegend": false,
         "type": "scatter",
         "x": [
          0.3040180924000991,
          -0.28870604450249115
         ],
         "xaxis": "x",
         "y": [
          0.3629966673038716,
          0.40340388653406545
         ],
         "yaxis": "y"
        },
        {
         "line": {
          "color": "black",
          "width": 0.07
         },
         "mode": "lines",
         "showlegend": false,
         "type": "scatter",
         "x": [
          0.3383924161658063,
          -0.3133216093611502
         ],
         "xaxis": "x",
         "y": [
          0.3000216765877777,
          0.3302445106870501
         ],
         "yaxis": "y"
        },
        {
         "line": {
          "color": "black",
          "width": 0.07
         },
         "mode": "lines",
         "showlegend": false,
         "type": "scatter",
         "x": [
          0.3337321631365094,
          -0.317434607713153
         ],
         "xaxis": "x",
         "y": [
          0.30462959792883004,
          0.3363052399071701
         ],
         "yaxis": "y"
        },
        {
         "line": {
          "color": "black",
          "width": 0.07
         },
         "mode": "lines",
         "showlegend": false,
         "type": "scatter",
         "x": [
          0.3282938058963931,
          -0.31643499922604496
         ],
         "xaxis": "x",
         "y": [
          0.3211976147934423,
          0.33638532561345064
         ],
         "yaxis": "y"
        },
        {
         "line": {
          "color": "black",
          "width": 0.07
         },
         "mode": "lines",
         "showlegend": false,
         "type": "scatter",
         "x": [
          0.23847686233918564,
          -0.21730082278122018
         ],
         "xaxis": "x",
         "y": [
          0.374885425489067,
          0.4164429757170866
         ],
         "yaxis": "y"
        },
        {
         "line": {
          "color": "black",
          "width": 0.07
         },
         "mode": "lines",
         "showlegend": false,
         "type": "scatter",
         "x": [
          0.23449271521001433,
          -0.2178013479499449
         ],
         "xaxis": "x",
         "y": [
          0.382491606074647,
          0.4301240417410015
         ],
         "yaxis": "y"
        },
        {
         "line": {
          "color": "black",
          "width": 0.07
         },
         "mode": "lines",
         "showlegend": false,
         "type": "scatter",
         "x": [
          0.2570844716547462,
          -0.2178109800999921
         ],
         "xaxis": "x",
         "y": [
          0.3862005036471382,
          0.4180300000013799
         ],
         "yaxis": "y"
        },
        {
         "line": {
          "color": "black",
          "width": 0.07
         },
         "mode": "lines",
         "showlegend": false,
         "type": "scatter",
         "x": [
          -0.04546169863099136,
          -0.13346118238915303
         ],
         "xaxis": "x2",
         "y": [
          -0.14221465322493707,
          0.0038305043407470666
         ],
         "yaxis": "y2"
        },
        {
         "line": {
          "color": "black",
          "width": 0.07
         },
         "mode": "lines",
         "showlegend": false,
         "type": "scatter",
         "x": [
          -0.14073838136004913,
          -0.13333885678054364
         ],
         "xaxis": "x2",
         "y": [
          -0.007674890803979544,
          -0.0026623084088518304
         ],
         "yaxis": "y2"
        },
        {
         "line": {
          "color": "black",
          "width": 0.07
         },
         "mode": "lines",
         "showlegend": false,
         "type": "scatter",
         "x": [
          -0.14073302264151025,
          -0.14089780210622882
         ],
         "xaxis": "x2",
         "y": [
          -0.0235439972168273,
          -0.007164217853401948
         ],
         "yaxis": "y2"
        },
        {
         "line": {
          "color": "black",
          "width": 0.07
         },
         "mode": "lines",
         "showlegend": false,
         "type": "scatter",
         "x": [
          -0.09541869940229937,
          -0.11633957256285116
         ],
         "xaxis": "x2",
         "y": [
          -0.13286297410845455,
          -0.06724913947241974
         ],
         "yaxis": "y2"
        },
        {
         "line": {
          "color": "black",
          "width": 0.07
         },
         "mode": "lines",
         "showlegend": false,
         "type": "scatter",
         "x": [
          -0.1168836522831467,
          -0.11806758322611138
         ],
         "xaxis": "x2",
         "y": [
          -0.04552051826906045,
          -0.06277857973681628
         ],
         "yaxis": "y2"
        },
        {
         "line": {
          "color": "black",
          "width": 0.07
         },
         "mode": "lines",
         "showlegend": false,
         "type": "scatter",
         "x": [
          -0.12568725741192757,
          -0.12249218422044923
         ],
         "xaxis": "x2",
         "y": [
          -0.07118428098884941,
          -0.05780629404638792
         ],
         "yaxis": "y2"
        },
        {
         "line": {
          "color": "black",
          "width": 0.07
         },
         "mode": "lines",
         "showlegend": false,
         "type": "scatter",
         "x": [
          -0.05965514760970528,
          -0.0650579945496195
         ],
         "xaxis": "x2",
         "y": [
          0.02465458970785886,
          0.025471437141163206
         ],
         "yaxis": "y2"
        },
        {
         "line": {
          "color": "black",
          "width": 0.07
         },
         "mode": "lines",
         "showlegend": false,
         "type": "scatter",
         "x": [
          -0.037810574428297085,
          -0.06547016726994194
         ],
         "xaxis": "x2",
         "y": [
          0.034635052818775734,
          0.02259469404746684
         ],
         "yaxis": "y2"
        },
        {
         "line": {
          "color": "black",
          "width": 0.07
         },
         "mode": "lines",
         "showlegend": false,
         "type": "scatter",
         "x": [
          -0.04842114847689404,
          -0.06089317585939769
         ],
         "xaxis": "x2",
         "y": [
          0.03707155339748484,
          0.03585403394078476
         ],
         "yaxis": "y2"
        },
        {
         "line": {
          "color": "black",
          "width": 0.07
         },
         "mode": "lines",
         "showlegend": false,
         "type": "scatter",
         "x": [
          -0.023036714484999672,
          -0.011447963834365124
         ],
         "xaxis": "x2",
         "y": [
          0.04975785524986215,
          0.06030534652953082
         ],
         "yaxis": "y2"
        },
        {
         "line": {
          "color": "black",
          "width": 0.07
         },
         "mode": "lines",
         "showlegend": false,
         "type": "scatter",
         "x": [
          -0.01800551678839588,
          -0.018269740619031825
         ],
         "xaxis": "x2",
         "y": [
          0.050523206473417806,
          0.06013434276569535
         ],
         "yaxis": "y2"
        },
        {
         "line": {
          "color": "black",
          "width": 0.07
         },
         "mode": "lines",
         "showlegend": false,
         "type": "scatter",
         "x": [
          0.005003870342265408,
          -0.03915711800787476
         ],
         "xaxis": "x2",
         "y": [
          0.06653040465285592,
          0.04545419895583608
         ],
         "yaxis": "y2"
        },
        {
         "line": {
          "color": "black",
          "width": 0.07
         },
         "mode": "lines",
         "showlegend": false,
         "type": "scatter",
         "x": [
          -0.044329824924114275,
          -0.04058557081620016
         ],
         "xaxis": "x2",
         "y": [
          0.0550349068752454,
          0.045298687656387046
         ],
         "yaxis": "y2"
        },
        {
         "line": {
          "color": "black",
          "width": 0.07
         },
         "mode": "lines",
         "showlegend": false,
         "type": "scatter",
         "x": [
          -0.03093080443261197,
          -0.043438814678442815
         ],
         "xaxis": "x2",
         "y": [
          0.0600572602938907,
          0.05018858955462344
         ],
         "yaxis": "y2"
        },
        {
         "line": {
          "color": "black",
          "width": 0.07
         },
         "mode": "lines",
         "showlegend": false,
         "type": "scatter",
         "x": [
          -0.041675192375973925,
          -0.0626002264279435
         ],
         "xaxis": "x2",
         "y": [
          0.04721336828717127,
          0.03629660629720344
         ],
         "yaxis": "y2"
        },
        {
         "line": {
          "color": "black",
          "width": 0.07
         },
         "mode": "lines",
         "showlegend": false,
         "type": "scatter",
         "x": [
          -0.03843969724436872,
          -0.053401039508848495
         ],
         "xaxis": "x2",
         "y": [
          0.04041923483599608,
          0.040373653376352764
         ],
         "yaxis": "y2"
        },
        {
         "line": {
          "color": "black",
          "width": 0.07
         },
         "mode": "lines",
         "showlegend": false,
         "type": "scatter",
         "x": [
          -0.03342644269934341,
          -0.06034555245386287
         ],
         "xaxis": "x2",
         "y": [
          0.0640010313116728,
          0.04287616121599804
         ],
         "yaxis": "y2"
        },
        {
         "line": {
          "color": "black",
          "width": 0.07
         },
         "mode": "lines",
         "showlegend": false,
         "type": "scatter",
         "x": [
          -0.04356022944499178,
          -0.06205209967531938
         ],
         "xaxis": "x2",
         "y": [
          0.031925822841575205,
          0.04041735029402664
         ],
         "yaxis": "y2"
        },
        {
         "line": {
          "color": "black",
          "width": 0.07
         },
         "mode": "lines",
         "showlegend": false,
         "type": "scatter",
         "x": [
          0.013865501995737307,
          0.0027619063901762136
         ],
         "xaxis": "x2",
         "y": [
          -0.16416969847836413,
          0.07458689005210185
         ],
         "yaxis": "y2"
        },
        {
         "line": {
          "color": "black",
          "width": 0.07
         },
         "mode": "lines",
         "showlegend": false,
         "type": "scatter",
         "x": [
          0.02753592214457528,
          0.005549374412819611
         ],
         "xaxis": "x2",
         "y": [
          0.08680684320892566,
          0.07353509931346461
         ],
         "yaxis": "y2"
        },
        {
         "line": {
          "color": "black",
          "width": 0.07
         },
         "mode": "lines",
         "showlegend": false,
         "type": "scatter",
         "x": [
          0.021344211617107596,
          0.00173490488616158
         ],
         "xaxis": "x2",
         "y": [
          0.08557331320481464,
          0.07266785317823234
         ],
         "yaxis": "y2"
        },
        {
         "line": {
          "color": "black",
          "width": 0.07
         },
         "mode": "lines",
         "showlegend": false,
         "type": "scatter",
         "x": [
          -0.05473486250146252,
          -0.0661136975222149
         ],
         "xaxis": "x2",
         "y": [
          0.052141287677107837,
          0.03857304972666556
         ],
         "yaxis": "y2"
        },
        {
         "line": {
          "color": "black",
          "width": 0.07
         },
         "mode": "lines",
         "showlegend": false,
         "type": "scatter",
         "x": [
          -0.06125102762030924,
          -0.054639005420677185
         ],
         "xaxis": "x2",
         "y": [
          0.03529799788419066,
          0.05268523308641829
         ],
         "yaxis": "y2"
        },
        {
         "line": {
          "color": "black",
          "width": 0.07
         },
         "mode": "lines",
         "showlegend": false,
         "type": "scatter",
         "x": [
          -0.06770161795392678,
          -0.060163711756403504
         ],
         "xaxis": "x2",
         "y": [
          0.04579283304960616,
          0.04588001319174788
         ],
         "yaxis": "y2"
        },
        {
         "line": {
          "color": "black",
          "width": 0.07
         },
         "mode": "lines",
         "showlegend": false,
         "type": "scatter",
         "x": [
          -0.1295620043644262,
          -0.1127651860337154
         ],
         "xaxis": "x2",
         "y": [
          0.005320984925048471,
          0.014404049026130862
         ],
         "yaxis": "y2"
        },
        {
         "line": {
          "color": "black",
          "width": 0.07
         },
         "mode": "lines",
         "showlegend": false,
         "type": "scatter",
         "x": [
          -0.11321984978541254,
          -0.10882031588866424
         ],
         "xaxis": "x2",
         "y": [
          0.014163260324366659,
          0.009272458947383697
         ],
         "yaxis": "y2"
        },
        {
         "line": {
          "color": "black",
          "width": 0.07
         },
         "mode": "lines",
         "showlegend": false,
         "type": "scatter",
         "x": [
          -0.10451709202616176,
          -0.10409768412780442
         ],
         "xaxis": "x2",
         "y": [
          0.012388778462181558,
          0.02311816978357187
         ],
         "yaxis": "y2"
        },
        {
         "line": {
          "color": "black",
          "width": 0.07
         },
         "mode": "lines",
         "showlegend": false,
         "type": "scatter",
         "x": [
          -0.13598139521591826,
          -0.1393090653580637
         ],
         "xaxis": "x2",
         "y": [
          -0.01845084856238713,
          -0.007412831288388388
         ],
         "yaxis": "y2"
        },
        {
         "line": {
          "color": "black",
          "width": 0.07
         },
         "mode": "lines",
         "showlegend": false,
         "type": "scatter",
         "x": [
          -0.1420063989514387,
          -0.13774103451877306
         ],
         "xaxis": "x2",
         "y": [
          -0.01141679950059265,
          -0.012984316951298874
         ],
         "yaxis": "y2"
        },
        {
         "line": {
          "color": "black",
          "width": 0.07
         },
         "mode": "lines",
         "showlegend": false,
         "type": "scatter",
         "x": [
          -0.13420412411732316,
          -0.1359101628210323
         ],
         "xaxis": "x2",
         "y": [
          -0.015285951625853167,
          -0.017379594421358155
         ],
         "yaxis": "y2"
        },
        {
         "line": {
          "color": "black",
          "width": 0.07
         },
         "mode": "lines",
         "showlegend": false,
         "type": "scatter",
         "x": [
          -0.09022838679967433,
          -0.10782748200258167
         ],
         "xaxis": "x2",
         "y": [
          0.026703469743417977,
          0.03455512668215135
         ],
         "yaxis": "y2"
        },
        {
         "line": {
          "color": "black",
          "width": 0.07
         },
         "mode": "lines",
         "showlegend": false,
         "type": "scatter",
         "x": [
          -0.09797047449995602,
          -0.09613307009990929
         ],
         "xaxis": "x2",
         "y": [
          0.023220297805522972,
          0.038373355921179034
         ],
         "yaxis": "y2"
        },
        {
         "line": {
          "color": "black",
          "width": 0.07
         },
         "mode": "lines",
         "showlegend": false,
         "type": "scatter",
         "x": [
          -0.1081073458594048,
          -0.10132255243309361
         ],
         "xaxis": "x2",
         "y": [
          0.03144235771544104,
          0.04040448555367901
         ],
         "yaxis": "y2"
        },
        {
         "line": {
          "color": "black",
          "width": 0.07
         },
         "mode": "lines",
         "showlegend": false,
         "type": "scatter",
         "x": [
          0.2129532424841992,
          0.1034269736575937
         ],
         "xaxis": "x2",
         "y": [
          0.08005717632096343,
          0.08746822842072625
         ],
         "yaxis": "y2"
        },
        {
         "line": {
          "color": "black",
          "width": 0.07
         },
         "mode": "lines",
         "showlegend": false,
         "type": "scatter",
         "x": [
          0.1486683897531274,
          0.09709349076605553
         ],
         "xaxis": "x2",
         "y": [
          0.09825097484513004,
          0.0810337311895191
         ],
         "yaxis": "y2"
        },
        {
         "line": {
          "color": "black",
          "width": 0.07
         },
         "mode": "lines",
         "showlegend": false,
         "type": "scatter",
         "x": [
          0.11523056467694824,
          0.10428531776194838
         ],
         "xaxis": "x2",
         "y": [
          0.08907255819531434,
          0.08621666032283685
         ],
         "yaxis": "y2"
        },
        {
         "line": {
          "color": "black",
          "width": 0.07
         },
         "mode": "lines",
         "showlegend": false,
         "type": "scatter",
         "x": [
          0.04364090795875386,
          -0.041907075800450375
         ],
         "xaxis": "x2",
         "y": [
          -0.303594494181731,
          -0.16703473105376418
         ],
         "yaxis": "y2"
        },
        {
         "line": {
          "color": "black",
          "width": 0.07
         },
         "mode": "lines",
         "showlegend": false,
         "type": "scatter",
         "x": [
          -0.03533451287151916,
          -0.05700573964532219
         ],
         "xaxis": "x2",
         "y": [
          -0.16755875930655725,
          -0.14981181904452914
         ],
         "yaxis": "y2"
        },
        {
         "line": {
          "color": "black",
          "width": 0.07
         },
         "mode": "lines",
         "showlegend": false,
         "type": "scatter",
         "x": [
          -0.04131085571580693,
          -0.041305173135447716
         ],
         "xaxis": "x2",
         "y": [
          -0.16143431197346086,
          -0.1399674980188131
         ],
         "yaxis": "y2"
        },
        {
         "line": {
          "color": "black",
          "width": 0.07
         },
         "mode": "lines",
         "showlegend": false,
         "type": "scatter",
         "x": [
          -0.0929207638057099,
          -0.09891924422821141
         ],
         "xaxis": "x2",
         "y": [
          0.03813925925551233,
          0.03743236080509448
         ],
         "yaxis": "y2"
        },
        {
         "line": {
          "color": "black",
          "width": 0.07
         },
         "mode": "lines",
         "showlegend": false,
         "type": "scatter",
         "x": [
          -0.10102588672174734,
          -0.11026548365934713
         ],
         "xaxis": "x2",
         "y": [
          0.042485331566273266,
          0.034783793824921916
         ],
         "yaxis": "y2"
        },
        {
         "line": {
          "color": "black",
          "width": 0.07
         },
         "mode": "lines",
         "showlegend": false,
         "type": "scatter",
         "x": [
          -0.10725689885965457,
          -0.10391611745466833
         ],
         "xaxis": "x2",
         "y": [
          0.024517894290139456,
          0.03859161843917641
         ],
         "yaxis": "y2"
        },
        {
         "line": {
          "color": "black",
          "width": 0.07
         },
         "mode": "lines",
         "showlegend": false,
         "type": "scatter",
         "x": [
          -0.050593939455321146,
          -0.05750147757000866
         ],
         "xaxis": "x2",
         "y": [
          -0.058098804380147036,
          -0.05404389467057002
         ],
         "yaxis": "y2"
        },
        {
         "line": {
          "color": "black",
          "width": 0.07
         },
         "mode": "lines",
         "showlegend": false,
         "type": "scatter",
         "x": [
          -0.043603467038984274,
          -0.03974772223910517
         ],
         "xaxis": "x2",
         "y": [
          -0.061024978108709445,
          -0.038522047829307626
         ],
         "yaxis": "y2"
        },
        {
         "line": {
          "color": "black",
          "width": 0.07
         },
         "mode": "lines",
         "showlegend": false,
         "type": "scatter",
         "x": [
          -0.04047842112498564,
          -0.03592267662357956
         ],
         "xaxis": "x2",
         "y": [
          -0.05270275250199319,
          -0.014966825864947072
         ],
         "yaxis": "y2"
        },
        {
         "line": {
          "color": "black",
          "width": 0.07
         },
         "mode": "lines",
         "showlegend": false,
         "type": "scatter",
         "x": [
          -0.13800059577756793,
          -0.14140373084160598
         ],
         "xaxis": "x2",
         "y": [
          0.00152474584476353,
          -0.002872942807766448
         ],
         "yaxis": "y2"
        },
        {
         "line": {
          "color": "black",
          "width": 0.07
         },
         "mode": "lines",
         "showlegend": false,
         "type": "scatter",
         "x": [
          -0.13815803471947868,
          -0.1424167260768606
         ],
         "xaxis": "x2",
         "y": [
          0.002204979384196545,
          0.00011383712388843745
         ],
         "yaxis": "y2"
        },
        {
         "line": {
          "color": "black",
          "width": 0.07
         },
         "mode": "lines",
         "showlegend": false,
         "type": "scatter",
         "x": [
          -0.13891639702591585,
          -0.13244982249139126
         ],
         "xaxis": "x2",
         "y": [
          0.000015162779852534673,
          0.00014482329392609826
         ],
         "yaxis": "y2"
        },
        {
         "line": {
          "color": "black",
          "width": 0.07
         },
         "mode": "lines",
         "showlegend": false,
         "type": "scatter",
         "x": [
          -0.1465783101670634,
          -0.15575035869076173
         ],
         "xaxis": "x2",
         "y": [
          0.002796442341818143,
          -0.040365424391224085
         ],
         "yaxis": "y2"
        },
        {
         "line": {
          "color": "black",
          "width": 0.07
         },
         "mode": "lines",
         "showlegend": false,
         "type": "scatter",
         "x": [
          -0.14536494470832093,
          -0.15237875576064383
         ],
         "xaxis": "x2",
         "y": [
          0.008068660078633612,
          0.007644613051798996
         ],
         "yaxis": "y2"
        },
        {
         "line": {
          "color": "black",
          "width": 0.07
         },
         "mode": "lines",
         "showlegend": false,
         "type": "scatter",
         "x": [
          -0.14166080316558868,
          -0.1306965213651863
         ],
         "xaxis": "x2",
         "y": [
          0.008803542971837119,
          0.004817947954605636
         ],
         "yaxis": "y2"
        },
        {
         "line": {
          "color": "black",
          "width": 0.07
         },
         "mode": "lines",
         "showlegend": false,
         "type": "scatter",
         "x": [
          0.073193183561467,
          0.06438713519727524
         ],
         "xaxis": "x2",
         "y": [
          0.06283258414113793,
          0.0843815531878728
         ],
         "yaxis": "y2"
        },
        {
         "line": {
          "color": "black",
          "width": 0.07
         },
         "mode": "lines",
         "showlegend": false,
         "type": "scatter",
         "x": [
          0.09184595694402142,
          0.05395729812884994
         ],
         "xaxis": "x2",
         "y": [
          0.07021611058554976,
          0.07442056597494875
         ],
         "yaxis": "y2"
        },
        {
         "line": {
          "color": "black",
          "width": 0.07
         },
         "mode": "lines",
         "showlegend": false,
         "type": "scatter",
         "x": [
          0.068437436070256,
          0.049206656043626375
         ],
         "xaxis": "x2",
         "y": [
          0.067819260058169,
          0.06888735003340915
         ],
         "yaxis": "y2"
        },
        {
         "line": {
          "color": "black",
          "width": 0.07
         },
         "mode": "lines",
         "showlegend": false,
         "type": "scatter",
         "x": [
          0.12074938564832388,
          0.1496642266424327
         ],
         "xaxis": "x2",
         "y": [
          -0.3313860510952973,
          -0.47585213926030473
         ],
         "yaxis": "y2"
        },
        {
         "line": {
          "color": "black",
          "width": 0.07
         },
         "mode": "lines",
         "showlegend": false,
         "type": "scatter",
         "x": [
          0.2128348383820269,
          0.17154669499216588
         ],
         "xaxis": "x2",
         "y": [
          -0.46451304807790283,
          -0.45336981946202365
         ],
         "yaxis": "y2"
        },
        {
         "line": {
          "color": "black",
          "width": 0.07
         },
         "mode": "lines",
         "showlegend": false,
         "type": "scatter",
         "x": [
          0.16382828407235703,
          0.1612028911339109
         ],
         "xaxis": "x2",
         "y": [
          -0.4193606750480519,
          -0.4554477345578728
         ],
         "yaxis": "y2"
        },
        {
         "line": {
          "color": "black",
          "width": 0.07
         },
         "mode": "lines",
         "showlegend": false,
         "type": "scatter",
         "x": [
          0.04228157597864431,
          0.010213652166202344
         ],
         "xaxis": "x2",
         "y": [
          0.06101194185148962,
          0.049269141117101255
         ],
         "yaxis": "y2"
        },
        {
         "line": {
          "color": "black",
          "width": 0.07
         },
         "mode": "lines",
         "showlegend": false,
         "type": "scatter",
         "x": [
          0.022120593088296312,
          0.023481143237131904
         ],
         "xaxis": "x2",
         "y": [
          0.03539777077540913,
          0.05501795881954853
         ],
         "yaxis": "y2"
        },
        {
         "line": {
          "color": "black",
          "width": 0.07
         },
         "mode": "lines",
         "showlegend": false,
         "type": "scatter",
         "x": [
          0.038341268912465365,
          0.020929563697616
         ],
         "xaxis": "x2",
         "y": [
          0.05570855507508959,
          0.049283179896071554
         ],
         "yaxis": "y2"
        },
        {
         "line": {
          "color": "black",
          "width": 0.07
         },
         "mode": "lines",
         "showlegend": false,
         "type": "scatter",
         "x": [
          -0.05603106742618763,
          -0.04805023868580287
         ],
         "xaxis": "x2",
         "y": [
          -0.026150895558942316,
          -0.0022477229343033575
         ],
         "yaxis": "y2"
        },
        {
         "line": {
          "color": "black",
          "width": 0.07
         },
         "mode": "lines",
         "showlegend": false,
         "type": "scatter",
         "x": [
          -0.03270661278034278,
          -0.049552640136429946
         ],
         "xaxis": "x2",
         "y": [
          -0.016064479064297168,
          0.004737646278677584
         ],
         "yaxis": "y2"
        },
        {
         "line": {
          "color": "black",
          "width": 0.07
         },
         "mode": "lines",
         "showlegend": false,
         "type": "scatter",
         "x": [
          -0.048228343801764634,
          -0.05008391802905354
         ],
         "xaxis": "x2",
         "y": [
          -0.0017399745303010446,
          0.001446535466944655
         ],
         "yaxis": "y2"
        },
        {
         "line": {
          "color": "black",
          "width": 0.07
         },
         "mode": "lines",
         "showlegend": false,
         "type": "scatter",
         "x": [
          0.2996178726384062,
          0.30110036834107035
         ],
         "xaxis": "x2",
         "y": [
          0.0576631635983231,
          0.04628994240827433
         ],
         "yaxis": "y2"
        },
        {
         "line": {
          "color": "black",
          "width": 0.07
         },
         "mode": "lines",
         "showlegend": false,
         "type": "scatter",
         "x": [
          0.2804601078441553,
          0.2864052898487018
         ],
         "xaxis": "x2",
         "y": [
          0.0452290595212849,
          0.06588445989195654
         ],
         "yaxis": "y2"
        },
        {
         "line": {
          "color": "black",
          "width": 0.07
         },
         "mode": "lines",
         "showlegend": false,
         "type": "scatter",
         "x": [
          0.30434069470584524,
          0.29208645844011605
         ],
         "xaxis": "x2",
         "y": [
          0.03749978743680973,
          0.0618656736604265
         ],
         "yaxis": "y2"
        },
        {
         "line": {
          "color": "black",
          "width": 0.07
         },
         "mode": "lines",
         "showlegend": false,
         "type": "scatter",
         "x": [
          -0.0420266812851956,
          -0.06107827188574657
         ],
         "xaxis": "x2",
         "y": [
          0.007966470559895201,
          0.0014473649697815687
         ],
         "yaxis": "y2"
        },
        {
         "line": {
          "color": "black",
          "width": 0.07
         },
         "mode": "lines",
         "showlegend": false,
         "type": "scatter",
         "x": [
          -0.05783507119977145,
          -0.0520502837784039
         ],
         "xaxis": "x2",
         "y": [
          0.0009774431576482193,
          0.01443466565913974
         ],
         "yaxis": "y2"
        },
        {
         "line": {
          "color": "black",
          "width": 0.07
         },
         "mode": "lines",
         "showlegend": false,
         "type": "scatter",
         "x": [
          -0.044461099038146934,
          -0.04125857646067151
         ],
         "xaxis": "x2",
         "y": [
          0.00666647812020449,
          0.01482323912135041
         ],
         "yaxis": "y2"
        },
        {
         "line": {
          "color": "black",
          "width": 0.07
         },
         "mode": "lines",
         "showlegend": false,
         "type": "scatter",
         "x": [
          -0.13429478418907934,
          -0.13447857352339018
         ],
         "xaxis": "x2",
         "y": [
          0.014899415826157343,
          0.012267142441181295
         ],
         "yaxis": "y2"
        },
        {
         "line": {
          "color": "black",
          "width": 0.07
         },
         "mode": "lines",
         "showlegend": false,
         "type": "scatter",
         "x": [
          -0.13248148269861731,
          -0.1368912377754744
         ],
         "xaxis": "x2",
         "y": [
          0.013408135362467778,
          0.014944744790341533
         ],
         "yaxis": "y2"
        },
        {
         "line": {
          "color": "black",
          "width": 0.07
         },
         "mode": "lines",
         "showlegend": false,
         "type": "scatter",
         "x": [
          -0.13933063036693283,
          -0.1356971634779075
         ],
         "xaxis": "x2",
         "y": [
          0.014290236103253915,
          0.020597010097321324
         ],
         "yaxis": "y2"
        },
        {
         "line": {
          "color": "black",
          "width": 0.07
         },
         "mode": "lines",
         "showlegend": false,
         "type": "scatter",
         "x": [
          0.28550088847227406,
          0.2602248475532062
         ],
         "xaxis": "x2",
         "y": [
          0.07041436703213548,
          0.10147625057118494
         ],
         "yaxis": "y2"
        },
        {
         "line": {
          "color": "black",
          "width": 0.07
         },
         "mode": "lines",
         "showlegend": false,
         "type": "scatter",
         "x": [
          0.2702950488797324,
          0.2697632766606302
         ],
         "xaxis": "x2",
         "y": [
          0.08508461472727172,
          0.11459807359031339
         ],
         "yaxis": "y2"
        },
        {
         "line": {
          "color": "black",
          "width": 0.07
         },
         "mode": "lines",
         "showlegend": false,
         "type": "scatter",
         "x": [
          0.2801193251913165,
          0.24911325108800034
         ],
         "xaxis": "x2",
         "y": [
          0.08820574580025858,
          0.0938660394329599
         ],
         "yaxis": "y2"
        },
        {
         "line": {
          "color": "black",
          "width": 0.07
         },
         "mode": "lines",
         "showlegend": false,
         "type": "scatter",
         "x": [
          0.2811412640093071,
          0.28343588370291967
         ],
         "xaxis": "x2",
         "y": [
          -0.05732937853834722,
          -0.07532520841211941
         ],
         "yaxis": "y2"
        },
        {
         "line": {
          "color": "black",
          "width": 0.07
         },
         "mode": "lines",
         "showlegend": false,
         "type": "scatter",
         "x": [
          0.2905956478721718,
          0.29135383209459476
         ],
         "xaxis": "x2",
         "y": [
          -0.0201936944104738,
          -0.018552040610695406
         ],
         "yaxis": "y2"
        },
        {
         "line": {
          "color": "black",
          "width": 0.07
         },
         "mode": "lines",
         "showlegend": false,
         "type": "scatter",
         "x": [
          0.30155661705090675,
          0.2818326730561589
         ],
         "xaxis": "x2",
         "y": [
          -0.04447864719545781,
          -0.07329863213381095
         ],
         "yaxis": "y2"
        },
        {
         "line": {
          "color": "black",
          "width": 0.07
         },
         "mode": "lines",
         "showlegend": false,
         "type": "scatter",
         "x": [
          0.24829715652501677,
          0.25453444749778426
         ],
         "xaxis": "x2",
         "y": [
          0.12352931782333204,
          0.11946867305276093
         ],
         "yaxis": "y2"
        },
        {
         "line": {
          "color": "black",
          "width": 0.07
         },
         "mode": "lines",
         "showlegend": false,
         "type": "scatter",
         "x": [
          0.26985495737072196,
          0.24361236651867252
         ],
         "xaxis": "x2",
         "y": [
          0.11372990300059194,
          0.10817366053071263
         ],
         "yaxis": "y2"
        },
        {
         "line": {
          "color": "black",
          "width": 0.07
         },
         "mode": "lines",
         "showlegend": false,
         "type": "scatter",
         "x": [
          0.2937579996452771,
          0.2348686928318052
         ],
         "xaxis": "x2",
         "y": [
          0.10038316592618418,
          0.1225454788811047
         ],
         "yaxis": "y2"
        },
        {
         "line": {
          "color": "black",
          "width": 0.07
         },
         "mode": "lines",
         "showlegend": false,
         "type": "scatter",
         "x": [
          -0.17237061876918297,
          -0.19285189213695714
         ],
         "xaxis": "x3",
         "y": [
          -0.03605950883655621,
          -0.044791445288017394
         ],
         "yaxis": "y3"
        },
        {
         "line": {
          "color": "black",
          "width": 0.07
         },
         "mode": "lines",
         "showlegend": false,
         "type": "scatter",
         "x": [
          -0.17611867192891156,
          -0.19721120551596394
         ],
         "xaxis": "x3",
         "y": [
          -0.05893905184321054,
          -0.038458374970464775
         ],
         "yaxis": "y3"
        },
        {
         "line": {
          "color": "black",
          "width": 0.07
         },
         "mode": "lines",
         "showlegend": false,
         "type": "scatter",
         "x": [
          -0.1800864520688803,
          -0.1908554025590192
         ],
         "xaxis": "x3",
         "y": [
          -0.0538966685645909,
          -0.03986673177839091
         ],
         "yaxis": "y3"
        },
        {
         "line": {
          "color": "black",
          "width": 0.07
         },
         "mode": "lines",
         "showlegend": false,
         "type": "scatter",
         "x": [
          -0.09574933664116662,
          0.03317625263943045
         ],
         "xaxis": "x3",
         "y": [
          -0.0784525712476503,
          -0.15812306497819004
         ],
         "yaxis": "y3"
        },
        {
         "line": {
          "color": "black",
          "width": 0.07
         },
         "mode": "lines",
         "showlegend": false,
         "type": "scatter",
         "x": [
          0.058656088388721925,
          0.04260180594648361
         ],
         "xaxis": "x3",
         "y": [
          -0.18584502452581012,
          -0.16062176944498302
         ],
         "yaxis": "y3"
        },
        {
         "line": {
          "color": "black",
          "width": 0.07
         },
         "mode": "lines",
         "showlegend": false,
         "type": "scatter",
         "x": [
          0.053473640236254706,
          0.03994837754288421
         ],
         "xaxis": "x3",
         "y": [
          -0.17828356650160695,
          -0.15872100998090716
         ],
         "yaxis": "y3"
        },
        {
         "line": {
          "color": "black",
          "width": 0.07
         },
         "mode": "lines",
         "showlegend": false,
         "type": "scatter",
         "x": [
          0.03603917275277741,
          -0.027158237074347787
         ],
         "xaxis": "x3",
         "y": [
          -0.08404017062804331,
          -0.02853186318926351
         ],
         "yaxis": "y3"
        },
        {
         "line": {
          "color": "black",
          "width": 0.07
         },
         "mode": "lines",
         "showlegend": false,
         "type": "scatter",
         "x": [
          0.005954551032480027,
          -0.027834079055330148
         ],
         "xaxis": "x3",
         "y": [
          -0.06152897453356848,
          -0.03242180871125664
         ],
         "yaxis": "y3"
        },
        {
         "line": {
          "color": "black",
          "width": 0.07
         },
         "mode": "lines",
         "showlegend": false,
         "type": "scatter",
         "x": [
          -0.022884388095359965,
          -0.026584775646112346
         ],
         "xaxis": "x3",
         "y": [
          -0.038182605426183645,
          -0.037077302926816325
         ],
         "yaxis": "y3"
        },
        {
         "line": {
          "color": "black",
          "width": 0.07
         },
         "mode": "lines",
         "showlegend": false,
         "type": "scatter",
         "x": [
          -0.007400962457209544,
          -0.04783627596088164
         ],
         "xaxis": "x3",
         "y": [
          0.004927062575427845,
          0.04889073583011306
         ],
         "yaxis": "y3"
        },
        {
         "line": {
          "color": "black",
          "width": 0.07
         },
         "mode": "lines",
         "showlegend": false,
         "type": "scatter",
         "x": [
          -0.039598251561253996,
          -0.04647419535331917
         ],
         "xaxis": "x3",
         "y": [
          0.024242021265040613,
          0.05060294209089701
         ],
         "yaxis": "y3"
        },
        {
         "line": {
          "color": "black",
          "width": 0.07
         },
         "mode": "lines",
         "showlegend": false,
         "type": "scatter",
         "x": [
          -0.013030156259575567,
          -0.050037537271556305
         ],
         "xaxis": "x3",
         "y": [
          0.009880046839730256,
          0.0354603633234821
         ],
         "yaxis": "y3"
        },
        {
         "line": {
          "color": "black",
          "width": 0.07
         },
         "mode": "lines",
         "showlegend": false,
         "type": "scatter",
         "x": [
          -0.048783507896021136,
          -0.06713720323443374
         ],
         "xaxis": "x3",
         "y": [
          -0.01791533092545111,
          -0.0030643363276888105
         ],
         "yaxis": "y3"
        },
        {
         "line": {
          "color": "black",
          "width": 0.07
         },
         "mode": "lines",
         "showlegend": false,
         "type": "scatter",
         "x": [
          -0.04403376357068665,
          -0.05810227449226987
         ],
         "xaxis": "x3",
         "y": [
          -0.01943745230835216,
          -0.0002481773868629733
         ],
         "yaxis": "y3"
        },
        {
         "line": {
          "color": "black",
          "width": 0.07
         },
         "mode": "lines",
         "showlegend": false,
         "type": "scatter",
         "x": [
          -0.0566713079809725,
          -0.06332229618928939
         ],
         "xaxis": "x3",
         "y": [
          -0.007813964045240573,
          -0.004722138541406866
         ],
         "yaxis": "y3"
        },
        {
         "line": {
          "color": "black",
          "width": 0.07
         },
         "mode": "lines",
         "showlegend": false,
         "type": "scatter",
         "x": [
          -0.11276124392635849,
          -0.11957379546787297
         ],
         "xaxis": "x3",
         "y": [
          0.05817212795452392,
          0.08618870596050962
         ],
         "yaxis": "y3"
        },
        {
         "line": {
          "color": "black",
          "width": 0.07
         },
         "mode": "lines",
         "showlegend": false,
         "type": "scatter",
         "x": [
          -0.1068102428166162,
          -0.11995411437994025
         ],
         "xaxis": "x3",
         "y": [
          0.05645776608206952,
          0.0869066500154485
         ],
         "yaxis": "y3"
        },
        {
         "line": {
          "color": "black",
          "width": 0.07
         },
         "mode": "lines",
         "showlegend": false,
         "type": "scatter",
         "x": [
          -0.1164107813300352,
          -0.12071211392670489
         ],
         "xaxis": "x3",
         "y": [
          0.06833155711312759,
          0.08209780767126115
         ],
         "yaxis": "y3"
        },
        {
         "line": {
          "color": "black",
          "width": 0.07
         },
         "mode": "lines",
         "showlegend": false,
         "type": "scatter",
         "x": [
          -0.12538005364615673,
          -0.06319296390397337
         ],
         "xaxis": "x3",
         "y": [
          0.043055331615877046,
          0.15941397389507275
         ],
         "yaxis": "y3"
        },
        {
         "line": {
          "color": "black",
          "width": 0.07
         },
         "mode": "lines",
         "showlegend": false,
         "type": "scatter",
         "x": [
          -0.06973751439751266,
          -0.06290502495333798
         ],
         "xaxis": "x3",
         "y": [
          0.1184896544964437,
          0.15781718874531536
         ],
         "yaxis": "y3"
        },
        {
         "line": {
          "color": "black",
          "width": 0.07
         },
         "mode": "lines",
         "showlegend": false,
         "type": "scatter",
         "x": [
          -0.06540559542805147,
          -0.0644716784708506
         ],
         "xaxis": "x3",
         "y": [
          0.16179980709949962,
          0.15670171355094462
         ],
         "yaxis": "y3"
        },
        {
         "line": {
          "color": "black",
          "width": 0.07
         },
         "mode": "lines",
         "showlegend": false,
         "type": "scatter",
         "x": [
          -0.07023610140082193,
          -0.0852719831701743
         ],
         "xaxis": "x3",
         "y": [
          -0.025425109997471988,
          -0.010025585726356267
         ],
         "yaxis": "y3"
        },
        {
         "line": {
          "color": "black",
          "width": 0.07
         },
         "mode": "lines",
         "showlegend": false,
         "type": "scatter",
         "x": [
          -0.03627769964890821,
          -0.08047061718848034
         ],
         "xaxis": "x3",
         "y": [
          -0.0425698057675433,
          -0.002429043575974836
         ],
         "yaxis": "y3"
        },
        {
         "line": {
          "color": "black",
          "width": 0.07
         },
         "mode": "lines",
         "showlegend": false,
         "type": "scatter",
         "x": [
          -0.05214638850166087,
          -0.08331224730938423
         ],
         "xaxis": "x3",
         "y": [
          -0.035980048936119634,
          -0.0032078801161086463
         ],
         "yaxis": "y3"
        },
        {
         "line": {
          "color": "black",
          "width": 0.07
         },
         "mode": "lines",
         "showlegend": false,
         "type": "scatter",
         "x": [
          -0.17787959395398678,
          -0.18429672465270225
         ],
         "xaxis": "x3",
         "y": [
          -0.046106777854096545,
          -0.045577964435134816
         ],
         "yaxis": "y3"
        },
        {
         "line": {
          "color": "black",
          "width": 0.07
         },
         "mode": "lines",
         "showlegend": false,
         "type": "scatter",
         "x": [
          -0.17314683741500247,
          -0.18145170687941065
         ],
         "xaxis": "x3",
         "y": [
          -0.04908790946195044,
          -0.0434068607585624
         ],
         "yaxis": "y3"
        },
        {
         "line": {
          "color": "black",
          "width": 0.07
         },
         "mode": "lines",
         "showlegend": false,
         "type": "scatter",
         "x": [
          -0.16088089183168472,
          -0.17997360685811903
         ],
         "xaxis": "x3",
         "y": [
          -0.05436667035330337,
          -0.042274735156629
         ],
         "yaxis": "y3"
        },
        {
         "line": {
          "color": "black",
          "width": 0.07
         },
         "mode": "lines",
         "showlegend": false,
         "type": "scatter",
         "x": [
          -0.09104774637782458,
          -0.06303011436398868
         ],
         "xaxis": "x3",
         "y": [
          -0.10815731025641448,
          -0.11584812108694718
         ],
         "yaxis": "y3"
        },
        {
         "line": {
          "color": "black",
          "width": 0.07
         },
         "mode": "lines",
         "showlegend": false,
         "type": "scatter",
         "x": [
          -0.10664569747119025,
          -0.06288549513727326
         ],
         "xaxis": "x3",
         "y": [
          -0.10251997130969194,
          -0.11467380581314417
         ],
         "yaxis": "y3"
        },
        {
         "line": {
          "color": "black",
          "width": 0.07
         },
         "mode": "lines",
         "showlegend": false,
         "type": "scatter",
         "x": [
          -0.09902414956781516,
          -0.06234960230986775
         ],
         "xaxis": "x3",
         "y": [
          -0.10563937976949662,
          -0.11347773289209127
         ],
         "yaxis": "y3"
        },
        {
         "line": {
          "color": "black",
          "width": 0.07
         },
         "mode": "lines",
         "showlegend": false,
         "type": "scatter",
         "x": [
          -0.07279597115766291,
          -0.11300941106970616
         ],
         "xaxis": "x3",
         "y": [
          -0.057997279104672214,
          -0.021223917261758537
         ],
         "yaxis": "y3"
        },
        {
         "line": {
          "color": "black",
          "width": 0.07
         },
         "mode": "lines",
         "showlegend": false,
         "type": "scatter",
         "x": [
          -0.10395530491524091,
          -0.11170637140130439
         ],
         "xaxis": "x3",
         "y": [
          -0.03567451214896416,
          -0.023935025805396984
         ],
         "yaxis": "y3"
        },
        {
         "line": {
          "color": "black",
          "width": 0.07
         },
         "mode": "lines",
         "showlegend": false,
         "type": "scatter",
         "x": [
          -0.10488341409206504,
          -0.11053377938805779
         ],
         "xaxis": "x3",
         "y": [
          -0.03683937760436592,
          -0.024204475204906664
         ],
         "yaxis": "y3"
        },
        {
         "line": {
          "color": "black",
          "width": 0.07
         },
         "mode": "lines",
         "showlegend": false,
         "type": "scatter",
         "x": [
          0.032793498681758286,
          0.018644479075063423
         ],
         "xaxis": "x3",
         "y": [
          0.24056881287183005,
          0.2392586720996388
         ],
         "yaxis": "y3"
        },
        {
         "line": {
          "color": "black",
          "width": 0.07
         },
         "mode": "lines",
         "showlegend": false,
         "type": "scatter",
         "x": [
          0.02349327249326574,
          0.01660522720885699
         ],
         "xaxis": "x3",
         "y": [
          0.23188883131848265,
          0.23331492586366218
         ],
         "yaxis": "y3"
        },
        {
         "line": {
          "color": "black",
          "width": 0.07
         },
         "mode": "lines",
         "showlegend": false,
         "type": "scatter",
         "x": [
          0.02197221003315345,
          0.014415118341089248
         ],
         "xaxis": "x3",
         "y": [
          0.2189384629716916,
          0.23177855021966892
         ],
         "yaxis": "y3"
        },
        {
         "line": {
          "color": "black",
          "width": 0.07
         },
         "mode": "lines",
         "showlegend": false,
         "type": "scatter",
         "x": [
          0.21360252410792147,
          0.18138448701819335
         ],
         "xaxis": "x3",
         "y": [
          -0.16045715621456516,
          -0.17951883348027467
         ],
         "yaxis": "y3"
        },
        {
         "line": {
          "color": "black",
          "width": 0.07
         },
         "mode": "lines",
         "showlegend": false,
         "type": "scatter",
         "x": [
          0.2345015091471351,
          0.16921671899161816
         ],
         "xaxis": "x3",
         "y": [
          -0.21639027219209706,
          -0.17036194321495174
         ],
         "yaxis": "y3"
        },
        {
         "line": {
          "color": "black",
          "width": 0.07
         },
         "mode": "lines",
         "showlegend": false,
         "type": "scatter",
         "x": [
          0.19127295729291158,
          0.17638157998465684
         ],
         "xaxis": "x3",
         "y": [
          -0.18447480530815594,
          -0.17288132391118433
         ],
         "yaxis": "y3"
        },
        {
         "line": {
          "color": "black",
          "width": 0.07
         },
         "mode": "lines",
         "showlegend": false,
         "type": "scatter",
         "x": [
          -0.13876031375807707,
          -0.155802754380531
         ],
         "xaxis": "x3",
         "y": [
          -0.024333050424946698,
          0.020001013055903755
         ],
         "yaxis": "y3"
        },
        {
         "line": {
          "color": "black",
          "width": 0.07
         },
         "mode": "lines",
         "showlegend": false,
         "type": "scatter",
         "x": [
          -0.15335337493314388,
          -0.15829608562157235
         ],
         "xaxis": "x3",
         "y": [
          -0.0044033002988922215,
          0.006315894531378756
         ],
         "yaxis": "y3"
        },
        {
         "line": {
          "color": "black",
          "width": 0.07
         },
         "mode": "lines",
         "showlegend": false,
         "type": "scatter",
         "x": [
          -0.15417504279362226,
          -0.15682516984974224
         ],
         "xaxis": "x3",
         "y": [
          -0.0060416562125452785,
          0.007035861016360251
         ],
         "yaxis": "y3"
        },
        {
         "line": {
          "color": "black",
          "width": 0.07
         },
         "mode": "lines",
         "showlegend": false,
         "type": "scatter",
         "x": [
          0.12987098506464562,
          0.07047400931942431
         ],
         "xaxis": "x3",
         "y": [
          -0.16486355745685052,
          -0.12944484939626913
         ],
         "yaxis": "y3"
        },
        {
         "line": {
          "color": "black",
          "width": 0.07
         },
         "mode": "lines",
         "showlegend": false,
         "type": "scatter",
         "x": [
          0.08564571834212678,
          0.0685593951395984
         ],
         "xaxis": "x3",
         "y": [
          -0.13936277463775135,
          -0.13225080487335056
         ],
         "yaxis": "y3"
        },
        {
         "line": {
          "color": "black",
          "width": 0.07
         },
         "mode": "lines",
         "showlegend": false,
         "type": "scatter",
         "x": [
          0.06633037199170937,
          0.06652750855039057
         ],
         "xaxis": "x3",
         "y": [
          -0.12809215494322537,
          -0.12478407338656461
         ],
         "yaxis": "y3"
        },
        {
         "line": {
          "color": "black",
          "width": 0.07
         },
         "mode": "lines",
         "showlegend": false,
         "type": "scatter",
         "x": [
          -0.13385413559840456,
          -0.13558696210881352
         ],
         "xaxis": "x3",
         "y": [
          -0.08731173945911663,
          -0.07892988898176534
         ],
         "yaxis": "y3"
        },
        {
         "line": {
          "color": "black",
          "width": 0.07
         },
         "mode": "lines",
         "showlegend": false,
         "type": "scatter",
         "x": [
          -0.08421286518843941,
          -0.13239977764441535
         ],
         "xaxis": "x3",
         "y": [
          -0.11401334384485966,
          -0.0782314825884605
         ],
         "yaxis": "y3"
        },
        {
         "line": {
          "color": "black",
          "width": 0.07
         },
         "mode": "lines",
         "showlegend": false,
         "type": "scatter",
         "x": [
          -0.10672247547684142,
          -0.13518109065101888
         ],
         "xaxis": "x3",
         "y": [
          -0.09994782626073596,
          -0.0774205732812537
         ],
         "yaxis": "y3"
        },
        {
         "line": {
          "color": "black",
          "width": 0.07
         },
         "mode": "lines",
         "showlegend": false,
         "type": "scatter",
         "x": [
          -0.17476488688713265,
          -0.19609317988115324
         ],
         "xaxis": "x3",
         "y": [
          -0.06637191022242007,
          -0.04265389140437231
         ],
         "yaxis": "y3"
        },
        {
         "line": {
          "color": "black",
          "width": 0.07
         },
         "mode": "lines",
         "showlegend": false,
         "type": "scatter",
         "x": [
          -0.17643029074429487,
          -0.1863492354192653
         ],
         "xaxis": "x3",
         "y": [
          -0.06345939140907174,
          -0.04739579508632637
         ],
         "yaxis": "y3"
        },
        {
         "line": {
          "color": "black",
          "width": 0.07
         },
         "mode": "lines",
         "showlegend": false,
         "type": "scatter",
         "x": [
          -0.18672876026528606,
          -0.18783409272218776
         ],
         "xaxis": "x3",
         "y": [
          -0.052179389025212033,
          -0.05220486224236019
         ],
         "yaxis": "y3"
        },
        {
         "line": {
          "color": "black",
          "width": 0.07
         },
         "mode": "lines",
         "showlegend": false,
         "type": "scatter",
         "x": [
          -0.027669196278820217,
          -0.03267009732037192
         ],
         "xaxis": "x3",
         "y": [
          0.13654777863890405,
          0.1641044361818666
         ],
         "yaxis": "y3"
        },
        {
         "line": {
          "color": "black",
          "width": 0.07
         },
         "mode": "lines",
         "showlegend": false,
         "type": "scatter",
         "x": [
          -0.024337676484840923,
          -0.04101157151198569
         ],
         "xaxis": "x3",
         "y": [
          0.15513271464667702,
          0.15021593203727335
         ],
         "yaxis": "y3"
        },
        {
         "line": {
          "color": "black",
          "width": 0.07
         },
         "mode": "lines",
         "showlegend": false,
         "type": "scatter",
         "x": [
          -0.03212251961992136,
          -0.03518944796644
         ],
         "xaxis": "x3",
         "y": [
          0.14742118327704115,
          0.15719264190074705
         ],
         "yaxis": "y3"
        },
        {
         "line": {
          "color": "black",
          "width": 0.07
         },
         "mode": "lines",
         "showlegend": false,
         "type": "scatter",
         "x": [
          0.42323985967218225,
          0.43181046803922474
         ],
         "xaxis": "x3",
         "y": [
          -0.26013787254859183,
          -0.25851260311321805
         ],
         "yaxis": "y3"
        },
        {
         "line": {
          "color": "black",
          "width": 0.07
         },
         "mode": "lines",
         "showlegend": false,
         "type": "scatter",
         "x": [
          0.43802259053110887,
          0.4293990409250797
         ],
         "xaxis": "x3",
         "y": [
          -0.27091359999116876,
          -0.2513760750311159
         ],
         "yaxis": "y3"
        },
        {
         "line": {
          "color": "black",
          "width": 0.07
         },
         "mode": "lines",
         "showlegend": false,
         "type": "scatter",
         "x": [
          0.434940076379601,
          0.4313960598714032
         ],
         "xaxis": "x3",
         "y": [
          -0.2657200348283142,
          -0.2544012082690687
         ],
         "yaxis": "y3"
        },
        {
         "line": {
          "color": "black",
          "width": 0.07
         },
         "mode": "lines",
         "showlegend": false,
         "type": "scatter",
         "x": [
          -0.07906642104564993,
          -0.08490520745785841
         ],
         "xaxis": "x3",
         "y": [
          0.07421440086406597,
          0.0742876338624799
         ],
         "yaxis": "y3"
        },
        {
         "line": {
          "color": "black",
          "width": 0.07
         },
         "mode": "lines",
         "showlegend": false,
         "type": "scatter",
         "x": [
          -0.07607439589616392,
          -0.08093826918863746
         ],
         "xaxis": "x3",
         "y": [
          0.06994255174450555,
          0.08423581186068514
         ],
         "yaxis": "y3"
        },
        {
         "line": {
          "color": "black",
          "width": 0.07
         },
         "mode": "lines",
         "showlegend": false,
         "type": "scatter",
         "x": [
          -0.0769519445787488,
          -0.08451278963075162
         ],
         "xaxis": "x3",
         "y": [
          0.07904591848427941,
          0.08414374989456226
         ],
         "yaxis": "y3"
        },
        {
         "line": {
          "color": "black",
          "width": 0.07
         },
         "mode": "lines",
         "showlegend": false,
         "type": "scatter",
         "x": [
          0.021298804414111264,
          -0.07834855419238103
         ],
         "xaxis": "x3",
         "y": [
          -0.10581918946244798,
          -0.056226707514842
         ],
         "yaxis": "y3"
        },
        {
         "line": {
          "color": "black",
          "width": 0.07
         },
         "mode": "lines",
         "showlegend": false,
         "type": "scatter",
         "x": [
          -0.001160525737346795,
          -0.03616833263153802
         ],
         "xaxis": "x3",
         "y": [
          -0.09066938583487115,
          -0.08380437816137824
         ],
         "yaxis": "y3"
        },
        {
         "line": {
          "color": "black",
          "width": 0.07
         },
         "mode": "lines",
         "showlegend": false,
         "type": "scatter",
         "x": [
          -0.02396387169660956,
          -0.03488427504231093
         ],
         "xaxis": "x3",
         "y": [
          -0.08646297127238219,
          -0.08325230739302264
         ],
         "yaxis": "y3"
        },
        {
         "line": {
          "color": "black",
          "width": 0.07
         },
         "mode": "lines",
         "showlegend": false,
         "type": "scatter",
         "x": [
          0.30614735118776143,
          0.3035317694303354
         ],
         "xaxis": "x3",
         "y": [
          0.12288335057969194,
          0.127567370826148
         ],
         "yaxis": "y3"
        },
        {
         "line": {
          "color": "black",
          "width": 0.07
         },
         "mode": "lines",
         "showlegend": false,
         "type": "scatter",
         "x": [
          0.34901571688173727,
          0.28641963644078455
         ],
         "xaxis": "x3",
         "y": [
          0.07493174902998345,
          0.14226676320511264
         ],
         "yaxis": "y3"
        },
        {
         "line": {
          "color": "black",
          "width": 0.07
         },
         "mode": "lines",
         "showlegend": false,
         "type": "scatter",
         "x": [
          0.3193505869483275,
          0.32650241433338134
         ],
         "xaxis": "x3",
         "y": [
          0.10949285995348246,
          0.09642546543509353
         ],
         "yaxis": "y3"
        },
        {
         "line": {
          "color": "black",
          "width": 0.07
         },
         "mode": "lines",
         "showlegend": false,
         "type": "scatter",
         "x": [
          -0.11670751207779784,
          -0.12456833043714044
         ],
         "xaxis": "x3",
         "y": [
          -0.02427758874136094,
          -0.022559569688873907
         ],
         "yaxis": "y3"
        },
        {
         "line": {
          "color": "black",
          "width": 0.07
         },
         "mode": "lines",
         "showlegend": false,
         "type": "scatter",
         "x": [
          -0.11258568043346005,
          -0.1267864113892541
         ],
         "xaxis": "x3",
         "y": [
          -0.019871465493842815,
          -0.018840955095588266
         ],
         "yaxis": "y3"
        },
        {
         "line": {
          "color": "black",
          "width": 0.07
         },
         "mode": "lines",
         "showlegend": false,
         "type": "scatter",
         "x": [
          -0.11954666863687578,
          -0.1276817493662327
         ],
         "xaxis": "x3",
         "y": [
          -0.018780042231267086,
          -0.018682696482034526
         ],
         "yaxis": "y3"
        },
        {
         "line": {
          "color": "black",
          "width": 0.07
         },
         "mode": "lines",
         "showlegend": false,
         "type": "scatter",
         "x": [
          -0.17105734990517457,
          -0.18728992503721326
         ],
         "xaxis": "x3",
         "y": [
          -0.06788463824546785,
          -0.0532939635701254
         ],
         "yaxis": "y3"
        },
        {
         "line": {
          "color": "black",
          "width": 0.07
         },
         "mode": "lines",
         "showlegend": false,
         "type": "scatter",
         "x": [
          -0.16713094621584226,
          -0.18507705410167866
         ],
         "xaxis": "x3",
         "y": [
          -0.07146157814745409,
          -0.05432325821050055
         ],
         "yaxis": "y3"
        },
        {
         "line": {
          "color": "black",
          "width": 0.07
         },
         "mode": "lines",
         "showlegend": false,
         "type": "scatter",
         "x": [
          -0.17435149109901205,
          -0.184861639864546
         ],
         "xaxis": "x3",
         "y": [
          -0.0684251664792578,
          -0.054057770510836364
         ],
         "yaxis": "y3"
        },
        {
         "line": {
          "color": "black",
          "width": 0.07
         },
         "mode": "lines",
         "showlegend": false,
         "type": "scatter",
         "x": [
          0.21462514156366783,
          0.2295265969788813
         ],
         "xaxis": "x3",
         "y": [
          0.20540348678222603,
          0.194443650324782
         ],
         "yaxis": "y3"
        },
        {
         "line": {
          "color": "black",
          "width": 0.07
         },
         "mode": "lines",
         "showlegend": false,
         "type": "scatter",
         "x": [
          0.2877178218608073,
          0.22023316517486233
         ],
         "xaxis": "x3",
         "y": [
          0.1478237408654615,
          0.20494198215768425
         ],
         "yaxis": "y3"
        },
        {
         "line": {
          "color": "black",
          "width": 0.07
         },
         "mode": "lines",
         "showlegend": false,
         "type": "scatter",
         "x": [
          0.2582748477089639,
          0.2302719117510764
         ],
         "xaxis": "x3",
         "y": [
          0.17983796578214134,
          0.19884368969056535
         ],
         "yaxis": "y3"
        },
        {
         "line": {
          "color": "black",
          "width": 0.07
         },
         "mode": "lines",
         "showlegend": false,
         "type": "scatter",
         "x": [
          0.3739696435885754,
          0.3765448975981951
         ],
         "xaxis": "x3",
         "y": [
          -0.009213888634420722,
          0.00204509274209195
         ],
         "yaxis": "y3"
        },
        {
         "line": {
          "color": "black",
          "width": 0.07
         },
         "mode": "lines",
         "showlegend": false,
         "type": "scatter",
         "x": [
          0.38918961383228523,
          0.37955996137743686
         ],
         "xaxis": "x3",
         "y": [
          -0.025935057585568976,
          -0.001598864167596728
         ],
         "yaxis": "y3"
        },
        {
         "line": {
          "color": "black",
          "width": 0.07
         },
         "mode": "lines",
         "showlegend": false,
         "type": "scatter",
         "x": [
          0.3484088809799766,
          0.3765544133169317
         ],
         "xaxis": "x3",
         "y": [
          0.05375059506666195,
          0.0008746940600665618
         ],
         "yaxis": "y3"
        },
        {
         "line": {
          "color": "black",
          "width": 0.07
         },
         "mode": "lines",
         "showlegend": false,
         "type": "scatter",
         "x": [
          0.12690414861645216,
          0.1231894193273196
         ],
         "xaxis": "x3",
         "y": [
          0.35108623316574666,
          0.3530725122095798
         ],
         "yaxis": "y3"
        },
        {
         "line": {
          "color": "black",
          "width": 0.07
         },
         "mode": "lines",
         "showlegend": false,
         "type": "scatter",
         "x": [
          0.10579670041542599,
          0.12194115468667059
         ],
         "xaxis": "x3",
         "y": [
          0.3089456746487877,
          0.36345238138958524
         ],
         "yaxis": "y3"
        },
        {
         "line": {
          "color": "black",
          "width": 0.07
         },
         "mode": "lines",
         "showlegend": false,
         "type": "scatter",
         "x": [
          0.12910382450014743,
          0.12322174154172612
         ],
         "xaxis": "x3",
         "y": [
          0.3680878300874734,
          0.3607773783009534
         ],
         "yaxis": "y3"
        },
        {
         "line": {
          "color": "black",
          "width": 0.07
         },
         "mode": "lines",
         "showlegend": false,
         "type": "scatter",
         "x": [
          -0.17098905369449488,
          -0.4009384348410792
         ],
         "xaxis": "x4",
         "y": [
          0.03206076121322295,
          -0.0818653229756347
         ],
         "yaxis": "y4"
        },
        {
         "line": {
          "color": "black",
          "width": 0.07
         },
         "mode": "lines",
         "showlegend": false,
         "type": "scatter",
         "x": [
          -0.37513159923013467,
          -0.4000184087176819
         ],
         "xaxis": "x4",
         "y": [
          -0.027325385247438876,
          -0.08649347374432272
         ],
         "yaxis": "y4"
        },
        {
         "line": {
          "color": "black",
          "width": 0.07
         },
         "mode": "lines",
         "showlegend": false,
         "type": "scatter",
         "x": [
          -0.39295638756623946,
          -0.3921750046902649
         ],
         "xaxis": "x4",
         "y": [
          -0.057475200641698254,
          -0.08949281844459997
         ],
         "yaxis": "y4"
        },
        {
         "line": {
          "color": "black",
          "width": 0.07
         },
         "mode": "lines",
         "showlegend": false,
         "type": "scatter",
         "x": [
          -0.30208659492109075,
          -0.19212886981596988
         ],
         "xaxis": "x4",
         "y": [
          0.005205042271802955,
          0.28230910718386903
         ],
         "yaxis": "y4"
        },
        {
         "line": {
          "color": "black",
          "width": 0.07
         },
         "mode": "lines",
         "showlegend": false,
         "type": "scatter",
         "x": [
          -0.15078833052851245,
          -0.1854157425433651
         ],
         "xaxis": "x4",
         "y": [
          0.32573522349667833,
          0.28978342941906826
         ],
         "yaxis": "y4"
        },
        {
         "line": {
          "color": "black",
          "width": 0.07
         },
         "mode": "lines",
         "showlegend": false,
         "type": "scatter",
         "x": [
          -0.1484772862520601,
          -0.19154456634844488
         ],
         "xaxis": "x4",
         "y": [
          0.3267099351704973,
          0.28244659935835054
         ],
         "yaxis": "y4"
        },
        {
         "line": {
          "color": "black",
          "width": 0.07
         },
         "mode": "lines",
         "showlegend": false,
         "type": "scatter",
         "x": [
          0.02676833116557744,
          -0.1102680644690188
         ],
         "xaxis": "x4",
         "y": [
          0.17355624261165134,
          -0.06635623016105012
         ],
         "yaxis": "y4"
        },
        {
         "line": {
          "color": "black",
          "width": 0.07
         },
         "mode": "lines",
         "showlegend": false,
         "type": "scatter",
         "x": [
          -0.013499404144128204,
          -0.11683993835270585
         ],
         "xaxis": "x4",
         "y": [
          0.07432857198482884,
          -0.062334831924565695
         ],
         "yaxis": "y4"
        },
        {
         "line": {
          "color": "black",
          "width": 0.07
         },
         "mode": "lines",
         "showlegend": false,
         "type": "scatter",
         "x": [
          -0.040600747327168424,
          -0.12643251992244733
         ],
         "xaxis": "x4",
         "y": [
          -0.01232664653279339,
          -0.04485117903195427
         ],
         "yaxis": "y4"
        },
        {
         "line": {
          "color": "black",
          "width": 0.07
         },
         "mode": "lines",
         "showlegend": false,
         "type": "scatter",
         "x": [
          0.03569588966647953,
          -0.026862090799318304
         ],
         "xaxis": "x4",
         "y": [
          -0.09279958189338729,
          -0.203611774576394
         ],
         "yaxis": "y4"
        },
        {
         "line": {
          "color": "black",
          "width": 0.07
         },
         "mode": "lines",
         "showlegend": false,
         "type": "scatter",
         "x": [
          0.021552416529650203,
          -0.01677110530567683
         ],
         "xaxis": "x4",
         "y": [
          -0.18642530768221904,
          -0.20480243761959024
         ],
         "yaxis": "y4"
        },
        {
         "line": {
          "color": "black",
          "width": 0.07
         },
         "mode": "lines",
         "showlegend": false,
         "type": "scatter",
         "x": [
          0.06484300211923495,
          -0.055773089588868965
         ],
         "xaxis": "x4",
         "y": [
          -0.05727107562075794,
          -0.18050833530566995
         ],
         "yaxis": "y4"
        },
        {
         "line": {
          "color": "black",
          "width": 0.07
         },
         "mode": "lines",
         "showlegend": false,
         "type": "scatter",
         "x": [
          -0.08492895317132128,
          -0.1299490346537986
         ],
         "xaxis": "x4",
         "y": [
          -0.1303676270638902,
          -0.12104273246979033
         ],
         "yaxis": "y4"
        },
        {
         "line": {
          "color": "black",
          "width": 0.07
         },
         "mode": "lines",
         "showlegend": false,
         "type": "scatter",
         "x": [
          -0.08125646914137044,
          -0.1080035607644288
         ],
         "xaxis": "x4",
         "y": [
          -0.12822564677397758,
          -0.13959599275816617
         ],
         "yaxis": "y4"
        },
        {
         "line": {
          "color": "black",
          "width": 0.07
         },
         "mode": "lines",
         "showlegend": false,
         "type": "scatter",
         "x": [
          -0.07743387294250459,
          -0.11692235197077123
         ],
         "xaxis": "x4",
         "y": [
          -0.15135996474162836,
          -0.1324631719493809
         ],
         "yaxis": "y4"
        },
        {
         "line": {
          "color": "black",
          "width": 0.07
         },
         "mode": "lines",
         "showlegend": false,
         "type": "scatter",
         "x": [
          -0.05919881126241928,
          -0.08684207680412846
         ],
         "xaxis": "x4",
         "y": [
          -0.2962581331237597,
          -0.33578351442127624
         ],
         "yaxis": "y4"
        },
        {
         "line": {
          "color": "black",
          "width": 0.07
         },
         "mode": "lines",
         "showlegend": false,
         "type": "scatter",
         "x": [
          -0.04815338622499258,
          -0.09746541023927223
         ],
         "xaxis": "x4",
         "y": [
          -0.2727275619750077,
          -0.33252761558556876
         ],
         "yaxis": "y4"
        },
        {
         "line": {
          "color": "black",
          "width": 0.07
         },
         "mode": "lines",
         "showlegend": false,
         "type": "scatter",
         "x": [
          -0.0585611546463333,
          -0.09328581526451844
         ],
         "xaxis": "x4",
         "y": [
          -0.3176888449049266,
          -0.33022822881752034
         ],
         "yaxis": "y4"
        },
        {
         "line": {
          "color": "black",
          "width": 0.07
         },
         "mode": "lines",
         "showlegend": false,
         "type": "scatter",
         "x": [
          -0.05412618515910345,
          0.05945478361527457
         ],
         "xaxis": "x4",
         "y": [
          -0.1917933563711544,
          -0.3699267751604783
         ],
         "yaxis": "y4"
        },
        {
         "line": {
          "color": "black",
          "width": 0.07
         },
         "mode": "lines",
         "showlegend": false,
         "type": "scatter",
         "x": [
          -0.010358531594664148,
          0.07692496959242795
         ],
         "xaxis": "x4",
         "y": [
          -0.3080019027905839,
          -0.36555050071510753
         ],
         "yaxis": "y4"
        },
        {
         "line": {
          "color": "black",
          "width": 0.07
         },
         "mode": "lines",
         "showlegend": false,
         "type": "scatter",
         "x": [
          0.21682710529219265,
          0.056599447730693496
         ],
         "xaxis": "x4",
         "y": [
          -0.34783718354857934,
          -0.36769575689172934
         ],
         "yaxis": "y4"
        },
        {
         "line": {
          "color": "black",
          "width": 0.07
         },
         "mode": "lines",
         "showlegend": false,
         "type": "scatter",
         "x": [
          -0.09203281896222786,
          -0.14535193552318726
         ],
         "xaxis": "x4",
         "y": [
          -0.09882815105670624,
          -0.0974084922154562
         ],
         "yaxis": "y4"
        },
        {
         "line": {
          "color": "black",
          "width": 0.07
         },
         "mode": "lines",
         "showlegend": false,
         "type": "scatter",
         "x": [
          -0.07703127915606085,
          -0.12149096631345593
         ],
         "xaxis": "x4",
         "y": [
          0.019562377409868534,
          -0.12445215423439025
         ],
         "yaxis": "y4"
        },
        {
         "line": {
          "color": "black",
          "width": 0.07
         },
         "mode": "lines",
         "showlegend": false,
         "type": "scatter",
         "x": [
          -0.10050607907554107,
          -0.12494275523417017
         ],
         "xaxis": "x4",
         "y": [
          -0.043019669425751805,
          -0.12593787697999895
         ],
         "yaxis": "y4"
        },
        {
         "line": {
          "color": "black",
          "width": 0.07
         },
         "mode": "lines",
         "showlegend": false,
         "type": "scatter",
         "x": [
          -0.34030793640696827,
          -0.33637694820251257
         ],
         "xaxis": "x4",
         "y": [
          -0.0474988844343239,
          -0.02724715721180424
         ],
         "yaxis": "y4"
        },
        {
         "line": {
          "color": "black",
          "width": 0.07
         },
         "mode": "lines",
         "showlegend": false,
         "type": "scatter",
         "x": [
          -0.33603437205028563,
          -0.34116871120536474
         ],
         "xaxis": "x4",
         "y": [
          -0.03150524565271377,
          -0.03333799111966306
         ],
         "yaxis": "y4"
        },
        {
         "line": {
          "color": "black",
          "width": 0.07
         },
         "mode": "lines",
         "showlegend": false,
         "type": "scatter",
         "x": [
          -0.2972297753151132,
          -0.34690614744462167
         ],
         "xaxis": "x4",
         "y": [
          0.024863006126323483,
          -0.044514227626580076
         ],
         "yaxis": "y4"
        },
        {
         "line": {
          "color": "black",
          "width": 0.07
         },
         "mode": "lines",
         "showlegend": false,
         "type": "scatter",
         "x": [
          -0.264973477291139,
          -0.3276500761704256
         ],
         "xaxis": "x4",
         "y": [
          0.19168584365168506,
          0.10876561662406499
         ],
         "yaxis": "y4"
        },
        {
         "line": {
          "color": "black",
          "width": 0.07
         },
         "mode": "lines",
         "showlegend": false,
         "type": "scatter",
         "x": [
          -0.3509934745895069,
          -0.3309708361241852
         ],
         "xaxis": "x4",
         "y": [
          0.05079555050972805,
          0.1019833912547809
         ],
         "yaxis": "y4"
        },
        {
         "line": {
          "color": "black",
          "width": 0.07
         },
         "mode": "lines",
         "showlegend": false,
         "type": "scatter",
         "x": [
          -0.33244503881006676,
          -0.32709840825738584
         ],
         "xaxis": "x4",
         "y": [
          0.09176472895524863,
          0.10795570613814583
         ],
         "yaxis": "y4"
        },
        {
         "line": {
          "color": "black",
          "width": 0.07
         },
         "mode": "lines",
         "showlegend": false,
         "type": "scatter",
         "x": [
          -0.1684575633841472,
          -0.2181586373819976
         ],
         "xaxis": "x4",
         "y": [
          -0.006390280168032206,
          -0.12817114007499303
         ],
         "yaxis": "y4"
        },
        {
         "line": {
          "color": "black",
          "width": 0.07
         },
         "mode": "lines",
         "showlegend": false,
         "type": "scatter",
         "x": [
          -0.19539691686332006,
          -0.21979187539173284
         ],
         "xaxis": "x4",
         "y": [
          -0.13571955900031615,
          -0.13028682742749634
         ],
         "yaxis": "y4"
        },
        {
         "line": {
          "color": "black",
          "width": 0.07
         },
         "mode": "lines",
         "showlegend": false,
         "type": "scatter",
         "x": [
          -0.19773223127680692,
          -0.21859141312525893
         ],
         "xaxis": "x4",
         "y": [
          -0.12391002289741479,
          -0.12816218285180958
         ],
         "yaxis": "y4"
        },
        {
         "line": {
          "color": "black",
          "width": 0.07
         },
         "mode": "lines",
         "showlegend": false,
         "type": "scatter",
         "x": [
          0.5007420375674203,
          0.4182694488378841
         ],
         "xaxis": "x4",
         "y": [
          -0.2649862337906129,
          -0.289982034512999
         ],
         "yaxis": "y4"
        },
        {
         "line": {
          "color": "black",
          "width": 0.07
         },
         "mode": "lines",
         "showlegend": false,
         "type": "scatter",
         "x": [
          0.47976229817493865,
          0.3991953947083648
         ],
         "xaxis": "x4",
         "y": [
          -0.2688647105573512,
          -0.2904690463448072
         ],
         "yaxis": "y4"
        },
        {
         "line": {
          "color": "black",
          "width": 0.07
         },
         "mode": "lines",
         "showlegend": false,
         "type": "scatter",
         "x": [
          0.46639273673503107,
          0.4456681792360402
         ],
         "xaxis": "x4",
         "y": [
          -0.2621203334311026,
          -0.28416693950904215
         ],
         "yaxis": "y4"
        },
        {
         "line": {
          "color": "black",
          "width": 0.07
         },
         "mode": "lines",
         "showlegend": false,
         "type": "scatter",
         "x": [
          0.19676136548956186,
          0.10746547427073735
         ],
         "xaxis": "x4",
         "y": [
          0.4692128982595817,
          0.504656234819482
         ],
         "yaxis": "y4"
        },
        {
         "line": {
          "color": "black",
          "width": 0.07
         },
         "mode": "lines",
         "showlegend": false,
         "type": "scatter",
         "x": [
          0.19178112289051125,
          0.09787700613137594
         ],
         "xaxis": "x4",
         "y": [
          0.5536106029425101,
          0.48873013247605507
         ],
         "yaxis": "y4"
        },
        {
         "line": {
          "color": "black",
          "width": 0.07
         },
         "mode": "lines",
         "showlegend": false,
         "type": "scatter",
         "x": [
          0.15697047632722755,
          0.11125627903602782
         ],
         "xaxis": "x4",
         "y": [
          0.5351752847304334,
          0.5096268880324073
         ],
         "yaxis": "y4"
        },
        {
         "line": {
          "color": "black",
          "width": 0.07
         },
         "mode": "lines",
         "showlegend": false,
         "type": "scatter",
         "x": [
          -0.24423071940970426,
          -0.2545393671429838
         ],
         "xaxis": "x4",
         "y": [
          -0.13944984481782136,
          -0.23232535380571695
         ],
         "yaxis": "y4"
        },
        {
         "line": {
          "color": "black",
          "width": 0.07
         },
         "mode": "lines",
         "showlegend": false,
         "type": "scatter",
         "x": [
          -0.22724910201385154,
          -0.2699445132901002
         ],
         "xaxis": "x4",
         "y": [
          -0.21565516150362785,
          -0.21385224882122206
         ],
         "yaxis": "y4"
        },
        {
         "line": {
          "color": "black",
          "width": 0.07
         },
         "mode": "lines",
         "showlegend": false,
         "type": "scatter",
         "x": [
          -0.22943032991280263,
          -0.2626741433100869
         ],
         "xaxis": "x4",
         "y": [
          -0.21567845223323076,
          -0.22342566248841847
         ],
         "yaxis": "y4"
        },
        {
         "line": {
          "color": "black",
          "width": 0.07
         },
         "mode": "lines",
         "showlegend": false,
         "type": "scatter",
         "x": [
          0.14826615749084476,
          -0.029972391240588755
         ],
         "xaxis": "x4",
         "y": [
          0.5178550686822084,
          0.36735700106827773
         ],
         "yaxis": "y4"
        },
        {
         "line": {
          "color": "black",
          "width": 0.07
         },
         "mode": "lines",
         "showlegend": false,
         "type": "scatter",
         "x": [
          0.07909074055142762,
          -0.01150047071987645
         ],
         "xaxis": "x4",
         "y": [
          0.4550471395927976,
          0.37856337622633746
         ],
         "yaxis": "y4"
        },
        {
         "line": {
          "color": "black",
          "width": 0.07
         },
         "mode": "lines",
         "showlegend": false,
         "type": "scatter",
         "x": [
          0.007036597760921577,
          -0.01802339641435582
         ],
         "xaxis": "x4",
         "y": [
          0.3827927232769542,
          0.36096087253263515
         ],
         "yaxis": "y4"
        },
        {
         "line": {
          "color": "black",
          "width": 0.07
         },
         "mode": "lines",
         "showlegend": false,
         "type": "scatter",
         "x": [
          -0.3659814865728087,
          -0.3909702813437728
         ],
         "xaxis": "x4",
         "y": [
          0.03228055242882809,
          -0.01029096521860894
         ],
         "yaxis": "y4"
        },
        {
         "line": {
          "color": "black",
          "width": 0.07
         },
         "mode": "lines",
         "showlegend": false,
         "type": "scatter",
         "x": [
          -0.29069777624014204,
          -0.38551821861531455
         ],
         "xaxis": "x4",
         "y": [
          0.15325078509607562,
          -0.0029840827615166543
         ],
         "yaxis": "y4"
        },
        {
         "line": {
          "color": "black",
          "width": 0.07
         },
         "mode": "lines",
         "showlegend": false,
         "type": "scatter",
         "x": [
          -0.3129813691578809,
          -0.3868474309654553
         ],
         "xaxis": "x4",
         "y": [
          0.12847109998913747,
          -0.007137004631698266
         ],
         "yaxis": "y4"
        },
        {
         "line": {
          "color": "black",
          "width": 0.07
         },
         "mode": "lines",
         "showlegend": false,
         "type": "scatter",
         "x": [
          -0.399818615890232,
          -0.4186505729276004
         ],
         "xaxis": "x4",
         "y": [
          -0.05220974302498823,
          -0.09503799151353103
         ],
         "yaxis": "y4"
        },
        {
         "line": {
          "color": "black",
          "width": 0.07
         },
         "mode": "lines",
         "showlegend": false,
         "type": "scatter",
         "x": [
          -0.4050891553818945,
          -0.4192377517939872
         ],
         "xaxis": "x4",
         "y": [
          -0.062408805514420164,
          -0.08992352207888733
         ],
         "yaxis": "y4"
        },
        {
         "line": {
          "color": "black",
          "width": 0.07
         },
         "mode": "lines",
         "showlegend": false,
         "type": "scatter",
         "x": [
          -0.3972807884844058,
          -0.414042958207383
         ],
         "xaxis": "x4",
         "y": [
          -0.0523716032836459,
          -0.0814187918792868
         ],
         "yaxis": "y4"
        },
        {
         "line": {
          "color": "black",
          "width": 0.07
         },
         "mode": "lines",
         "showlegend": false,
         "type": "scatter",
         "x": [
          0.2857648553761188,
          0.2745856889201186
         ],
         "xaxis": "x4",
         "y": [
          -0.1962103632355104,
          -0.24568402945204076
         ],
         "yaxis": "y4"
        },
        {
         "line": {
          "color": "black",
          "width": 0.07
         },
         "mode": "lines",
         "showlegend": false,
         "type": "scatter",
         "x": [
          0.35552215064389586,
          0.26410493315650746
         ],
         "xaxis": "x4",
         "y": [
          -0.2296475727683071,
          -0.25388555951398206
         ],
         "yaxis": "y4"
        },
        {
         "line": {
          "color": "black",
          "width": 0.07
         },
         "mode": "lines",
         "showlegend": false,
         "type": "scatter",
         "x": [
          0.3471969224682434,
          0.25553648700122195
         ],
         "xaxis": "x4",
         "y": [
          -0.22645986923323966,
          -0.2557796307331302
         ],
         "yaxis": "y4"
        },
        {
         "line": {
          "color": "black",
          "width": 0.07
         },
         "mode": "lines",
         "showlegend": false,
         "type": "scatter",
         "x": [
          0.20521012452338427,
          0.20100610079780523
         ],
         "xaxis": "x4",
         "y": [
          0.5253605220159393,
          0.5368650298534555
         ],
         "yaxis": "y4"
        },
        {
         "line": {
          "color": "black",
          "width": 0.07
         },
         "mode": "lines",
         "showlegend": false,
         "type": "scatter",
         "x": [
          0.1975053875694498,
          0.20254652203768347
         ],
         "xaxis": "x4",
         "y": [
          0.48791255828632896,
          0.5396024192938574
         ],
         "yaxis": "y4"
        },
        {
         "line": {
          "color": "black",
          "width": 0.07
         },
         "mode": "lines",
         "showlegend": false,
         "type": "scatter",
         "x": [
          0.196611777833753,
          0.20340329721098205
         ],
         "xaxis": "x4",
         "y": [
          0.4783694628439172,
          0.5467872885039248
         ],
         "yaxis": "y4"
        },
        {
         "line": {
          "color": "black",
          "width": 0.07
         },
         "mode": "lines",
         "showlegend": false,
         "type": "scatter",
         "x": [
          0.1419190703992081,
          0.09517921848725956
         ],
         "xaxis": "x4",
         "y": [
          -0.15701273513246475,
          -0.10847866983076097
         ],
         "yaxis": "y4"
        },
        {
         "line": {
          "color": "black",
          "width": 0.07
         },
         "mode": "lines",
         "showlegend": false,
         "type": "scatter",
         "x": [
          0.1367642947687589,
          0.11418395411447048
         ],
         "xaxis": "x4",
         "y": [
          -0.1156251980054847,
          -0.12626973759590268
         ],
         "yaxis": "y4"
        },
        {
         "line": {
          "color": "black",
          "width": 0.07
         },
         "mode": "lines",
         "showlegend": false,
         "type": "scatter",
         "x": [
          0.14906903193062795,
          0.10520036705078167
         ],
         "xaxis": "x4",
         "y": [
          -0.1324259837454663,
          -0.1743721768754802
         ],
         "yaxis": "y4"
        },
        {
         "line": {
          "color": "black",
          "width": 0.07
         },
         "mode": "lines",
         "showlegend": false,
         "type": "scatter",
         "x": [
          0.032976232351250266,
          -0.07191457391235537
         ],
         "xaxis": "x4",
         "y": [
          0.3775765015632638,
          0.14272765602487908
         ],
         "yaxis": "y4"
        },
        {
         "line": {
          "color": "black",
          "width": 0.07
         },
         "mode": "lines",
         "showlegend": false,
         "type": "scatter",
         "x": [
          0.025514691399138267,
          -0.09286158453932983
         ],
         "xaxis": "x4",
         "y": [
          0.3636157462999043,
          0.23852782557158217
         ],
         "yaxis": "y4"
        },
        {
         "line": {
          "color": "black",
          "width": 0.07
         },
         "mode": "lines",
         "showlegend": false,
         "type": "scatter",
         "x": [
          -0.06942878189761562,
          -0.10059800471635603
         ],
         "xaxis": "x4",
         "y": [
          0.2395099920949822,
          0.23169352857283726
         ],
         "yaxis": "y4"
        },
        {
         "line": {
          "color": "black",
          "width": 0.07
         },
         "mode": "lines",
         "showlegend": false,
         "type": "scatter",
         "x": [
          0.5263415570634212,
          0.48591139680544393
         ],
         "xaxis": "x4",
         "y": [
          -0.01706540980182392,
          0.03506449078750495
         ],
         "yaxis": "y4"
        },
        {
         "line": {
          "color": "black",
          "width": 0.07
         },
         "mode": "lines",
         "showlegend": false,
         "type": "scatter",
         "x": [
          0.49525920745987173,
          0.5022994339574898
         ],
         "xaxis": "x4",
         "y": [
          0.11109179442805561,
          0.003542211833112114
         ],
         "yaxis": "y4"
        },
        {
         "line": {
          "color": "black",
          "width": 0.07
         },
         "mode": "lines",
         "showlegend": false,
         "type": "scatter",
         "x": [
          0.5239861398088688,
          0.4939699131655428
         ],
         "xaxis": "x4",
         "y": [
          0.035695427870161646,
          0.06986375833741637
         ],
         "yaxis": "y4"
        },
        {
         "line": {
          "color": "black",
          "width": 0.07
         },
         "mode": "lines",
         "showlegend": false,
         "type": "scatter",
         "x": [
          -0.05873781654205078,
          -0.060908522883844254
         ],
         "xaxis": "x4",
         "y": [
          0.12786261325363418,
          0.13990897872710886
         ],
         "yaxis": "y4"
        },
        {
         "line": {
          "color": "black",
          "width": 0.07
         },
         "mode": "lines",
         "showlegend": false,
         "type": "scatter",
         "x": [
          -0.0672628952216296,
          -0.12454100053027793
         ],
         "xaxis": "x4",
         "y": [
          0.11669255821547153,
          0.0889159455835216
         ],
         "yaxis": "y4"
        },
        {
         "line": {
          "color": "black",
          "width": 0.07
         },
         "mode": "lines",
         "showlegend": false,
         "type": "scatter",
         "x": [
          -0.0807960812183393,
          -0.11342026198303833
         ],
         "xaxis": "x4",
         "y": [
          0.10233414523025068,
          0.0970811653487321
         ],
         "yaxis": "y4"
        },
        {
         "line": {
          "color": "black",
          "width": 0.07
         },
         "mode": "lines",
         "showlegend": false,
         "type": "scatter",
         "x": [
          -0.40196131840954835,
          -0.4207800496462843
         ],
         "xaxis": "x4",
         "y": [
          -0.045296648153601446,
          -0.08297804424865028
         ],
         "yaxis": "y4"
        },
        {
         "line": {
          "color": "black",
          "width": 0.07
         },
         "mode": "lines",
         "showlegend": false,
         "type": "scatter",
         "x": [
          -0.3937747811996278,
          -0.4169012574742896
         ],
         "xaxis": "x4",
         "y": [
          -0.028314837347064276,
          -0.07977641269662088
         ],
         "yaxis": "y4"
        },
        {
         "line": {
          "color": "black",
          "width": 0.07
         },
         "mode": "lines",
         "showlegend": false,
         "type": "scatter",
         "x": [
          -0.395865361887742,
          -0.422330106318462
         ],
         "xaxis": "x4",
         "y": [
          -0.034976407579390814,
          -0.0848264197562583
         ],
         "yaxis": "y4"
        },
        {
         "line": {
          "color": "black",
          "width": 0.07
         },
         "mode": "lines",
         "showlegend": false,
         "type": "scatter",
         "x": [
          0.5414831572688124,
          0.5114605561827225
         ],
         "xaxis": "x4",
         "y": [
          -0.10881850967056193,
          -0.12167843775510073
         ],
         "yaxis": "y4"
        },
        {
         "line": {
          "color": "black",
          "width": 0.07
         },
         "mode": "lines",
         "showlegend": false,
         "type": "scatter",
         "x": [
          0.527111568806205,
          0.5259992847761535
         ],
         "xaxis": "x4",
         "y": [
          0.030799326668160175,
          -0.11181269298948593
         ],
         "yaxis": "y4"
        },
        {
         "line": {
          "color": "black",
          "width": 0.07
         },
         "mode": "lines",
         "showlegend": false,
         "type": "scatter",
         "x": [
          0.5425515017190283,
          0.5346075539979743
         ],
         "xaxis": "x4",
         "y": [
          -0.017328624142152263,
          -0.10126922789770998
         ],
         "yaxis": "y4"
        },
        {
         "line": {
          "color": "black",
          "width": 0.07
         },
         "mode": "lines",
         "showlegend": false,
         "type": "scatter",
         "x": [
          0.44277390562046404,
          0.43002075591739647
         ],
         "xaxis": "x4",
         "y": [
          0.2518464947296191,
          0.2437385895804624
         ],
         "yaxis": "y4"
        },
        {
         "line": {
          "color": "black",
          "width": 0.07
         },
         "mode": "lines",
         "showlegend": false,
         "type": "scatter",
         "x": [
          0.3748723385966053,
          0.4187083946730595
         ],
         "xaxis": "x4",
         "y": [
          0.38963875223775535,
          0.27031657119393704
         ],
         "yaxis": "y4"
        },
        {
         "line": {
          "color": "black",
          "width": 0.07
         },
         "mode": "lines",
         "showlegend": false,
         "type": "scatter",
         "x": [
          0.49097249950900884,
          0.4151223779987213
         ],
         "xaxis": "x4",
         "y": [
          0.05108571395168812,
          0.24998014198507915
         ],
         "yaxis": "y4"
        },
        {
         "line": {
          "color": "black",
          "width": 0.07
         },
         "mode": "lines",
         "showlegend": false,
         "type": "scatter",
         "x": [
          0.5447520432999791,
          0.5522592510998622
         ],
         "xaxis": "x4",
         "y": [
          -0.23955544543027746,
          -0.26940844438447686
         ],
         "yaxis": "y4"
        },
        {
         "line": {
          "color": "black",
          "width": 0.07
         },
         "mode": "lines",
         "showlegend": false,
         "type": "scatter",
         "x": [
          0.4733053861865529,
          0.5571017557637649
         ],
         "xaxis": "x4",
         "y": [
          -0.31621476551384275,
          -0.28893402572365295
         ],
         "yaxis": "y4"
        },
        {
         "line": {
          "color": "black",
          "width": 0.07
         },
         "mode": "lines",
         "showlegend": false,
         "type": "scatter",
         "x": [
          0.5333691535472318,
          0.5553442616851118
         ],
         "xaxis": "x4",
         "y": [
          -0.23511124058807026,
          -0.27172937905497724
         ],
         "yaxis": "y4"
        },
        {
         "line": {
          "color": "black",
          "width": 0.07
         },
         "mode": "lines",
         "showlegend": false,
         "type": "scatter",
         "x": [
          0.010858539566471823,
          0.032281908577650356
         ],
         "xaxis": "x6",
         "y": [
          -0.03715858829655638,
          -0.02105426354666512
         ],
         "yaxis": "y6"
        },
        {
         "line": {
          "color": "black",
          "width": 0.07
         },
         "mode": "lines",
         "showlegend": false,
         "type": "scatter",
         "x": [
          0.023950724822203104,
          0.032696138421837384
         ],
         "xaxis": "x6",
         "y": [
          -0.029457811634401886,
          -0.01882544113205453
         ],
         "yaxis": "y6"
        },
        {
         "line": {
          "color": "black",
          "width": 0.07
         },
         "mode": "lines",
         "showlegend": false,
         "type": "scatter",
         "x": [
          0.016949526042769104,
          0.031922010430040657
         ],
         "xaxis": "x6",
         "y": [
          -0.03113271965585537,
          -0.020475583513216135
         ],
         "yaxis": "y6"
        },
        {
         "line": {
          "color": "black",
          "width": 0.07
         },
         "mode": "lines",
         "showlegend": false,
         "type": "scatter",
         "x": [
          -0.0015473080252438032,
          0.021173941973864133
         ],
         "xaxis": "x6",
         "y": [
          -0.04174710962607065,
          -0.024633539908136513
         ],
         "yaxis": "y6"
        },
        {
         "line": {
          "color": "black",
          "width": 0.07
         },
         "mode": "lines",
         "showlegend": false,
         "type": "scatter",
         "x": [
          0.0018763647883551643,
          0.023584096389601225
         ],
         "xaxis": "x6",
         "y": [
          -0.03728709211020191,
          -0.024530665031005077
         ],
         "yaxis": "y6"
        },
        {
         "line": {
          "color": "black",
          "width": 0.07
         },
         "mode": "lines",
         "showlegend": false,
         "type": "scatter",
         "x": [
          0.008098625918040617,
          0.028316113479432047
         ],
         "xaxis": "x6",
         "y": [
          -0.03261679108045514,
          -0.021003116537026745
         ],
         "yaxis": "y6"
        },
        {
         "line": {
          "color": "black",
          "width": 0.07
         },
         "mode": "lines",
         "showlegend": false,
         "type": "scatter",
         "x": [
          0.044015666915596004,
          0.050324769090372215
         ],
         "xaxis": "x6",
         "y": [
          0.016845806686131917,
          0.02372477224988669
         ],
         "yaxis": "y6"
        },
        {
         "line": {
          "color": "black",
          "width": 0.07
         },
         "mode": "lines",
         "showlegend": false,
         "type": "scatter",
         "x": [
          0.03815082186134982,
          0.047844887514179125
         ],
         "xaxis": "x6",
         "y": [
          0.012466200362436846,
          0.02240310599582414
         ],
         "yaxis": "y6"
        },
        {
         "line": {
          "color": "black",
          "width": 0.07
         },
         "mode": "lines",
         "showlegend": false,
         "type": "scatter",
         "x": [
          0.03907456323689451,
          0.04548916991947096
         ],
         "xaxis": "x6",
         "y": [
          0.013522165989554984,
          0.02172934208516072
         ],
         "yaxis": "y6"
        },
        {
         "line": {
          "color": "black",
          "width": 0.07
         },
         "mode": "lines",
         "showlegend": false,
         "type": "scatter",
         "x": [
          0.039999183902066936,
          0.05057376891771611
         ],
         "xaxis": "x6",
         "y": [
          0.018355576970919153,
          0.024998532061523193
         ],
         "yaxis": "y6"
        },
        {
         "line": {
          "color": "black",
          "width": 0.07
         },
         "mode": "lines",
         "showlegend": false,
         "type": "scatter",
         "x": [
          0.04012782655002866,
          0.05266282021857237
         ],
         "xaxis": "x6",
         "y": [
          0.01810294656027182,
          0.024131658101601783
         ],
         "yaxis": "y6"
        },
        {
         "line": {
          "color": "black",
          "width": 0.07
         },
         "mode": "lines",
         "showlegend": false,
         "type": "scatter",
         "x": [
          0.04007796323257072,
          0.0464359958480922
         ],
         "xaxis": "x6",
         "y": [
          0.016790034073215193,
          0.022456164027804325
         ],
         "yaxis": "y6"
        },
        {
         "line": {
          "color": "black",
          "width": 0.07
         },
         "mode": "lines",
         "showlegend": false,
         "type": "scatter",
         "x": [
          0.04315348037533759,
          0.046822395055702286
         ],
         "xaxis": "x6",
         "y": [
          0.01616636325717605,
          0.020731930791358558
         ],
         "yaxis": "y6"
        },
        {
         "line": {
          "color": "black",
          "width": 0.07
         },
         "mode": "lines",
         "showlegend": false,
         "type": "scatter",
         "x": [
          0.04292760176256783,
          0.05192538636952975
         ],
         "xaxis": "x6",
         "y": [
          0.014343291096506148,
          0.0230282184245776
         ],
         "yaxis": "y6"
        },
        {
         "line": {
          "color": "black",
          "width": 0.07
         },
         "mode": "lines",
         "showlegend": false,
         "type": "scatter",
         "x": [
          0.04505312070965197,
          0.04913686999725997
         ],
         "xaxis": "x6",
         "y": [
          0.016687708171838088,
          0.02248007897612515
         ],
         "yaxis": "y6"
        },
        {
         "line": {
          "color": "black",
          "width": 0.07
         },
         "mode": "lines",
         "showlegend": false,
         "type": "scatter",
         "x": [
          0.03992773921967077,
          0.0393919595549817
         ],
         "xaxis": "x6",
         "y": [
          0.019182418156840852,
          0.021738738627526805
         ],
         "yaxis": "y6"
        },
        {
         "line": {
          "color": "black",
          "width": 0.07
         },
         "mode": "lines",
         "showlegend": false,
         "type": "scatter",
         "x": [
          0.03835371310148329,
          0.04382156133166704
         ],
         "xaxis": "x6",
         "y": [
          0.018478632097283666,
          0.0233156224704893
         ],
         "yaxis": "y6"
        },
        {
         "line": {
          "color": "black",
          "width": 0.07
         },
         "mode": "lines",
         "showlegend": false,
         "type": "scatter",
         "x": [
          0.03527496351685198,
          0.047295079839860595
         ],
         "xaxis": "x6",
         "y": [
          0.01647686618492747,
          0.022980641323621532
         ],
         "yaxis": "y6"
        },
        {
         "line": {
          "color": "black",
          "width": 0.07
         },
         "mode": "lines",
         "showlegend": false,
         "type": "scatter",
         "x": [
          0.021382850262665145,
          0.04363052359903869
         ],
         "xaxis": "x6",
         "y": [
          0.006823650809389329,
          0.024603742538547652
         ],
         "yaxis": "y6"
        },
        {
         "line": {
          "color": "black",
          "width": 0.07
         },
         "mode": "lines",
         "showlegend": false,
         "type": "scatter",
         "x": [
          0.03141892970383597,
          0.03955975857493226
         ],
         "xaxis": "x6",
         "y": [
          0.0195007065227082,
          0.024450254206611805
         ],
         "yaxis": "y6"
        },
        {
         "line": {
          "color": "black",
          "width": 0.07
         },
         "mode": "lines",
         "showlegend": false,
         "type": "scatter",
         "x": [
          0.03431315585065186,
          0.0393496512946022
         ],
         "xaxis": "x6",
         "y": [
          0.019255808698755397,
          0.02464776166172977
         ],
         "yaxis": "y6"
        },
        {
         "line": {
          "color": "black",
          "width": 0.07
         },
         "mode": "lines",
         "showlegend": false,
         "type": "scatter",
         "x": [
          0.04105037843731101,
          0.04694913769940578
         ],
         "xaxis": "x6",
         "y": [
          0.0132929859531698,
          0.020649395623534707
         ],
         "yaxis": "y6"
        },
        {
         "line": {
          "color": "black",
          "width": 0.07
         },
         "mode": "lines",
         "showlegend": false,
         "type": "scatter",
         "x": [
          0.04349485602295126,
          0.053155410142193917
         ],
         "xaxis": "x6",
         "y": [
          0.014123458286357702,
          0.023370355260739738
         ],
         "yaxis": "y6"
        },
        {
         "line": {
          "color": "black",
          "width": 0.07
         },
         "mode": "lines",
         "showlegend": false,
         "type": "scatter",
         "x": [
          0.04057126945023412,
          0.04849239309035291
         ],
         "xaxis": "x6",
         "y": [
          0.013167590761899146,
          0.02029076567341015
         ],
         "yaxis": "y6"
        },
        {
         "line": {
          "color": "black",
          "width": 0.07
         },
         "mode": "lines",
         "showlegend": false,
         "type": "scatter",
         "x": [
          0.021907240538975345,
          0.031218884237449833
         ],
         "xaxis": "x6",
         "y": [
          -0.029556131319598115,
          -0.01840826009364859
         ],
         "yaxis": "y6"
        },
        {
         "line": {
          "color": "black",
          "width": 0.07
         },
         "mode": "lines",
         "showlegend": false,
         "type": "scatter",
         "x": [
          0.024671891323484553,
          0.03477787839840212
         ],
         "xaxis": "x6",
         "y": [
          -0.023408368127400988,
          -0.015075501212801198
         ],
         "yaxis": "y6"
        },
        {
         "line": {
          "color": "black",
          "width": 0.07
         },
         "mode": "lines",
         "showlegend": false,
         "type": "scatter",
         "x": [
          0.026847506078895612,
          0.03541610208008214
         ],
         "xaxis": "x6",
         "y": [
          -0.025262906210020017,
          -0.017007844781759575
         ],
         "yaxis": "y6"
        },
        {
         "line": {
          "color": "black",
          "width": 0.07
         },
         "mode": "lines",
         "showlegend": false,
         "type": "scatter",
         "x": [
          0.010282809067918348,
          0.024014831201048754
         ],
         "xaxis": "x6",
         "y": [
          -0.03629127364643624,
          -0.024431148034839117
         ],
         "yaxis": "y6"
        },
        {
         "line": {
          "color": "black",
          "width": 0.07
         },
         "mode": "lines",
         "showlegend": false,
         "type": "scatter",
         "x": [
          0.013149774198872786,
          0.02740501105759152
         ],
         "xaxis": "x6",
         "y": [
          -0.03183016066584525,
          -0.021352114033507712
         ],
         "yaxis": "y6"
        },
        {
         "line": {
          "color": "black",
          "width": 0.07
         },
         "mode": "lines",
         "showlegend": false,
         "type": "scatter",
         "x": [
          0.011207731139434953,
          0.02636511639131529
         ],
         "xaxis": "x6",
         "y": [
          -0.035141882354539626,
          -0.021430466742135397
         ],
         "yaxis": "y6"
        },
        {
         "line": {
          "color": "black",
          "width": 0.07
         },
         "mode": "lines",
         "showlegend": false,
         "type": "scatter",
         "x": [
          0.03787667188361754,
          0.05218240160200879
         ],
         "xaxis": "x6",
         "y": [
          0.01223111036350634,
          0.022686876739754117
         ],
         "yaxis": "y6"
        },
        {
         "line": {
          "color": "black",
          "width": 0.07
         },
         "mode": "lines",
         "showlegend": false,
         "type": "scatter",
         "x": [
          0.03751532539633037,
          0.050233442889817514
         ],
         "xaxis": "x6",
         "y": [
          0.011361477889129412,
          0.02142714226081379
         ],
         "yaxis": "y6"
        },
        {
         "line": {
          "color": "black",
          "width": 0.07
         },
         "mode": "lines",
         "showlegend": false,
         "type": "scatter",
         "x": [
          0.04347865651618901,
          0.051462387495307474
         ],
         "xaxis": "x6",
         "y": [
          0.014398379706602621,
          0.021932316232717613
         ],
         "yaxis": "y6"
        },
        {
         "line": {
          "color": "black",
          "width": 0.07
         },
         "mode": "lines",
         "showlegend": false,
         "type": "scatter",
         "x": [
          -0.00808603646145871,
          0.008347518615883344
         ],
         "xaxis": "x6",
         "y": [
          0.020125363129587844,
          0.02635545782035278
         ],
         "yaxis": "y6"
        },
        {
         "line": {
          "color": "black",
          "width": 0.07
         },
         "mode": "lines",
         "showlegend": false,
         "type": "scatter",
         "x": [
          -0.007330876597474572,
          0.009884465213203271
         ],
         "xaxis": "x6",
         "y": [
          0.02040710905495909,
          0.026973743625015183
         ],
         "yaxis": "y6"
        },
        {
         "line": {
          "color": "black",
          "width": 0.07
         },
         "mode": "lines",
         "showlegend": false,
         "type": "scatter",
         "x": [
          0.008082374580460598,
          0.010593541047798
         ],
         "xaxis": "x6",
         "y": [
          0.02307776275567851,
          0.028326636677656187
         ],
         "yaxis": "y6"
        },
        {
         "line": {
          "color": "black",
          "width": 0.07
         },
         "mode": "lines",
         "showlegend": false,
         "type": "scatter",
         "x": [
          -0.05268823666958276,
          -0.008549453212610515
         ],
         "xaxis": "x6",
         "y": [
          -0.031192262887040405,
          -0.01787392029431959
         ],
         "yaxis": "y6"
        },
        {
         "line": {
          "color": "black",
          "width": 0.07
         },
         "mode": "lines",
         "showlegend": false,
         "type": "scatter",
         "x": [
          -0.019775409327416307,
          -0.01308980913853022
         ],
         "xaxis": "x6",
         "y": [
          -0.030015344622826776,
          -0.020325152715389344
         ],
         "yaxis": "y6"
        },
        {
         "line": {
          "color": "black",
          "width": 0.07
         },
         "mode": "lines",
         "showlegend": false,
         "type": "scatter",
         "x": [
          -0.017580214175498814,
          -0.00201133942166486
         ],
         "xaxis": "x6",
         "y": [
          -0.032647352810344865,
          -0.020774740177253125
         ],
         "yaxis": "y6"
        },
        {
         "line": {
          "color": "black",
          "width": 0.07
         },
         "mode": "lines",
         "showlegend": false,
         "type": "scatter",
         "x": [
          0.04228073980660717,
          0.04522745096308755
         ],
         "xaxis": "x6",
         "y": [
          0.015419567243394596,
          0.021466126908349443
         ],
         "yaxis": "y6"
        },
        {
         "line": {
          "color": "black",
          "width": 0.07
         },
         "mode": "lines",
         "showlegend": false,
         "type": "scatter",
         "x": [
          0.04005859595024414,
          0.047716249579071966
         ],
         "xaxis": "x6",
         "y": [
          0.012575888620795445,
          0.02039994735294656
         ],
         "yaxis": "y6"
        },
        {
         "line": {
          "color": "black",
          "width": 0.07
         },
         "mode": "lines",
         "showlegend": false,
         "type": "scatter",
         "x": [
          0.03864862176299681,
          0.04542718061720708
         ],
         "xaxis": "x6",
         "y": [
          0.014550179351567789,
          0.018375388244471446
         ],
         "yaxis": "y6"
        },
        {
         "line": {
          "color": "black",
          "width": 0.07
         },
         "mode": "lines",
         "showlegend": false,
         "type": "scatter",
         "x": [
          -0.007518674173571944,
          0.005873482905746882
         ],
         "xaxis": "x6",
         "y": [
          -0.023481212564354845,
          -0.012909919252470835
         ],
         "yaxis": "y6"
        },
        {
         "line": {
          "color": "black",
          "width": 0.07
         },
         "mode": "lines",
         "showlegend": false,
         "type": "scatter",
         "x": [
          -0.014374793426587732,
          0.00008858800257572063
         ],
         "xaxis": "x6",
         "y": [
          -0.029825046740774266,
          -0.01635607758877288
         ],
         "yaxis": "y6"
        },
        {
         "line": {
          "color": "black",
          "width": 0.07
         },
         "mode": "lines",
         "showlegend": false,
         "type": "scatter",
         "x": [
          -0.016025350900370147,
          0.0018776270416613677
         ],
         "xaxis": "x6",
         "y": [
          -0.025619408252226666,
          -0.013077615313104085
         ],
         "yaxis": "y6"
        },
        {
         "line": {
          "color": "black",
          "width": 0.07
         },
         "mode": "lines",
         "showlegend": false,
         "type": "scatter",
         "x": [
          0.018356892766278946,
          0.030013848048360315
         ],
         "xaxis": "x6",
         "y": [
          -0.034426473304584426,
          -0.022578530664047566
         ],
         "yaxis": "y6"
        },
        {
         "line": {
          "color": "black",
          "width": 0.07
         },
         "mode": "lines",
         "showlegend": false,
         "type": "scatter",
         "x": [
          0.02513179246794023,
          0.032218195657232794
         ],
         "xaxis": "x6",
         "y": [
          -0.030612855299617315,
          -0.020076930243730345
         ],
         "yaxis": "y6"
        },
        {
         "line": {
          "color": "black",
          "width": 0.07
         },
         "mode": "lines",
         "showlegend": false,
         "type": "scatter",
         "x": [
          0.019601111625179874,
          0.028928165732419114
         ],
         "xaxis": "x6",
         "y": [
          -0.03289612043724236,
          -0.023603352860623084
         ],
         "yaxis": "y6"
        },
        {
         "line": {
          "color": "black",
          "width": 0.07
         },
         "mode": "lines",
         "showlegend": false,
         "type": "scatter",
         "x": [
          0.025479621296395152,
          0.0299515283758375
         ],
         "xaxis": "x6",
         "y": [
          -0.02869605350765873,
          -0.021316168000022628
         ],
         "yaxis": "y6"
        },
        {
         "line": {
          "color": "black",
          "width": 0.07
         },
         "mode": "lines",
         "showlegend": false,
         "type": "scatter",
         "x": [
          0.02485176900838173,
          0.03711973863525391
         ],
         "xaxis": "x6",
         "y": [
          -0.028740299577082337,
          -0.019910003448749016
         ],
         "yaxis": "y6"
        },
        {
         "line": {
          "color": "black",
          "width": 0.07
         },
         "mode": "lines",
         "showlegend": false,
         "type": "scatter",
         "x": [
          0.021594192897480873,
          0.03316589360101976
         ],
         "xaxis": "x6",
         "y": [
          -0.030838175536321226,
          -0.020584838417758322
         ],
         "yaxis": "y6"
        },
        {
         "line": {
          "color": "black",
          "width": 0.07
         },
         "mode": "lines",
         "showlegend": false,
         "type": "scatter",
         "x": [
          0.006489731159783609,
          0.016685453316165482
         ],
         "xaxis": "x6",
         "y": [
          0.01820103010678303,
          0.027617883965428153
         ],
         "yaxis": "y6"
        },
        {
         "line": {
          "color": "black",
          "width": 0.07
         },
         "mode": "lines",
         "showlegend": false,
         "type": "scatter",
         "x": [
          0.004661515021386478,
          0.01771891108301576
         ],
         "xaxis": "x6",
         "y": [
          0.016353327110896095,
          0.025025083207729157
         ],
         "yaxis": "y6"
        },
        {
         "line": {
          "color": "black",
          "width": 0.07
         },
         "mode": "lines",
         "showlegend": false,
         "type": "scatter",
         "x": [
          0.006991504342530461,
          0.020174667302890775
         ],
         "xaxis": "x6",
         "y": [
          0.019083003136696995,
          0.025981174730599372
         ],
         "yaxis": "y6"
        },
        {
         "line": {
          "color": "black",
          "width": 0.07
         },
         "mode": "lines",
         "showlegend": false,
         "type": "scatter",
         "x": [
          -0.1204191453826223,
          -0.11578309982480026
         ],
         "xaxis": "x6",
         "y": [
          -0.0738896113376567,
          -0.053350938351083683
         ],
         "yaxis": "y6"
        },
        {
         "line": {
          "color": "black",
          "width": 0.07
         },
         "mode": "lines",
         "showlegend": false,
         "type": "scatter",
         "x": [
          -0.13306665619546673,
          -0.1265560558744314
         ],
         "xaxis": "x6",
         "y": [
          -0.06361968025236174,
          -0.04890985650789032
         ],
         "yaxis": "y6"
        },
        {
         "line": {
          "color": "black",
          "width": 0.07
         },
         "mode": "lines",
         "showlegend": false,
         "type": "scatter",
         "x": [
          -0.13945743715742603,
          -0.12489703420944041
         ],
         "xaxis": "x6",
         "y": [
          -0.062066492377897825,
          -0.04332528326378809
         ],
         "yaxis": "y6"
        },
        {
         "line": {
          "color": "black",
          "width": 0.07
         },
         "mode": "lines",
         "showlegend": false,
         "type": "scatter",
         "x": [
          0.004163942886435143,
          0.016488149569568143
         ],
         "xaxis": "x6",
         "y": [
          0.009711432952888822,
          0.02084794868613821
         ],
         "yaxis": "y6"
        },
        {
         "line": {
          "color": "black",
          "width": 0.07
         },
         "mode": "lines",
         "showlegend": false,
         "type": "scatter",
         "x": [
          0.01355882856277217,
          0.020943380525997177
         ],
         "xaxis": "x6",
         "y": [
          0.014584590738306173,
          0.025120526198711277
         ],
         "yaxis": "y6"
        },
        {
         "line": {
          "color": "black",
          "width": 0.07
         },
         "mode": "lines",
         "showlegend": false,
         "type": "scatter",
         "x": [
          0.00703116917908864,
          0.018268181599214443
         ],
         "xaxis": "x6",
         "y": [
          0.01294870310787031,
          0.023956914483141308
         ],
         "yaxis": "y6"
        },
        {
         "line": {
          "color": "black",
          "width": 0.07
         },
         "mode": "lines",
         "showlegend": false,
         "type": "scatter",
         "x": [
          -0.005727793250760433,
          -0.0011081105892322962
         ],
         "xaxis": "x6",
         "y": [
          -0.029420633322570743,
          -0.020308514864925898
         ],
         "yaxis": "y6"
        },
        {
         "line": {
          "color": "black",
          "width": 0.07
         },
         "mode": "lines",
         "showlegend": false,
         "type": "scatter",
         "x": [
          -0.01616869820625433,
          0.00006925358208183614
         ],
         "xaxis": "x6",
         "y": [
          -0.0281433829157622,
          -0.015096854247791301
         ],
         "yaxis": "y6"
        },
        {
         "line": {
          "color": "black",
          "width": 0.07
         },
         "mode": "lines",
         "showlegend": false,
         "type": "scatter",
         "x": [
          -0.009566555750644148,
          0.0069290148469582785
         ],
         "xaxis": "x6",
         "y": [
          -0.026756625780002558,
          -0.015854053861736134
         ],
         "yaxis": "y6"
        },
        {
         "line": {
          "color": "black",
          "width": 0.07
         },
         "mode": "lines",
         "showlegend": false,
         "type": "scatter",
         "x": [
          -0.13262627650793019,
          -0.1008508100987428
         ],
         "xaxis": "x6",
         "y": [
          0.03168490222042795,
          0.03509262793973046
         ],
         "yaxis": "y6"
        },
        {
         "line": {
          "color": "black",
          "width": 0.07
         },
         "mode": "lines",
         "showlegend": false,
         "type": "scatter",
         "x": [
          -0.10492648215622491,
          -0.09698948028618547
         ],
         "xaxis": "x6",
         "y": [
          0.031028229724216774,
          0.03349262475100697
         ],
         "yaxis": "y6"
        },
        {
         "line": {
          "color": "black",
          "width": 0.07
         },
         "mode": "lines",
         "showlegend": false,
         "type": "scatter",
         "x": [
          -0.10476287411440682,
          -0.0829915000727864
         ],
         "xaxis": "x6",
         "y": [
          0.025317709321753777,
          0.03092475619422418
         ],
         "yaxis": "y6"
        },
        {
         "line": {
          "color": "black",
          "width": 0.07
         },
         "mode": "lines",
         "showlegend": false,
         "type": "scatter",
         "x": [
          -0.01227218794927907,
          -0.004175300439057163
         ],
         "xaxis": "x6",
         "y": [
          -0.026307023088888954,
          -0.020411814995146813
         ],
         "yaxis": "y6"
        },
        {
         "line": {
          "color": "black",
          "width": 0.07
         },
         "mode": "lines",
         "showlegend": false,
         "type": "scatter",
         "x": [
          -0.008977743217188177,
          0.0038726402986970243
         ],
         "xaxis": "x6",
         "y": [
          -0.027893952797736068,
          -0.018088249693066556
         ],
         "yaxis": "y6"
        },
        {
         "line": {
          "color": "black",
          "width": 0.07
         },
         "mode": "lines",
         "showlegend": false,
         "type": "scatter",
         "x": [
          -0.017542606740276676,
          -0.0010586091325184652
         ],
         "xaxis": "x6",
         "y": [
          -0.029073637771210654,
          -0.020031947219046584
         ],
         "yaxis": "y6"
        },
        {
         "line": {
          "color": "black",
          "width": 0.07
         },
         "mode": "lines",
         "showlegend": false,
         "type": "scatter",
         "x": [
          0.017427416464482526,
          0.03154962456008486
         ],
         "xaxis": "x6",
         "y": [
          -0.03314681762095793,
          -0.020945261030264065
         ],
         "yaxis": "y6"
        },
        {
         "line": {
          "color": "black",
          "width": 0.07
         },
         "mode": "lines",
         "showlegend": false,
         "type": "scatter",
         "x": [
          0.01886715350532251,
          0.02839640767977705
         ],
         "xaxis": "x6",
         "y": [
          -0.03281971283514104,
          -0.023176601973076756
         ],
         "yaxis": "y6"
        },
        {
         "line": {
          "color": "black",
          "width": 0.07
         },
         "mode": "lines",
         "showlegend": false,
         "type": "scatter",
         "x": [
          0.017749972701329438,
          0.033529143788322426
         ],
         "xaxis": "x6",
         "y": [
          -0.03499033178217906,
          -0.022779343381367972
         ],
         "yaxis": "y6"
        },
        {
         "line": {
          "color": "black",
          "width": 0.07
         },
         "mode": "lines",
         "showlegend": false,
         "type": "scatter",
         "x": [
          -0.08851141388777191,
          -0.08376057176310188
         ],
         "xaxis": "x6",
         "y": [
          0.028467548062375503,
          0.030494150548557825
         ],
         "yaxis": "y6"
        },
        {
         "line": {
          "color": "black",
          "width": 0.07
         },
         "mode": "lines",
         "showlegend": false,
         "type": "scatter",
         "x": [
          -0.10358530317186718,
          -0.0851876108026107
         ],
         "xaxis": "x6",
         "y": [
          0.029646406823027393,
          0.035828678501253354
         ],
         "yaxis": "y6"
        },
        {
         "line": {
          "color": "black",
          "width": 0.07
         },
         "mode": "lines",
         "showlegend": false,
         "type": "scatter",
         "x": [
          -0.12156635729225969,
          -0.09762448032861992
         ],
         "xaxis": "x6",
         "y": [
          0.03161392424442266,
          0.03824125664139768
         ],
         "yaxis": "y6"
        },
        {
         "line": {
          "color": "black",
          "width": 0.07
         },
         "mode": "lines",
         "showlegend": false,
         "type": "scatter",
         "x": [
          -0.083260546883627,
          -0.07409391872461399
         ],
         "xaxis": "x6",
         "y": [
          0.021668928675068446,
          0.028200474431192293
         ],
         "yaxis": "y6"
        },
        {
         "line": {
          "color": "black",
          "width": 0.07
         },
         "mode": "lines",
         "showlegend": false,
         "type": "scatter",
         "x": [
          -0.07968407568270368,
          -0.06894125395000088
         ],
         "xaxis": "x6",
         "y": [
          0.020312391217050828,
          0.026803672007278588
         ],
         "yaxis": "y6"
        },
        {
         "line": {
          "color": "black",
          "width": 0.07
         },
         "mode": "lines",
         "showlegend": false,
         "type": "scatter",
         "x": [
          -0.09971622635188251,
          -0.07248856171439996
         ],
         "xaxis": "x6",
         "y": [
          0.02083004246103998,
          0.028261070840384764
         ],
         "yaxis": "y6"
        },
        {
         "line": {
          "color": "black",
          "width": 0.07
         },
         "mode": "lines",
         "showlegend": false,
         "type": "scatter",
         "x": [
          -0.11271557710775877,
          -0.08299169125829556
         ],
         "xaxis": "x6",
         "y": [
          0.03417673006379018,
          0.03697402632877151
         ],
         "yaxis": "y6"
        },
        {
         "line": {
          "color": "black",
          "width": 0.07
         },
         "mode": "lines",
         "showlegend": false,
         "type": "scatter",
         "x": [
          -0.12020514866092191,
          -0.08543994326672434
         ],
         "xaxis": "x6",
         "y": [
          0.032283117708760044,
          0.03458720808667086
         ],
         "yaxis": "y6"
        },
        {
         "line": {
          "color": "black",
          "width": 0.07
         },
         "mode": "lines",
         "showlegend": false,
         "type": "scatter",
         "x": [
          -0.10011200662063985,
          -0.08664987609740094
         ],
         "xaxis": "x6",
         "y": [
          0.030458933419980027,
          0.034678461727717345
         ],
         "yaxis": "y6"
        },
        {
         "line": {
          "color": "black",
          "width": 0.07
         },
         "mode": "lines",
         "showlegend": false,
         "type": "scatter",
         "x": [
          -0.09838520849446437,
          0.0897245573267903
         ],
         "xaxis": "x7",
         "y": [
          -0.07946806094297945,
          -0.07207369931445824
         ],
         "yaxis": "y7"
        },
        {
         "line": {
          "color": "black",
          "width": 0.07
         },
         "mode": "lines",
         "showlegend": false,
         "type": "scatter",
         "x": [
          -0.09518271776915611,
          0.09221940011401655
         ],
         "xaxis": "x7",
         "y": [
          -0.08481930716196275,
          -0.0712610104865477
         ],
         "yaxis": "y7"
        },
        {
         "line": {
          "color": "black",
          "width": 0.07
         },
         "mode": "lines",
         "showlegend": false,
         "type": "scatter",
         "x": [
          -0.102250359571128,
          0.09071030317183881
         ],
         "xaxis": "x7",
         "y": [
          -0.08035680124586352,
          -0.07064124251265845
         ],
         "yaxis": "y7"
        },
        {
         "line": {
          "color": "black",
          "width": 0.07
         },
         "mode": "lines",
         "showlegend": false,
         "type": "scatter",
         "x": [
          -0.10916443992981234,
          0.10300025155879851
         ],
         "xaxis": "x7",
         "y": [
          -0.06381124718144082,
          -0.057526411019749125
         ],
         "yaxis": "y7"
        },
        {
         "line": {
          "color": "black",
          "width": 0.07
         },
         "mode": "lines",
         "showlegend": false,
         "type": "scatter",
         "x": [
          -0.1286919531749978,
          0.09777080732387533
         ],
         "xaxis": "x7",
         "y": [
          -0.06473546812094408,
          -0.06006640385368869
         ],
         "yaxis": "y7"
        },
        {
         "line": {
          "color": "black",
          "width": 0.07
         },
         "mode": "lines",
         "showlegend": false,
         "type": "scatter",
         "x": [
          -0.11867920954500319,
          0.10289847383981628
         ],
         "xaxis": "x7",
         "y": [
          -0.06795552754165603,
          -0.05615807913280637
         ],
         "yaxis": "y7"
        },
        {
         "line": {
          "color": "black",
          "width": 0.07
         },
         "mode": "lines",
         "showlegend": false,
         "type": "scatter",
         "x": [
          -0.10991394449698426,
          0.10689916702066578
         ],
         "xaxis": "x7",
         "y": [
          -0.04691630591209506,
          -0.03138094214909048
         ],
         "yaxis": "y7"
        },
        {
         "line": {
          "color": "black",
          "width": 0.07
         },
         "mode": "lines",
         "showlegend": false,
         "type": "scatter",
         "x": [
          -0.10821388683684108,
          0.11004769563739276
         ],
         "xaxis": "x7",
         "y": [
          -0.04880466703472706,
          -0.034593082389550424
         ],
         "yaxis": "y7"
        },
        {
         "line": {
          "color": "black",
          "width": 0.07
         },
         "mode": "lines",
         "showlegend": false,
         "type": "scatter",
         "x": [
          -0.11121487589215519,
          0.1132850280611925
         ],
         "xaxis": "x7",
         "y": [
          -0.043755126361880184,
          -0.032826198460468164
         ],
         "yaxis": "y7"
        },
        {
         "line": {
          "color": "black",
          "width": 0.07
         },
         "mode": "lines",
         "showlegend": false,
         "type": "scatter",
         "x": [
          -0.10798080842967775,
          0.1081341583711366
         ],
         "xaxis": "x7",
         "y": [
          -0.044961780360157785,
          -0.02878516633946905
         ],
         "yaxis": "y7"
        },
        {
         "line": {
          "color": "black",
          "width": 0.07
         },
         "mode": "lines",
         "showlegend": false,
         "type": "scatter",
         "x": [
          -0.10704033835769909,
          0.10366125618628604
         ],
         "xaxis": "x7",
         "y": [
          -0.04001525563355587,
          -0.03452052074051589
         ],
         "yaxis": "y7"
        },
        {
         "line": {
          "color": "black",
          "width": 0.07
         },
         "mode": "lines",
         "showlegend": false,
         "type": "scatter",
         "x": [
          -0.10191839853181638,
          0.11697637428993841
         ],
         "xaxis": "x7",
         "y": [
          -0.0398189743510432,
          -0.02782050208320554
         ],
         "yaxis": "y7"
        },
        {
         "line": {
          "color": "black",
          "width": 0.07
         },
         "mode": "lines",
         "showlegend": false,
         "type": "scatter",
         "x": [
          -0.10350608915975586,
          0.11422243648448835
         ],
         "xaxis": "x7",
         "y": [
          -0.047188768698198026,
          -0.029842104428603196
         ],
         "yaxis": "y7"
        },
        {
         "line": {
          "color": "black",
          "width": 0.07
         },
         "mode": "lines",
         "showlegend": false,
         "type": "scatter",
         "x": [
          -0.10607275304623343,
          0.10431278459759155
         ],
         "xaxis": "x7",
         "y": [
          -0.043742577638005015,
          -0.03427357822708249
         ],
         "yaxis": "y7"
        },
        {
         "line": {
          "color": "black",
          "width": 0.07
         },
         "mode": "lines",
         "showlegend": false,
         "type": "scatter",
         "x": [
          -0.10915912044738829,
          0.10727604818481472
         ],
         "xaxis": "x7",
         "y": [
          -0.046411596995695574,
          -0.034940370767965245
         ],
         "yaxis": "y7"
        },
        {
         "line": {
          "color": "black",
          "width": 0.07
         },
         "mode": "lines",
         "showlegend": false,
         "type": "scatter",
         "x": [
          -0.104311794024938,
          0.11052663689925098
         ],
         "xaxis": "x7",
         "y": [
          -0.04811192466806864,
          -0.02888261014877813
         ],
         "yaxis": "y7"
        },
        {
         "line": {
          "color": "black",
          "width": 0.07
         },
         "mode": "lines",
         "showlegend": false,
         "type": "scatter",
         "x": [
          -0.10374437488663847,
          0.1102344712745564
         ],
         "xaxis": "x7",
         "y": [
          -0.05705081756907018,
          -0.029048147018855285
         ],
         "yaxis": "y7"
        },
        {
         "line": {
          "color": "black",
          "width": 0.07
         },
         "mode": "lines",
         "showlegend": false,
         "type": "scatter",
         "x": [
          -0.10176247549527176,
          0.10452745194050882
         ],
         "xaxis": "x7",
         "y": [
          -0.04364220936212893,
          -0.03127298016223849
         ],
         "yaxis": "y7"
        },
        {
         "line": {
          "color": "black",
          "width": 0.07
         },
         "mode": "lines",
         "showlegend": false,
         "type": "scatter",
         "x": [
          -0.1071451079091116,
          0.10780652362729554
         ],
         "xaxis": "x7",
         "y": [
          -0.03298733486382606,
          -0.022644121873052904
         ],
         "yaxis": "y7"
        },
        {
         "line": {
          "color": "black",
          "width": 0.07
         },
         "mode": "lines",
         "showlegend": false,
         "type": "scatter",
         "x": [
          -0.10979673381686768,
          0.11922276995466205
         ],
         "xaxis": "x7",
         "y": [
          -0.03524561334089816,
          -0.016436514762201593
         ],
         "yaxis": "y7"
        },
        {
         "line": {
          "color": "black",
          "width": 0.07
         },
         "mode": "lines",
         "showlegend": false,
         "type": "scatter",
         "x": [
          -0.10974337546916321,
          0.11719338983741417
         ],
         "xaxis": "x7",
         "y": [
          -0.04151913451979395,
          -0.02138143271517074
         ],
         "yaxis": "y7"
        },
        {
         "line": {
          "color": "black",
          "width": 0.07
         },
         "mode": "lines",
         "showlegend": false,
         "type": "scatter",
         "x": [
          -0.10849158822363268,
          0.11070695038496722
         ],
         "xaxis": "x7",
         "y": [
          -0.051311813839438905,
          -0.03287425828428249
         ],
         "yaxis": "y7"
        },
        {
         "line": {
          "color": "black",
          "width": 0.07
         },
         "mode": "lines",
         "showlegend": false,
         "type": "scatter",
         "x": [
          -0.09720804142466226,
          0.10430734928588802
         ],
         "xaxis": "x7",
         "y": [
          -0.04953355753723693,
          -0.037199588098917866
         ],
         "yaxis": "y7"
        },
        {
         "line": {
          "color": "black",
          "width": 0.07
         },
         "mode": "lines",
         "showlegend": false,
         "type": "scatter",
         "x": [
          -0.10911195975991045,
          0.10536403231949666
         ],
         "xaxis": "x7",
         "y": [
          -0.05017747299611936,
          -0.039335485010582726
         ],
         "yaxis": "y7"
        },
        {
         "line": {
          "color": "black",
          "width": 0.07
         },
         "mode": "lines",
         "showlegend": false,
         "type": "scatter",
         "x": [
          -0.09817169369378406,
          0.09831095035697338
         ],
         "xaxis": "x7",
         "y": [
          -0.08264788853302163,
          -0.06856217787240346
         ],
         "yaxis": "y7"
        },
        {
         "line": {
          "color": "black",
          "width": 0.07
         },
         "mode": "lines",
         "showlegend": false,
         "type": "scatter",
         "x": [
          -0.09916128700004298,
          0.09224303906101142
         ],
         "xaxis": "x7",
         "y": [
          -0.08302432544400351,
          -0.067744150682305
         ],
         "yaxis": "y7"
        },
        {
         "line": {
          "color": "black",
          "width": 0.07
         },
         "mode": "lines",
         "showlegend": false,
         "type": "scatter",
         "x": [
          -0.09679785395993121,
          0.09130400888025374
         ],
         "xaxis": "x7",
         "y": [
          -0.07887609792936706,
          -0.07227423235652067
         ],
         "yaxis": "y7"
        },
        {
         "line": {
          "color": "black",
          "width": 0.07
         },
         "mode": "lines",
         "showlegend": false,
         "type": "scatter",
         "x": [
          -0.1145258461895595,
          0.1042691003591101
         ],
         "xaxis": "x7",
         "y": [
          -0.07177299207243248,
          -0.06741454832241427
         ],
         "yaxis": "y7"
        },
        {
         "line": {
          "color": "black",
          "width": 0.07
         },
         "mode": "lines",
         "showlegend": false,
         "type": "scatter",
         "x": [
          -0.11575584949462017,
          0.10395143530846564
         ],
         "xaxis": "x7",
         "y": [
          -0.07009549371305822,
          -0.05943634052706474
         ],
         "yaxis": "y7"
        },
        {
         "line": {
          "color": "black",
          "width": 0.07
         },
         "mode": "lines",
         "showlegend": false,
         "type": "scatter",
         "x": [
          -0.11151945239215147,
          0.10961278595717276
         ],
         "xaxis": "x7",
         "y": [
          -0.07302728583192082,
          -0.06022404407911259
         ],
         "yaxis": "y7"
        },
        {
         "line": {
          "color": "black",
          "width": 0.07
         },
         "mode": "lines",
         "showlegend": false,
         "type": "scatter",
         "x": [
          -0.11009002058281488,
          0.10759573447314694
         ],
         "xaxis": "x7",
         "y": [
          -0.05282378468086875,
          -0.035768611141671694
         ],
         "yaxis": "y7"
        },
        {
         "line": {
          "color": "black",
          "width": 0.07
         },
         "mode": "lines",
         "showlegend": false,
         "type": "scatter",
         "x": [
          -0.10811571471253174,
          0.11064111250654446
         ],
         "xaxis": "x7",
         "y": [
          -0.05098609454117103,
          -0.03823368338052699
         ],
         "yaxis": "y7"
        },
        {
         "line": {
          "color": "black",
          "width": 0.07
         },
         "mode": "lines",
         "showlegend": false,
         "type": "scatter",
         "x": [
          -0.10321606183650471,
          0.10285795886547958
         ],
         "xaxis": "x7",
         "y": [
          -0.058267468827614695,
          -0.040529541601942845
         ],
         "yaxis": "y7"
        },
        {
         "line": {
          "color": "black",
          "width": 0.07
         },
         "mode": "lines",
         "showlegend": false,
         "type": "scatter",
         "x": [
          -0.10653089838967288,
          0.12593638500059703
         ],
         "xaxis": "x7",
         "y": [
          0.005623638677115087,
          0.015566503805250032
         ],
         "yaxis": "y7"
        },
        {
         "line": {
          "color": "black",
          "width": 0.07
         },
         "mode": "lines",
         "showlegend": false,
         "type": "scatter",
         "x": [
          -0.10467903803136681,
          0.12498814379691546
         ],
         "xaxis": "x7",
         "y": [
          0.00509593709016973,
          0.018845594189608267
         ],
         "yaxis": "y7"
        },
        {
         "line": {
          "color": "black",
          "width": 0.07
         },
         "mode": "lines",
         "showlegend": false,
         "type": "scatter",
         "x": [
          -0.10227554410050371,
          0.12382549330421093
         ],
         "xaxis": "x7",
         "y": [
          -0.0020791344628994053,
          0.016422100854478303
         ],
         "yaxis": "y7"
        },
        {
         "line": {
          "color": "black",
          "width": 0.07
         },
         "mode": "lines",
         "showlegend": false,
         "type": "scatter",
         "x": [
          -0.11193927426578315,
          0.11434613398854747
         ],
         "xaxis": "x7",
         "y": [
          0.004028275736325792,
          -0.01544552620886796
         ],
         "yaxis": "y7"
        },
        {
         "line": {
          "color": "black",
          "width": 0.07
         },
         "mode": "lines",
         "showlegend": false,
         "type": "scatter",
         "x": [
          -0.10830171825220106,
          0.11730236576440586
         ],
         "xaxis": "x7",
         "y": [
          -0.037094938250226396,
          -0.01489132829679593
         ],
         "yaxis": "y7"
        },
        {
         "line": {
          "color": "black",
          "width": 0.07
         },
         "mode": "lines",
         "showlegend": false,
         "type": "scatter",
         "x": [
          -0.109315959392667,
          0.11114229368690481
         ],
         "xaxis": "x7",
         "y": [
          -0.03150823889812488,
          -0.02191017709748007
         ],
         "yaxis": "y7"
        },
        {
         "line": {
          "color": "black",
          "width": 0.07
         },
         "mode": "lines",
         "showlegend": false,
         "type": "scatter",
         "x": [
          -0.09673274660316844,
          0.09885694876294131
         ],
         "xaxis": "x7",
         "y": [
          -0.056296998575553245,
          -0.036968321234251235
         ],
         "yaxis": "y7"
        },
        {
         "line": {
          "color": "black",
          "width": 0.07
         },
         "mode": "lines",
         "showlegend": false,
         "type": "scatter",
         "x": [
          -0.10037716078746631,
          0.1057879891651907
         ],
         "xaxis": "x7",
         "y": [
          -0.05695924607393449,
          -0.04075929770555999
         ],
         "yaxis": "y7"
        },
        {
         "line": {
          "color": "black",
          "width": 0.07
         },
         "mode": "lines",
         "showlegend": false,
         "type": "scatter",
         "x": [
          -0.10464318706668994,
          0.10414346706700757
         ],
         "xaxis": "x7",
         "y": [
          -0.057548662077004195,
          -0.04199803012759717
         ],
         "yaxis": "y7"
        },
        {
         "line": {
          "color": "black",
          "width": 0.07
         },
         "mode": "lines",
         "showlegend": false,
         "type": "scatter",
         "x": [
          -0.10003623835334749,
          0.10323405166288042
         ],
         "xaxis": "x7",
         "y": [
          -0.03775767728680128,
          -0.02304471633909713
         ],
         "yaxis": "y7"
        },
        {
         "line": {
          "color": "black",
          "width": 0.07
         },
         "mode": "lines",
         "showlegend": false,
         "type": "scatter",
         "x": [
          -0.1023894766840575,
          0.11313189578287255
         ],
         "xaxis": "x7",
         "y": [
          -0.033006415234454085,
          -0.027438706268353315
         ],
         "yaxis": "y7"
        },
        {
         "line": {
          "color": "black",
          "width": 0.07
         },
         "mode": "lines",
         "showlegend": false,
         "type": "scatter",
         "x": [
          -0.10346150127403554,
          0.10634194928841359
         ],
         "xaxis": "x7",
         "y": [
          -0.03323703136693559,
          -0.024316361187975918
         ],
         "yaxis": "y7"
        },
        {
         "line": {
          "color": "black",
          "width": 0.07
         },
         "mode": "lines",
         "showlegend": false,
         "type": "scatter",
         "x": [
          -0.11296126303159607,
          0.09936564050356658
         ],
         "xaxis": "x7",
         "y": [
          -0.07795982510333592,
          -0.07058948824062186
         ],
         "yaxis": "y7"
        },
        {
         "line": {
          "color": "black",
          "width": 0.07
         },
         "mode": "lines",
         "showlegend": false,
         "type": "scatter",
         "x": [
          -0.10178957481920725,
          0.09382062299508953
         ],
         "xaxis": "x7",
         "y": [
          -0.0769391761828957,
          -0.06672806482969405
         ],
         "yaxis": "y7"
        },
        {
         "line": {
          "color": "black",
          "width": 0.07
         },
         "mode": "lines",
         "showlegend": false,
         "type": "scatter",
         "x": [
          -0.1029291102572105,
          0.10093716589295085
         ],
         "xaxis": "x7",
         "y": [
          -0.0707624333890616,
          -0.06633275489958622
         ],
         "yaxis": "y7"
        },
        {
         "line": {
          "color": "black",
          "width": 0.07
         },
         "mode": "lines",
         "showlegend": false,
         "type": "scatter",
         "x": [
          -0.10418953373561958,
          0.09444390790563569
         ],
         "xaxis": "x7",
         "y": [
          -0.0855415425844433,
          -0.06637374883779279
         ],
         "yaxis": "y7"
        },
        {
         "line": {
          "color": "black",
          "width": 0.07
         },
         "mode": "lines",
         "showlegend": false,
         "type": "scatter",
         "x": [
          -0.0965688884961285,
          0.09374719431903376
         ],
         "xaxis": "x7",
         "y": [
          -0.08256106188365238,
          -0.06789743412162492
         ],
         "yaxis": "y7"
        },
        {
         "line": {
          "color": "black",
          "width": 0.07
         },
         "mode": "lines",
         "showlegend": false,
         "type": "scatter",
         "x": [
          -0.10103184148286823,
          0.10436678454318919
         ],
         "xaxis": "x7",
         "y": [
          -0.07825963081834054,
          -0.06981408194510176
         ],
         "yaxis": "y7"
        },
        {
         "line": {
          "color": "black",
          "width": 0.07
         },
         "mode": "lines",
         "showlegend": false,
         "type": "scatter",
         "x": [
          -0.09157149995995426,
          0.11462016949440601
         ],
         "xaxis": "x7",
         "y": [
          -0.012839529253320471,
          -0.00044489870877538094
         ],
         "yaxis": "y7"
        },
        {
         "line": {
          "color": "black",
          "width": 0.07
         },
         "mode": "lines",
         "showlegend": false,
         "type": "scatter",
         "x": [
          -0.0963998787868326,
          0.11732925808274773
         ],
         "xaxis": "x7",
         "y": [
          -0.006220452788961149,
          0.001387393928661207
         ],
         "yaxis": "y7"
        },
        {
         "line": {
          "color": "black",
          "width": 0.07
         },
         "mode": "lines",
         "showlegend": false,
         "type": "scatter",
         "x": [
          -0.09913223778900622,
          0.11635070995032235
         ],
         "xaxis": "x7",
         "y": [
          -0.008598922917939142,
          -0.0028182669106024028
         ],
         "yaxis": "y7"
        },
        {
         "line": {
          "color": "black",
          "width": 0.07
         },
         "mode": "lines",
         "showlegend": false,
         "type": "scatter",
         "x": [
          -0.13012060013883062,
          0.09338949213462779
         ],
         "xaxis": "x7",
         "y": [
          0.14017598562952338,
          0.13023583728361418
         ],
         "yaxis": "y7"
        },
        {
         "line": {
          "color": "black",
          "width": 0.07
         },
         "mode": "lines",
         "showlegend": false,
         "type": "scatter",
         "x": [
          -0.14524877622058202,
          0.10861844498166924
         ],
         "xaxis": "x7",
         "y": [
          0.14732644096619332,
          0.13833783398999283
         ],
         "yaxis": "y7"
        },
        {
         "line": {
          "color": "black",
          "width": 0.07
         },
         "mode": "lines",
         "showlegend": false,
         "type": "scatter",
         "x": [
          -0.15467383619757213,
          0.10655710598231112
         ],
         "xaxis": "x7",
         "y": [
          0.1684814008568747,
          0.15134721643417037
         ],
         "yaxis": "y7"
        },
        {
         "line": {
          "color": "black",
          "width": 0.07
         },
         "mode": "lines",
         "showlegend": false,
         "type": "scatter",
         "x": [
          -0.09763251061519361,
          0.1198513183267526
         ],
         "xaxis": "x7",
         "y": [
          -0.022119233308295162,
          -0.010270488996834823
         ],
         "yaxis": "y7"
        },
        {
         "line": {
          "color": "black",
          "width": 0.07
         },
         "mode": "lines",
         "showlegend": false,
         "type": "scatter",
         "x": [
          -0.0910679454354085,
          0.11384235871805617
         ],
         "xaxis": "x7",
         "y": [
          -0.01650230907359059,
          -0.010037367927865547
         ],
         "yaxis": "y7"
        },
        {
         "line": {
          "color": "black",
          "width": 0.07
         },
         "mode": "lines",
         "showlegend": false,
         "type": "scatter",
         "x": [
          -0.08986980074933346,
          0.11694660931247747
         ],
         "xaxis": "x7",
         "y": [
          -0.017056749857069158,
          -0.010277917376485882
         ],
         "yaxis": "y7"
        },
        {
         "line": {
          "color": "black",
          "width": 0.07
         },
         "mode": "lines",
         "showlegend": false,
         "type": "scatter",
         "x": [
          -0.09470343421802871,
          0.09923113886787817
         ],
         "xaxis": "x7",
         "y": [
          -0.044727414118926216,
          -0.026825407989709612
         ],
         "yaxis": "y7"
        },
        {
         "line": {
          "color": "black",
          "width": 0.07
         },
         "mode": "lines",
         "showlegend": false,
         "type": "scatter",
         "x": [
          -0.09874459055777186,
          0.10400805066056025
         ],
         "xaxis": "x7",
         "y": [
          -0.03403782763420237,
          -0.03331478061693937
         ],
         "yaxis": "y7"
        },
        {
         "line": {
          "color": "black",
          "width": 0.07
         },
         "mode": "lines",
         "showlegend": false,
         "type": "scatter",
         "x": [
          -0.09200027374352082,
          0.10503498172372239
         ],
         "xaxis": "x7",
         "y": [
          -0.040075219836218146,
          -0.028776039846372642
         ],
         "yaxis": "y7"
        },
        {
         "line": {
          "color": "black",
          "width": 0.07
         },
         "mode": "lines",
         "showlegend": false,
         "type": "scatter",
         "x": [
          -0.14581574752979115,
          0.14461845608825546
         ],
         "xaxis": "x7",
         "y": [
          0.24205185189666029,
          0.20372435684904716
         ],
         "yaxis": "y7"
        },
        {
         "line": {
          "color": "black",
          "width": 0.07
         },
         "mode": "lines",
         "showlegend": false,
         "type": "scatter",
         "x": [
          -0.1447306905577705,
          0.1414572285245353
         ],
         "xaxis": "x7",
         "y": [
          0.2280641751122,
          0.21303832780963422
         ],
         "yaxis": "y7"
        },
        {
         "line": {
          "color": "black",
          "width": 0.07
         },
         "mode": "lines",
         "showlegend": false,
         "type": "scatter",
         "x": [
          -0.1545733445857867,
          0.1450383091451328
         ],
         "xaxis": "x7",
         "y": [
          0.22465340934933878,
          0.18349512322637998
         ],
         "yaxis": "y7"
        },
        {
         "line": {
          "color": "black",
          "width": 0.07
         },
         "mode": "lines",
         "showlegend": false,
         "type": "scatter",
         "x": [
          -0.08928749979302346,
          0.11171447763076525
         ],
         "xaxis": "x7",
         "y": [
          -0.05040257833742679,
          -0.03771427233706684
         ],
         "yaxis": "y7"
        },
        {
         "line": {
          "color": "black",
          "width": 0.07
         },
         "mode": "lines",
         "showlegend": false,
         "type": "scatter",
         "x": [
          -0.09209437803548216,
          0.10312403006317851
         ],
         "xaxis": "x7",
         "y": [
          -0.04611320628127367,
          -0.042284729377810776
         ],
         "yaxis": "y7"
        },
        {
         "line": {
          "color": "black",
          "width": 0.07
         },
         "mode": "lines",
         "showlegend": false,
         "type": "scatter",
         "x": [
          -0.09149844383275435,
          0.10857525739855103
         ],
         "xaxis": "x7",
         "y": [
          -0.05628897658529984,
          -0.04128806544335082
         ],
         "yaxis": "y7"
        },
        {
         "line": {
          "color": "black",
          "width": 0.07
         },
         "mode": "lines",
         "showlegend": false,
         "type": "scatter",
         "x": [
          -0.10178225764448244,
          0.09402706150933814
         ],
         "xaxis": "x7",
         "y": [
          -0.08610383579084414,
          -0.07453525445491259
         ],
         "yaxis": "y7"
        },
        {
         "line": {
          "color": "black",
          "width": 0.07
         },
         "mode": "lines",
         "showlegend": false,
         "type": "scatter",
         "x": [
          -0.10000133149254165,
          0.08930458811831507
         ],
         "xaxis": "x7",
         "y": [
          -0.08254322222536432,
          -0.07536306357313995
         ],
         "yaxis": "y7"
        },
        {
         "line": {
          "color": "black",
          "width": 0.07
         },
         "mode": "lines",
         "showlegend": false,
         "type": "scatter",
         "x": [
          -0.09984120710472769,
          0.09264290395341536
         ],
         "xaxis": "x7",
         "y": [
          -0.08495918211117293,
          -0.07141052008150042
         ],
         "yaxis": "y7"
        },
        {
         "line": {
          "color": "black",
          "width": 0.07
         },
         "mode": "lines",
         "showlegend": false,
         "type": "scatter",
         "x": [
          -0.1373663972086005,
          0.13712082618015384
         ],
         "xaxis": "x7",
         "y": [
          0.2150135800047636,
          0.18134072265278586
         ],
         "yaxis": "y7"
        },
        {
         "line": {
          "color": "black",
          "width": 0.07
         },
         "mode": "lines",
         "showlegend": false,
         "type": "scatter",
         "x": [
          -0.14356613899957463,
          0.13355004440837415
         ],
         "xaxis": "x7",
         "y": [
          0.21719022772991106,
          0.19712075332631032
         ],
         "yaxis": "y7"
        },
        {
         "line": {
          "color": "black",
          "width": 0.07
         },
         "mode": "lines",
         "showlegend": false,
         "type": "scatter",
         "x": [
          -0.1565086906344671,
          0.14974079779663316
         ],
         "xaxis": "x7",
         "y": [
          0.2328467364148864,
          0.20933796491950674
         ],
         "yaxis": "y7"
        },
        {
         "line": {
          "color": "black",
          "width": 0.07
         },
         "mode": "lines",
         "showlegend": false,
         "type": "scatter",
         "x": [
          -0.14479587633421862,
          0.12673070954764848
         ],
         "xaxis": "x7",
         "y": [
          0.20650158884238773,
          0.1789440797537937
         ],
         "yaxis": "y7"
        },
        {
         "line": {
          "color": "black",
          "width": 0.07
         },
         "mode": "lines",
         "showlegend": false,
         "type": "scatter",
         "x": [
          -0.14710239975430559,
          0.13417276974447703
         ],
         "xaxis": "x7",
         "y": [
          0.19983915273579286,
          0.1794984934622946
         ],
         "yaxis": "y7"
        },
        {
         "line": {
          "color": "black",
          "width": 0.07
         },
         "mode": "lines",
         "showlegend": false,
         "type": "scatter",
         "x": [
          -0.15073375544555492,
          0.14267773965985714
         ],
         "xaxis": "x7",
         "y": [
          0.1996006883322369,
          0.18077568299941169
         ],
         "yaxis": "y7"
        },
        {
         "line": {
          "color": "black",
          "width": 0.07
         },
         "mode": "lines",
         "showlegend": false,
         "type": "scatter",
         "x": [
          -0.12752755779527036,
          0.11973072182103502
         ],
         "xaxis": "x7",
         "y": [
          0.21891900910102807,
          0.1867078759462276
         ],
         "yaxis": "y7"
        },
        {
         "line": {
          "color": "black",
          "width": 0.07
         },
         "mode": "lines",
         "showlegend": false,
         "type": "scatter",
         "x": [
          -0.13708294594261344,
          0.12069773125139859
         ],
         "xaxis": "x7",
         "y": [
          0.23154249710613484,
          0.19036532442883758
         ],
         "yaxis": "y7"
        },
        {
         "line": {
          "color": "black",
          "width": 0.07
         },
         "mode": "lines",
         "showlegend": false,
         "type": "scatter",
         "x": [
          -0.1144662973432272,
          0.13790046605727838
         ],
         "xaxis": "x7",
         "y": [
          0.22367007557864968,
          0.17868848166328435
         ],
         "yaxis": "y7"
        },
        {
         "line": {
          "color": "black",
          "width": 0.07
         },
         "mode": "lines",
         "showlegend": false,
         "type": "scatter",
         "x": [
          0.03703967496019866,
          0.0631725093463666
         ],
         "xaxis": "x8",
         "y": [
          -0.06999776970935584,
          -0.018575827474680916
         ],
         "yaxis": "y8"
        },
        {
         "line": {
          "color": "black",
          "width": 0.07
         },
         "mode": "lines",
         "showlegend": false,
         "type": "scatter",
         "x": [
          0.05097268583130893,
          0.06790636921797163
         ],
         "xaxis": "x8",
         "y": [
          -0.05010694419524182,
          -0.01379527126411768
         ],
         "yaxis": "y8"
        },
        {
         "line": {
          "color": "black",
          "width": 0.07
         },
         "mode": "lines",
         "showlegend": false,
         "type": "scatter",
         "x": [
          0.04067146406398972,
          0.06188927789325515
         ],
         "xaxis": "x8",
         "y": [
          -0.05581687529163346,
          -0.018684659744301467
         ],
         "yaxis": "y8"
        },
        {
         "line": {
          "color": "black",
          "width": 0.07
         },
         "mode": "lines",
         "showlegend": false,
         "type": "scatter",
         "x": [
          0.008836938052105057,
          0.036859074538503706
         ],
         "xaxis": "x8",
         "y": [
          -0.08590986870226236,
          -0.03547043726350793
         ],
         "yaxis": "y8"
        },
        {
         "line": {
          "color": "black",
          "width": 0.07
         },
         "mode": "lines",
         "showlegend": false,
         "type": "scatter",
         "x": [
          0.011077572958990941,
          0.05213402734023536
         ],
         "xaxis": "x8",
         "y": [
          -0.07616071305003848,
          -0.028502653414823727
         ],
         "yaxis": "y8"
        },
        {
         "line": {
          "color": "black",
          "width": 0.07
         },
         "mode": "lines",
         "showlegend": false,
         "type": "scatter",
         "x": [
          0.022178208332778348,
          0.05527928418395386
         ],
         "xaxis": "x8",
         "y": [
          -0.06419821917414881,
          -0.02031574849853792
         ],
         "yaxis": "y8"
        },
        {
         "line": {
          "color": "black",
          "width": 0.07
         },
         "mode": "lines",
         "showlegend": false,
         "type": "scatter",
         "x": [
          0.05462691669268526,
          0.0701693211320069
         ],
         "xaxis": "x8",
         "y": [
          0.02375655003838537,
          0.0579476634147776
         ],
         "yaxis": "y8"
        },
        {
         "line": {
          "color": "black",
          "width": 0.07
         },
         "mode": "lines",
         "showlegend": false,
         "type": "scatter",
         "x": [
          0.0522211950140628,
          0.06368235150245438
         ],
         "xaxis": "x8",
         "y": [
          0.0195157737440026,
          0.05725147392488523
         ],
         "yaxis": "y8"
        },
        {
         "line": {
          "color": "black",
          "width": 0.07
         },
         "mode": "lines",
         "showlegend": false,
         "type": "scatter",
         "x": [
          0.05131865353424475,
          0.06354964508862503
         ],
         "xaxis": "x8",
         "y": [
          0.019563117983378113,
          0.052861439794414156
         ],
         "yaxis": "y8"
        },
        {
         "line": {
          "color": "black",
          "width": 0.07
         },
         "mode": "lines",
         "showlegend": false,
         "type": "scatter",
         "x": [
          0.05218498107954473,
          0.06878405750242737
         ],
         "xaxis": "x8",
         "y": [
          0.03026152449057089,
          0.0631740466732502
         ],
         "yaxis": "y8"
        },
        {
         "line": {
          "color": "black",
          "width": 0.07
         },
         "mode": "lines",
         "showlegend": false,
         "type": "scatter",
         "x": [
          0.05355965119646652,
          0.07298225933763991
         ],
         "xaxis": "x8",
         "y": [
          0.029923910794032168,
          0.06401536681540818
         ],
         "yaxis": "y8"
        },
        {
         "line": {
          "color": "black",
          "width": 0.07
         },
         "mode": "lines",
         "showlegend": false,
         "type": "scatter",
         "x": [
          0.04938530439834229,
          0.06657691790639973
         ],
         "xaxis": "x8",
         "y": [
          0.02600553752972329,
          0.05883058951522442
         ],
         "yaxis": "y8"
        },
        {
         "line": {
          "color": "black",
          "width": 0.07
         },
         "mode": "lines",
         "showlegend": false,
         "type": "scatter",
         "x": [
          0.05647375245776747,
          0.06329916940129114
         ],
         "xaxis": "x8",
         "y": [
          0.024562142019047096,
          0.055499186207055254
         ],
         "yaxis": "y8"
        },
        {
         "line": {
          "color": "black",
          "width": 0.07
         },
         "mode": "lines",
         "showlegend": false,
         "type": "scatter",
         "x": [
          0.06040448778086555,
          0.06981140693671693
         ],
         "xaxis": "x8",
         "y": [
          0.025804299272607804,
          0.056199474382487506
         ],
         "yaxis": "y8"
        },
        {
         "line": {
          "color": "black",
          "width": 0.07
         },
         "mode": "lines",
         "showlegend": false,
         "type": "scatter",
         "x": [
          0.06130917409626271,
          0.06937812433873147
         ],
         "xaxis": "x8",
         "y": [
          0.029596744079783504,
          0.055828121229836006
         ],
         "yaxis": "y8"
        },
        {
         "line": {
          "color": "black",
          "width": 0.07
         },
         "mode": "lines",
         "showlegend": false,
         "type": "scatter",
         "x": [
          0.05134174226916996,
          0.05300910719568331
         ],
         "xaxis": "x8",
         "y": [
          0.030072732148531015,
          0.051810791513648105
         ],
         "yaxis": "y8"
        },
        {
         "line": {
          "color": "black",
          "width": 0.07
         },
         "mode": "lines",
         "showlegend": false,
         "type": "scatter",
         "x": [
          0.05238564510366533,
          0.05712478787470262
         ],
         "xaxis": "x8",
         "y": [
          0.0274925519403055,
          0.05577483173769057
         ],
         "yaxis": "y8"
        },
        {
         "line": {
          "color": "black",
          "width": 0.07
         },
         "mode": "lines",
         "showlegend": false,
         "type": "scatter",
         "x": [
          0.0491521540796987,
          0.06279329757668785
         ],
         "xaxis": "x8",
         "y": [
          0.028631632933510585,
          0.05493834481125339
         ],
         "yaxis": "y8"
        },
        {
         "line": {
          "color": "black",
          "width": 0.07
         },
         "mode": "lines",
         "showlegend": false,
         "type": "scatter",
         "x": [
          0.03436590211213343,
          0.056951749126364
         ],
         "xaxis": "x8",
         "y": [
          0.00964961104376018,
          0.05972189510429557
         ],
         "yaxis": "y8"
        },
        {
         "line": {
          "color": "black",
          "width": 0.07
         },
         "mode": "lines",
         "showlegend": false,
         "type": "scatter",
         "x": [
          0.034663198849646235,
          0.05469798915391065
         ],
         "xaxis": "x8",
         "y": [
          0.021888185645941464,
          0.06150379167211243
         ],
         "yaxis": "y8"
        },
        {
         "line": {
          "color": "black",
          "width": 0.07
         },
         "mode": "lines",
         "showlegend": false,
         "type": "scatter",
         "x": [
          0.04231487331327393,
          0.05536194337535373
         ],
         "xaxis": "x8",
         "y": [
          0.02523863101351732,
          0.058511232154001044
         ],
         "yaxis": "y8"
        },
        {
         "line": {
          "color": "black",
          "width": 0.07
         },
         "mode": "lines",
         "showlegend": false,
         "type": "scatter",
         "x": [
          0.05588789981185515,
          0.06673905215102231
         ],
         "xaxis": "x8",
         "y": [
          0.016257791209183393,
          0.054977559735850015
         ],
         "yaxis": "y8"
        },
        {
         "line": {
          "color": "black",
          "width": 0.07
         },
         "mode": "lines",
         "showlegend": false,
         "type": "scatter",
         "x": [
          0.05866653354398035,
          0.07190632819473503
         ],
         "xaxis": "x8",
         "y": [
          0.023461479101209156,
          0.05704280960712977
         ],
         "yaxis": "y8"
        },
        {
         "line": {
          "color": "black",
          "width": 0.07
         },
         "mode": "lines",
         "showlegend": false,
         "type": "scatter",
         "x": [
          0.054322841526169965,
          0.06726379866622528
         ],
         "xaxis": "x8",
         "y": [
          0.018403294835925843,
          0.048401581463500896
         ],
         "yaxis": "y8"
        },
        {
         "line": {
          "color": "black",
          "width": 0.07
         },
         "mode": "lines",
         "showlegend": false,
         "type": "scatter",
         "x": [
          0.03818540056579013,
          0.060082812096781416
         ],
         "xaxis": "x8",
         "y": [
          -0.05831890441840156,
          -0.014500473189421872
         ],
         "yaxis": "y8"
        },
        {
         "line": {
          "color": "black",
          "width": 0.07
         },
         "mode": "lines",
         "showlegend": false,
         "type": "scatter",
         "x": [
          0.044598999107767455,
          0.06184734453107199
         ],
         "xaxis": "x8",
         "y": [
          -0.04639690765414984,
          -0.00953726642629619
         ],
         "yaxis": "y8"
        },
        {
         "line": {
          "color": "black",
          "width": 0.07
         },
         "mode": "lines",
         "showlegend": false,
         "type": "scatter",
         "x": [
          0.05161174659705946,
          0.0677558857501144
         ],
         "xaxis": "x8",
         "y": [
          -0.04223163887714879,
          -0.009591029449676134
         ],
         "yaxis": "y8"
        },
        {
         "line": {
          "color": "black",
          "width": 0.07
         },
         "mode": "lines",
         "showlegend": false,
         "type": "scatter",
         "x": [
          0.024917467926727707,
          0.044532290194551266
         ],
         "xaxis": "x8",
         "y": [
          -0.07344591467271769,
          -0.0382257779563646
         ],
         "yaxis": "y8"
        },
        {
         "line": {
          "color": "black",
          "width": 0.07
         },
         "mode": "lines",
         "showlegend": false,
         "type": "scatter",
         "x": [
          0.023074043127895644,
          0.049174443469988116
         ],
         "xaxis": "x8",
         "y": [
          -0.06230814612021523,
          -0.027978875479610043
         ],
         "yaxis": "y8"
        },
        {
         "line": {
          "color": "black",
          "width": 0.07
         },
         "mode": "lines",
         "showlegend": false,
         "type": "scatter",
         "x": [
          0.03315584806360746,
          0.04509039078227881
         ],
         "xaxis": "x8",
         "y": [
          -0.062943847837056,
          -0.02759221417544725
         ],
         "yaxis": "y8"
        },
        {
         "line": {
          "color": "black",
          "width": 0.07
         },
         "mode": "lines",
         "showlegend": false,
         "type": "scatter",
         "x": [
          0.05065229779280389,
          0.06989025822579831
         ],
         "xaxis": "x8",
         "y": [
          0.017393781584204623,
          0.05459205784037602
         ],
         "yaxis": "y8"
        },
        {
         "line": {
          "color": "black",
          "width": 0.07
         },
         "mode": "lines",
         "showlegend": false,
         "type": "scatter",
         "x": [
          0.05020225616112202,
          0.0693317551875548
         ],
         "xaxis": "x8",
         "y": [
          0.016974772508775732,
          0.05215070889042374
         ],
         "yaxis": "y8"
        },
        {
         "line": {
          "color": "black",
          "width": 0.07
         },
         "mode": "lines",
         "showlegend": false,
         "type": "scatter",
         "x": [
          0.054976869812902694,
          0.0704176242129862
         ],
         "xaxis": "x8",
         "y": [
          0.020479499388025155,
          0.05196498317441791
         ],
         "yaxis": "y8"
        },
        {
         "line": {
          "color": "black",
          "width": 0.07
         },
         "mode": "lines",
         "showlegend": false,
         "type": "scatter",
         "x": [
          -0.026092911692961074,
          0.011893839787726524
         ],
         "xaxis": "x8",
         "y": [
          0.0015401207632206918,
          0.0396934691158322
         ],
         "yaxis": "y8"
        },
        {
         "line": {
          "color": "black",
          "width": 0.07
         },
         "mode": "lines",
         "showlegend": false,
         "type": "scatter",
         "x": [
          -0.017861988206215,
          0.010815192546561408
         ],
         "xaxis": "x8",
         "y": [
          0.006065047774634718,
          0.041861582522936036
         ],
         "yaxis": "y8"
        },
        {
         "line": {
          "color": "black",
          "width": 0.07
         },
         "mode": "lines",
         "showlegend": false,
         "type": "scatter",
         "x": [
          0.004563448054357577,
          0.018574878729688184
         ],
         "xaxis": "x8",
         "y": [
          0.01321029633035005,
          0.04462449265318871
         ],
         "yaxis": "y8"
        },
        {
         "line": {
          "color": "black",
          "width": 0.07
         },
         "mode": "lines",
         "showlegend": false,
         "type": "scatter",
         "x": [
          -0.08321437701918948,
          -0.004664521856178859
         ],
         "xaxis": "x8",
         "y": [
          -0.07001587867245851,
          -0.029852165977285405
         ],
         "yaxis": "y8"
        },
        {
         "line": {
          "color": "black",
          "width": 0.07
         },
         "mode": "lines",
         "showlegend": false,
         "type": "scatter",
         "x": [
          -0.029359212630116555,
          -0.010379809839548015
         ],
         "xaxis": "x8",
         "y": [
          -0.070299719813022,
          -0.03468668638414526
         ],
         "yaxis": "y8"
        },
        {
         "line": {
          "color": "black",
          "width": 0.07
         },
         "mode": "lines",
         "showlegend": false,
         "type": "scatter",
         "x": [
          -0.016384743366785897,
          0.01176653357863107
         ],
         "xaxis": "x8",
         "y": [
          -0.07132638164795403,
          -0.030946439066111695
         ],
         "yaxis": "y8"
        },
        {
         "line": {
          "color": "black",
          "width": 0.07
         },
         "mode": "lines",
         "showlegend": false,
         "type": "scatter",
         "x": [
          0.053805103093814886,
          0.06682296079743481
         ],
         "xaxis": "x8",
         "y": [
          0.021813210134092476,
          0.056545667726900124
         ],
         "yaxis": "y8"
        },
        {
         "line": {
          "color": "black",
          "width": 0.07
         },
         "mode": "lines",
         "showlegend": false,
         "type": "scatter",
         "x": [
          0.0555813049816947,
          0.06448518812732018
         ],
         "xaxis": "x8",
         "y": [
          0.019920441658472676,
          0.04791853514094843
         ],
         "yaxis": "y8"
        },
        {
         "line": {
          "color": "black",
          "width": 0.07
         },
         "mode": "lines",
         "showlegend": false,
         "type": "scatter",
         "x": [
          0.054854936540071786,
          0.06127045041262413
         ],
         "xaxis": "x8",
         "y": [
          0.022988747273887805,
          0.043926997456174344
         ],
         "yaxis": "y8"
        },
        {
         "line": {
          "color": "black",
          "width": 0.07
         },
         "mode": "lines",
         "showlegend": false,
         "type": "scatter",
         "x": [
          -0.013642276429711619,
          0.032398269074968275
         ],
         "xaxis": "x8",
         "y": [
          -0.056199442854146464,
          -0.014206379707967813
         ],
         "yaxis": "y8"
        },
        {
         "line": {
          "color": "black",
          "width": 0.07
         },
         "mode": "lines",
         "showlegend": false,
         "type": "scatter",
         "x": [
          -0.012323140348420206,
          0.009225330816583692
         ],
         "xaxis": "x8",
         "y": [
          -0.06729375934154885,
          -0.026698175546043222
         ],
         "yaxis": "y8"
        },
        {
         "line": {
          "color": "black",
          "width": 0.07
         },
         "mode": "lines",
         "showlegend": false,
         "type": "scatter",
         "x": [
          -0.019983761379208886,
          0.018511793556498346
         ],
         "xaxis": "x8",
         "y": [
          -0.056379165878246026,
          -0.018729601961784394
         ],
         "yaxis": "y8"
        },
        {
         "line": {
          "color": "black",
          "width": 0.07
         },
         "mode": "lines",
         "showlegend": false,
         "type": "scatter",
         "x": [
          0.036299445092223145,
          0.05451985403230843
         ],
         "xaxis": "x8",
         "y": [
          -0.06833293155588048,
          -0.028465559140740473
         ],
         "yaxis": "y8"
        },
        {
         "line": {
          "color": "black",
          "width": 0.07
         },
         "mode": "lines",
         "showlegend": false,
         "type": "scatter",
         "x": [
          0.051348527061896035,
          0.05800434652475114
         ],
         "xaxis": "x8",
         "y": [
          -0.054699382560387984,
          -0.020875271803821836
         ],
         "yaxis": "y8"
        },
        {
         "line": {
          "color": "black",
          "width": 0.07
         },
         "mode": "lines",
         "showlegend": false,
         "type": "scatter",
         "x": [
          0.03971140529548562,
          0.054525155470035655
         ],
         "xaxis": "x8",
         "y": [
          -0.059672916492822047,
          -0.027996349437364666
         ],
         "yaxis": "y8"
        },
        {
         "line": {
          "color": "black",
          "width": 0.07
         },
         "mode": "lines",
         "showlegend": false,
         "type": "scatter",
         "x": [
          0.05591805922748407,
          0.04904289493161801
         ],
         "xaxis": "x8",
         "y": [
          -0.04960579414275106,
          -0.026793953487693534
         ],
         "yaxis": "y8"
        },
        {
         "line": {
          "color": "black",
          "width": 0.07
         },
         "mode": "lines",
         "showlegend": false,
         "type": "scatter",
         "x": [
          0.05403865377916891,
          0.06722457300853417
         ],
         "xaxis": "x8",
         "y": [
          -0.05143172875852871,
          -0.01589103671697564
         ],
         "yaxis": "y8"
        },
        {
         "line": {
          "color": "black",
          "width": 0.07
         },
         "mode": "lines",
         "showlegend": false,
         "type": "scatter",
         "x": [
          0.04850377890204414,
          0.05840822545724778
         ],
         "xaxis": "x8",
         "y": [
          -0.05320987441173023,
          -0.023296948546791506
         ],
         "yaxis": "y8"
        },
        {
         "line": {
          "color": "black",
          "width": 0.07
         },
         "mode": "lines",
         "showlegend": false,
         "type": "scatter",
         "x": [
          0.0011815730493255439,
          0.028282607033532588
         ],
         "xaxis": "x8",
         "y": [
          0.004930000494882295,
          0.046255042336559284
         ],
         "yaxis": "y8"
        },
        {
         "line": {
          "color": "black",
          "width": 0.07
         },
         "mode": "lines",
         "showlegend": false,
         "type": "scatter",
         "x": [
          0.007495502571436625,
          0.02896181826741652
         ],
         "xaxis": "x8",
         "y": [
          0.006520866400838627,
          0.04593738246097707
         ],
         "yaxis": "y8"
        },
        {
         "line": {
          "color": "black",
          "width": 0.07
         },
         "mode": "lines",
         "showlegend": false,
         "type": "scatter",
         "x": [
          0.012675630547375678,
          0.034007110874993536
         ],
         "xaxis": "x8",
         "y": [
          0.008119039197626285,
          0.048309231007743016
         ],
         "yaxis": "y8"
        },
        {
         "line": {
          "color": "black",
          "width": 0.07
         },
         "mode": "lines",
         "showlegend": false,
         "type": "scatter",
         "x": [
          -0.18283179583342268,
          -0.15366219734243663
         ],
         "xaxis": "x8",
         "y": [
          -0.12388856608613433,
          -0.07104933696384162
         ],
         "yaxis": "y8"
        },
        {
         "line": {
          "color": "black",
          "width": 0.07
         },
         "mode": "lines",
         "showlegend": false,
         "type": "scatter",
         "x": [
          -0.19640144397026774,
          -0.1658514904614106
         ],
         "xaxis": "x8",
         "y": [
          -0.1216127230503562,
          -0.06348624582776974
         ],
         "yaxis": "y8"
        },
        {
         "line": {
          "color": "black",
          "width": 0.07
         },
         "mode": "lines",
         "showlegend": false,
         "type": "scatter",
         "x": [
          -0.2101083770258408,
          -0.17849117304342124
         ],
         "xaxis": "x8",
         "y": [
          -0.1233350159695669,
          -0.059955924819916954
         ],
         "yaxis": "y8"
        },
        {
         "line": {
          "color": "black",
          "width": 0.07
         },
         "mode": "lines",
         "showlegend": false,
         "type": "scatter",
         "x": [
          0.006009629809549464,
          0.029664215195670977
         ],
         "xaxis": "x8",
         "y": [
          -0.0053270386473591586,
          0.03632889629737251
         ],
         "yaxis": "y8"
        },
        {
         "line": {
          "color": "black",
          "width": 0.07
         },
         "mode": "lines",
         "showlegend": false,
         "type": "scatter",
         "x": [
          0.02200009512201436,
          0.043236171569190913
         ],
         "xaxis": "x8",
         "y": [
          0.0070457960407688475,
          0.05555126451982184
         ],
         "yaxis": "y8"
        },
        {
         "line": {
          "color": "black",
          "width": 0.07
         },
         "mode": "lines",
         "showlegend": false,
         "type": "scatter",
         "x": [
          0.01720196652589162,
          0.02955554371153128
         ],
         "xaxis": "x8",
         "y": [
          0.006157158552680637,
          0.03933671479151442
         ],
         "yaxis": "y8"
        },
        {
         "line": {
          "color": "black",
          "width": 0.07
         },
         "mode": "lines",
         "showlegend": false,
         "type": "scatter",
         "x": [
          -0.0026196168191647694,
          0.014893504738072745
         ],
         "xaxis": "x8",
         "y": [
          -0.06314665444448395,
          -0.030914049115045954
         ],
         "yaxis": "y8"
        },
        {
         "line": {
          "color": "black",
          "width": 0.07
         },
         "mode": "lines",
         "showlegend": false,
         "type": "scatter",
         "x": [
          -0.015630002068733054,
          0.016131792777211613
         ],
         "xaxis": "x8",
         "y": [
          -0.06289478395521905,
          -0.023169786151511024
         ],
         "yaxis": "y8"
        },
        {
         "line": {
          "color": "black",
          "width": 0.07
         },
         "mode": "lines",
         "showlegend": false,
         "type": "scatter",
         "x": [
          -0.008118727814982862,
          0.024876106314326376
         ],
         "xaxis": "x8",
         "y": [
          -0.06043666997960353,
          -0.021590636390090776
         ],
         "yaxis": "y8"
        },
        {
         "line": {
          "color": "black",
          "width": 0.07
         },
         "mode": "lines",
         "showlegend": false,
         "type": "scatter",
         "x": [
          -0.23825767592012964,
          -0.15392403153866463
         ],
         "xaxis": "x8",
         "y": [
          0.03852778801467475,
          0.06741611330313538
         ],
         "yaxis": "y8"
        },
        {
         "line": {
          "color": "black",
          "width": 0.07
         },
         "mode": "lines",
         "showlegend": false,
         "type": "scatter",
         "x": [
          -0.18618274926180528,
          -0.14724089702199725
         ],
         "xaxis": "x8",
         "y": [
          0.03345706069111015,
          0.058439411449849224
         ],
         "yaxis": "y8"
        },
        {
         "line": {
          "color": "black",
          "width": 0.07
         },
         "mode": "lines",
         "showlegend": false,
         "type": "scatter",
         "x": [
          -0.18888240401331227,
          -0.12260039983263442
         ],
         "xaxis": "x8",
         "y": [
          0.024234569666754174,
          0.051639154257041665
         ],
         "yaxis": "y8"
        },
        {
         "line": {
          "color": "black",
          "width": 0.07
         },
         "mode": "lines",
         "showlegend": false,
         "type": "scatter",
         "x": [
          -0.014232021268271002,
          0.0011119069994842425
         ],
         "xaxis": "x8",
         "y": [
          -0.05890388271872856,
          -0.03189967067323404
         ],
         "yaxis": "y8"
        },
        {
         "line": {
          "color": "black",
          "width": 0.07
         },
         "mode": "lines",
         "showlegend": false,
         "type": "scatter",
         "x": [
          -0.004201117997058851,
          0.017880037694929157
         ],
         "xaxis": "x8",
         "y": [
          -0.06032688013037817,
          -0.029657029339177767
         ],
         "yaxis": "y8"
        },
        {
         "line": {
          "color": "black",
          "width": 0.07
         },
         "mode": "lines",
         "showlegend": false,
         "type": "scatter",
         "x": [
          -0.017452824409271803,
          0.009384524504976326
         ],
         "xaxis": "x8",
         "y": [
          -0.0634597063445679,
          -0.032500000647564926
         ],
         "yaxis": "y8"
        },
        {
         "line": {
          "color": "black",
          "width": 0.07
         },
         "mode": "lines",
         "showlegend": false,
         "type": "scatter",
         "x": [
          0.03452145942632554,
          0.05148708475116421
         ],
         "xaxis": "x8",
         "y": [
          -0.06501518940946702,
          -0.02965728148768849
         ],
         "yaxis": "y8"
        },
        {
         "line": {
          "color": "black",
          "width": 0.07
         },
         "mode": "lines",
         "showlegend": false,
         "type": "scatter",
         "x": [
          0.04442908901118519,
          0.048833394420737856
         ],
         "xaxis": "x8",
         "y": [
          -0.059900409855464874,
          -0.03348799220176771
         ],
         "yaxis": "y8"
        },
        {
         "line": {
          "color": "black",
          "width": 0.07
         },
         "mode": "lines",
         "showlegend": false,
         "type": "scatter",
         "x": [
          0.04668548749471721,
          0.05458739050744984
         ],
         "xaxis": "x8",
         "y": [
          -0.0627323161723289,
          -0.029593161993572488
         ],
         "yaxis": "y8"
        },
        {
         "line": {
          "color": "black",
          "width": 0.07
         },
         "mode": "lines",
         "showlegend": false,
         "type": "scatter",
         "x": [
          -0.18273344058740287,
          -0.1353321008114088
         ],
         "xaxis": "x8",
         "y": [
          0.03609592475320516,
          0.06260093103698593
         ],
         "yaxis": "y8"
        },
        {
         "line": {
          "color": "black",
          "width": 0.07
         },
         "mode": "lines",
         "showlegend": false,
         "type": "scatter",
         "x": [
          -0.19128960728072242,
          -0.13059007779357645
         ],
         "xaxis": "x8",
         "y": [
          0.031931045149887496,
          0.06939695058398437
         ],
         "yaxis": "y8"
        },
        {
         "line": {
          "color": "black",
          "width": 0.07
         },
         "mode": "lines",
         "showlegend": false,
         "type": "scatter",
         "x": [
          -0.21093049828668609,
          -0.1647712380479598
         ],
         "xaxis": "x8",
         "y": [
          0.03615977871138542,
          0.07293395527507482
         ],
         "yaxis": "y8"
        },
        {
         "line": {
          "color": "black",
          "width": 0.07
         },
         "mode": "lines",
         "showlegend": false,
         "type": "scatter",
         "x": [
          -0.1464915328230721,
          -0.102638373711145
         ],
         "xaxis": "x8",
         "y": [
          0.017946302901439268,
          0.04244174019494291
         ],
         "yaxis": "y8"
        },
        {
         "line": {
          "color": "black",
          "width": 0.07
         },
         "mode": "lines",
         "showlegend": false,
         "type": "scatter",
         "x": [
          -0.14519238175694865,
          -0.08501882892725295
         ],
         "xaxis": "x8",
         "y": [
          0.015179680020343301,
          0.03825536201144642
         ],
         "yaxis": "y8"
        },
        {
         "line": {
          "color": "black",
          "width": 0.07
         },
         "mode": "lines",
         "showlegend": false,
         "type": "scatter",
         "x": [
          -0.16867138193368847,
          -0.10103238744533641
         ],
         "xaxis": "x8",
         "y": [
          0.01429644113901385,
          0.04508288574039693
         ],
         "yaxis": "y8"
        },
        {
         "line": {
          "color": "black",
          "width": 0.07
         },
         "mode": "lines",
         "showlegend": false,
         "type": "scatter",
         "x": [
          -0.20030363030262452,
          -0.1417914947209134
         ],
         "xaxis": "x8",
         "y": [
          0.04490711705965947,
          0.07220094329596925
         ],
         "yaxis": "y8"
        },
        {
         "line": {
          "color": "black",
          "width": 0.07
         },
         "mode": "lines",
         "showlegend": false,
         "type": "scatter",
         "x": [
          -0.21303124216454256,
          -0.1494567794376431
         ],
         "xaxis": "x8",
         "y": [
          0.04283146583487165,
          0.06967373431558344
         ],
         "yaxis": "y8"
        },
        {
         "line": {
          "color": "black",
          "width": 0.07
         },
         "mode": "lines",
         "showlegend": false,
         "type": "scatter",
         "x": [
          -0.1810845191826988,
          -0.15243362182177103
         ],
         "xaxis": "x8",
         "y": [
          0.04034538605497447,
          0.0669272252405869
         ],
         "yaxis": "y8"
        },
        {
         "legendgroup": "C18",
         "marker": {
          "color": "rgb(238, 155, 0)",
          "line": {
           "color": "black",
           "width": [
            0,
            0,
            0,
            0,
            0,
            0,
            0,
            0,
            0,
            0,
            0,
            0,
            0,
            0,
            0,
            0,
            0,
            0,
            0,
            0,
            0,
            0,
            0,
            0,
            0,
            0,
            0,
            0,
            0,
            0,
            0,
            0,
            0,
            0,
            0,
            0,
            0,
            0,
            0,
            0,
            0,
            0,
            0,
            0,
            0.8,
            0,
            0,
            0,
            0.8,
            0,
            0,
            0,
            0,
            0,
            0,
            0.8,
            0,
            0,
            0,
            0,
            0,
            0.8,
            0.8,
            0,
            0,
            0,
            0,
            0,
            0.8,
            0,
            0,
            0,
            0,
            0.8,
            0.8,
            0.8,
            0.8,
            0,
            0,
            0.8,
            0.8
           ]
          },
          "opacity": 0.95,
          "size": [
           7,
           7,
           7,
           7,
           7,
           7,
           7,
           7,
           7,
           7,
           7,
           7,
           7,
           7,
           7,
           7,
           7,
           7,
           7,
           7,
           7,
           7,
           7,
           7,
           7,
           7,
           7,
           7,
           7,
           7,
           7,
           7,
           7,
           7,
           7,
           7,
           7,
           7,
           7,
           7,
           7,
           7,
           7,
           7,
           11,
           7,
           7,
           7,
           11,
           7,
           7,
           7,
           7,
           7,
           7,
           11,
           7,
           7,
           7,
           7,
           7,
           11,
           11,
           7,
           7,
           7,
           7,
           7,
           11,
           7,
           7,
           7,
           7,
           11,
           11,
           11,
           11,
           7,
           7,
           11,
           11
          ]
         },
         "mode": "markers",
         "name": "C18",
         "showlegend": true,
         "text": [
          "F1-1_F2-1",
          "F1-1_NIST-3",
          "F1-1_F2-1",
          "F1-1_F2-1",
          "F1-1_F2-1_NIST-2_To-1",
          "F1-1_F2-1_NIST-2_To-1",
          "F1-1_F2-1_NIST-1_To-2",
          "F1-1_F2-1_NIST-2_To-1",
          "F1-1_NIST-3",
          "F1-1_F2-1_NIST-1_To-2",
          "F1-1_F2-1_NIST-1_To-1",
          "F1-1_F2-1_NIST-1_To-2",
          "F1-1_F2-1_NIST-1_To-1",
          "F1-1_To-1",
          "F1-1_To-3",
          "F1-1_F2-1_NIST-1_To-1",
          "F1-1_F2-2_NIST-1_To-1",
          "F1-1_F2-2_NIST-1_To-1",
          "F1-1_F2-3",
          "F1-1_To-1",
          "F1-1_NIST-3",
          "F1-1_To-1",
          "F1-1_NIST-1",
          "F1-2_F2-1_NIST-1_To-1",
          "F1-1_NIST-1",
          "F1-1_To-3",
          "F1-1_NIST-1",
          "F2-1_To-3",
          "F1-1_To-3",
          "F2-1_NIST-3",
          "F1-2_F2-1_NIST-1_To-1",
          "F1-3_To-1",
          "F1-1_F2-2_NIST-1_To-1",
          "F1-1_F2-3",
          "F2-1_NIST-1",
          "F1-3_NIST-1",
          "F2-1_To-3",
          "F1-1_F2-3",
          "F1-3_F2-1",
          "F2-1_To-1",
          "F1-2_F2-1_NIST-1_To-1",
          "F2-1_NIST-3",
          "F2-1_NIST-1",
          "F1-3_F2-1",
          "NIST",
          "F2-1_To-1",
          "F1-3_F2-1",
          "F2-1_NIST-1",
          "NIST",
          "F2-3_To-1",
          "F2-1_NIST-3",
          "F2-3_NIST-1",
          "To-1_NIST-1",
          "F2-1_To-3",
          "F1-3_NIST-1",
          "NIST",
          "F2-3_To-1",
          "F2-3_NIST-1",
          "F2-3_To-1",
          "F1-3_To-1",
          "F2-1_To-1",
          "F2",
          "F1",
          "F1-3_NIST-1",
          "To-1_NIST-1",
          "To-3_NIST-1",
          "F1-3_To-1",
          "To-3_NIST-1",
          "F2",
          "To-1_NIST-1",
          "To-1_NIST-3",
          "To-1_NIST-3",
          "To-1_NIST-3",
          "To",
          "F2",
          "To",
          "To",
          "To-3_NIST-1",
          "F2-3_NIST-1",
          "F1",
          "F1"
         ],
         "type": "scatter",
         "x": [
          0.13655470754000687,
          0.1974094598406868,
          0.3611558626700086,
          0.41279909434086,
          0.4636410714250044,
          0.4629594780197856,
          0.45790465329808605,
          0.4626224686488455,
          0.39543937813142105,
          0.462745495742593,
          0.4686562542601797,
          0.45893371464245375,
          0.46708440424259284,
          0.4120719829348957,
          0.14453630719675048,
          0.465749754615229,
          0.46080351303710615,
          0.46266037538509375,
          0.4031187725821692,
          0.3978846308064977,
          0.3979037334887123,
          0.4248220544287961,
          0.3869577653051741,
          0.44853825484008625,
          0.39154295918722154,
          0.4043889266429883,
          0.3900330414617283,
          0.3298065947252955,
          0.40245487821956205,
          0.11332646262580631,
          0.44614646887456183,
          0.4135677774260858,
          0.4602613908057719,
          0.39984765013702167,
          0.38723864500061633,
          0.37718827824146606,
          0.3553632466750963,
          0.39510995823920614,
          0.3932175319292531,
          0.39035339938696356,
          0.4456798279403053,
          0.3694011329566742,
          0.3847237050892929,
          0.39049324003631564,
          0.24426385104119266,
          0.396174828424108,
          0.3905238125542919,
          0.3893135858431063,
          0.23666393009517772,
          0.3971571510135843,
          0.37473846697567004,
          0.36750654032403335,
          0.3220679680033192,
          0.3577754239167294,
          0.37398148234833906,
          0.2330219867652285,
          0.38556681674541543,
          0.36772390725221776,
          0.38719123287089763,
          0.4080391699326887,
          0.39461517434861865,
          0.3181772164190925,
          0.3493304985327532,
          0.37714773248325123,
          0.33179372674694896,
          0.286737129289508,
          0.4032230178161922,
          0.31014035390683115,
          0.31313619049003766,
          0.32545796037524666,
          0.3337321631365094,
          0.3383924161658063,
          0.3282938058963931,
          0.23847686233918564,
          0.31442785580649224,
          0.2570844716547462,
          0.23449271521001433,
          0.3040180924000991,
          0.3661084717064298,
          0.3481097637304964,
          0.34566707178697725
         ],
         "xaxis": "x",
         "y": [
          0.08124611608644694,
          0.017339471427830745,
          -0.16532479685230791,
          -0.23222953187672027,
          -0.052859015151853005,
          -0.04453105854746209,
          0.00393204399694225,
          -0.04917125527527195,
          -0.13822105190991307,
          -0.0033913851748804016,
          -0.05919382663313377,
          -0.0047305204881090725,
          -0.052579401869900934,
          -0.020083320548567592,
          0.10198374105422485,
          -0.04813069947464522,
          -0.07426843217450368,
          -0.07553511921440922,
          -0.22353480911840864,
          -0.011642053836903468,
          -0.15147804041280613,
          -0.037522368914152046,
          -0.2336420661755267,
          -0.12521690786502537,
          -0.22334217537912252,
          0.04443075574536383,
          -0.23061198022455606,
          0.2805762540037843,
          0.04916990531007056,
          0.1437632708221268,
          -0.12856791281454694,
          -0.14899314476792938,
          -0.08405350800566364,
          -0.24097474812349418,
          -0.03474573695739909,
          -0.2513727445480882,
          0.22416262221829933,
          -0.2319702770072772,
          -0.2576269100877892,
          0.16225364416776955,
          -0.13841630436017563,
          0.021770671897958182,
          -0.03208597841257128,
          -0.2716380686711918,
          0.14963338160782003,
          0.13417111223767422,
          -0.27008593968616673,
          -0.0380188560069836,
          0.14938817822289913,
          0.055435739802951946,
          0.02627865830367434,
          -0.06463373329612412,
          0.35879103214056746,
          0.2068454382192743,
          -0.23925333927827008,
          0.15527474738172206,
          0.06397676654453292,
          -0.06965502598257522,
          0.043784838725927554,
          -0.14826493116210007,
          0.12885988413348082,
          -0.09603999478347197,
          -0.2623310910736562,
          -0.24409152382107066,
          0.3353071610379314,
          0.35505422758967076,
          -0.1524133751835407,
          0.350407888378023,
          -0.09915748044111494,
          0.35078019550399053,
          0.30462959792883004,
          0.3000216765877777,
          0.3211976147934423,
          0.374885425489067,
          -0.10001130300265128,
          0.3862005036471382,
          0.382491606074647,
          0.3629966673038716,
          -0.0726133909348463,
          -0.2663563767057318,
          -0.26717051001824116
         ],
         "yaxis": "y"
        },
        {
         "legendgroup": "C18",
         "marker": {
          "color": "rgb(238, 155, 0)",
          "line": {
           "color": "black",
           "width": [
            0,
            0,
            0,
            0,
            0,
            0,
            0,
            0,
            0,
            0,
            0,
            0,
            0,
            0,
            0,
            0,
            0,
            0,
            0,
            0,
            0,
            0,
            0,
            0,
            0,
            0,
            0,
            0,
            0,
            0,
            0,
            0,
            0,
            0,
            0,
            0,
            0,
            0,
            0,
            0,
            0,
            0,
            0,
            0,
            0.8,
            0,
            0,
            0,
            0.8,
            0,
            0,
            0,
            0,
            0,
            0,
            0.8,
            0,
            0,
            0,
            0,
            0,
            0.8,
            0.8,
            0,
            0,
            0,
            0,
            0,
            0.8,
            0,
            0,
            0,
            0,
            0.8,
            0.8,
            0.8,
            0.8,
            0,
            0,
            0.8,
            0.8
           ]
          },
          "opacity": 0.95,
          "size": [
           7,
           7,
           7,
           7,
           7,
           7,
           7,
           7,
           7,
           7,
           7,
           7,
           7,
           7,
           7,
           7,
           7,
           7,
           7,
           7,
           7,
           7,
           7,
           7,
           7,
           7,
           7,
           7,
           7,
           7,
           7,
           7,
           7,
           7,
           7,
           7,
           7,
           7,
           7,
           7,
           7,
           7,
           7,
           7,
           11,
           7,
           7,
           7,
           11,
           7,
           7,
           7,
           7,
           7,
           7,
           11,
           7,
           7,
           7,
           7,
           7,
           11,
           11,
           7,
           7,
           7,
           7,
           7,
           11,
           7,
           7,
           7,
           7,
           11,
           11,
           11,
           11,
           7,
           7,
           11,
           11
          ]
         },
         "mode": "markers",
         "name": "C18",
         "showlegend": false,
         "text": [
          "F1-1_F2-1",
          "F1-1_NIST-3",
          "F1-1_F2-1",
          "F1-1_F2-1",
          "F1-1_F2-1_NIST-2_To-1",
          "F1-1_F2-1_NIST-2_To-1",
          "F1-1_F2-1_NIST-1_To-2",
          "F1-1_F2-1_NIST-2_To-1",
          "F1-1_NIST-3",
          "F1-1_F2-1_NIST-1_To-2",
          "F1-1_F2-1_NIST-1_To-1",
          "F1-1_F2-1_NIST-1_To-2",
          "F1-1_F2-1_NIST-1_To-1",
          "F1-1_To-1",
          "F1-1_To-3",
          "F1-1_F2-1_NIST-1_To-1",
          "F1-1_F2-2_NIST-1_To-1",
          "F1-1_F2-2_NIST-1_To-1",
          "F1-1_F2-3",
          "F1-1_To-1",
          "F1-1_NIST-3",
          "F1-1_To-1",
          "F1-1_NIST-1",
          "F1-2_F2-1_NIST-1_To-1",
          "F1-1_NIST-1",
          "F1-1_To-3",
          "F1-1_NIST-1",
          "F2-1_To-3",
          "F1-1_To-3",
          "F2-1_NIST-3",
          "F1-2_F2-1_NIST-1_To-1",
          "F1-3_To-1",
          "F1-1_F2-2_NIST-1_To-1",
          "F1-1_F2-3",
          "F2-1_NIST-1",
          "F1-3_NIST-1",
          "F2-1_To-3",
          "F1-1_F2-3",
          "F1-3_F2-1",
          "F2-1_To-1",
          "F1-2_F2-1_NIST-1_To-1",
          "F2-1_NIST-3",
          "F2-1_NIST-1",
          "F1-3_F2-1",
          "NIST",
          "F2-1_To-1",
          "F1-3_F2-1",
          "F2-1_NIST-1",
          "NIST",
          "F2-3_To-1",
          "F2-1_NIST-3",
          "F2-3_NIST-1",
          "To-1_NIST-1",
          "F2-1_To-3",
          "F1-3_NIST-1",
          "NIST",
          "F2-3_To-1",
          "F2-3_NIST-1",
          "F2-3_To-1",
          "F1-3_To-1",
          "F2-1_To-1",
          "F2",
          "F1",
          "F1-3_NIST-1",
          "To-1_NIST-1",
          "To-3_NIST-1",
          "F1-3_To-1",
          "To-3_NIST-1",
          "F2",
          "To-1_NIST-1",
          "To-1_NIST-3",
          "To-1_NIST-3",
          "To-1_NIST-3",
          "To",
          "F2",
          "To",
          "To",
          "To-3_NIST-1",
          "F2-3_NIST-1",
          "F1",
          "F1"
         ],
         "type": "scatter",
         "x": [
          -0.04546169863099136,
          -0.09541869940229937,
          -0.14073302264151025,
          -0.14073838136004913,
          -0.05965514760970528,
          -0.037810574428297085,
          0.005003870342265408,
          -0.04842114847689404,
          -0.1168836522831467,
          -0.023036714484999672,
          -0.044329824924114275,
          -0.01800551678839588,
          -0.03093080443261197,
          -0.03843969724436872,
          0.013865501995737307,
          -0.041675192375973925,
          -0.06125102762030924,
          -0.05473486250146252,
          -0.1295620043644262,
          -0.04356022944499178,
          -0.12568725741192757,
          -0.03342644269934341,
          -0.1420063989514387,
          -0.09022838679967433,
          -0.13598139521591826,
          0.02753592214457528,
          -0.13420412411732316,
          0.2129532424841992,
          0.021344211617107596,
          0.04364090795875386,
          -0.09797047449995602,
          -0.10725689885965457,
          -0.06770161795392678,
          -0.11321984978541254,
          -0.050593939455321146,
          -0.13800059577756793,
          0.1486683897531274,
          -0.10451709202616176,
          -0.14166080316558868,
          0.09184595694402142,
          -0.1081073458594048,
          -0.03533451287151916,
          -0.043603467038984274,
          -0.14536494470832093,
          0.12074938564832388,
          0.073193183561467,
          -0.1465783101670634,
          -0.04047842112498564,
          0.2128348383820269,
          0.04228157597864431,
          -0.04131085571580693,
          -0.03270661278034278,
          0.2996178726384062,
          0.11523056467694824,
          -0.13815803471947868,
          0.16382828407235703,
          0.038341268912465365,
          -0.05603106742618763,
          0.022120593088296312,
          -0.10102588672174734,
          0.068437436070256,
          -0.05783507119977145,
          -0.13429478418907934,
          -0.13891639702591585,
          0.2804601078441553,
          0.28550088847227406,
          -0.0929207638057099,
          0.2702950488797324,
          -0.0420266812851956,
          0.30434069470584524,
          0.2905956478721718,
          0.2811412640093071,
          0.30155661705090675,
          0.24829715652501677,
          -0.044461099038146934,
          0.2937579996452771,
          0.26985495737072196,
          0.2801193251913165,
          -0.048228343801764634,
          -0.13248148269861731,
          -0.13933063036693283
         ],
         "xaxis": "x2",
         "y": [
          -0.14221465322493707,
          -0.13286297410845455,
          -0.0235439972168273,
          -0.007674890803979544,
          0.02465458970785886,
          0.034635052818775734,
          0.06653040465285592,
          0.03707155339748484,
          -0.04552051826906045,
          0.04975785524986215,
          0.0550349068752454,
          0.050523206473417806,
          0.0600572602938907,
          0.04041923483599608,
          -0.16416969847836413,
          0.04721336828717127,
          0.03529799788419066,
          0.052141287677107837,
          0.005320984925048471,
          0.031925822841575205,
          -0.07118428098884941,
          0.0640010313116728,
          -0.01141679950059265,
          0.026703469743417977,
          -0.01845084856238713,
          0.08680684320892566,
          -0.015285951625853167,
          0.08005717632096343,
          0.08557331320481464,
          -0.303594494181731,
          0.023220297805522972,
          0.024517894290139456,
          0.04579283304960616,
          0.014163260324366659,
          -0.058098804380147036,
          0.00152474584476353,
          0.09825097484513004,
          0.012388778462181558,
          0.008803542971837119,
          0.07021611058554976,
          0.03144235771544104,
          -0.16755875930655725,
          -0.061024978108709445,
          0.008068660078633612,
          -0.3313860510952973,
          0.06283258414113793,
          0.002796442341818143,
          -0.05270275250199319,
          -0.46451304807790283,
          0.06101194185148962,
          -0.16143431197346086,
          -0.016064479064297168,
          0.0576631635983231,
          0.08907255819531434,
          0.002204979384196545,
          -0.4193606750480519,
          0.05570855507508959,
          -0.026150895558942316,
          0.03539777077540913,
          0.042485331566273266,
          0.067819260058169,
          0.0009774431576482193,
          0.014899415826157343,
          0.000015162779852534673,
          0.0452290595212849,
          0.07041436703213548,
          0.03813925925551233,
          0.08508461472727172,
          0.007966470559895201,
          0.03749978743680973,
          -0.0201936944104738,
          -0.05732937853834722,
          -0.04447864719545781,
          0.12352931782333204,
          0.00666647812020449,
          0.10038316592618418,
          0.11372990300059194,
          0.08820574580025858,
          -0.0017399745303010446,
          0.013408135362467778,
          0.014290236103253915
         ],
         "yaxis": "y2"
        },
        {
         "legendgroup": "C18",
         "marker": {
          "color": "rgb(238, 155, 0)",
          "line": {
           "color": "black",
           "width": [
            0,
            0,
            0,
            0,
            0,
            0,
            0,
            0,
            0,
            0,
            0,
            0,
            0,
            0,
            0,
            0,
            0,
            0,
            0,
            0,
            0,
            0,
            0,
            0,
            0,
            0,
            0,
            0,
            0,
            0,
            0,
            0,
            0,
            0,
            0,
            0,
            0,
            0,
            0,
            0,
            0,
            0,
            0,
            0,
            0.8,
            0,
            0,
            0,
            0.8,
            0,
            0,
            0,
            0,
            0,
            0,
            0.8,
            0,
            0,
            0,
            0,
            0,
            0.8,
            0.8,
            0,
            0,
            0,
            0,
            0,
            0.8,
            0,
            0,
            0,
            0,
            0.8,
            0.8,
            0.8,
            0.8,
            0,
            0,
            0.8,
            0.8
           ]
          },
          "opacity": 0.95,
          "size": [
           7,
           7,
           7,
           7,
           7,
           7,
           7,
           7,
           7,
           7,
           7,
           7,
           7,
           7,
           7,
           7,
           7,
           7,
           7,
           7,
           7,
           7,
           7,
           7,
           7,
           7,
           7,
           7,
           7,
           7,
           7,
           7,
           7,
           7,
           7,
           7,
           7,
           7,
           7,
           7,
           7,
           7,
           7,
           7,
           11,
           7,
           7,
           7,
           11,
           7,
           7,
           7,
           7,
           7,
           7,
           11,
           7,
           7,
           7,
           7,
           7,
           11,
           11,
           7,
           7,
           7,
           7,
           7,
           11,
           7,
           7,
           7,
           7,
           11,
           11,
           11,
           11,
           7,
           7,
           11,
           11
          ]
         },
         "mode": "markers",
         "name": "C18",
         "showlegend": false,
         "text": [
          "F1-1_F2-1",
          "F1-1_NIST-3",
          "F1-1_F2-1",
          "F1-1_F2-1",
          "F1-1_F2-1_NIST-2_To-1",
          "F1-1_F2-1_NIST-2_To-1",
          "F1-1_F2-1_NIST-1_To-2",
          "F1-1_F2-1_NIST-2_To-1",
          "F1-1_NIST-3",
          "F1-1_F2-1_NIST-1_To-2",
          "F1-1_F2-1_NIST-1_To-1",
          "F1-1_F2-1_NIST-1_To-2",
          "F1-1_F2-1_NIST-1_To-1",
          "F1-1_To-1",
          "F1-1_To-3",
          "F1-1_F2-1_NIST-1_To-1",
          "F1-1_F2-2_NIST-1_To-1",
          "F1-1_F2-2_NIST-1_To-1",
          "F1-1_F2-3",
          "F1-1_To-1",
          "F1-1_NIST-3",
          "F1-1_To-1",
          "F1-1_NIST-1",
          "F1-2_F2-1_NIST-1_To-1",
          "F1-1_NIST-1",
          "F1-1_To-3",
          "F1-1_NIST-1",
          "F2-1_To-3",
          "F1-1_To-3",
          "F2-1_NIST-3",
          "F1-2_F2-1_NIST-1_To-1",
          "F1-3_To-1",
          "F1-1_F2-2_NIST-1_To-1",
          "F1-1_F2-3",
          "F2-1_NIST-1",
          "F1-3_NIST-1",
          "F2-1_To-3",
          "F1-1_F2-3",
          "F1-3_F2-1",
          "F2-1_To-1",
          "F1-2_F2-1_NIST-1_To-1",
          "F2-1_NIST-3",
          "F2-1_NIST-1",
          "F1-3_F2-1",
          "NIST",
          "F2-1_To-1",
          "F1-3_F2-1",
          "F2-1_NIST-1",
          "NIST",
          "F2-3_To-1",
          "F2-1_NIST-3",
          "F2-3_NIST-1",
          "To-1_NIST-1",
          "F2-1_To-3",
          "F1-3_NIST-1",
          "NIST",
          "F2-3_To-1",
          "F2-3_NIST-1",
          "F2-3_To-1",
          "F1-3_To-1",
          "F2-1_To-1",
          "F2",
          "F1",
          "F1-3_NIST-1",
          "To-1_NIST-1",
          "To-3_NIST-1",
          "F1-3_To-1",
          "To-3_NIST-1",
          "F2",
          "To-1_NIST-1",
          "To-1_NIST-3",
          "To-1_NIST-3",
          "To-1_NIST-3",
          "To",
          "F2",
          "To",
          "To",
          "To-3_NIST-1",
          "F2-3_NIST-1",
          "F1",
          "F1"
         ],
         "type": "scatter",
         "x": [
          -0.17237061876918297,
          -0.09574933664116662,
          -0.1800864520688803,
          -0.17611867192891156,
          0.03603917275277741,
          0.005954551032480027,
          -0.013030156259575567,
          -0.022884388095359965,
          0.058656088388721925,
          -0.007400962457209544,
          -0.048783507896021136,
          -0.039598251561253996,
          -0.04403376357068665,
          -0.11276124392635849,
          -0.12538005364615673,
          -0.0566713079809725,
          -0.03627769964890821,
          -0.07023610140082193,
          -0.17787959395398678,
          -0.1164107813300352,
          0.053473640236254706,
          -0.1068102428166162,
          -0.10664569747119025,
          -0.07279597115766291,
          -0.09104774637782458,
          -0.06973751439751266,
          -0.09902414956781516,
          0.032793498681758286,
          -0.06540559542805147,
          0.21360252410792147,
          -0.10395530491524091,
          -0.15417504279362226,
          -0.05214638850166087,
          -0.17314683741500247,
          0.12987098506464562,
          -0.13385413559840456,
          0.02349327249326574,
          -0.16088089183168472,
          -0.18672876026528606,
          -0.024337676484840923,
          -0.10488341409206504,
          0.2345015091471351,
          0.08564571834212678,
          -0.17643029074429487,
          0.42323985967218225,
          -0.027669196278820217,
          -0.17476488688713265,
          0.06633037199170937,
          0.43802259053110887,
          -0.07906642104564993,
          0.19127295729291158,
          -0.001160525737346795,
          0.30614735118776143,
          0.02197221003315345,
          -0.08421286518843941,
          0.434940076379601,
          -0.0769519445787488,
          0.021298804414111264,
          -0.07607439589616392,
          -0.15335337493314388,
          -0.03212251961992136,
          -0.11258568043346005,
          -0.17105734990517457,
          -0.10672247547684142,
          0.34901571688173727,
          0.21462514156366783,
          -0.13876031375807707,
          0.2877178218608073,
          -0.11670751207779784,
          0.3193505869483275,
          0.38918961383228523,
          0.3739696435885754,
          0.3484088809799766,
          0.12690414861645216,
          -0.11954666863687578,
          0.12910382450014743,
          0.10579670041542599,
          0.2582748477089639,
          -0.02396387169660956,
          -0.16713094621584226,
          -0.17435149109901205
         ],
         "xaxis": "x3",
         "y": [
          -0.03605950883655621,
          -0.0784525712476503,
          -0.0538966685645909,
          -0.05893905184321054,
          -0.08404017062804331,
          -0.06152897453356848,
          0.009880046839730256,
          -0.038182605426183645,
          -0.18584502452581012,
          0.004927062575427845,
          -0.01791533092545111,
          0.024242021265040613,
          -0.01943745230835216,
          0.05817212795452392,
          0.043055331615877046,
          -0.007813964045240573,
          -0.0425698057675433,
          -0.025425109997471988,
          -0.046106777854096545,
          0.06833155711312759,
          -0.17828356650160695,
          0.05645776608206952,
          -0.10251997130969194,
          -0.057997279104672214,
          -0.10815731025641448,
          0.1184896544964437,
          -0.10563937976949662,
          0.24056881287183005,
          0.16179980709949962,
          -0.16045715621456516,
          -0.03567451214896416,
          -0.0060416562125452785,
          -0.035980048936119634,
          -0.04908790946195044,
          -0.16486355745685052,
          -0.08731173945911663,
          0.23188883131848265,
          -0.05436667035330337,
          -0.052179389025212033,
          0.15513271464667702,
          -0.03683937760436592,
          -0.21639027219209706,
          -0.13936277463775135,
          -0.06345939140907174,
          -0.26013787254859183,
          0.13654777863890405,
          -0.06637191022242007,
          -0.12809215494322537,
          -0.27091359999116876,
          0.07421440086406597,
          -0.18447480530815594,
          -0.09066938583487115,
          0.12288335057969194,
          0.2189384629716916,
          -0.11401334384485966,
          -0.2657200348283142,
          0.07904591848427941,
          -0.10581918946244798,
          0.06994255174450555,
          -0.0044033002988922215,
          0.14742118327704115,
          -0.019871465493842815,
          -0.06788463824546785,
          -0.09994782626073596,
          0.07493174902998345,
          0.20540348678222603,
          -0.024333050424946698,
          0.1478237408654615,
          -0.02427758874136094,
          0.10949285995348246,
          -0.025935057585568976,
          -0.009213888634420722,
          0.05375059506666195,
          0.35108623316574666,
          -0.018780042231267086,
          0.3680878300874734,
          0.3089456746487877,
          0.17983796578214134,
          -0.08646297127238219,
          -0.07146157814745409,
          -0.0684251664792578
         ],
         "yaxis": "y3"
        },
        {
         "legendgroup": "C18",
         "marker": {
          "color": "rgb(238, 155, 0)",
          "line": {
           "color": "black",
           "width": [
            0,
            0,
            0,
            0,
            0,
            0,
            0,
            0,
            0,
            0,
            0,
            0,
            0,
            0,
            0,
            0,
            0,
            0,
            0,
            0,
            0,
            0,
            0,
            0,
            0,
            0,
            0,
            0,
            0,
            0,
            0,
            0,
            0,
            0,
            0,
            0,
            0,
            0,
            0,
            0,
            0,
            0,
            0,
            0,
            0.8,
            0,
            0,
            0,
            0.8,
            0,
            0,
            0,
            0,
            0,
            0,
            0.8,
            0,
            0,
            0,
            0,
            0,
            0.8,
            0.8,
            0,
            0,
            0,
            0,
            0,
            0.8,
            0,
            0,
            0,
            0,
            0.8,
            0.8,
            0.8,
            0.8,
            0,
            0,
            0.8,
            0.8
           ]
          },
          "opacity": 0.95,
          "size": [
           7,
           7,
           7,
           7,
           7,
           7,
           7,
           7,
           7,
           7,
           7,
           7,
           7,
           7,
           7,
           7,
           7,
           7,
           7,
           7,
           7,
           7,
           7,
           7,
           7,
           7,
           7,
           7,
           7,
           7,
           7,
           7,
           7,
           7,
           7,
           7,
           7,
           7,
           7,
           7,
           7,
           7,
           7,
           7,
           11,
           7,
           7,
           7,
           11,
           7,
           7,
           7,
           7,
           7,
           7,
           11,
           7,
           7,
           7,
           7,
           7,
           11,
           11,
           7,
           7,
           7,
           7,
           7,
           11,
           7,
           7,
           7,
           7,
           11,
           11,
           11,
           11,
           7,
           7,
           11,
           11
          ]
         },
         "mode": "markers",
         "name": "C18",
         "showlegend": false,
         "text": [
          "F1-1_F2-1",
          "F1-1_NIST-3",
          "F1-1_F2-1",
          "F1-1_F2-1",
          "F1-1_F2-1_NIST-2_To-1",
          "F1-1_F2-1_NIST-2_To-1",
          "F1-1_F2-1_NIST-1_To-2",
          "F1-1_F2-1_NIST-2_To-1",
          "F1-1_NIST-3",
          "F1-1_F2-1_NIST-1_To-2",
          "F1-1_F2-1_NIST-1_To-1",
          "F1-1_F2-1_NIST-1_To-2",
          "F1-1_F2-1_NIST-1_To-1",
          "F1-1_To-1",
          "F1-1_To-3",
          "F1-1_F2-1_NIST-1_To-1",
          "F1-1_F2-2_NIST-1_To-1",
          "F1-1_F2-2_NIST-1_To-1",
          "F1-1_F2-3",
          "F1-1_To-1",
          "F1-1_NIST-3",
          "F1-1_To-1",
          "F1-1_NIST-1",
          "F1-2_F2-1_NIST-1_To-1",
          "F1-1_NIST-1",
          "F1-1_To-3",
          "F1-1_NIST-1",
          "F2-1_To-3",
          "F1-1_To-3",
          "F2-1_NIST-3",
          "F1-2_F2-1_NIST-1_To-1",
          "F1-3_To-1",
          "F1-1_F2-2_NIST-1_To-1",
          "F1-1_F2-3",
          "F2-1_NIST-1",
          "F1-3_NIST-1",
          "F2-1_To-3",
          "F1-1_F2-3",
          "F1-3_F2-1",
          "F2-1_To-1",
          "F1-2_F2-1_NIST-1_To-1",
          "F2-1_NIST-3",
          "F2-1_NIST-1",
          "F1-3_F2-1",
          "NIST",
          "F2-1_To-1",
          "F1-3_F2-1",
          "F2-1_NIST-1",
          "NIST",
          "F2-3_To-1",
          "F2-1_NIST-3",
          "F2-3_NIST-1",
          "To-1_NIST-1",
          "F2-1_To-3",
          "F1-3_NIST-1",
          "NIST",
          "F2-3_To-1",
          "F2-3_NIST-1",
          "F2-3_To-1",
          "F1-3_To-1",
          "F2-1_To-1",
          "F2",
          "F1",
          "F1-3_NIST-1",
          "To-1_NIST-1",
          "To-3_NIST-1",
          "F1-3_To-1",
          "To-3_NIST-1",
          "F2",
          "To-1_NIST-1",
          "To-1_NIST-3",
          "To-1_NIST-3",
          "To-1_NIST-3",
          "To",
          "F2",
          "To",
          "To",
          "To-3_NIST-1",
          "F2-3_NIST-1",
          "F1",
          "F1"
         ],
         "type": "scatter",
         "x": [
          -0.17098905369449488,
          -0.30208659492109075,
          -0.39295638756623946,
          -0.37513159923013467,
          0.02676833116557744,
          -0.013499404144128204,
          0.06484300211923495,
          -0.040600747327168424,
          -0.15078833052851245,
          0.03569588966647953,
          -0.08492895317132128,
          0.021552416529650203,
          -0.08125646914137044,
          -0.05919881126241928,
          -0.05412618515910345,
          -0.07743387294250459,
          -0.07703127915606085,
          -0.09203281896222786,
          -0.34030793640696827,
          -0.0585611546463333,
          -0.1484772862520601,
          -0.04815338622499258,
          -0.3509934745895069,
          -0.1684575633841472,
          -0.264973477291139,
          -0.010358531594664148,
          -0.33244503881006676,
          0.5007420375674203,
          0.21682710529219265,
          0.19676136548956186,
          -0.19539691686332006,
          -0.22943032991280263,
          -0.10050607907554107,
          -0.33603437205028563,
          0.14826615749084476,
          -0.3659814865728087,
          0.47976229817493865,
          -0.2972297753151132,
          -0.3972807884844058,
          0.35552215064389586,
          -0.19773223127680692,
          0.19178112289051125,
          0.07909074055142762,
          -0.4050891553818945,
          0.20521012452338427,
          0.2857648553761188,
          -0.399818615890232,
          0.007036597760921577,
          0.1975053875694498,
          0.1419190703992081,
          0.15697047632722755,
          0.025514691399138267,
          0.5263415570634212,
          0.46639273673503107,
          -0.29069777624014204,
          0.196611777833753,
          0.14906903193062795,
          0.032976232351250266,
          0.1367642947687589,
          -0.22724910201385154,
          0.3471969224682434,
          -0.0672628952216296,
          -0.40196131840954835,
          -0.3129813691578809,
          0.49525920745987173,
          0.5414831572688124,
          -0.24423071940970426,
          0.527111568806205,
          -0.05873781654205078,
          0.5239861398088688,
          0.3748723385966053,
          0.44277390562046404,
          0.49097249950900884,
          0.5447520432999791,
          -0.0807960812183393,
          0.5333691535472318,
          0.4733053861865529,
          0.5425515017190283,
          -0.06942878189761562,
          -0.3937747811996278,
          -0.395865361887742
         ],
         "xaxis": "x4",
         "y": [
          0.03206076121322295,
          0.005205042271802955,
          -0.057475200641698254,
          -0.027325385247438876,
          0.17355624261165134,
          0.07432857198482884,
          -0.05727107562075794,
          -0.01232664653279339,
          0.32573522349667833,
          -0.09279958189338729,
          -0.1303676270638902,
          -0.18642530768221904,
          -0.12822564677397758,
          -0.2962581331237597,
          -0.1917933563711544,
          -0.15135996474162836,
          0.019562377409868534,
          -0.09882815105670624,
          -0.0474988844343239,
          -0.3176888449049266,
          0.3267099351704973,
          -0.2727275619750077,
          0.05079555050972805,
          -0.006390280168032206,
          0.19168584365168506,
          -0.3080019027905839,
          0.09176472895524863,
          -0.2649862337906129,
          -0.34783718354857934,
          0.4692128982595817,
          -0.13571955900031615,
          -0.21567845223323076,
          -0.043019669425751805,
          -0.03150524565271377,
          0.5178550686822084,
          0.03228055242882809,
          -0.2688647105573512,
          0.024863006126323483,
          -0.0523716032836459,
          -0.2296475727683071,
          -0.12391002289741479,
          0.5536106029425101,
          0.4550471395927976,
          -0.062408805514420164,
          0.5253605220159393,
          -0.1962103632355104,
          -0.05220974302498823,
          0.3827927232769542,
          0.48791255828632896,
          -0.15701273513246475,
          0.5351752847304334,
          0.3636157462999043,
          -0.01706540980182392,
          -0.2621203334311026,
          0.15325078509607562,
          0.4783694628439172,
          -0.1324259837454663,
          0.3775765015632638,
          -0.1156251980054847,
          -0.21565516150362785,
          -0.22645986923323966,
          0.11669255821547153,
          -0.045296648153601446,
          0.12847109998913747,
          0.11109179442805561,
          -0.10881850967056193,
          -0.13944984481782136,
          0.030799326668160175,
          0.12786261325363418,
          0.035695427870161646,
          0.38963875223775535,
          0.2518464947296191,
          0.05108571395168812,
          -0.23955544543027746,
          0.10233414523025068,
          -0.23511124058807026,
          -0.31621476551384275,
          -0.017328624142152263,
          0.2395099920949822,
          -0.028314837347064276,
          -0.034976407579390814
         ],
         "yaxis": "y4"
        },
        {
         "legendgroup": "C18",
         "marker": {
          "color": "rgb(238, 155, 0)",
          "line": {
           "color": "black",
           "width": [
            0,
            0,
            0,
            0,
            0,
            0,
            0,
            0,
            0,
            0,
            0,
            0,
            0,
            0,
            0,
            0,
            0,
            0,
            0,
            0,
            0,
            0,
            0,
            0,
            0,
            0,
            0,
            0,
            0,
            0,
            0,
            0,
            0,
            0,
            0,
            0,
            0,
            0,
            0,
            0,
            0,
            0,
            0,
            0,
            0.8,
            0,
            0,
            0,
            0.8,
            0,
            0,
            0,
            0,
            0,
            0,
            0.8,
            0,
            0,
            0,
            0,
            0,
            0.8,
            0.8,
            0,
            0,
            0,
            0,
            0,
            0.8,
            0,
            0,
            0,
            0,
            0.8,
            0.8,
            0.8,
            0.8,
            0,
            0,
            0.8,
            0.8
           ]
          },
          "opacity": 0.95,
          "size": [
           7,
           7,
           7,
           7,
           7,
           7,
           7,
           7,
           7,
           7,
           7,
           7,
           7,
           7,
           7,
           7,
           7,
           7,
           7,
           7,
           7,
           7,
           7,
           7,
           7,
           7,
           7,
           7,
           7,
           7,
           7,
           7,
           7,
           7,
           7,
           7,
           7,
           7,
           7,
           7,
           7,
           7,
           7,
           7,
           11,
           7,
           7,
           7,
           11,
           7,
           7,
           7,
           7,
           7,
           7,
           11,
           7,
           7,
           7,
           7,
           7,
           11,
           11,
           7,
           7,
           7,
           7,
           7,
           11,
           7,
           7,
           7,
           7,
           11,
           11,
           11,
           11,
           7,
           7,
           11,
           11
          ]
         },
         "mode": "markers",
         "name": "C18",
         "showlegend": false,
         "text": [
          "F1-1_F2-1",
          "F1-1_NIST-3",
          "F1-1_F2-1",
          "F1-1_F2-1",
          "F1-1_F2-1_NIST-2_To-1",
          "F1-1_F2-1_NIST-2_To-1",
          "F1-1_F2-1_NIST-1_To-2",
          "F1-1_F2-1_NIST-2_To-1",
          "F1-1_NIST-3",
          "F1-1_F2-1_NIST-1_To-2",
          "F1-1_F2-1_NIST-1_To-1",
          "F1-1_F2-1_NIST-1_To-2",
          "F1-1_F2-1_NIST-1_To-1",
          "F1-1_To-1",
          "F1-1_To-3",
          "F1-1_F2-1_NIST-1_To-1",
          "F1-1_F2-2_NIST-1_To-1",
          "F1-1_F2-2_NIST-1_To-1",
          "F1-1_F2-3",
          "F1-1_To-1",
          "F1-1_NIST-3",
          "F1-1_To-1",
          "F1-1_NIST-1",
          "F1-2_F2-1_NIST-1_To-1",
          "F1-1_NIST-1",
          "F1-1_To-3",
          "F1-1_NIST-1",
          "F2-1_To-3",
          "F1-1_To-3",
          "F2-1_NIST-3",
          "F1-2_F2-1_NIST-1_To-1",
          "F1-3_To-1",
          "F1-1_F2-2_NIST-1_To-1",
          "F1-1_F2-3",
          "F2-1_NIST-1",
          "F1-3_NIST-1",
          "F2-1_To-3",
          "F1-1_F2-3",
          "F1-3_F2-1",
          "F2-1_To-1",
          "F1-2_F2-1_NIST-1_To-1",
          "F2-1_NIST-3",
          "F2-1_NIST-1",
          "F1-3_F2-1",
          "NIST",
          "F2-1_To-1",
          "F1-3_F2-1",
          "F2-1_NIST-1",
          "NIST",
          "F2-3_To-1",
          "F2-1_NIST-3",
          "F2-3_NIST-1",
          "To-1_NIST-1",
          "F2-1_To-3",
          "F1-3_NIST-1",
          "NIST",
          "F2-3_To-1",
          "F2-3_NIST-1",
          "F2-3_To-1",
          "F1-3_To-1",
          "F2-1_To-1",
          "F2",
          "F1",
          "F1-3_NIST-1",
          "To-1_NIST-1",
          "To-3_NIST-1",
          "F1-3_To-1",
          "To-3_NIST-1",
          "F2",
          "To-1_NIST-1",
          "To-1_NIST-3",
          "To-1_NIST-3",
          "To-1_NIST-3",
          "To",
          "F2",
          "To",
          "To",
          "To-3_NIST-1",
          "F2-3_NIST-1",
          "F1",
          "F1"
         ],
         "type": "scatter",
         "x": [
          0.010858539566471823,
          -0.0015473080252438032,
          0.016949526042769104,
          0.023950724822203104,
          0.044015666915596004,
          0.03815082186134982,
          0.04007796323257072,
          0.03907456323689451,
          0.0018763647883551643,
          0.039999183902066936,
          0.04315348037533759,
          0.04012782655002866,
          0.04292760176256783,
          0.03992773921967077,
          0.021382850262665145,
          0.04505312070965197,
          0.04349485602295126,
          0.04105037843731101,
          0.021907240538975345,
          0.03527496351685198,
          0.008098625918040617,
          0.03835371310148329,
          0.013149774198872786,
          0.03787667188361754,
          0.010282809067918348,
          0.03141892970383597,
          0.011207731139434953,
          -0.00808603646145871,
          0.03431315585065186,
          -0.05268823666958276,
          0.03751532539633037,
          0.03864862176299681,
          0.04057126945023412,
          0.024671891323484553,
          -0.007518674173571944,
          0.018356892766278946,
          -0.007330876597474572,
          0.026847506078895612,
          0.021594192897480873,
          0.004661515021386478,
          0.04347865651618901,
          -0.019775409327416307,
          -0.014374793426587732,
          0.02485176900838173,
          -0.1204191453826223,
          0.006489731159783609,
          0.025479621296395152,
          -0.016025350900370147,
          -0.13306665619546673,
          0.004163942886435143,
          -0.017580214175498814,
          -0.01616869820625433,
          -0.13262627650793019,
          0.008082374580460598,
          0.02513179246794023,
          -0.13945743715742603,
          0.00703116917908864,
          -0.005727793250760433,
          0.01355882856277217,
          0.04005859595024414,
          0.006991504342530461,
          -0.008977743217188177,
          0.017427416464482526,
          0.019601111625179874,
          -0.10492648215622491,
          -0.08851141388777191,
          0.04228073980660717,
          -0.10358530317186718,
          -0.01227218794927907,
          -0.10476287411440682,
          -0.07968407568270368,
          -0.083260546883627,
          -0.09971622635188251,
          -0.11271557710775877,
          -0.017542606740276676,
          -0.10011200662063985,
          -0.12020514866092191,
          -0.12156635729225969,
          -0.009566555750644148,
          0.01886715350532251,
          0.017749972701329438
         ],
         "xaxis": "x6",
         "y": [
          -0.03715858829655638,
          -0.04174710962607065,
          -0.03113271965585537,
          -0.029457811634401886,
          0.016845806686131917,
          0.012466200362436846,
          0.016790034073215193,
          0.013522165989554984,
          -0.03728709211020191,
          0.018355576970919153,
          0.01616636325717605,
          0.01810294656027182,
          0.014343291096506148,
          0.019182418156840852,
          0.006823650809389329,
          0.016687708171838088,
          0.014123458286357702,
          0.0132929859531698,
          -0.029556131319598115,
          0.01647686618492747,
          -0.03261679108045514,
          0.018478632097283666,
          -0.03183016066584525,
          0.01223111036350634,
          -0.03629127364643624,
          0.0195007065227082,
          -0.035141882354539626,
          0.020125363129587844,
          0.019255808698755397,
          -0.031192262887040405,
          0.011361477889129412,
          0.014550179351567789,
          0.013167590761899146,
          -0.023408368127400988,
          -0.023481212564354845,
          -0.034426473304584426,
          0.02040710905495909,
          -0.025262906210020017,
          -0.030838175536321226,
          0.016353327110896095,
          0.014398379706602621,
          -0.030015344622826776,
          -0.029825046740774266,
          -0.028740299577082337,
          -0.0738896113376567,
          0.01820103010678303,
          -0.02869605350765873,
          -0.025619408252226666,
          -0.06361968025236174,
          0.009711432952888822,
          -0.032647352810344865,
          -0.0281433829157622,
          0.03168490222042795,
          0.02307776275567851,
          -0.030612855299617315,
          -0.062066492377897825,
          0.01294870310787031,
          -0.029420633322570743,
          0.014584590738306173,
          0.012575888620795445,
          0.019083003136696995,
          -0.027893952797736068,
          -0.03314681762095793,
          -0.03289612043724236,
          0.031028229724216774,
          0.028467548062375503,
          0.015419567243394596,
          0.029646406823027393,
          -0.026307023088888954,
          0.025317709321753777,
          0.020312391217050828,
          0.021668928675068446,
          0.02083004246103998,
          0.03417673006379018,
          -0.029073637771210654,
          0.030458933419980027,
          0.032283117708760044,
          0.03161392424442266,
          -0.026756625780002558,
          -0.03281971283514104,
          -0.03499033178217906
         ],
         "yaxis": "y6"
        },
        {
         "legendgroup": "C18",
         "marker": {
          "color": "rgb(238, 155, 0)",
          "line": {
           "color": "black",
           "width": [
            0,
            0,
            0,
            0,
            0,
            0,
            0,
            0,
            0,
            0,
            0,
            0,
            0,
            0,
            0,
            0,
            0,
            0,
            0,
            0,
            0,
            0,
            0,
            0,
            0,
            0,
            0,
            0,
            0,
            0,
            0,
            0,
            0,
            0,
            0,
            0,
            0,
            0,
            0,
            0,
            0,
            0,
            0,
            0,
            0.8,
            0,
            0,
            0,
            0.8,
            0,
            0,
            0,
            0,
            0,
            0,
            0.8,
            0,
            0,
            0,
            0,
            0,
            0.8,
            0.8,
            0,
            0,
            0,
            0,
            0,
            0.8,
            0,
            0,
            0,
            0,
            0.8,
            0.8,
            0.8,
            0.8,
            0,
            0,
            0.8,
            0.8
           ]
          },
          "opacity": 0.95,
          "size": [
           7,
           7,
           7,
           7,
           7,
           7,
           7,
           7,
           7,
           7,
           7,
           7,
           7,
           7,
           7,
           7,
           7,
           7,
           7,
           7,
           7,
           7,
           7,
           7,
           7,
           7,
           7,
           7,
           7,
           7,
           7,
           7,
           7,
           7,
           7,
           7,
           7,
           7,
           7,
           7,
           7,
           7,
           7,
           7,
           11,
           7,
           7,
           7,
           11,
           7,
           7,
           7,
           7,
           7,
           7,
           11,
           7,
           7,
           7,
           7,
           7,
           11,
           11,
           7,
           7,
           7,
           7,
           7,
           11,
           7,
           7,
           7,
           7,
           11,
           11,
           11,
           11,
           7,
           7,
           11,
           11
          ]
         },
         "mode": "markers",
         "name": "C18",
         "showlegend": false,
         "text": [
          "F1-1_F2-1",
          "F1-1_NIST-3",
          "F1-1_F2-1",
          "F1-1_F2-1",
          "F1-1_F2-1_NIST-2_To-1",
          "F1-1_F2-1_NIST-2_To-1",
          "F1-1_F2-1_NIST-1_To-2",
          "F1-1_F2-1_NIST-2_To-1",
          "F1-1_NIST-3",
          "F1-1_F2-1_NIST-1_To-2",
          "F1-1_F2-1_NIST-1_To-1",
          "F1-1_F2-1_NIST-1_To-2",
          "F1-1_F2-1_NIST-1_To-1",
          "F1-1_To-1",
          "F1-1_To-3",
          "F1-1_F2-1_NIST-1_To-1",
          "F1-1_F2-2_NIST-1_To-1",
          "F1-1_F2-2_NIST-1_To-1",
          "F1-1_F2-3",
          "F1-1_To-1",
          "F1-1_NIST-3",
          "F1-1_To-1",
          "F1-1_NIST-1",
          "F1-2_F2-1_NIST-1_To-1",
          "F1-1_NIST-1",
          "F1-1_To-3",
          "F1-1_NIST-1",
          "F2-1_To-3",
          "F1-1_To-3",
          "F2-1_NIST-3",
          "F1-2_F2-1_NIST-1_To-1",
          "F1-3_To-1",
          "F1-1_F2-2_NIST-1_To-1",
          "F1-1_F2-3",
          "F2-1_NIST-1",
          "F1-3_NIST-1",
          "F2-1_To-3",
          "F1-1_F2-3",
          "F1-3_F2-1",
          "F2-1_To-1",
          "F1-2_F2-1_NIST-1_To-1",
          "F2-1_NIST-3",
          "F2-1_NIST-1",
          "F1-3_F2-1",
          "NIST",
          "F2-1_To-1",
          "F1-3_F2-1",
          "F2-1_NIST-1",
          "NIST",
          "F2-3_To-1",
          "F2-1_NIST-3",
          "F2-3_NIST-1",
          "To-1_NIST-1",
          "F2-1_To-3",
          "F1-3_NIST-1",
          "NIST",
          "F2-3_To-1",
          "F2-3_NIST-1",
          "F2-3_To-1",
          "F1-3_To-1",
          "F2-1_To-1",
          "F2",
          "F1",
          "F1-3_NIST-1",
          "To-1_NIST-1",
          "To-3_NIST-1",
          "F1-3_To-1",
          "To-3_NIST-1",
          "F2",
          "To-1_NIST-1",
          "To-1_NIST-3",
          "To-1_NIST-3",
          "To-1_NIST-3",
          "To",
          "F2",
          "To",
          "To",
          "To-3_NIST-1",
          "F2-3_NIST-1",
          "F1",
          "F1"
         ],
         "type": "scatter",
         "x": [
          -0.09838520849446437,
          -0.10916443992981234,
          -0.102250359571128,
          -0.09518271776915611,
          -0.10991394449698426,
          -0.10821388683684108,
          -0.10191839853181638,
          -0.11121487589215519,
          -0.1286919531749978,
          -0.10798080842967775,
          -0.10350608915975586,
          -0.10704033835769909,
          -0.10607275304623343,
          -0.104311794024938,
          -0.1071451079091116,
          -0.10915912044738829,
          -0.09720804142466226,
          -0.10849158822363268,
          -0.09817169369378406,
          -0.10176247549527176,
          -0.11867920954500319,
          -0.10374437488663847,
          -0.11575584949462017,
          -0.11009002058281488,
          -0.1145258461895595,
          -0.10979673381686768,
          -0.11151945239215147,
          -0.10653089838967288,
          -0.10974337546916321,
          -0.11193927426578315,
          -0.10811571471253174,
          -0.10464318706668994,
          -0.10911195975991045,
          -0.09916128700004298,
          -0.10003623835334749,
          -0.11296126303159607,
          -0.10467903803136681,
          -0.09679785395993121,
          -0.10103184148286823,
          -0.0963998787868326,
          -0.10321606183650471,
          -0.10830171825220106,
          -0.1023894766840575,
          -0.0965688884961285,
          -0.13012060013883062,
          -0.09157149995995426,
          -0.10418953373561958,
          -0.10346150127403554,
          -0.14524877622058202,
          -0.09763251061519361,
          -0.109315959392667,
          -0.09874459055777186,
          -0.14581574752979115,
          -0.10227554410050371,
          -0.10178957481920725,
          -0.15467383619757213,
          -0.08986980074933346,
          -0.09470343421802871,
          -0.0910679454354085,
          -0.10037716078746631,
          -0.09913223778900622,
          -0.09209437803548216,
          -0.10178225764448244,
          -0.1029291102572105,
          -0.1447306905577705,
          -0.1373663972086005,
          -0.09673274660316844,
          -0.14356613899957463,
          -0.08928749979302346,
          -0.1545733445857867,
          -0.14710239975430559,
          -0.14479587633421862,
          -0.15073375544555492,
          -0.12752755779527036,
          -0.09149844383275435,
          -0.1144662973432272,
          -0.13708294594261344,
          -0.1565086906344671,
          -0.09200027374352082,
          -0.10000133149254165,
          -0.09984120710472769
         ],
         "xaxis": "x7",
         "y": [
          -0.07946806094297945,
          -0.06381124718144082,
          -0.08035680124586352,
          -0.08481930716196275,
          -0.04691630591209506,
          -0.04880466703472706,
          -0.0398189743510432,
          -0.043755126361880184,
          -0.06473546812094408,
          -0.044961780360157785,
          -0.047188768698198026,
          -0.04001525563355587,
          -0.043742577638005015,
          -0.04811192466806864,
          -0.03298733486382606,
          -0.046411596995695574,
          -0.04953355753723693,
          -0.051311813839438905,
          -0.08264788853302163,
          -0.04364220936212893,
          -0.06795552754165603,
          -0.05705081756907018,
          -0.07009549371305822,
          -0.05282378468086875,
          -0.07177299207243248,
          -0.03524561334089816,
          -0.07302728583192082,
          0.005623638677115087,
          -0.04151913451979395,
          0.004028275736325792,
          -0.05098609454117103,
          -0.057548662077004195,
          -0.05017747299611936,
          -0.08302432544400351,
          -0.03775767728680128,
          -0.07795982510333592,
          0.00509593709016973,
          -0.07887609792936706,
          -0.07825963081834054,
          -0.006220452788961149,
          -0.058267468827614695,
          -0.037094938250226396,
          -0.033006415234454085,
          -0.08256106188365238,
          0.14017598562952338,
          -0.012839529253320471,
          -0.0855415425844433,
          -0.03323703136693559,
          0.14732644096619332,
          -0.022119233308295162,
          -0.03150823889812488,
          -0.03403782763420237,
          0.24205185189666029,
          -0.0020791344628994053,
          -0.0769391761828957,
          0.1684814008568747,
          -0.017056749857069158,
          -0.044727414118926216,
          -0.01650230907359059,
          -0.05695924607393449,
          -0.008598922917939142,
          -0.04611320628127367,
          -0.08610383579084414,
          -0.0707624333890616,
          0.2280641751122,
          0.2150135800047636,
          -0.056296998575553245,
          0.21719022772991106,
          -0.05040257833742679,
          0.22465340934933878,
          0.19983915273579286,
          0.20650158884238773,
          0.1996006883322369,
          0.21891900910102807,
          -0.05628897658529984,
          0.22367007557864968,
          0.23154249710613484,
          0.2328467364148864,
          -0.040075219836218146,
          -0.08254322222536432,
          -0.08495918211117293
         ],
         "yaxis": "y7"
        },
        {
         "legendgroup": "C18",
         "marker": {
          "color": "rgb(238, 155, 0)",
          "line": {
           "color": "black",
           "width": [
            0,
            0,
            0,
            0,
            0,
            0,
            0,
            0,
            0,
            0,
            0,
            0,
            0,
            0,
            0,
            0,
            0,
            0,
            0,
            0,
            0,
            0,
            0,
            0,
            0,
            0,
            0,
            0,
            0,
            0,
            0,
            0,
            0,
            0,
            0,
            0,
            0,
            0,
            0,
            0,
            0,
            0,
            0,
            0,
            0.8,
            0,
            0,
            0,
            0.8,
            0,
            0,
            0,
            0,
            0,
            0,
            0.8,
            0,
            0,
            0,
            0,
            0,
            0.8,
            0.8,
            0,
            0,
            0,
            0,
            0,
            0.8,
            0,
            0,
            0,
            0,
            0.8,
            0.8,
            0.8,
            0.8,
            0,
            0,
            0.8,
            0.8
           ]
          },
          "opacity": 0.95,
          "size": [
           7,
           7,
           7,
           7,
           7,
           7,
           7,
           7,
           7,
           7,
           7,
           7,
           7,
           7,
           7,
           7,
           7,
           7,
           7,
           7,
           7,
           7,
           7,
           7,
           7,
           7,
           7,
           7,
           7,
           7,
           7,
           7,
           7,
           7,
           7,
           7,
           7,
           7,
           7,
           7,
           7,
           7,
           7,
           7,
           11,
           7,
           7,
           7,
           11,
           7,
           7,
           7,
           7,
           7,
           7,
           11,
           7,
           7,
           7,
           7,
           7,
           11,
           11,
           7,
           7,
           7,
           7,
           7,
           11,
           7,
           7,
           7,
           7,
           11,
           11,
           11,
           11,
           7,
           7,
           11,
           11
          ]
         },
         "mode": "markers",
         "name": "C18",
         "showlegend": false,
         "text": [
          "F1-1_F2-1",
          "F1-1_NIST-3",
          "F1-1_F2-1",
          "F1-1_F2-1",
          "F1-1_F2-1_NIST-2_To-1",
          "F1-1_F2-1_NIST-2_To-1",
          "F1-1_F2-1_NIST-1_To-2",
          "F1-1_F2-1_NIST-2_To-1",
          "F1-1_NIST-3",
          "F1-1_F2-1_NIST-1_To-2",
          "F1-1_F2-1_NIST-1_To-1",
          "F1-1_F2-1_NIST-1_To-2",
          "F1-1_F2-1_NIST-1_To-1",
          "F1-1_To-1",
          "F1-1_To-3",
          "F1-1_F2-1_NIST-1_To-1",
          "F1-1_F2-2_NIST-1_To-1",
          "F1-1_F2-2_NIST-1_To-1",
          "F1-1_F2-3",
          "F1-1_To-1",
          "F1-1_NIST-3",
          "F1-1_To-1",
          "F1-1_NIST-1",
          "F1-2_F2-1_NIST-1_To-1",
          "F1-1_NIST-1",
          "F1-1_To-3",
          "F1-1_NIST-1",
          "F2-1_To-3",
          "F1-1_To-3",
          "F2-1_NIST-3",
          "F1-2_F2-1_NIST-1_To-1",
          "F1-3_To-1",
          "F1-1_F2-2_NIST-1_To-1",
          "F1-1_F2-3",
          "F2-1_NIST-1",
          "F1-3_NIST-1",
          "F2-1_To-3",
          "F1-1_F2-3",
          "F1-3_F2-1",
          "F2-1_To-1",
          "F1-2_F2-1_NIST-1_To-1",
          "F2-1_NIST-3",
          "F2-1_NIST-1",
          "F1-3_F2-1",
          "NIST",
          "F2-1_To-1",
          "F1-3_F2-1",
          "F2-1_NIST-1",
          "NIST",
          "F2-3_To-1",
          "F2-1_NIST-3",
          "F2-3_NIST-1",
          "To-1_NIST-1",
          "F2-1_To-3",
          "F1-3_NIST-1",
          "NIST",
          "F2-3_To-1",
          "F2-3_NIST-1",
          "F2-3_To-1",
          "F1-3_To-1",
          "F2-1_To-1",
          "F2",
          "F1",
          "F1-3_NIST-1",
          "To-1_NIST-1",
          "To-3_NIST-1",
          "F1-3_To-1",
          "To-3_NIST-1",
          "F2",
          "To-1_NIST-1",
          "To-1_NIST-3",
          "To-1_NIST-3",
          "To-1_NIST-3",
          "To",
          "F2",
          "To",
          "To",
          "To-3_NIST-1",
          "F2-3_NIST-1",
          "F1",
          "F1"
         ],
         "type": "scatter",
         "x": [
          0.03703967496019866,
          0.008836938052105057,
          0.04067146406398972,
          0.05097268583130893,
          0.05462691669268526,
          0.0522211950140628,
          0.04938530439834229,
          0.05131865353424475,
          0.011077572958990941,
          0.05218498107954473,
          0.05647375245776747,
          0.05355965119646652,
          0.06040448778086555,
          0.05134174226916996,
          0.03436590211213343,
          0.06130917409626271,
          0.05866653354398035,
          0.05588789981185515,
          0.03818540056579013,
          0.0491521540796987,
          0.022178208332778348,
          0.05238564510366533,
          0.023074043127895644,
          0.05065229779280389,
          0.024917467926727707,
          0.034663198849646235,
          0.03315584806360746,
          -0.026092911692961074,
          0.04231487331327393,
          -0.08321437701918948,
          0.05020225616112202,
          0.054854936540071786,
          0.054322841526169965,
          0.044598999107767455,
          -0.013642276429711619,
          0.036299445092223145,
          -0.017861988206215,
          0.05161174659705946,
          0.04850377890204414,
          0.007495502571436625,
          0.054976869812902694,
          -0.029359212630116555,
          -0.012323140348420206,
          0.05403865377916891,
          -0.18283179583342268,
          0.0011815730493255439,
          0.05591805922748407,
          -0.019983761379208886,
          -0.19640144397026774,
          0.006009629809549464,
          -0.016384743366785897,
          -0.015630002068733054,
          -0.23825767592012964,
          0.004563448054357577,
          0.051348527061896035,
          -0.2101083770258408,
          0.01720196652589162,
          -0.0026196168191647694,
          0.02200009512201436,
          0.0555813049816947,
          0.012675630547375678,
          -0.004201117997058851,
          0.03452145942632554,
          0.03971140529548562,
          -0.18618274926180528,
          -0.18273344058740287,
          0.053805103093814886,
          -0.19128960728072242,
          -0.014232021268271002,
          -0.18888240401331227,
          -0.14519238175694865,
          -0.1464915328230721,
          -0.16867138193368847,
          -0.20030363030262452,
          -0.017452824409271803,
          -0.1810845191826988,
          -0.21303124216454256,
          -0.21093049828668609,
          -0.008118727814982862,
          0.04442908901118519,
          0.04668548749471721
         ],
         "xaxis": "x8",
         "y": [
          -0.06999776970935584,
          -0.08590986870226236,
          -0.05581687529163346,
          -0.05010694419524182,
          0.02375655003838537,
          0.0195157737440026,
          0.02600553752972329,
          0.019563117983378113,
          -0.07616071305003848,
          0.03026152449057089,
          0.024562142019047096,
          0.029923910794032168,
          0.025804299272607804,
          0.030072732148531015,
          0.00964961104376018,
          0.029596744079783504,
          0.023461479101209156,
          0.016257791209183393,
          -0.05831890441840156,
          0.028631632933510585,
          -0.06419821917414881,
          0.0274925519403055,
          -0.06230814612021523,
          0.017393781584204623,
          -0.07344591467271769,
          0.021888185645941464,
          -0.062943847837056,
          0.0015401207632206918,
          0.02523863101351732,
          -0.07001587867245851,
          0.016974772508775732,
          0.022988747273887805,
          0.018403294835925843,
          -0.04639690765414984,
          -0.056199442854146464,
          -0.06833293155588048,
          0.006065047774634718,
          -0.04223163887714879,
          -0.05320987441173023,
          0.006520866400838627,
          0.020479499388025155,
          -0.070299719813022,
          -0.06729375934154885,
          -0.05143172875852871,
          -0.12388856608613433,
          0.004930000494882295,
          -0.04960579414275106,
          -0.056379165878246026,
          -0.1216127230503562,
          -0.0053270386473591586,
          -0.07132638164795403,
          -0.06289478395521905,
          0.03852778801467475,
          0.01321029633035005,
          -0.054699382560387984,
          -0.1233350159695669,
          0.006157158552680637,
          -0.06314665444448395,
          0.0070457960407688475,
          0.019920441658472676,
          0.008119039197626285,
          -0.06032688013037817,
          -0.06501518940946702,
          -0.059672916492822047,
          0.03345706069111015,
          0.03609592475320516,
          0.021813210134092476,
          0.031931045149887496,
          -0.05890388271872856,
          0.024234569666754174,
          0.015179680020343301,
          0.017946302901439268,
          0.01429644113901385,
          0.04490711705965947,
          -0.0634597063445679,
          0.04034538605497447,
          0.04283146583487165,
          0.03615977871138542,
          -0.06043666997960353,
          -0.059900409855464874,
          -0.0627323161723289
         ],
         "yaxis": "y8"
        },
        {
         "legendgroup": "C18-RTshift",
         "marker": {
          "color": "rgb(0, 95, 115)",
          "line": {
           "color": "black",
           "width": [
            0,
            0,
            0,
            0,
            0,
            0,
            0,
            0,
            0,
            0,
            0,
            0,
            0,
            0,
            0,
            0,
            0,
            0,
            0,
            0,
            0,
            0,
            0,
            0,
            0,
            0,
            0,
            0,
            0,
            0,
            0,
            0,
            0,
            0,
            0,
            0,
            0,
            0,
            0,
            0,
            0,
            0,
            0,
            0,
            0,
            0,
            0,
            0,
            0,
            0,
            0,
            0,
            0,
            0.8,
            0,
            0.8,
            0.8,
            0,
            0,
            0,
            0,
            0,
            0,
            0,
            0,
            0,
            0,
            0,
            0.8,
            0,
            0,
            0,
            0,
            0.8,
            0.8,
            0.8,
            0.8,
            0.8,
            0.8,
            0.8,
            0.8
           ]
          },
          "opacity": 0.95,
          "size": [
           7,
           7,
           7,
           7,
           7,
           7,
           7,
           7,
           7,
           7,
           7,
           7,
           7,
           7,
           7,
           7,
           7,
           7,
           7,
           7,
           7,
           7,
           7,
           7,
           7,
           7,
           7,
           7,
           7,
           7,
           7,
           7,
           7,
           7,
           7,
           7,
           7,
           7,
           7,
           7,
           7,
           7,
           7,
           7,
           7,
           7,
           7,
           7,
           7,
           7,
           7,
           7,
           7,
           11,
           7,
           11,
           11,
           7,
           7,
           7,
           7,
           7,
           7,
           7,
           7,
           7,
           7,
           7,
           11,
           7,
           7,
           7,
           7,
           11,
           11,
           11,
           11,
           11,
           11,
           11,
           11
          ]
         },
         "mode": "markers",
         "name": "C18-RTshift",
         "showlegend": true,
         "text": [
          "F1-1_F2-1",
          "F1-1_F2-1_NIST-2_To-1",
          "F1-1_F2-1",
          "F1-1_To-1",
          "F1-1_F2-1",
          "F1-1_F2-1_NIST-1_To-1",
          "F1-1_F2-1_NIST-1_To-1",
          "F1-1_F2-1_NIST-1_To-1",
          "F1-1_F2-1_NIST-2_To-1",
          "F1-1_F2-1_NIST-1_To-2",
          "F1-1_F2-1_NIST-1_To-2",
          "F1-1_NIST-3",
          "F1-1_F2-1_NIST-2_To-1",
          "F1-1_F2-2_NIST-1_To-1",
          "F1-1_F2-2_NIST-1_To-1",
          "F1-1_NIST-3",
          "F1-1_To-1",
          "F1-1_F2-1_NIST-1_To-2",
          "F1-1_F2-3",
          "F1-3_F2-1",
          "F1-1_NIST-3",
          "F1-1_To-1",
          "F1-1_F2-2_NIST-1_To-1",
          "F1-1_NIST-1",
          "F1-1_NIST-1",
          "F1-1_NIST-1",
          "F1-3_To-1",
          "F1-3_F2-1",
          "F1-1_To-3",
          "F1-1_To-3",
          "F1-1_F2-3",
          "F1-1_To-3",
          "F1-2_F2-1_NIST-1_To-1",
          "F1-1_F2-3",
          "F2-1_NIST-1",
          "F2-1_NIST-1",
          "F1-2_F2-1_NIST-1_To-1",
          "F2-1_NIST-3",
          "F2-1_NIST-1",
          "F2-1_To-1",
          "F2-1_NIST-3",
          "F2-1_NIST-3",
          "F1-2_F2-1_NIST-1_To-1",
          "F1-3_NIST-1",
          "F1-3_NIST-1",
          "F2-1_To-3",
          "F2-3_NIST-1",
          "F1-3_NIST-1",
          "F2-1_To-1",
          "F2-3_To-1",
          "F1-3_To-1",
          "F2-1_To-1",
          "F2-1_To-3",
          "NIST",
          "F2-3_NIST-1",
          "NIST",
          "NIST",
          "F2-1_To-3",
          "F2-3_To-1",
          "To-1_NIST-1",
          "F2-3_To-1",
          "To-3_NIST-1",
          "To-1_NIST-1",
          "To-1_NIST-1",
          "To-1_NIST-3",
          "F2-3_NIST-1",
          "To-1_NIST-3",
          "To-1_NIST-3",
          "To",
          "To-3_NIST-1",
          "To-3_NIST-1",
          "F1-3_To-1",
          "F1-3_F2-1",
          "To",
          "F2",
          "To",
          "F1",
          "F1",
          "F2",
          "F2",
          "F1"
         ],
         "type": "scatter",
         "x": [
          -0.38516283118916783,
          -0.42116269909480786,
          -0.4031147577711521,
          -0.38343556405416684,
          -0.4006424530724825,
          -0.45298898521530856,
          -0.4554677616530291,
          -0.45455401047990224,
          -0.4558034614758588,
          -0.44280713595677396,
          -0.4472745153095163,
          -0.3958401778134825,
          -0.4562944643625373,
          -0.44376465841019297,
          -0.4492417467324535,
          -0.3986665758086457,
          -0.3990702318611981,
          -0.4542164484372175,
          -0.38984385258027293,
          -0.3232243766402031,
          -0.3989099811054548,
          -0.3990510188878384,
          -0.44827629093172283,
          -0.3939991918422098,
          -0.3943851290625163,
          -0.3937261883674724,
          -0.3961509011473026,
          -0.39266844149526214,
          -0.39823250809690564,
          -0.3966267297505758,
          -0.38694339950406637,
          -0.39854748030010523,
          -0.4384777482813281,
          -0.3906970233015799,
          -0.383215671579207,
          -0.38195051940592173,
          -0.4384984615449552,
          -0.36773771392975957,
          -0.3846966540809082,
          -0.37230368005798337,
          -0.3718156456676337,
          -0.37117804158580364,
          -0.4368569575198242,
          -0.3693368517889744,
          -0.37285407356064004,
          -0.3483219081383484,
          -0.32893817173144163,
          -0.36746442508104166,
          -0.3798917780713977,
          -0.3577040153418656,
          -0.3977231580529449,
          -0.3835099125034292,
          -0.34608581070594685,
          -0.22379314314094498,
          -0.3552815288940166,
          -0.21911683545608768,
          -0.22495053314655664,
          -0.3451683764891077,
          -0.3739975738427452,
          -0.2953185599619667,
          -0.3640673530911297,
          -0.2736722223869415,
          -0.3149877378864433,
          -0.29613979992452677,
          -0.31643499922604496,
          -0.35588654238727374,
          -0.3133216093611502,
          -0.317434607713153,
          -0.21730082278122018,
          -0.28870604450249115,
          -0.27880921538333464,
          -0.3971435442716556,
          -0.3739424685696191,
          -0.2178013479499449,
          -0.29818982456770815,
          -0.2178109800999921,
          -0.3373618831071427,
          -0.3425948335640888,
          -0.30498075828845483,
          -0.3029117223960824,
          -0.3368940886413328
         ],
         "xaxis": "x",
         "y": [
          -0.23273166354423214,
          -0.03241770307153907,
          -0.24127238869074144,
          -0.02192222656995085,
          -0.24744055357996794,
          -0.05429863869394628,
          -0.05790389966194871,
          -0.05259278068770475,
          -0.04743234737749503,
          -0.000030032861997262916,
          0.0043773320532620105,
          -0.14519975298796875,
          -0.04695911976405537,
          -0.07541900159009667,
          -0.07896255117716244,
          -0.13969093256313186,
          -0.030550071374550448,
          0.002188566060636838,
          -0.24209775187006788,
          -0.197689297210125,
          -0.13987072285144625,
          -0.040391567177254596,
          -0.0784232687494825,
          -0.19945181332694747,
          -0.19333876319555549,
          -0.19558074779063098,
          -0.14513734746587142,
          -0.25710731055239133,
          0.059062293455082654,
          0.06255523213188584,
          -0.2513394055652125,
          0.061993418839075935,
          -0.12527936213572294,
          -0.2444268509797374,
          -0.02418563794863264,
          -0.023072862836722403,
          -0.12970730598563768,
          0.02973752477853144,
          -0.02146291931464559,
          0.14564552388158472,
          0.033770845820375865,
          0.03275419516220387,
          -0.12945824317864482,
          -0.2322593780202578,
          -0.22926684200091388,
          0.23735719463366683,
          -0.08456347098249355,
          -0.23018642855442803,
          0.13715063202922484,
          0.045360355108568125,
          -0.1487856355152412,
          0.14374806987144317,
          0.24175556405465576,
          0.19068663701444435,
          -0.07438166316158401,
          0.18490741352162268,
          0.18863477629578707,
          0.23483552869247606,
          0.04943233136271063,
          0.3824145794953437,
          0.053323373072231145,
          0.39459229042148114,
          0.3797248879278134,
          0.39106425255277794,
          0.33638532561345064,
          -0.07175842493475489,
          0.3302445106870501,
          0.3363052399071701,
          0.4164429757170866,
          0.40340388653406545,
          0.4007225198176094,
          -0.14434612884495018,
          -0.2595741871088662,
          0.4301240417410015,
          -0.1056751780646909,
          0.4180300000013799,
          -0.25479251587941043,
          -0.2613925380473069,
          -0.11098656206606773,
          -0.11278095136937709,
          -0.2543953875090172
         ],
         "yaxis": "y"
        },
        {
         "legendgroup": "C18-RTshift",
         "marker": {
          "color": "rgb(0, 95, 115)",
          "line": {
           "color": "black",
           "width": [
            0,
            0,
            0,
            0,
            0,
            0,
            0,
            0,
            0,
            0,
            0,
            0,
            0,
            0,
            0,
            0,
            0,
            0,
            0,
            0,
            0,
            0,
            0,
            0,
            0,
            0,
            0,
            0,
            0,
            0,
            0,
            0,
            0,
            0,
            0,
            0,
            0,
            0,
            0,
            0,
            0,
            0,
            0,
            0,
            0,
            0,
            0,
            0,
            0,
            0,
            0,
            0,
            0,
            0.8,
            0,
            0.8,
            0.8,
            0,
            0,
            0,
            0,
            0,
            0,
            0,
            0,
            0,
            0,
            0,
            0.8,
            0,
            0,
            0,
            0,
            0.8,
            0.8,
            0.8,
            0.8,
            0.8,
            0.8,
            0.8,
            0.8
           ]
          },
          "opacity": 0.95,
          "size": [
           7,
           7,
           7,
           7,
           7,
           7,
           7,
           7,
           7,
           7,
           7,
           7,
           7,
           7,
           7,
           7,
           7,
           7,
           7,
           7,
           7,
           7,
           7,
           7,
           7,
           7,
           7,
           7,
           7,
           7,
           7,
           7,
           7,
           7,
           7,
           7,
           7,
           7,
           7,
           7,
           7,
           7,
           7,
           7,
           7,
           7,
           7,
           7,
           7,
           7,
           7,
           7,
           7,
           11,
           7,
           11,
           11,
           7,
           7,
           7,
           7,
           7,
           7,
           7,
           7,
           7,
           7,
           7,
           11,
           7,
           7,
           7,
           7,
           11,
           11,
           11,
           11,
           11,
           11,
           11,
           11
          ]
         },
         "mode": "markers",
         "name": "C18-RTshift",
         "showlegend": false,
         "text": [
          "F1-1_F2-1",
          "F1-1_F2-1_NIST-2_To-1",
          "F1-1_F2-1",
          "F1-1_To-1",
          "F1-1_F2-1",
          "F1-1_F2-1_NIST-1_To-1",
          "F1-1_F2-1_NIST-1_To-1",
          "F1-1_F2-1_NIST-1_To-1",
          "F1-1_F2-1_NIST-2_To-1",
          "F1-1_F2-1_NIST-1_To-2",
          "F1-1_F2-1_NIST-1_To-2",
          "F1-1_NIST-3",
          "F1-1_F2-1_NIST-2_To-1",
          "F1-1_F2-2_NIST-1_To-1",
          "F1-1_F2-2_NIST-1_To-1",
          "F1-1_NIST-3",
          "F1-1_To-1",
          "F1-1_F2-1_NIST-1_To-2",
          "F1-1_F2-3",
          "F1-3_F2-1",
          "F1-1_NIST-3",
          "F1-1_To-1",
          "F1-1_F2-2_NIST-1_To-1",
          "F1-1_NIST-1",
          "F1-1_NIST-1",
          "F1-1_NIST-1",
          "F1-3_To-1",
          "F1-3_F2-1",
          "F1-1_To-3",
          "F1-1_To-3",
          "F1-1_F2-3",
          "F1-1_To-3",
          "F1-2_F2-1_NIST-1_To-1",
          "F1-1_F2-3",
          "F2-1_NIST-1",
          "F2-1_NIST-1",
          "F1-2_F2-1_NIST-1_To-1",
          "F2-1_NIST-3",
          "F2-1_NIST-1",
          "F2-1_To-1",
          "F2-1_NIST-3",
          "F2-1_NIST-3",
          "F1-2_F2-1_NIST-1_To-1",
          "F1-3_NIST-1",
          "F1-3_NIST-1",
          "F2-1_To-3",
          "F2-3_NIST-1",
          "F1-3_NIST-1",
          "F2-1_To-1",
          "F2-3_To-1",
          "F1-3_To-1",
          "F2-1_To-1",
          "F2-1_To-3",
          "NIST",
          "F2-3_NIST-1",
          "NIST",
          "NIST",
          "F2-1_To-3",
          "F2-3_To-1",
          "To-1_NIST-1",
          "F2-3_To-1",
          "To-3_NIST-1",
          "To-1_NIST-1",
          "To-1_NIST-1",
          "To-1_NIST-3",
          "F2-3_NIST-1",
          "To-1_NIST-3",
          "To-1_NIST-3",
          "To",
          "To-3_NIST-1",
          "To-3_NIST-1",
          "F1-3_To-1",
          "F1-3_F2-1",
          "To",
          "F2",
          "To",
          "F1",
          "F1",
          "F2",
          "F2",
          "F1"
         ],
         "type": "scatter",
         "x": [
          -0.13333885678054364,
          -0.0650579945496195,
          -0.14089780210622882,
          -0.053401039508848495,
          -0.13346118238915303,
          -0.04058557081620016,
          -0.0626002264279435,
          -0.043438814678442815,
          -0.06089317585939769,
          -0.011447963834365124,
          -0.018269740619031825,
          -0.11633957256285116,
          -0.06547016726994194,
          -0.054639005420677185,
          -0.0661136975222149,
          -0.12249218422044923,
          -0.06034555245386287,
          -0.03915711800787476,
          -0.10409768412780442,
          -0.15575035869076173,
          -0.11806758322611138,
          -0.06205209967531938,
          -0.060163711756403504,
          -0.1393090653580637,
          -0.1359101628210323,
          -0.13774103451877306,
          -0.09891924422821141,
          -0.15237875576064383,
          0.0027619063901762136,
          0.00173490488616158,
          -0.1127651860337154,
          0.005549374412819611,
          -0.10782748200258167,
          -0.10882031588866424,
          -0.03974772223910517,
          -0.05750147757000866,
          -0.10132255243309361,
          -0.05700573964532219,
          -0.03592267662357956,
          0.06438713519727524,
          -0.041907075800450375,
          -0.041305173135447716,
          -0.09613307009990929,
          -0.1424167260768606,
          -0.13244982249139126,
          0.10428531776194838,
          -0.04805023868580287,
          -0.14140373084160598,
          0.049206656043626375,
          0.023481143237131904,
          -0.10391611745466833,
          0.05395729812884994,
          0.1034269736575937,
          0.17154669499216588,
          -0.05008391802905354,
          0.1496642266424327,
          0.1612028911339109,
          0.09709349076605553,
          0.020929563697616,
          0.2864052898487018,
          0.010213652166202344,
          0.2697632766606302,
          0.29208645844011605,
          0.30110036834107035,
          0.2818326730561589,
          -0.049552640136429946,
          0.28343588370291967,
          0.29135383209459476,
          0.25453444749778426,
          0.24911325108800034,
          0.2602248475532062,
          -0.11026548365934713,
          -0.1306965213651863,
          0.24361236651867252,
          -0.06107827188574657,
          0.2348686928318052,
          -0.13447857352339018,
          -0.1356971634779075,
          -0.04125857646067151,
          -0.0520502837784039,
          -0.1368912377754744
         ],
         "xaxis": "x2",
         "y": [
          -0.0026623084088518304,
          0.025471437141163206,
          -0.007164217853401948,
          0.040373653376352764,
          0.0038305043407470666,
          0.045298687656387046,
          0.03629660629720344,
          0.05018858955462344,
          0.03585403394078476,
          0.06030534652953082,
          0.06013434276569535,
          -0.06724913947241974,
          0.02259469404746684,
          0.05268523308641829,
          0.03857304972666556,
          -0.05780629404638792,
          0.04287616121599804,
          0.04545419895583608,
          0.02311816978357187,
          -0.040365424391224085,
          -0.06277857973681628,
          0.04041735029402664,
          0.04588001319174788,
          -0.007412831288388388,
          -0.017379594421358155,
          -0.012984316951298874,
          0.03743236080509448,
          0.007644613051798996,
          0.07458689005210185,
          0.07266785317823234,
          0.014404049026130862,
          0.07353509931346461,
          0.03455512668215135,
          0.009272458947383697,
          -0.038522047829307626,
          -0.05404389467057002,
          0.04040448555367901,
          -0.14981181904452914,
          -0.014966825864947072,
          0.0843815531878728,
          -0.16703473105376418,
          -0.1399674980188131,
          0.038373355921179034,
          0.00011383712388843745,
          0.00014482329392609826,
          0.08621666032283685,
          -0.0022477229343033575,
          -0.002872942807766448,
          0.06888735003340915,
          0.05501795881954853,
          0.03859161843917641,
          0.07442056597494875,
          0.08746822842072625,
          -0.45336981946202365,
          0.001446535466944655,
          -0.47585213926030473,
          -0.4554477345578728,
          0.0810337311895191,
          0.049283179896071554,
          0.06588445989195654,
          0.049269141117101255,
          0.11459807359031339,
          0.0618656736604265,
          0.04628994240827433,
          -0.07329863213381095,
          0.004737646278677584,
          -0.07532520841211941,
          -0.018552040610695406,
          0.11946867305276093,
          0.0938660394329599,
          0.10147625057118494,
          0.034783793824921916,
          0.004817947954605636,
          0.10817366053071263,
          0.0014473649697815687,
          0.1225454788811047,
          0.012267142441181295,
          0.020597010097321324,
          0.01482323912135041,
          0.01443466565913974,
          0.014944744790341533
         ],
         "yaxis": "y2"
        },
        {
         "legendgroup": "C18-RTshift",
         "marker": {
          "color": "rgb(0, 95, 115)",
          "line": {
           "color": "black",
           "width": [
            0,
            0,
            0,
            0,
            0,
            0,
            0,
            0,
            0,
            0,
            0,
            0,
            0,
            0,
            0,
            0,
            0,
            0,
            0,
            0,
            0,
            0,
            0,
            0,
            0,
            0,
            0,
            0,
            0,
            0,
            0,
            0,
            0,
            0,
            0,
            0,
            0,
            0,
            0,
            0,
            0,
            0,
            0,
            0,
            0,
            0,
            0,
            0,
            0,
            0,
            0,
            0,
            0,
            0.8,
            0,
            0.8,
            0.8,
            0,
            0,
            0,
            0,
            0,
            0,
            0,
            0,
            0,
            0,
            0,
            0.8,
            0,
            0,
            0,
            0,
            0.8,
            0.8,
            0.8,
            0.8,
            0.8,
            0.8,
            0.8,
            0.8
           ]
          },
          "opacity": 0.95,
          "size": [
           7,
           7,
           7,
           7,
           7,
           7,
           7,
           7,
           7,
           7,
           7,
           7,
           7,
           7,
           7,
           7,
           7,
           7,
           7,
           7,
           7,
           7,
           7,
           7,
           7,
           7,
           7,
           7,
           7,
           7,
           7,
           7,
           7,
           7,
           7,
           7,
           7,
           7,
           7,
           7,
           7,
           7,
           7,
           7,
           7,
           7,
           7,
           7,
           7,
           7,
           7,
           7,
           7,
           11,
           7,
           11,
           11,
           7,
           7,
           7,
           7,
           7,
           7,
           7,
           7,
           7,
           7,
           7,
           11,
           7,
           7,
           7,
           7,
           11,
           11,
           11,
           11,
           11,
           11,
           11,
           11
          ]
         },
         "mode": "markers",
         "name": "C18-RTshift",
         "showlegend": false,
         "text": [
          "F1-1_F2-1",
          "F1-1_F2-1_NIST-2_To-1",
          "F1-1_F2-1",
          "F1-1_To-1",
          "F1-1_F2-1",
          "F1-1_F2-1_NIST-1_To-1",
          "F1-1_F2-1_NIST-1_To-1",
          "F1-1_F2-1_NIST-1_To-1",
          "F1-1_F2-1_NIST-2_To-1",
          "F1-1_F2-1_NIST-1_To-2",
          "F1-1_F2-1_NIST-1_To-2",
          "F1-1_NIST-3",
          "F1-1_F2-1_NIST-2_To-1",
          "F1-1_F2-2_NIST-1_To-1",
          "F1-1_F2-2_NIST-1_To-1",
          "F1-1_NIST-3",
          "F1-1_To-1",
          "F1-1_F2-1_NIST-1_To-2",
          "F1-1_F2-3",
          "F1-3_F2-1",
          "F1-1_NIST-3",
          "F1-1_To-1",
          "F1-1_F2-2_NIST-1_To-1",
          "F1-1_NIST-1",
          "F1-1_NIST-1",
          "F1-1_NIST-1",
          "F1-3_To-1",
          "F1-3_F2-1",
          "F1-1_To-3",
          "F1-1_To-3",
          "F1-1_F2-3",
          "F1-1_To-3",
          "F1-2_F2-1_NIST-1_To-1",
          "F1-1_F2-3",
          "F2-1_NIST-1",
          "F2-1_NIST-1",
          "F1-2_F2-1_NIST-1_To-1",
          "F2-1_NIST-3",
          "F2-1_NIST-1",
          "F2-1_To-1",
          "F2-1_NIST-3",
          "F2-1_NIST-3",
          "F1-2_F2-1_NIST-1_To-1",
          "F1-3_NIST-1",
          "F1-3_NIST-1",
          "F2-1_To-3",
          "F2-3_NIST-1",
          "F1-3_NIST-1",
          "F2-1_To-1",
          "F2-3_To-1",
          "F1-3_To-1",
          "F2-1_To-1",
          "F2-1_To-3",
          "NIST",
          "F2-3_NIST-1",
          "NIST",
          "NIST",
          "F2-1_To-3",
          "F2-3_To-1",
          "To-1_NIST-1",
          "F2-3_To-1",
          "To-3_NIST-1",
          "To-1_NIST-1",
          "To-1_NIST-1",
          "To-1_NIST-3",
          "F2-3_NIST-1",
          "To-1_NIST-3",
          "To-1_NIST-3",
          "To",
          "To-3_NIST-1",
          "To-3_NIST-1",
          "F1-3_To-1",
          "F1-3_F2-1",
          "To",
          "F2",
          "To",
          "F1",
          "F1",
          "F2",
          "F2",
          "F1"
         ],
         "type": "scatter",
         "x": [
          -0.19721120551596394,
          -0.027158237074347787,
          -0.1908554025590192,
          -0.11957379546787297,
          -0.19285189213695714,
          -0.06713720323443374,
          -0.06332229618928939,
          -0.05810227449226987,
          -0.026584775646112346,
          -0.04783627596088164,
          -0.04647419535331917,
          0.03317625263943045,
          -0.027834079055330148,
          -0.08047061718848034,
          -0.0852719831701743,
          0.03994837754288421,
          -0.11995411437994025,
          -0.050037537271556305,
          -0.17997360685811903,
          -0.19609317988115324,
          0.04260180594648361,
          -0.12071211392670489,
          -0.08331224730938423,
          -0.06303011436398868,
          -0.06234960230986775,
          -0.06288549513727326,
          -0.155802754380531,
          -0.1863492354192653,
          -0.06319296390397337,
          -0.0644716784708506,
          -0.18429672465270225,
          -0.06290502495333798,
          -0.11300941106970616,
          -0.18145170687941065,
          0.0685593951395984,
          0.07047400931942431,
          -0.11053377938805779,
          0.16921671899161816,
          0.06652750855039057,
          -0.03267009732037192,
          0.18138448701819335,
          0.17638157998465684,
          -0.11170637140130439,
          -0.13239977764441535,
          -0.13518109065101888,
          0.014415118341089248,
          -0.07834855419238103,
          -0.13558696210881352,
          -0.03518944796644,
          -0.08093826918863746,
          -0.15682516984974224,
          -0.04101157151198569,
          0.018644479075063423,
          0.4293990409250797,
          -0.03488427504231093,
          0.43181046803922474,
          0.4313960598714032,
          0.01660522720885699,
          -0.08451278963075162,
          0.28641963644078455,
          -0.08490520745785841,
          0.22023316517486233,
          0.32650241433338134,
          0.3035317694303354,
          0.3765544133169317,
          -0.03616833263153802,
          0.3765448975981951,
          0.37955996137743686,
          0.1231894193273196,
          0.2302719117510764,
          0.2295265969788813,
          -0.15829608562157235,
          -0.18783409272218776,
          0.12194115468667059,
          -0.12456833043714044,
          0.12322174154172612,
          -0.18728992503721326,
          -0.184861639864546,
          -0.1276817493662327,
          -0.1267864113892541,
          -0.18507705410167866
         ],
         "xaxis": "x3",
         "y": [
          -0.038458374970464775,
          -0.02853186318926351,
          -0.03986673177839091,
          0.08618870596050962,
          -0.044791445288017394,
          -0.0030643363276888105,
          -0.004722138541406866,
          -0.0002481773868629733,
          -0.037077302926816325,
          0.04889073583011306,
          0.05060294209089701,
          -0.15812306497819004,
          -0.03242180871125664,
          -0.002429043575974836,
          -0.010025585726356267,
          -0.15872100998090716,
          0.0869066500154485,
          0.0354603633234821,
          -0.042274735156629,
          -0.04265389140437231,
          -0.16062176944498302,
          0.08209780767126115,
          -0.0032078801161086463,
          -0.11584812108694718,
          -0.11347773289209127,
          -0.11467380581314417,
          0.020001013055903755,
          -0.04739579508632637,
          0.15941397389507275,
          0.15670171355094462,
          -0.045577964435134816,
          0.15781718874531536,
          -0.021223917261758537,
          -0.0434068607585624,
          -0.13225080487335056,
          -0.12944484939626913,
          -0.024204475204906664,
          -0.17036194321495174,
          -0.12478407338656461,
          0.1641044361818666,
          -0.17951883348027467,
          -0.17288132391118433,
          -0.023935025805396984,
          -0.0782314825884605,
          -0.0774205732812537,
          0.23177855021966892,
          -0.056226707514842,
          -0.07892988898176534,
          0.15719264190074705,
          0.08423581186068514,
          0.007035861016360251,
          0.15021593203727335,
          0.2392586720996388,
          -0.2513760750311159,
          -0.08325230739302264,
          -0.25851260311321805,
          -0.2544012082690687,
          0.23331492586366218,
          0.08414374989456226,
          0.14226676320511264,
          0.0742876338624799,
          0.20494198215768425,
          0.09642546543509353,
          0.127567370826148,
          0.0008746940600665618,
          -0.08380437816137824,
          0.00204509274209195,
          -0.001598864167596728,
          0.3530725122095798,
          0.19884368969056535,
          0.194443650324782,
          0.006315894531378756,
          -0.05220486224236019,
          0.36345238138958524,
          -0.022559569688873907,
          0.3607773783009534,
          -0.0532939635701254,
          -0.054057770510836364,
          -0.018682696482034526,
          -0.018840955095588266,
          -0.05432325821050055
         ],
         "yaxis": "y3"
        },
        {
         "legendgroup": "C18-RTshift",
         "marker": {
          "color": "rgb(0, 95, 115)",
          "line": {
           "color": "black",
           "width": [
            0,
            0,
            0,
            0,
            0,
            0,
            0,
            0,
            0,
            0,
            0,
            0,
            0,
            0,
            0,
            0,
            0,
            0,
            0,
            0,
            0,
            0,
            0,
            0,
            0,
            0,
            0,
            0,
            0,
            0,
            0,
            0,
            0,
            0,
            0,
            0,
            0,
            0,
            0,
            0,
            0,
            0,
            0,
            0,
            0,
            0,
            0,
            0,
            0,
            0,
            0,
            0,
            0,
            0.8,
            0,
            0.8,
            0.8,
            0,
            0,
            0,
            0,
            0,
            0,
            0,
            0,
            0,
            0,
            0,
            0.8,
            0,
            0,
            0,
            0,
            0.8,
            0.8,
            0.8,
            0.8,
            0.8,
            0.8,
            0.8,
            0.8
           ]
          },
          "opacity": 0.95,
          "size": [
           7,
           7,
           7,
           7,
           7,
           7,
           7,
           7,
           7,
           7,
           7,
           7,
           7,
           7,
           7,
           7,
           7,
           7,
           7,
           7,
           7,
           7,
           7,
           7,
           7,
           7,
           7,
           7,
           7,
           7,
           7,
           7,
           7,
           7,
           7,
           7,
           7,
           7,
           7,
           7,
           7,
           7,
           7,
           7,
           7,
           7,
           7,
           7,
           7,
           7,
           7,
           7,
           7,
           11,
           7,
           11,
           11,
           7,
           7,
           7,
           7,
           7,
           7,
           7,
           7,
           7,
           7,
           7,
           11,
           7,
           7,
           7,
           7,
           11,
           11,
           11,
           11,
           11,
           11,
           11,
           11
          ]
         },
         "mode": "markers",
         "name": "C18-RTshift",
         "showlegend": false,
         "text": [
          "F1-1_F2-1",
          "F1-1_F2-1_NIST-2_To-1",
          "F1-1_F2-1",
          "F1-1_To-1",
          "F1-1_F2-1",
          "F1-1_F2-1_NIST-1_To-1",
          "F1-1_F2-1_NIST-1_To-1",
          "F1-1_F2-1_NIST-1_To-1",
          "F1-1_F2-1_NIST-2_To-1",
          "F1-1_F2-1_NIST-1_To-2",
          "F1-1_F2-1_NIST-1_To-2",
          "F1-1_NIST-3",
          "F1-1_F2-1_NIST-2_To-1",
          "F1-1_F2-2_NIST-1_To-1",
          "F1-1_F2-2_NIST-1_To-1",
          "F1-1_NIST-3",
          "F1-1_To-1",
          "F1-1_F2-1_NIST-1_To-2",
          "F1-1_F2-3",
          "F1-3_F2-1",
          "F1-1_NIST-3",
          "F1-1_To-1",
          "F1-1_F2-2_NIST-1_To-1",
          "F1-1_NIST-1",
          "F1-1_NIST-1",
          "F1-1_NIST-1",
          "F1-3_To-1",
          "F1-3_F2-1",
          "F1-1_To-3",
          "F1-1_To-3",
          "F1-1_F2-3",
          "F1-1_To-3",
          "F1-2_F2-1_NIST-1_To-1",
          "F1-1_F2-3",
          "F2-1_NIST-1",
          "F2-1_NIST-1",
          "F1-2_F2-1_NIST-1_To-1",
          "F2-1_NIST-3",
          "F2-1_NIST-1",
          "F2-1_To-1",
          "F2-1_NIST-3",
          "F2-1_NIST-3",
          "F1-2_F2-1_NIST-1_To-1",
          "F1-3_NIST-1",
          "F1-3_NIST-1",
          "F2-1_To-3",
          "F2-3_NIST-1",
          "F1-3_NIST-1",
          "F2-1_To-1",
          "F2-3_To-1",
          "F1-3_To-1",
          "F2-1_To-1",
          "F2-1_To-3",
          "NIST",
          "F2-3_NIST-1",
          "NIST",
          "NIST",
          "F2-1_To-3",
          "F2-3_To-1",
          "To-1_NIST-1",
          "F2-3_To-1",
          "To-3_NIST-1",
          "To-1_NIST-1",
          "To-1_NIST-1",
          "To-1_NIST-3",
          "F2-3_NIST-1",
          "To-1_NIST-3",
          "To-1_NIST-3",
          "To",
          "To-3_NIST-1",
          "To-3_NIST-1",
          "F1-3_To-1",
          "F1-3_F2-1",
          "To",
          "F2",
          "To",
          "F1",
          "F1",
          "F2",
          "F2",
          "F1"
         ],
         "type": "scatter",
         "x": [
          -0.4000184087176819,
          -0.1102680644690188,
          -0.3921750046902649,
          -0.08684207680412846,
          -0.4009384348410792,
          -0.1299490346537986,
          -0.11692235197077123,
          -0.1080035607644288,
          -0.12643251992244733,
          -0.026862090799318304,
          -0.01677110530567683,
          -0.19212886981596988,
          -0.11683993835270585,
          -0.12149096631345593,
          -0.14535193552318726,
          -0.19154456634844488,
          -0.09746541023927223,
          -0.055773089588868965,
          -0.34690614744462167,
          -0.4186505729276004,
          -0.1854157425433651,
          -0.09328581526451844,
          -0.12494275523417017,
          -0.3276500761704256,
          -0.32709840825738584,
          -0.3309708361241852,
          -0.2545393671429838,
          -0.4192377517939872,
          0.05945478361527457,
          0.056599447730693496,
          -0.33637694820251257,
          0.07692496959242795,
          -0.2181586373819976,
          -0.34116871120536474,
          -0.01150047071987645,
          -0.029972391240588755,
          -0.21859141312525893,
          0.09787700613137594,
          -0.01802339641435582,
          0.2745856889201186,
          0.10746547427073735,
          0.11125627903602782,
          -0.21979187539173284,
          -0.38551821861531455,
          -0.3868474309654553,
          0.4456681792360402,
          -0.07191457391235537,
          -0.3909702813437728,
          0.25553648700122195,
          0.11418395411447048,
          -0.2626741433100869,
          0.26410493315650746,
          0.4182694488378841,
          0.20254652203768347,
          -0.10059800471635603,
          0.20100610079780523,
          0.20340329721098205,
          0.3991953947083648,
          0.10520036705078167,
          0.5022994339574898,
          0.09517921848725956,
          0.5259992847761535,
          0.4939699131655428,
          0.48591139680544393,
          0.4151223779987213,
          -0.09286158453932983,
          0.43002075591739647,
          0.4187083946730595,
          0.5522592510998622,
          0.5346075539979743,
          0.5114605561827225,
          -0.2699445132901002,
          -0.414042958207383,
          0.5571017557637649,
          -0.060908522883844254,
          0.5553442616851118,
          -0.4207800496462843,
          -0.422330106318462,
          -0.11342026198303833,
          -0.12454100053027793,
          -0.4169012574742896
         ],
         "xaxis": "x4",
         "y": [
          -0.08649347374432272,
          -0.06635623016105012,
          -0.08949281844459997,
          -0.33578351442127624,
          -0.0818653229756347,
          -0.12104273246979033,
          -0.1324631719493809,
          -0.13959599275816617,
          -0.04485117903195427,
          -0.203611774576394,
          -0.20480243761959024,
          0.28230910718386903,
          -0.062334831924565695,
          -0.12445215423439025,
          -0.0974084922154562,
          0.28244659935835054,
          -0.33252761558556876,
          -0.18050833530566995,
          -0.044514227626580076,
          -0.09503799151353103,
          0.28978342941906826,
          -0.33022822881752034,
          -0.12593787697999895,
          0.10876561662406499,
          0.10795570613814583,
          0.1019833912547809,
          -0.23232535380571695,
          -0.08992352207888733,
          -0.3699267751604783,
          -0.36769575689172934,
          -0.02724715721180424,
          -0.36555050071510753,
          -0.12817114007499303,
          -0.03333799111966306,
          0.37856337622633746,
          0.36735700106827773,
          -0.12816218285180958,
          0.48873013247605507,
          0.36096087253263515,
          -0.24568402945204076,
          0.504656234819482,
          0.5096268880324073,
          -0.13028682742749634,
          -0.0029840827615166543,
          -0.007137004631698266,
          -0.28416693950904215,
          0.14272765602487908,
          -0.01029096521860894,
          -0.2557796307331302,
          -0.12626973759590268,
          -0.22342566248841847,
          -0.25388555951398206,
          -0.289982034512999,
          0.5396024192938574,
          0.23169352857283726,
          0.5368650298534555,
          0.5467872885039248,
          -0.2904690463448072,
          -0.1743721768754802,
          0.003542211833112114,
          -0.10847866983076097,
          -0.11181269298948593,
          0.06986375833741637,
          0.03506449078750495,
          0.24998014198507915,
          0.23852782557158217,
          0.2437385895804624,
          0.27031657119393704,
          -0.26940844438447686,
          -0.10126922789770998,
          -0.12167843775510073,
          -0.21385224882122206,
          -0.0814187918792868,
          -0.28893402572365295,
          0.13990897872710886,
          -0.27172937905497724,
          -0.08297804424865028,
          -0.0848264197562583,
          0.0970811653487321,
          0.0889159455835216,
          -0.07977641269662088
         ],
         "yaxis": "y4"
        },
        {
         "legendgroup": "C18-RTshift",
         "marker": {
          "color": "rgb(0, 95, 115)",
          "line": {
           "color": "black",
           "width": [
            0,
            0,
            0,
            0,
            0,
            0,
            0,
            0,
            0,
            0,
            0,
            0,
            0,
            0,
            0,
            0,
            0,
            0,
            0,
            0,
            0,
            0,
            0,
            0,
            0,
            0,
            0,
            0,
            0,
            0,
            0,
            0,
            0,
            0,
            0,
            0,
            0,
            0,
            0,
            0,
            0,
            0,
            0,
            0,
            0,
            0,
            0,
            0,
            0,
            0,
            0,
            0,
            0,
            0.8,
            0,
            0.8,
            0.8,
            0,
            0,
            0,
            0,
            0,
            0,
            0,
            0,
            0,
            0,
            0,
            0.8,
            0,
            0,
            0,
            0,
            0.8,
            0.8,
            0.8,
            0.8,
            0.8,
            0.8,
            0.8,
            0.8
           ]
          },
          "opacity": 0.95,
          "size": [
           7,
           7,
           7,
           7,
           7,
           7,
           7,
           7,
           7,
           7,
           7,
           7,
           7,
           7,
           7,
           7,
           7,
           7,
           7,
           7,
           7,
           7,
           7,
           7,
           7,
           7,
           7,
           7,
           7,
           7,
           7,
           7,
           7,
           7,
           7,
           7,
           7,
           7,
           7,
           7,
           7,
           7,
           7,
           7,
           7,
           7,
           7,
           7,
           7,
           7,
           7,
           7,
           7,
           11,
           7,
           11,
           11,
           7,
           7,
           7,
           7,
           7,
           7,
           7,
           7,
           7,
           7,
           7,
           11,
           7,
           7,
           7,
           7,
           11,
           11,
           11,
           11,
           11,
           11,
           11,
           11
          ]
         },
         "mode": "markers",
         "name": "C18-RTshift",
         "showlegend": false,
         "text": [
          "F1-1_F2-1",
          "F1-1_F2-1_NIST-2_To-1",
          "F1-1_F2-1",
          "F1-1_To-1",
          "F1-1_F2-1",
          "F1-1_F2-1_NIST-1_To-1",
          "F1-1_F2-1_NIST-1_To-1",
          "F1-1_F2-1_NIST-1_To-1",
          "F1-1_F2-1_NIST-2_To-1",
          "F1-1_F2-1_NIST-1_To-2",
          "F1-1_F2-1_NIST-1_To-2",
          "F1-1_NIST-3",
          "F1-1_F2-1_NIST-2_To-1",
          "F1-1_F2-2_NIST-1_To-1",
          "F1-1_F2-2_NIST-1_To-1",
          "F1-1_NIST-3",
          "F1-1_To-1",
          "F1-1_F2-1_NIST-1_To-2",
          "F1-1_F2-3",
          "F1-3_F2-1",
          "F1-1_NIST-3",
          "F1-1_To-1",
          "F1-1_F2-2_NIST-1_To-1",
          "F1-1_NIST-1",
          "F1-1_NIST-1",
          "F1-1_NIST-1",
          "F1-3_To-1",
          "F1-3_F2-1",
          "F1-1_To-3",
          "F1-1_To-3",
          "F1-1_F2-3",
          "F1-1_To-3",
          "F1-2_F2-1_NIST-1_To-1",
          "F1-1_F2-3",
          "F2-1_NIST-1",
          "F2-1_NIST-1",
          "F1-2_F2-1_NIST-1_To-1",
          "F2-1_NIST-3",
          "F2-1_NIST-1",
          "F2-1_To-1",
          "F2-1_NIST-3",
          "F2-1_NIST-3",
          "F1-2_F2-1_NIST-1_To-1",
          "F1-3_NIST-1",
          "F1-3_NIST-1",
          "F2-1_To-3",
          "F2-3_NIST-1",
          "F1-3_NIST-1",
          "F2-1_To-1",
          "F2-3_To-1",
          "F1-3_To-1",
          "F2-1_To-1",
          "F2-1_To-3",
          "NIST",
          "F2-3_NIST-1",
          "NIST",
          "NIST",
          "F2-1_To-3",
          "F2-3_To-1",
          "To-1_NIST-1",
          "F2-3_To-1",
          "To-3_NIST-1",
          "To-1_NIST-1",
          "To-1_NIST-1",
          "To-1_NIST-3",
          "F2-3_NIST-1",
          "To-1_NIST-3",
          "To-1_NIST-3",
          "To",
          "To-3_NIST-1",
          "To-3_NIST-1",
          "F1-3_To-1",
          "F1-3_F2-1",
          "To",
          "F2",
          "To",
          "F1",
          "F1",
          "F2",
          "F2",
          "F1"
         ],
         "type": "scatter",
         "x": [
          0.032696138421837384,
          0.050324769090372215,
          0.031922010430040657,
          0.0393919595549817,
          0.032281908577650356,
          0.046822395055702286,
          0.04913686999725997,
          0.05192538636952975,
          0.04548916991947096,
          0.05057376891771611,
          0.05266282021857237,
          0.021173941973864133,
          0.047844887514179125,
          0.053155410142193917,
          0.04694913769940578,
          0.028316113479432047,
          0.04382156133166704,
          0.0464359958480922,
          0.03541610208008214,
          0.0299515283758375,
          0.023584096389601225,
          0.047295079839860595,
          0.04849239309035291,
          0.024014831201048754,
          0.02636511639131529,
          0.02740501105759152,
          0.04522745096308755,
          0.03711973863525391,
          0.04363052359903869,
          0.0393496512946022,
          0.031218884237449833,
          0.03955975857493226,
          0.05218240160200879,
          0.03477787839840212,
          0.00008858800257572063,
          0.005873482905746882,
          0.051462387495307474,
          -0.01308980913853022,
          0.0018776270416613677,
          0.016685453316165482,
          -0.008549453212610515,
          -0.00201133942166486,
          0.050233442889817514,
          0.032218195657232794,
          0.028928165732419114,
          0.010593541047798,
          -0.0011081105892322962,
          0.030013848048360315,
          0.020174667302890775,
          0.020943380525997177,
          0.04542718061720708,
          0.01771891108301576,
          0.008347518615883344,
          -0.1265560558744314,
          0.0069290148469582785,
          -0.11578309982480026,
          -0.12489703420944041,
          0.009884465213203271,
          0.018268181599214443,
          -0.09698948028618547,
          0.016488149569568143,
          -0.0851876108026107,
          -0.0829915000727864,
          -0.1008508100987428,
          -0.07248856171439996,
          0.00006925358208183614,
          -0.07409391872461399,
          -0.06894125395000088,
          -0.08299169125829556,
          -0.09762448032861992,
          -0.08376057176310188,
          0.047716249579071966,
          0.03316589360101976,
          -0.08543994326672434,
          -0.004175300439057163,
          -0.08664987609740094,
          0.03154962456008486,
          0.033529143788322426,
          -0.0010586091325184652,
          0.0038726402986970243,
          0.02839640767977705
         ],
         "xaxis": "x6",
         "y": [
          -0.01882544113205453,
          0.02372477224988669,
          -0.020475583513216135,
          0.021738738627526805,
          -0.02105426354666512,
          0.020731930791358558,
          0.02248007897612515,
          0.0230282184245776,
          0.02172934208516072,
          0.024998532061523193,
          0.024131658101601783,
          -0.024633539908136513,
          0.02240310599582414,
          0.023370355260739738,
          0.020649395623534707,
          -0.021003116537026745,
          0.0233156224704893,
          0.022456164027804325,
          -0.017007844781759575,
          -0.021316168000022628,
          -0.024530665031005077,
          0.022980641323621532,
          0.02029076567341015,
          -0.024431148034839117,
          -0.021430466742135397,
          -0.021352114033507712,
          0.021466126908349443,
          -0.019910003448749016,
          0.024603742538547652,
          0.02464776166172977,
          -0.01840826009364859,
          0.024450254206611805,
          0.022686876739754117,
          -0.015075501212801198,
          -0.01635607758877288,
          -0.012909919252470835,
          0.021932316232717613,
          -0.020325152715389344,
          -0.013077615313104085,
          0.027617883965428153,
          -0.01787392029431959,
          -0.020774740177253125,
          0.02142714226081379,
          -0.020076930243730345,
          -0.023603352860623084,
          0.028326636677656187,
          -0.020308514864925898,
          -0.022578530664047566,
          0.025981174730599372,
          0.025120526198711277,
          0.018375388244471446,
          0.025025083207729157,
          0.02635545782035278,
          -0.04890985650789032,
          -0.015854053861736134,
          -0.053350938351083683,
          -0.04332528326378809,
          0.026973743625015183,
          0.023956914483141308,
          0.03349262475100697,
          0.02084794868613821,
          0.035828678501253354,
          0.03092475619422418,
          0.03509262793973046,
          0.028261070840384764,
          -0.015096854247791301,
          0.028200474431192293,
          0.026803672007278588,
          0.03697402632877151,
          0.03824125664139768,
          0.030494150548557825,
          0.02039994735294656,
          -0.020584838417758322,
          0.03458720808667086,
          -0.020411814995146813,
          0.034678461727717345,
          -0.020945261030264065,
          -0.022779343381367972,
          -0.020031947219046584,
          -0.018088249693066556,
          -0.023176601973076756
         ],
         "yaxis": "y6"
        },
        {
         "legendgroup": "C18-RTshift",
         "marker": {
          "color": "rgb(0, 95, 115)",
          "line": {
           "color": "black",
           "width": [
            0,
            0,
            0,
            0,
            0,
            0,
            0,
            0,
            0,
            0,
            0,
            0,
            0,
            0,
            0,
            0,
            0,
            0,
            0,
            0,
            0,
            0,
            0,
            0,
            0,
            0,
            0,
            0,
            0,
            0,
            0,
            0,
            0,
            0,
            0,
            0,
            0,
            0,
            0,
            0,
            0,
            0,
            0,
            0,
            0,
            0,
            0,
            0,
            0,
            0,
            0,
            0,
            0,
            0.8,
            0,
            0.8,
            0.8,
            0,
            0,
            0,
            0,
            0,
            0,
            0,
            0,
            0,
            0,
            0,
            0.8,
            0,
            0,
            0,
            0,
            0.8,
            0.8,
            0.8,
            0.8,
            0.8,
            0.8,
            0.8,
            0.8
           ]
          },
          "opacity": 0.95,
          "size": [
           7,
           7,
           7,
           7,
           7,
           7,
           7,
           7,
           7,
           7,
           7,
           7,
           7,
           7,
           7,
           7,
           7,
           7,
           7,
           7,
           7,
           7,
           7,
           7,
           7,
           7,
           7,
           7,
           7,
           7,
           7,
           7,
           7,
           7,
           7,
           7,
           7,
           7,
           7,
           7,
           7,
           7,
           7,
           7,
           7,
           7,
           7,
           7,
           7,
           7,
           7,
           7,
           7,
           11,
           7,
           11,
           11,
           7,
           7,
           7,
           7,
           7,
           7,
           7,
           7,
           7,
           7,
           7,
           11,
           7,
           7,
           7,
           7,
           11,
           11,
           11,
           11,
           11,
           11,
           11,
           11
          ]
         },
         "mode": "markers",
         "name": "C18-RTshift",
         "showlegend": false,
         "text": [
          "F1-1_F2-1",
          "F1-1_F2-1_NIST-2_To-1",
          "F1-1_F2-1",
          "F1-1_To-1",
          "F1-1_F2-1",
          "F1-1_F2-1_NIST-1_To-1",
          "F1-1_F2-1_NIST-1_To-1",
          "F1-1_F2-1_NIST-1_To-1",
          "F1-1_F2-1_NIST-2_To-1",
          "F1-1_F2-1_NIST-1_To-2",
          "F1-1_F2-1_NIST-1_To-2",
          "F1-1_NIST-3",
          "F1-1_F2-1_NIST-2_To-1",
          "F1-1_F2-2_NIST-1_To-1",
          "F1-1_F2-2_NIST-1_To-1",
          "F1-1_NIST-3",
          "F1-1_To-1",
          "F1-1_F2-1_NIST-1_To-2",
          "F1-1_F2-3",
          "F1-3_F2-1",
          "F1-1_NIST-3",
          "F1-1_To-1",
          "F1-1_F2-2_NIST-1_To-1",
          "F1-1_NIST-1",
          "F1-1_NIST-1",
          "F1-1_NIST-1",
          "F1-3_To-1",
          "F1-3_F2-1",
          "F1-1_To-3",
          "F1-1_To-3",
          "F1-1_F2-3",
          "F1-1_To-3",
          "F1-2_F2-1_NIST-1_To-1",
          "F1-1_F2-3",
          "F2-1_NIST-1",
          "F2-1_NIST-1",
          "F1-2_F2-1_NIST-1_To-1",
          "F2-1_NIST-3",
          "F2-1_NIST-1",
          "F2-1_To-1",
          "F2-1_NIST-3",
          "F2-1_NIST-3",
          "F1-2_F2-1_NIST-1_To-1",
          "F1-3_NIST-1",
          "F1-3_NIST-1",
          "F2-1_To-3",
          "F2-3_NIST-1",
          "F1-3_NIST-1",
          "F2-1_To-1",
          "F2-3_To-1",
          "F1-3_To-1",
          "F2-1_To-1",
          "F2-1_To-3",
          "NIST",
          "F2-3_NIST-1",
          "NIST",
          "NIST",
          "F2-1_To-3",
          "F2-3_To-1",
          "To-1_NIST-1",
          "F2-3_To-1",
          "To-3_NIST-1",
          "To-1_NIST-1",
          "To-1_NIST-1",
          "To-1_NIST-3",
          "F2-3_NIST-1",
          "To-1_NIST-3",
          "To-1_NIST-3",
          "To",
          "To-3_NIST-1",
          "To-3_NIST-1",
          "F1-3_To-1",
          "F1-3_F2-1",
          "To",
          "F2",
          "To",
          "F1",
          "F1",
          "F2",
          "F2",
          "F1"
         ],
         "type": "scatter",
         "x": [
          0.09221940011401655,
          0.10689916702066578,
          0.09071030317183881,
          0.11052663689925098,
          0.0897245573267903,
          0.11422243648448835,
          0.10727604818481472,
          0.10431278459759155,
          0.1132850280611925,
          0.1081341583711366,
          0.10366125618628604,
          0.10300025155879851,
          0.11004769563739276,
          0.10430734928588802,
          0.11070695038496722,
          0.10289847383981628,
          0.1102344712745564,
          0.11697637428993841,
          0.09130400888025374,
          0.09444390790563569,
          0.09777080732387533,
          0.10452745194050882,
          0.10536403231949666,
          0.1042691003591101,
          0.10961278595717276,
          0.10395143530846564,
          0.09885694876294131,
          0.09374719431903376,
          0.10780652362729554,
          0.11719338983741417,
          0.09831095035697338,
          0.11922276995466205,
          0.10759573447314694,
          0.09224303906101142,
          0.11313189578287255,
          0.10323405166288042,
          0.10285795886547958,
          0.11730236576440586,
          0.10634194928841359,
          0.11462016949440601,
          0.11434613398854747,
          0.11114229368690481,
          0.11064111250654446,
          0.09382062299508953,
          0.10093716589295085,
          0.12382549330421093,
          0.09923113886787817,
          0.09936564050356658,
          0.11635070995032235,
          0.11384235871805617,
          0.10414346706700757,
          0.11732925808274773,
          0.12593638500059703,
          0.10861844498166924,
          0.10503498172372239,
          0.09338949213462779,
          0.10655710598231112,
          0.12498814379691546,
          0.11694660931247747,
          0.1414572285245353,
          0.1198513183267526,
          0.13355004440837415,
          0.1450383091451328,
          0.14461845608825546,
          0.14267773965985714,
          0.10400805066056025,
          0.12673070954764848,
          0.13417276974447703,
          0.11973072182103502,
          0.14974079779663316,
          0.13712082618015384,
          0.1057879891651907,
          0.10436678454318919,
          0.12069773125139859,
          0.11171447763076525,
          0.13790046605727838,
          0.09402706150933814,
          0.09264290395341536,
          0.10857525739855103,
          0.10312403006317851,
          0.08930458811831507
         ],
         "xaxis": "x7",
         "y": [
          -0.0712610104865477,
          -0.03138094214909048,
          -0.07064124251265845,
          -0.02888261014877813,
          -0.07207369931445824,
          -0.029842104428603196,
          -0.034940370767965245,
          -0.03427357822708249,
          -0.032826198460468164,
          -0.02878516633946905,
          -0.03452052074051589,
          -0.057526411019749125,
          -0.034593082389550424,
          -0.037199588098917866,
          -0.03287425828428249,
          -0.05615807913280637,
          -0.029048147018855285,
          -0.02782050208320554,
          -0.07227423235652067,
          -0.06637374883779279,
          -0.06006640385368869,
          -0.03127298016223849,
          -0.039335485010582726,
          -0.06741454832241427,
          -0.06022404407911259,
          -0.05943634052706474,
          -0.036968321234251235,
          -0.06789743412162492,
          -0.022644121873052904,
          -0.02138143271517074,
          -0.06856217787240346,
          -0.016436514762201593,
          -0.035768611141671694,
          -0.067744150682305,
          -0.027438706268353315,
          -0.02304471633909713,
          -0.040529541601942845,
          -0.01489132829679593,
          -0.024316361187975918,
          -0.00044489870877538094,
          -0.01544552620886796,
          -0.02191017709748007,
          -0.03823368338052699,
          -0.06672806482969405,
          -0.06633275489958622,
          0.016422100854478303,
          -0.026825407989709612,
          -0.07058948824062186,
          -0.0028182669106024028,
          -0.010037367927865547,
          -0.04199803012759717,
          0.001387393928661207,
          0.015566503805250032,
          0.13833783398999283,
          -0.028776039846372642,
          0.13023583728361418,
          0.15134721643417037,
          0.018845594189608267,
          -0.010277917376485882,
          0.21303832780963422,
          -0.010270488996834823,
          0.19712075332631032,
          0.18349512322637998,
          0.20372435684904716,
          0.18077568299941169,
          -0.03331478061693937,
          0.1789440797537937,
          0.1794984934622946,
          0.1867078759462276,
          0.20933796491950674,
          0.18134072265278586,
          -0.04075929770555999,
          -0.06981408194510176,
          0.19036532442883758,
          -0.03771427233706684,
          0.17868848166328435,
          -0.07453525445491259,
          -0.07141052008150042,
          -0.04128806544335082,
          -0.042284729377810776,
          -0.07536306357313995
         ],
         "yaxis": "y7"
        },
        {
         "legendgroup": "C18-RTshift",
         "marker": {
          "color": "rgb(0, 95, 115)",
          "line": {
           "color": "black",
           "width": [
            0,
            0,
            0,
            0,
            0,
            0,
            0,
            0,
            0,
            0,
            0,
            0,
            0,
            0,
            0,
            0,
            0,
            0,
            0,
            0,
            0,
            0,
            0,
            0,
            0,
            0,
            0,
            0,
            0,
            0,
            0,
            0,
            0,
            0,
            0,
            0,
            0,
            0,
            0,
            0,
            0,
            0,
            0,
            0,
            0,
            0,
            0,
            0,
            0,
            0,
            0,
            0,
            0,
            0.8,
            0,
            0.8,
            0.8,
            0,
            0,
            0,
            0,
            0,
            0,
            0,
            0,
            0,
            0,
            0,
            0.8,
            0,
            0,
            0,
            0,
            0.8,
            0.8,
            0.8,
            0.8,
            0.8,
            0.8,
            0.8,
            0.8
           ]
          },
          "opacity": 0.95,
          "size": [
           7,
           7,
           7,
           7,
           7,
           7,
           7,
           7,
           7,
           7,
           7,
           7,
           7,
           7,
           7,
           7,
           7,
           7,
           7,
           7,
           7,
           7,
           7,
           7,
           7,
           7,
           7,
           7,
           7,
           7,
           7,
           7,
           7,
           7,
           7,
           7,
           7,
           7,
           7,
           7,
           7,
           7,
           7,
           7,
           7,
           7,
           7,
           7,
           7,
           7,
           7,
           7,
           7,
           11,
           7,
           11,
           11,
           7,
           7,
           7,
           7,
           7,
           7,
           7,
           7,
           7,
           7,
           7,
           11,
           7,
           7,
           7,
           7,
           11,
           11,
           11,
           11,
           11,
           11,
           11,
           11
          ]
         },
         "mode": "markers",
         "name": "C18-RTshift",
         "showlegend": false,
         "text": [
          "F1-1_F2-1",
          "F1-1_F2-1_NIST-2_To-1",
          "F1-1_F2-1",
          "F1-1_To-1",
          "F1-1_F2-1",
          "F1-1_F2-1_NIST-1_To-1",
          "F1-1_F2-1_NIST-1_To-1",
          "F1-1_F2-1_NIST-1_To-1",
          "F1-1_F2-1_NIST-2_To-1",
          "F1-1_F2-1_NIST-1_To-2",
          "F1-1_F2-1_NIST-1_To-2",
          "F1-1_NIST-3",
          "F1-1_F2-1_NIST-2_To-1",
          "F1-1_F2-2_NIST-1_To-1",
          "F1-1_F2-2_NIST-1_To-1",
          "F1-1_NIST-3",
          "F1-1_To-1",
          "F1-1_F2-1_NIST-1_To-2",
          "F1-1_F2-3",
          "F1-3_F2-1",
          "F1-1_NIST-3",
          "F1-1_To-1",
          "F1-1_F2-2_NIST-1_To-1",
          "F1-1_NIST-1",
          "F1-1_NIST-1",
          "F1-1_NIST-1",
          "F1-3_To-1",
          "F1-3_F2-1",
          "F1-1_To-3",
          "F1-1_To-3",
          "F1-1_F2-3",
          "F1-1_To-3",
          "F1-2_F2-1_NIST-1_To-1",
          "F1-1_F2-3",
          "F2-1_NIST-1",
          "F2-1_NIST-1",
          "F1-2_F2-1_NIST-1_To-1",
          "F2-1_NIST-3",
          "F2-1_NIST-1",
          "F2-1_To-1",
          "F2-1_NIST-3",
          "F2-1_NIST-3",
          "F1-2_F2-1_NIST-1_To-1",
          "F1-3_NIST-1",
          "F1-3_NIST-1",
          "F2-1_To-3",
          "F2-3_NIST-1",
          "F1-3_NIST-1",
          "F2-1_To-1",
          "F2-3_To-1",
          "F1-3_To-1",
          "F2-1_To-1",
          "F2-1_To-3",
          "NIST",
          "F2-3_NIST-1",
          "NIST",
          "NIST",
          "F2-1_To-3",
          "F2-3_To-1",
          "To-1_NIST-1",
          "F2-3_To-1",
          "To-3_NIST-1",
          "To-1_NIST-1",
          "To-1_NIST-1",
          "To-1_NIST-3",
          "F2-3_NIST-1",
          "To-1_NIST-3",
          "To-1_NIST-3",
          "To",
          "To-3_NIST-1",
          "To-3_NIST-1",
          "F1-3_To-1",
          "F1-3_F2-1",
          "To",
          "F2",
          "To",
          "F1",
          "F1",
          "F2",
          "F2",
          "F1"
         ],
         "type": "scatter",
         "x": [
          0.06790636921797163,
          0.0701693211320069,
          0.06188927789325515,
          0.05300910719568331,
          0.0631725093463666,
          0.06329916940129114,
          0.06937812433873147,
          0.06981140693671693,
          0.06354964508862503,
          0.06878405750242737,
          0.07298225933763991,
          0.036859074538503706,
          0.06368235150245438,
          0.07190632819473503,
          0.06673905215102231,
          0.05527928418395386,
          0.05712478787470262,
          0.06657691790639973,
          0.0677558857501144,
          0.04904289493161801,
          0.05213402734023536,
          0.06279329757668785,
          0.06726379866622528,
          0.044532290194551266,
          0.04509039078227881,
          0.049174443469988116,
          0.06682296079743481,
          0.06722457300853417,
          0.056951749126364,
          0.05536194337535373,
          0.060082812096781416,
          0.05469798915391065,
          0.06989025822579831,
          0.06184734453107199,
          0.009225330816583692,
          0.032398269074968275,
          0.0704176242129862,
          -0.010379809839548015,
          0.018511793556498346,
          0.028282607033532588,
          -0.004664521856178859,
          0.01176653357863107,
          0.0693317551875548,
          0.05800434652475114,
          0.054525155470035655,
          0.018574878729688184,
          0.014893504738072745,
          0.05451985403230843,
          0.034007110874993536,
          0.043236171569190913,
          0.06127045041262413,
          0.02896181826741652,
          0.011893839787726524,
          -0.1658514904614106,
          0.024876106314326376,
          -0.15366219734243663,
          -0.17849117304342124,
          0.010815192546561408,
          0.02955554371153128,
          -0.14724089702199725,
          0.029664215195670977,
          -0.13059007779357645,
          -0.12260039983263442,
          -0.15392403153866463,
          -0.10103238744533641,
          0.016131792777211613,
          -0.102638373711145,
          -0.08501882892725295,
          -0.1417914947209134,
          -0.1647712380479598,
          -0.1353321008114088,
          0.06448518812732018,
          0.05840822545724778,
          -0.1494567794376431,
          0.0011119069994842425,
          -0.15243362182177103,
          0.05148708475116421,
          0.05458739050744984,
          0.009384524504976326,
          0.017880037694929157,
          0.048833394420737856
         ],
         "xaxis": "x8",
         "y": [
          -0.01379527126411768,
          0.0579476634147776,
          -0.018684659744301467,
          0.051810791513648105,
          -0.018575827474680916,
          0.055499186207055254,
          0.055828121229836006,
          0.056199474382487506,
          0.052861439794414156,
          0.0631740466732502,
          0.06401536681540818,
          -0.03547043726350793,
          0.05725147392488523,
          0.05704280960712977,
          0.054977559735850015,
          -0.02031574849853792,
          0.05577483173769057,
          0.05883058951522442,
          -0.009591029449676134,
          -0.026793953487693534,
          -0.028502653414823727,
          0.05493834481125339,
          0.048401581463500896,
          -0.0382257779563646,
          -0.02759221417544725,
          -0.027978875479610043,
          0.056545667726900124,
          -0.01589103671697564,
          0.05972189510429557,
          0.058511232154001044,
          -0.014500473189421872,
          0.06150379167211243,
          0.05459205784037602,
          -0.00953726642629619,
          -0.026698175546043222,
          -0.014206379707967813,
          0.05196498317441791,
          -0.03468668638414526,
          -0.018729601961784394,
          0.046255042336559284,
          -0.029852165977285405,
          -0.030946439066111695,
          0.05215070889042374,
          -0.020875271803821836,
          -0.027996349437364666,
          0.04462449265318871,
          -0.030914049115045954,
          -0.028465559140740473,
          0.048309231007743016,
          0.05555126451982184,
          0.043926997456174344,
          0.04593738246097707,
          0.0396934691158322,
          -0.06348624582776974,
          -0.021590636390090776,
          -0.07104933696384162,
          -0.059955924819916954,
          0.041861582522936036,
          0.03933671479151442,
          0.058439411449849224,
          0.03632889629737251,
          0.06939695058398437,
          0.051639154257041665,
          0.06741611330313538,
          0.04508288574039693,
          -0.023169786151511024,
          0.04244174019494291,
          0.03825536201144642,
          0.07220094329596925,
          0.07293395527507482,
          0.06260093103698593,
          0.04791853514094843,
          -0.023296948546791506,
          0.06967373431558344,
          -0.03189967067323404,
          0.0669272252405869,
          -0.02965728148768849,
          -0.029593161993572488,
          -0.032500000647564926,
          -0.029657029339177767,
          -0.03348799220176771
         ],
         "yaxis": "y8"
        }
       ],
       "layout": {
        "annotations": [
         {
          "font": {
           "size": 20
          },
          "showarrow": false,
          "text": "Feature Table (Bray-Curtis)",
          "x": 0.0875,
          "xanchor": "center",
          "xref": "paper",
          "y": 1,
          "yanchor": "bottom",
          "yref": "paper"
         },
         {
          "font": {
           "size": 20
          },
          "showarrow": false,
          "text": "MEMO unaligned (Bray-Curtis)",
          "x": 0.36250000000000004,
          "xanchor": "center",
          "xref": "paper",
          "y": 1,
          "yanchor": "bottom",
          "yref": "paper"
         },
         {
          "font": {
           "size": 20
          },
          "showarrow": false,
          "text": "Qemistree weighted UniFrac",
          "x": 0.6375000000000001,
          "xanchor": "center",
          "xref": "paper",
          "y": 1,
          "yanchor": "bottom",
          "yref": "paper"
         },
         {
          "font": {
           "size": 20
          },
          "showarrow": false,
          "text": "CSCS weighted",
          "x": 0.9125,
          "xanchor": "center",
          "xref": "paper",
          "y": 1,
          "yanchor": "bottom",
          "yref": "paper"
         },
         {
          "font": {
           "size": 20
          },
          "showarrow": false,
          "text": "MEMO aligned (Bray-Curtis)",
          "x": 0.36250000000000004,
          "xanchor": "center",
          "xref": "paper",
          "y": 0.435,
          "yanchor": "bottom",
          "yref": "paper"
         },
         {
          "font": {
           "size": 20
          },
          "showarrow": false,
          "text": "Qemistree unweighted UniFrac",
          "x": 0.6375000000000001,
          "xanchor": "center",
          "xref": "paper",
          "y": 0.435,
          "yanchor": "bottom",
          "yref": "paper"
         },
         {
          "font": {
           "size": 20
          },
          "showarrow": false,
          "text": "CSCS unweighted",
          "x": 0.9125,
          "xanchor": "center",
          "xref": "paper",
          "y": 0.435,
          "yanchor": "bottom",
          "yref": "paper"
         }
        ],
        "height": 900,
        "legend": {
         "font": {
          "color": "black",
          "size": 18
         },
         "orientation": "h"
        },
        "template": {
         "data": {
          "bar": [
           {
            "error_x": {
             "color": "rgb(36,36,36)"
            },
            "error_y": {
             "color": "rgb(36,36,36)"
            },
            "marker": {
             "line": {
              "color": "white",
              "width": 0.5
             },
             "pattern": {
              "fillmode": "overlay",
              "size": 10,
              "solidity": 0.2
             }
            },
            "type": "bar"
           }
          ],
          "barpolar": [
           {
            "marker": {
             "line": {
              "color": "white",
              "width": 0.5
             },
             "pattern": {
              "fillmode": "overlay",
              "size": 10,
              "solidity": 0.2
             }
            },
            "type": "barpolar"
           }
          ],
          "carpet": [
           {
            "aaxis": {
             "endlinecolor": "rgb(36,36,36)",
             "gridcolor": "white",
             "linecolor": "white",
             "minorgridcolor": "white",
             "startlinecolor": "rgb(36,36,36)"
            },
            "baxis": {
             "endlinecolor": "rgb(36,36,36)",
             "gridcolor": "white",
             "linecolor": "white",
             "minorgridcolor": "white",
             "startlinecolor": "rgb(36,36,36)"
            },
            "type": "carpet"
           }
          ],
          "choropleth": [
           {
            "colorbar": {
             "outlinewidth": 1,
             "tickcolor": "rgb(36,36,36)",
             "ticks": "outside"
            },
            "type": "choropleth"
           }
          ],
          "contour": [
           {
            "colorbar": {
             "outlinewidth": 1,
             "tickcolor": "rgb(36,36,36)",
             "ticks": "outside"
            },
            "colorscale": [
             [
              0,
              "#440154"
             ],
             [
              0.1111111111111111,
              "#482878"
             ],
             [
              0.2222222222222222,
              "#3e4989"
             ],
             [
              0.3333333333333333,
              "#31688e"
             ],
             [
              0.4444444444444444,
              "#26828e"
             ],
             [
              0.5555555555555556,
              "#1f9e89"
             ],
             [
              0.6666666666666666,
              "#35b779"
             ],
             [
              0.7777777777777778,
              "#6ece58"
             ],
             [
              0.8888888888888888,
              "#b5de2b"
             ],
             [
              1,
              "#fde725"
             ]
            ],
            "type": "contour"
           }
          ],
          "contourcarpet": [
           {
            "colorbar": {
             "outlinewidth": 1,
             "tickcolor": "rgb(36,36,36)",
             "ticks": "outside"
            },
            "type": "contourcarpet"
           }
          ],
          "heatmap": [
           {
            "colorbar": {
             "outlinewidth": 1,
             "tickcolor": "rgb(36,36,36)",
             "ticks": "outside"
            },
            "colorscale": [
             [
              0,
              "#440154"
             ],
             [
              0.1111111111111111,
              "#482878"
             ],
             [
              0.2222222222222222,
              "#3e4989"
             ],
             [
              0.3333333333333333,
              "#31688e"
             ],
             [
              0.4444444444444444,
              "#26828e"
             ],
             [
              0.5555555555555556,
              "#1f9e89"
             ],
             [
              0.6666666666666666,
              "#35b779"
             ],
             [
              0.7777777777777778,
              "#6ece58"
             ],
             [
              0.8888888888888888,
              "#b5de2b"
             ],
             [
              1,
              "#fde725"
             ]
            ],
            "type": "heatmap"
           }
          ],
          "heatmapgl": [
           {
            "colorbar": {
             "outlinewidth": 1,
             "tickcolor": "rgb(36,36,36)",
             "ticks": "outside"
            },
            "colorscale": [
             [
              0,
              "#440154"
             ],
             [
              0.1111111111111111,
              "#482878"
             ],
             [
              0.2222222222222222,
              "#3e4989"
             ],
             [
              0.3333333333333333,
              "#31688e"
             ],
             [
              0.4444444444444444,
              "#26828e"
             ],
             [
              0.5555555555555556,
              "#1f9e89"
             ],
             [
              0.6666666666666666,
              "#35b779"
             ],
             [
              0.7777777777777778,
              "#6ece58"
             ],
             [
              0.8888888888888888,
              "#b5de2b"
             ],
             [
              1,
              "#fde725"
             ]
            ],
            "type": "heatmapgl"
           }
          ],
          "histogram": [
           {
            "marker": {
             "line": {
              "color": "white",
              "width": 0.6
             }
            },
            "type": "histogram"
           }
          ],
          "histogram2d": [
           {
            "colorbar": {
             "outlinewidth": 1,
             "tickcolor": "rgb(36,36,36)",
             "ticks": "outside"
            },
            "colorscale": [
             [
              0,
              "#440154"
             ],
             [
              0.1111111111111111,
              "#482878"
             ],
             [
              0.2222222222222222,
              "#3e4989"
             ],
             [
              0.3333333333333333,
              "#31688e"
             ],
             [
              0.4444444444444444,
              "#26828e"
             ],
             [
              0.5555555555555556,
              "#1f9e89"
             ],
             [
              0.6666666666666666,
              "#35b779"
             ],
             [
              0.7777777777777778,
              "#6ece58"
             ],
             [
              0.8888888888888888,
              "#b5de2b"
             ],
             [
              1,
              "#fde725"
             ]
            ],
            "type": "histogram2d"
           }
          ],
          "histogram2dcontour": [
           {
            "colorbar": {
             "outlinewidth": 1,
             "tickcolor": "rgb(36,36,36)",
             "ticks": "outside"
            },
            "colorscale": [
             [
              0,
              "#440154"
             ],
             [
              0.1111111111111111,
              "#482878"
             ],
             [
              0.2222222222222222,
              "#3e4989"
             ],
             [
              0.3333333333333333,
              "#31688e"
             ],
             [
              0.4444444444444444,
              "#26828e"
             ],
             [
              0.5555555555555556,
              "#1f9e89"
             ],
             [
              0.6666666666666666,
              "#35b779"
             ],
             [
              0.7777777777777778,
              "#6ece58"
             ],
             [
              0.8888888888888888,
              "#b5de2b"
             ],
             [
              1,
              "#fde725"
             ]
            ],
            "type": "histogram2dcontour"
           }
          ],
          "mesh3d": [
           {
            "colorbar": {
             "outlinewidth": 1,
             "tickcolor": "rgb(36,36,36)",
             "ticks": "outside"
            },
            "type": "mesh3d"
           }
          ],
          "parcoords": [
           {
            "line": {
             "colorbar": {
              "outlinewidth": 1,
              "tickcolor": "rgb(36,36,36)",
              "ticks": "outside"
             }
            },
            "type": "parcoords"
           }
          ],
          "pie": [
           {
            "automargin": true,
            "type": "pie"
           }
          ],
          "scatter": [
           {
            "marker": {
             "colorbar": {
              "outlinewidth": 1,
              "tickcolor": "rgb(36,36,36)",
              "ticks": "outside"
             }
            },
            "type": "scatter"
           }
          ],
          "scatter3d": [
           {
            "line": {
             "colorbar": {
              "outlinewidth": 1,
              "tickcolor": "rgb(36,36,36)",
              "ticks": "outside"
             }
            },
            "marker": {
             "colorbar": {
              "outlinewidth": 1,
              "tickcolor": "rgb(36,36,36)",
              "ticks": "outside"
             }
            },
            "type": "scatter3d"
           }
          ],
          "scattercarpet": [
           {
            "marker": {
             "colorbar": {
              "outlinewidth": 1,
              "tickcolor": "rgb(36,36,36)",
              "ticks": "outside"
             }
            },
            "type": "scattercarpet"
           }
          ],
          "scattergeo": [
           {
            "marker": {
             "colorbar": {
              "outlinewidth": 1,
              "tickcolor": "rgb(36,36,36)",
              "ticks": "outside"
             }
            },
            "type": "scattergeo"
           }
          ],
          "scattergl": [
           {
            "marker": {
             "colorbar": {
              "outlinewidth": 1,
              "tickcolor": "rgb(36,36,36)",
              "ticks": "outside"
             }
            },
            "type": "scattergl"
           }
          ],
          "scattermapbox": [
           {
            "marker": {
             "colorbar": {
              "outlinewidth": 1,
              "tickcolor": "rgb(36,36,36)",
              "ticks": "outside"
             }
            },
            "type": "scattermapbox"
           }
          ],
          "scatterpolar": [
           {
            "marker": {
             "colorbar": {
              "outlinewidth": 1,
              "tickcolor": "rgb(36,36,36)",
              "ticks": "outside"
             }
            },
            "type": "scatterpolar"
           }
          ],
          "scatterpolargl": [
           {
            "marker": {
             "colorbar": {
              "outlinewidth": 1,
              "tickcolor": "rgb(36,36,36)",
              "ticks": "outside"
             }
            },
            "type": "scatterpolargl"
           }
          ],
          "scatterternary": [
           {
            "marker": {
             "colorbar": {
              "outlinewidth": 1,
              "tickcolor": "rgb(36,36,36)",
              "ticks": "outside"
             }
            },
            "type": "scatterternary"
           }
          ],
          "surface": [
           {
            "colorbar": {
             "outlinewidth": 1,
             "tickcolor": "rgb(36,36,36)",
             "ticks": "outside"
            },
            "colorscale": [
             [
              0,
              "#440154"
             ],
             [
              0.1111111111111111,
              "#482878"
             ],
             [
              0.2222222222222222,
              "#3e4989"
             ],
             [
              0.3333333333333333,
              "#31688e"
             ],
             [
              0.4444444444444444,
              "#26828e"
             ],
             [
              0.5555555555555556,
              "#1f9e89"
             ],
             [
              0.6666666666666666,
              "#35b779"
             ],
             [
              0.7777777777777778,
              "#6ece58"
             ],
             [
              0.8888888888888888,
              "#b5de2b"
             ],
             [
              1,
              "#fde725"
             ]
            ],
            "type": "surface"
           }
          ],
          "table": [
           {
            "cells": {
             "fill": {
              "color": "rgb(237,237,237)"
             },
             "line": {
              "color": "white"
             }
            },
            "header": {
             "fill": {
              "color": "rgb(217,217,217)"
             },
             "line": {
              "color": "white"
             }
            },
            "type": "table"
           }
          ]
         },
         "layout": {
          "annotationdefaults": {
           "arrowhead": 0,
           "arrowwidth": 1
          },
          "autotypenumbers": "strict",
          "coloraxis": {
           "colorbar": {
            "outlinewidth": 1,
            "tickcolor": "rgb(36,36,36)",
            "ticks": "outside"
           }
          },
          "colorscale": {
           "diverging": [
            [
             0,
             "rgb(103,0,31)"
            ],
            [
             0.1,
             "rgb(178,24,43)"
            ],
            [
             0.2,
             "rgb(214,96,77)"
            ],
            [
             0.3,
             "rgb(244,165,130)"
            ],
            [
             0.4,
             "rgb(253,219,199)"
            ],
            [
             0.5,
             "rgb(247,247,247)"
            ],
            [
             0.6,
             "rgb(209,229,240)"
            ],
            [
             0.7,
             "rgb(146,197,222)"
            ],
            [
             0.8,
             "rgb(67,147,195)"
            ],
            [
             0.9,
             "rgb(33,102,172)"
            ],
            [
             1,
             "rgb(5,48,97)"
            ]
           ],
           "sequential": [
            [
             0,
             "#440154"
            ],
            [
             0.1111111111111111,
             "#482878"
            ],
            [
             0.2222222222222222,
             "#3e4989"
            ],
            [
             0.3333333333333333,
             "#31688e"
            ],
            [
             0.4444444444444444,
             "#26828e"
            ],
            [
             0.5555555555555556,
             "#1f9e89"
            ],
            [
             0.6666666666666666,
             "#35b779"
            ],
            [
             0.7777777777777778,
             "#6ece58"
            ],
            [
             0.8888888888888888,
             "#b5de2b"
            ],
            [
             1,
             "#fde725"
            ]
           ],
           "sequentialminus": [
            [
             0,
             "#440154"
            ],
            [
             0.1111111111111111,
             "#482878"
            ],
            [
             0.2222222222222222,
             "#3e4989"
            ],
            [
             0.3333333333333333,
             "#31688e"
            ],
            [
             0.4444444444444444,
             "#26828e"
            ],
            [
             0.5555555555555556,
             "#1f9e89"
            ],
            [
             0.6666666666666666,
             "#35b779"
            ],
            [
             0.7777777777777778,
             "#6ece58"
            ],
            [
             0.8888888888888888,
             "#b5de2b"
            ],
            [
             1,
             "#fde725"
            ]
           ]
          },
          "colorway": [
           "#1F77B4",
           "#FF7F0E",
           "#2CA02C",
           "#D62728",
           "#9467BD",
           "#8C564B",
           "#E377C2",
           "#7F7F7F",
           "#BCBD22",
           "#17BECF"
          ],
          "font": {
           "color": "rgb(36,36,36)"
          },
          "geo": {
           "bgcolor": "white",
           "lakecolor": "white",
           "landcolor": "white",
           "showlakes": true,
           "showland": true,
           "subunitcolor": "white"
          },
          "hoverlabel": {
           "align": "left"
          },
          "hovermode": "closest",
          "mapbox": {
           "style": "light"
          },
          "paper_bgcolor": "white",
          "plot_bgcolor": "white",
          "polar": {
           "angularaxis": {
            "gridcolor": "rgb(232,232,232)",
            "linecolor": "rgb(36,36,36)",
            "showgrid": false,
            "showline": true,
            "ticks": "outside"
           },
           "bgcolor": "white",
           "radialaxis": {
            "gridcolor": "rgb(232,232,232)",
            "linecolor": "rgb(36,36,36)",
            "showgrid": false,
            "showline": true,
            "ticks": "outside"
           }
          },
          "scene": {
           "xaxis": {
            "backgroundcolor": "white",
            "gridcolor": "rgb(232,232,232)",
            "gridwidth": 2,
            "linecolor": "rgb(36,36,36)",
            "showbackground": true,
            "showgrid": false,
            "showline": true,
            "ticks": "outside",
            "zeroline": false,
            "zerolinecolor": "rgb(36,36,36)"
           },
           "yaxis": {
            "backgroundcolor": "white",
            "gridcolor": "rgb(232,232,232)",
            "gridwidth": 2,
            "linecolor": "rgb(36,36,36)",
            "showbackground": true,
            "showgrid": false,
            "showline": true,
            "ticks": "outside",
            "zeroline": false,
            "zerolinecolor": "rgb(36,36,36)"
           },
           "zaxis": {
            "backgroundcolor": "white",
            "gridcolor": "rgb(232,232,232)",
            "gridwidth": 2,
            "linecolor": "rgb(36,36,36)",
            "showbackground": true,
            "showgrid": false,
            "showline": true,
            "ticks": "outside",
            "zeroline": false,
            "zerolinecolor": "rgb(36,36,36)"
           }
          },
          "shapedefaults": {
           "fillcolor": "black",
           "line": {
            "width": 0
           },
           "opacity": 0.3
          },
          "ternary": {
           "aaxis": {
            "gridcolor": "rgb(232,232,232)",
            "linecolor": "rgb(36,36,36)",
            "showgrid": false,
            "showline": true,
            "ticks": "outside"
           },
           "baxis": {
            "gridcolor": "rgb(232,232,232)",
            "linecolor": "rgb(36,36,36)",
            "showgrid": false,
            "showline": true,
            "ticks": "outside"
           },
           "bgcolor": "white",
           "caxis": {
            "gridcolor": "rgb(232,232,232)",
            "linecolor": "rgb(36,36,36)",
            "showgrid": false,
            "showline": true,
            "ticks": "outside"
           }
          },
          "title": {
           "x": 0.05
          },
          "xaxis": {
           "automargin": true,
           "gridcolor": "rgb(232,232,232)",
           "linecolor": "rgb(36,36,36)",
           "showgrid": false,
           "showline": true,
           "ticks": "outside",
           "title": {
            "standoff": 15
           },
           "zeroline": false,
           "zerolinecolor": "rgb(36,36,36)"
          },
          "yaxis": {
           "automargin": true,
           "gridcolor": "rgb(232,232,232)",
           "linecolor": "rgb(36,36,36)",
           "showgrid": false,
           "showline": true,
           "ticks": "outside",
           "title": {
            "standoff": 15
           },
           "zeroline": false,
           "zerolinecolor": "rgb(36,36,36)"
          }
         }
        },
        "width": 1800,
        "xaxis": {
         "anchor": "y",
         "domain": [
          0,
          0.175
         ],
         "title": {
          "text": "PC1 (39.8 %)"
         }
        },
        "xaxis2": {
         "anchor": "y2",
         "domain": [
          0.275,
          0.45
         ],
         "title": {
          "text": "PC1 (25.5 %)"
         }
        },
        "xaxis3": {
         "anchor": "y3",
         "domain": [
          0.55,
          0.7250000000000001
         ],
         "title": {
          "text": "PC1 (35.3 %)"
         }
        },
        "xaxis4": {
         "anchor": "y4",
         "domain": [
          0.825,
          1
         ],
         "title": {
          "text": "PC1 (34.2 %)"
         }
        },
        "xaxis5": {
         "anchor": "y5",
         "domain": [
          0,
          0.175
         ]
        },
        "xaxis6": {
         "anchor": "y6",
         "domain": [
          0.275,
          0.45
         ],
         "title": {
          "text": "PC1 (58.7 %)"
         }
        },
        "xaxis7": {
         "anchor": "y7",
         "domain": [
          0.55,
          0.7250000000000001
         ],
         "title": {
          "text": "PC1 (33.7 %)"
         }
        },
        "xaxis8": {
         "anchor": "y8",
         "domain": [
          0.825,
          1
         ],
         "title": {
          "text": "PC1 (51.7 %)"
         }
        },
        "yaxis": {
         "anchor": "x",
         "domain": [
          0.565,
          1
         ],
         "title": {
          "text": "PC2 (11.4 %)"
         }
        },
        "yaxis2": {
         "anchor": "x2",
         "domain": [
          0.565,
          1
         ],
         "title": {
          "text": "PC2 (14.9 %)"
         }
        },
        "yaxis3": {
         "anchor": "x3",
         "domain": [
          0.565,
          1
         ],
         "title": {
          "text": "PC2 (21.0 %)"
         }
        },
        "yaxis4": {
         "anchor": "x4",
         "domain": [
          0.565,
          1
         ],
         "title": {
          "text": "PC2 (21.9 %)"
         }
        },
        "yaxis5": {
         "anchor": "x5",
         "domain": [
          0,
          0.435
         ]
        },
        "yaxis6": {
         "anchor": "x6",
         "domain": [
          0,
          0.435
         ],
         "title": {
          "text": "PC2 (15.2 %)"
         }
        },
        "yaxis7": {
         "anchor": "x7",
         "domain": [
          0,
          0.435
         ],
         "title": {
          "text": "PC2 (24.8 %)"
         }
        },
        "yaxis8": {
         "anchor": "x8",
         "domain": [
          0,
          0.435
         ],
         "title": {
          "text": "PC2 (16.9 %)"
         }
        }
       }
      }
     },
     "metadata": {},
     "output_type": "display_data"
    }
   ],
   "source": [
    "# Choos cat to plot\n",
    "plot = 'Experiment' # Experiment contains Proportion_Fecal_1\n",
    "\n",
    "if plot == 'contains':\n",
    "    colorsIdx = {\n",
    "        'Fecal_1': 'rgb(0, 95, 115)',\n",
    "        'Fecal_2': 'rgb(148, 210, 189)',\n",
    "        'Plasma': 'rgb(233, 216, 166)',\n",
    "        'Tomato': 'rgb(155, 34, 38)',\n",
    "        'Fecal_1 + Fecal_2': 'rgb(10, 147, 150)',\n",
    "        'Fecal_1 + Tomato': 'rgb(202, 103, 2)',\n",
    "        'Fecal_1 + Plasma': 'rgb(0, 150, 199)',\n",
    "        'Fecal_1 + Fecal_2 + Tomato + Plasma': 'rgb(0, 18, 25)',\n",
    "        'Fecal_2 + Tomato': 'rgb(187, 62, 3)',\n",
    "        'Fecal_2 + Plasma': 'rgb(72, 202, 228)',\n",
    "        'Tomato + Plasma': 'rgb(238, 155, 0)',\n",
    "    }\n",
    "    x_legend = 0.1\n",
    "elif (plot == 'Proportion_Fecal_1') | (plot == 'Proportion_NIST_1950_SRM') | (plot == 'Proportion_Tomato')|(plot == 'Proportion_Fecal_2') :\n",
    "    colorsIdx = {\n",
    "        '0': 'rgb(233, 216, 166)',\n",
    "        '20': 'rgb(144, 224, 239)',\n",
    "        '25': 'rgb(72, 202, 228)',\n",
    "        '40': 'rgb(0, 180, 216)',\n",
    "        '50': 'rgb(0, 150, 199)',\n",
    "        '75': 'rgb(0, 119, 182)',\n",
    "        '100': 'rgb(2, 62, 138)'\n",
    "    }\n",
    "else:\n",
    "    colorsIdx = {\n",
    "        'C18': 'rgb(238, 155, 0)',\n",
    "        'C18-RTshift': 'rgb(0, 95, 115)'\n",
    "    }\n",
    "    x_legend = 0.42\n",
    "\n",
    "fig = make_subplots(rows=2, cols=4,\n",
    "                    shared_xaxes=False,\n",
    "                    vertical_spacing=0.13,\n",
    "                    horizontal_spacing=0.1,\n",
    "                    subplot_titles=('Feature Table (Bray-Curtis)', 'MEMO unaligned (Bray-Curtis)', 'Qemistree weighted UniFrac', 'CSCS weighted', '', 'MEMO aligned (Bray-Curtis)', 'Qemistree unweighted UniFrac', 'CSCS unweighted'))\n",
    "\n",
    "cats = list(df_meta[plot].unique())\n",
    "\n",
    "# Plot  lines\n",
    "\n",
    "result_cat = results.copy()\n",
    "for metric, position in zip(metrics, pos):\n",
    "    for sample in list(result_cat['Samplename'].unique()):\n",
    "        for triplicate in [1,2,3]:\n",
    "            from_x = list(result_cat[(result_cat['Samplename'] == sample) & (result_cat['Experiment'] == 'C18') & (result_cat['Triplicate_number'] == triplicate)][metric+'_PC1'])[0]\n",
    "            from_y = list(result_cat[(result_cat['Samplename'] == sample) & (result_cat['Experiment'] == 'C18') & (result_cat['Triplicate_number'] == triplicate)][metric+'_PC2'])[0]\n",
    "            to_x =  list(result_cat[(result_cat['Samplename'] == sample) & (result_cat['Experiment'] == 'C18-RTshift') & (result_cat['Triplicate_number'] == triplicate)][metric+'_PC1'])[0]\n",
    "            to_y =  list(result_cat[(result_cat['Samplename'] == sample) & (result_cat['Experiment'] == 'C18-RTshift') & (result_cat['Triplicate_number'] == triplicate)][metric+'_PC2'])[0]\n",
    "\n",
    "            fig.add_trace(\n",
    "                go.Scatter(\n",
    "                    x= [from_x, to_x],\n",
    "                    y = [from_y, to_y],\n",
    "                    mode='lines', showlegend = False,\n",
    "                    line=dict(color='black', width=0.07)\n",
    "                    ),\n",
    "                row=position[0], col=position[1])\n",
    "\n",
    "for cat in cats:  \n",
    "    result_cat = results[results[plot] == cat]\n",
    "    for metric, position, legend_bool in zip(metrics, pos, legend):\n",
    "        fig.add_trace(\n",
    "            go.Scatter(\n",
    "                marker=dict(size=list(result_cat['size']), line_width=list(result_cat['line']), line_color ='black', opacity=0.95), \n",
    "                text=result_cat['Samplename'],\n",
    "                x= result_cat[metric+'_PC1'], y = result_cat[metric+'_PC2'],\n",
    "                mode='markers', marker_color= colorsIdx[cat],\n",
    "                name=cat, legendgroup=cat, showlegend=legend_bool\n",
    "                ),\n",
    "            row=position[0], col=position[1])\n",
    "\n",
    "\n",
    "# Update xaxis properties\n",
    "fig.update_xaxes(title_text=f\"PC1 ({results_expvar['Feature Table (Bray-Curtis)']['varPC1']} %)\", row=1, col=1)\n",
    "fig.update_xaxes(title_text=f\"PC1 ({results_expvar['MEMO unaligned (Bray-Curtis)']['varPC1']} %)\", row=1, col=2)\n",
    "fig.update_xaxes(title_text=f\"PC1 ({results_expvar['Qemistree weighted UniFrac']['varPC1']} %)\", row=1, col=3)\n",
    "fig.update_xaxes(title_text=f\"PC1 ({results_expvar['CSCS weighted']['varPC1']} %)\", row=1, col=4)\n",
    "fig.update_xaxes(title_text=f\"PC1 ({results_expvar['MEMO aligned (Bray-Curtis)']['varPC1']} %)\", row=2, col=2)\n",
    "fig.update_xaxes(title_text=f\"PC1 ({results_expvar['Qemistree unweighted UniFrac']['varPC1']} %)\", row=2, col=3)\n",
    "fig.update_xaxes(title_text=f\"PC1 ({results_expvar['CSCS unweighted']['varPC1']} %)\", row=2, col=4)\n",
    "\n",
    "# Update yaxis properties\n",
    "fig.update_yaxes(title_text=f\"PC2 ({results_expvar['Feature Table (Bray-Curtis)']['varPC2']} %)\", row=1, col=1)\n",
    "fig.update_yaxes(title_text=f\"PC2 ({results_expvar['MEMO unaligned (Bray-Curtis)']['varPC2']} %)\", row=1, col=2)\n",
    "fig.update_yaxes(title_text=f\"PC2 ({results_expvar['Qemistree weighted UniFrac']['varPC2']} %)\", row=1, col=3)\n",
    "fig.update_yaxes(title_text=f\"PC2 ({results_expvar['CSCS weighted']['varPC2']} %)\", row=1, col=4)\n",
    "fig.update_yaxes(title_text=f\"PC2 ({results_expvar['MEMO aligned (Bray-Curtis)']['varPC2']} %)\", row=2, col=2)\n",
    "fig.update_yaxes(title_text=f\"PC2 ({results_expvar['Qemistree unweighted UniFrac']['varPC2']} %)\", row=2, col=3)\n",
    "fig.update_yaxes(title_text=f\"PC2 ({results_expvar['CSCS unweighted']['varPC2']} %)\", row=2, col=4)\n",
    "\n",
    "fig.update_layout(height=900, width=1800, template = 'simple_white')\n",
    "\n",
    "fig.update_layout(legend=dict(\n",
    "    orientation=\"h\",\n",
    "    font=dict(\n",
    "        size=18,\n",
    "        color=\"black\"\n",
    "        ),\n",
    "))\n",
    "\n",
    "fig.update_annotations(font_size=20)\n",
    "\n",
    "fig.show()"
   ]
  },
  {
   "cell_type": "markdown",
   "metadata": {},
   "source": [
    "## PERMANOVA\n",
    "Compute the PERMANOVA statistical analysis for a given group parameter on the different metrics"
   ]
  },
  {
   "cell_type": "code",
   "execution_count": 9,
   "metadata": {},
   "outputs": [
    {
     "data": {
      "text/html": [
       "<div>\n",
       "<style scoped>\n",
       "    .dataframe tbody tr th:only-of-type {\n",
       "        vertical-align: middle;\n",
       "    }\n",
       "\n",
       "    .dataframe tbody tr th {\n",
       "        vertical-align: top;\n",
       "    }\n",
       "\n",
       "    .dataframe thead th {\n",
       "        text-align: right;\n",
       "    }\n",
       "</style>\n",
       "<table border=\"1\" class=\"dataframe\">\n",
       "  <thead>\n",
       "    <tr style=\"text-align: right;\">\n",
       "      <th></th>\n",
       "      <th>pseudo-F</th>\n",
       "      <th>p-value</th>\n",
       "    </tr>\n",
       "  </thead>\n",
       "  <tbody>\n",
       "    <tr>\n",
       "      <th>Feature Table (Bray-Curtis)</th>\n",
       "      <td>113.545218</td>\n",
       "      <td>0.001</td>\n",
       "    </tr>\n",
       "    <tr>\n",
       "      <th>MEMO aligned (Bray-Curtis)</th>\n",
       "      <td>25.391714</td>\n",
       "      <td>0.001</td>\n",
       "    </tr>\n",
       "    <tr>\n",
       "      <th>MEMO unaligned (Bray-Curtis)</th>\n",
       "      <td>2.228991</td>\n",
       "      <td>0.015</td>\n",
       "    </tr>\n",
       "    <tr>\n",
       "      <th>Qemistree weighted UniFrac</th>\n",
       "      <td>18.223909</td>\n",
       "      <td>0.001</td>\n",
       "    </tr>\n",
       "    <tr>\n",
       "      <th>Qemistree unweighted UniFrac</th>\n",
       "      <td>81.641344</td>\n",
       "      <td>0.001</td>\n",
       "    </tr>\n",
       "    <tr>\n",
       "      <th>CSCS weighted</th>\n",
       "      <td>17.935777</td>\n",
       "      <td>0.001</td>\n",
       "    </tr>\n",
       "    <tr>\n",
       "      <th>CSCS unweighted</th>\n",
       "      <td>28.273692</td>\n",
       "      <td>0.001</td>\n",
       "    </tr>\n",
       "  </tbody>\n",
       "</table>\n",
       "</div>"
      ],
      "text/plain": [
       "                                pseudo-F p-value\n",
       "Feature Table (Bray-Curtis)   113.545218   0.001\n",
       "MEMO aligned (Bray-Curtis)     25.391714   0.001\n",
       "MEMO unaligned (Bray-Curtis)    2.228991   0.015\n",
       "Qemistree weighted UniFrac     18.223909   0.001\n",
       "Qemistree unweighted UniFrac   81.641344   0.001\n",
       "CSCS weighted                  17.935777   0.001\n",
       "CSCS unweighted                28.273692   0.001"
      ]
     },
     "execution_count": 9,
     "metadata": {},
     "output_type": "execute_result"
    }
   ],
   "source": [
    "group = 'Experiment' # Experiment contains\n",
    "\n",
    "sk_bio_dm_bray = DistanceMatrix(dm_braycurtis, samples)\n",
    "sk_bio_dm_memo = DistanceMatrix(dm_memo, samples)\n",
    "sk_bio_dm_memo2 = DistanceMatrix(dm_memo2, samples)\n",
    "sk_bio_dm_qemistree_w = DistanceMatrix(dm_qemistree_weighted, samples)\n",
    "sk_bio_dm_qemistree_u = DistanceMatrix(dm_qemistree_unweighted, samples)\n",
    "sk_bio_dm_cscs_w = DistanceMatrix(dm_cscs_weighted, samples)\n",
    "sk_bio_dm_cscs_u = DistanceMatrix(dm_cscs_unweighted, samples)\n",
    "\n",
    "metrics = [\n",
    "    'Feature Table (Bray-Curtis)', 'MEMO aligned (Bray-Curtis)', 'MEMO unaligned (Bray-Curtis)' , 'Qemistree weighted UniFrac',\n",
    "    'Qemistree unweighted UniFrac', 'CSCS weighted', 'CSCS unweighted'\n",
    "    ]\n",
    "\n",
    "dms = [\n",
    "    sk_bio_dm_bray, sk_bio_dm_memo, sk_bio_dm_memo2, sk_bio_dm_qemistree_w,\n",
    "    sk_bio_dm_qemistree_u, sk_bio_dm_cscs_w, sk_bio_dm_cscs_u\n",
    "    ]\n",
    "\n",
    "permanova_results = {}\n",
    "for metric, dm in zip(metrics, dms):\n",
    "    permanova_results[metric] = permanova(dm, df_meta, column=group, permutations=999)\n",
    "\n",
    "results = pd.DataFrame(permanova_results).transpose().rename(columns={'test statistic': 'pseudo-F'})[['pseudo-F', 'p-value']]\n",
    "results"
   ]
  },
  {
   "cell_type": "markdown",
   "metadata": {},
   "source": [
    "# 2. Co-analysis of QE and Q-ToF data"
   ]
  },
  {
   "cell_type": "code",
   "execution_count": 10,
   "metadata": {},
   "outputs": [
    {
     "name": "stdout",
     "output_type": "stream",
     "text": [
      "generating memo_matrix from input featuretable and spectradocument\n"
     ]
    },
    {
     "name": "stderr",
     "output_type": "stream",
     "text": [
      "100%|██████████| 99/99 [00:00<00:00, 103.30it/s]\n"
     ]
    },
    {
     "name": "stdout",
     "output_type": "stream",
     "text": [
      "generating memo_matrix from input featuretable and spectradocument\n"
     ]
    },
    {
     "name": "stderr",
     "output_type": "stream",
     "text": [
      "100%|██████████| 97/97 [00:00<00:00, 162.24it/s]\n"
     ]
    }
   ],
   "source": [
    "    # Load metadata\n",
    "df_meta = pd.read_csv(\"../01_input_data/02_qemistree/1901_gradient_benchmarking_dataset_v4_sample_metadata.txt\", sep='\\t')\n",
    "df_meta['Samplename'] = df_meta['Samplename'].str[:-6]\n",
    "df_meta['Samplename'] = df_meta['Samplename'].str.replace('BLANK_', 'BLANK')\n",
    "df_meta = df_meta[['Filename', 'Experiment', 'Samplename', 'Triplicate_number', 'Proportion_Fecal_1', 'Proportion_Fecal_2', 'Proportion_Tomato', 'Proportion_NIST_1950_SRM']]\n",
    "df_meta['contains'] = df_meta.apply(conditions, axis=1)\n",
    "df_meta['instrument'] = np.where(df_meta['Samplename'].str.contains('qTOF'), 'qTOF', 'QE')\n",
    "df_meta['blank_qc'] = np.where(df_meta['Samplename'].str.contains('blank|qcmix', case = False), 'yes', 'no')\n",
    "df_meta\n",
    "\n",
    "    # Generate QE MEMO matrix\n",
    "feat_table_qe = memo.FeatureTable(path=\"../01_input_data/02_qemistree/qe_qtof_coanalysis/qe_quant_nogapF.csv\", software='mzmine')\n",
    "spectra_qe = memo.SpectraDocuments(path=\"../01_input_data/02_qemistree/qe_qtof_coanalysis/qe_spectra_nogapF.mgf\", min_relative_intensity = 0.01,\n",
    "            max_relative_intensity = 1, min_peaks_required=10, losses_from = 10, losses_to = 200, n_decimals = 2)\n",
    "memo_qe = memo.MemoMatrix()\n",
    "memo_qe.memo_from_aligned_samples(feat_table_qe, spectra_qe)\n",
    "\n",
    "    # Generate Qtof MEMO matrix\n",
    "feat_table_qtof = memo.FeatureTable(path=\"../01_input_data/02_qemistree/qe_qtof_coanalysis/qtof_quant_nogapF.csv\", software='mzmine')\n",
    "spectra_qtof = memo.SpectraDocuments(path=\"../01_input_data/02_qemistree/qe_qtof_coanalysis/qtof_spectra_nogapF.mgf\", min_relative_intensity = 0.01,\n",
    "            max_relative_intensity = 1, min_peaks_required=10, losses_from = 10, losses_to = 200, n_decimals = 2)\n",
    "\n",
    "memo_qtof = memo.MemoMatrix()\n",
    "memo_qtof.memo_from_aligned_samples(feat_table_qtof, spectra_qtof)\n",
    "\n",
    "memo_qe = memo_qe.filter(samples_pattern='blank|Qcmix')\n",
    "memo_qtof = memo_qtof.filter(samples_pattern='blank|Qcmix')\n",
    "\n",
    "memo_merged = memo_qe.merge_memo(memo_qtof, drop_not_in_common=False)\n",
    "\n",
    "    # Filter and sort metadata + memo matrix\n",
    "df_meta = df_meta[df_meta['Filename'].isin(list(memo_merged.memo_matrix.index))]\n",
    "memo_merged.memo_matrix = memo_merged.memo_matrix.loc[list(df_meta['Filename'])]\n",
    "\n",
    "    # Sample-wise normalization\n",
    "memo_merged.memo_matrix = memo_merged.memo_matrix.div(memo_merged.memo_matrix.sum(axis=1), axis=0)\n",
    "dm_memo = sp.spatial.distance.pdist(memo_merged.memo_matrix , 'braycurtis') "
   ]
  },
  {
   "cell_type": "markdown",
   "metadata": {},
   "source": [
    "## Plot"
   ]
  },
  {
   "cell_type": "code",
   "execution_count": 13,
   "metadata": {},
   "outputs": [
    {
     "name": "stderr",
     "output_type": "stream",
     "text": [
      "C:\\Users\\gaudrya.FARMA\\Anaconda3\\envs\\memo\\lib\\site-packages\\skbio\\stats\\ordination\\_principal_coordinate_analysis.py:143: RuntimeWarning:\n",
      "\n",
      "The result contains negative eigenvalues. Please compare their magnitude with the magnitude of some of the largest positive eigenvalues. If the negative ones are smaller, it's probably safe to ignore them, but if they are large in magnitude, the results won't be useful. See the Notes section for more details. The smallest eigenvalue is -0.020410938387593818 and the largest is 8.61961597127324.\n",
      "\n"
     ]
    }
   ],
   "source": [
    "''' Plot '''\n",
    "\n",
    "\n",
    "results = pd.DataFrame()\n",
    "results_expvar = {}\n",
    "PCs = [['PC1', 'PC2'], ['PC2','PC3']]\n",
    "pos = [[1,1],[1,2]]\n",
    "legend = [True, False]\n",
    "\n",
    "pcoa_results = pcoa(dm_memo)\n",
    "\n",
    "results['PC1'] = pcoa_results.samples['PC1']\n",
    "results['PC2'] = pcoa_results.samples['PC2']\n",
    "results['PC3'] = pcoa_results.samples['PC3']\n",
    "\n",
    "varPC1 = round(100*pcoa_results.proportion_explained[0], 1)\n",
    "varPC2 = round(100*pcoa_results.proportion_explained[1], 1)\n",
    "varPC3 = round(100*pcoa_results.proportion_explained[2], 1)\n",
    "\n",
    "results['contains'] = list(df_meta['contains'])\n",
    "results['instrument'] = list(df_meta['instrument'])\n",
    "results['Samplename'] = list(df_meta['Samplename'])\n",
    "results['Samplename'] = results['Samplename'].str.replace('QE_C18_', '')\n",
    "results['Samplename'] = results['Samplename'].str.replace('qTOF_C18_', '')\n",
    "results['Triplicate_number'] = list(df_meta['Triplicate_number'])\n",
    "results['size'] = np.where(results['contains'].isin(['Fecal_2', 'Fecal_1', 'Tomato', 'Plasma']), 11, 7)\n",
    "results['line'] = np.where(results['contains'].isin(['Fecal_2', 'Fecal_1', 'Tomato', 'Plasma']), 0.8, 0)"
   ]
  },
  {
   "cell_type": "markdown",
   "metadata": {},
   "source": [
    "Change the 'plot' variable according to the groups to visualize on the plot"
   ]
  },
  {
   "cell_type": "code",
   "execution_count": 31,
   "metadata": {},
   "outputs": [
    {
     "data": {
      "application/vnd.plotly.v1+json": {
       "config": {
        "plotlyServerURL": "https://plot.ly"
       },
       "data": [
        {
         "line": {
          "color": "black",
          "width": 0.07
         },
         "mode": "lines",
         "showlegend": false,
         "type": "scatter",
         "x": [
          -0.2620626143632,
          0.20985970238927298
         ],
         "xaxis": "x",
         "y": [
          -0.08554145075604683,
          -0.11043579877242918
         ],
         "yaxis": "y"
        },
        {
         "line": {
          "color": "black",
          "width": 0.07
         },
         "mode": "lines",
         "showlegend": false,
         "type": "scatter",
         "x": [
          -0.1775352565115224,
          0.21825469218655494
         ],
         "xaxis": "x",
         "y": [
          -0.12043573665621904,
          -0.09254321362256825
         ],
         "yaxis": "y"
        },
        {
         "line": {
          "color": "black",
          "width": 0.07
         },
         "mode": "lines",
         "showlegend": false,
         "type": "scatter",
         "x": [
          -0.17633960448411937,
          0.20918436454589542
         ],
         "xaxis": "x",
         "y": [
          -0.11409418042753826,
          -0.09904250002457365
         ],
         "yaxis": "y"
        },
        {
         "line": {
          "color": "black",
          "width": 0.07
         },
         "mode": "lines",
         "showlegend": false,
         "type": "scatter",
         "x": [
          -0.23032320097027154,
          0.24747360477481464
         ],
         "xaxis": "x",
         "y": [
          -0.20432186458805807,
          -0.25900448309607954
         ],
         "yaxis": "y"
        },
        {
         "line": {
          "color": "black",
          "width": 0.07
         },
         "mode": "lines",
         "showlegend": false,
         "type": "scatter",
         "x": [
          -0.23722550451487198,
          0.2538376122390216
         ],
         "xaxis": "x",
         "y": [
          -0.19646513973787827,
          -0.2630943579622625
         ],
         "yaxis": "y"
        },
        {
         "line": {
          "color": "black",
          "width": 0.07
         },
         "mode": "lines",
         "showlegend": false,
         "type": "scatter",
         "x": [
          -0.2341398219913824,
          0.255207192402036
         ],
         "xaxis": "x",
         "y": [
          -0.21130770660451398,
          -0.2666741141662671
         ],
         "yaxis": "y"
        },
        {
         "line": {
          "color": "black",
          "width": 0.07
         },
         "mode": "lines",
         "showlegend": false,
         "type": "scatter",
         "x": [
          -0.23464971409672447,
          0.27041590224292367
         ],
         "xaxis": "x",
         "y": [
          -0.20649460579096016,
          -0.23808548579685984
         ],
         "yaxis": "y"
        },
        {
         "line": {
          "color": "black",
          "width": 0.07
         },
         "mode": "lines",
         "showlegend": false,
         "type": "scatter",
         "x": [
          -0.2375731822277394,
          0.2665496039381247
         ],
         "xaxis": "x",
         "y": [
          -0.20342428222613235,
          -0.23929886336935477
         ],
         "yaxis": "y"
        },
        {
         "line": {
          "color": "black",
          "width": 0.07
         },
         "mode": "lines",
         "showlegend": false,
         "type": "scatter",
         "x": [
          -0.22208140964517564,
          0.27323020608387566
         ],
         "xaxis": "x",
         "y": [
          -0.21351548740591805,
          -0.24734017489400087
         ],
         "yaxis": "y"
        },
        {
         "line": {
          "color": "black",
          "width": 0.07
         },
         "mode": "lines",
         "showlegend": false,
         "type": "scatter",
         "x": [
          -0.2256847570941063,
          0.25952875851636154
         ],
         "xaxis": "x",
         "y": [
          -0.2184863681099843,
          -0.2438234852157231
         ],
         "yaxis": "y"
        },
        {
         "line": {
          "color": "black",
          "width": 0.07
         },
         "mode": "lines",
         "showlegend": false,
         "type": "scatter",
         "x": [
          -0.22262972476812604,
          0.27200176772473195
         ],
         "xaxis": "x",
         "y": [
          -0.20513842631054502,
          -0.24932125539349256
         ],
         "yaxis": "y"
        },
        {
         "line": {
          "color": "black",
          "width": 0.07
         },
         "mode": "lines",
         "showlegend": false,
         "type": "scatter",
         "x": [
          -0.21942399727737213,
          0.2668349133325852
         ],
         "xaxis": "x",
         "y": [
          -0.21657457526662424,
          -0.24871042473486255
         ],
         "yaxis": "y"
        },
        {
         "line": {
          "color": "black",
          "width": 0.07
         },
         "mode": "lines",
         "showlegend": false,
         "type": "scatter",
         "x": [
          -0.2230978339868111,
          0.26294546117877093
         ],
         "xaxis": "x",
         "y": [
          -0.21476187104089636,
          -0.25360891392969437
         ],
         "yaxis": "y"
        },
        {
         "line": {
          "color": "black",
          "width": 0.07
         },
         "mode": "lines",
         "showlegend": false,
         "type": "scatter",
         "x": [
          -0.225758892954732,
          0.263801379120427
         ],
         "xaxis": "x",
         "y": [
          -0.2038472768204194,
          -0.2456773962098661
         ],
         "yaxis": "y"
        },
        {
         "line": {
          "color": "black",
          "width": 0.07
         },
         "mode": "lines",
         "showlegend": false,
         "type": "scatter",
         "x": [
          -0.2273221306551302,
          0.26321133966321725
         ],
         "xaxis": "x",
         "y": [
          -0.22273520023913412,
          -0.2527348041045301
         ],
         "yaxis": "y"
        },
        {
         "line": {
          "color": "black",
          "width": 0.07
         },
         "mode": "lines",
         "showlegend": false,
         "type": "scatter",
         "x": [
          -0.22742946204838013,
          0.2231006288413035
         ],
         "xaxis": "x",
         "y": [
          0.04096841581339007,
          0.0803208007199893
         ],
         "yaxis": "y"
        },
        {
         "line": {
          "color": "black",
          "width": 0.07
         },
         "mode": "lines",
         "showlegend": false,
         "type": "scatter",
         "x": [
          -0.229462703709194,
          0.22280032882288434
         ],
         "xaxis": "x",
         "y": [
          0.04664722620141225,
          0.08159177694133073
         ],
         "yaxis": "y"
        },
        {
         "line": {
          "color": "black",
          "width": 0.07
         },
         "mode": "lines",
         "showlegend": false,
         "type": "scatter",
         "x": [
          -0.2199598114878027,
          0.22303829685200027
         ],
         "xaxis": "x",
         "y": [
          0.04037070246812669,
          0.09140062971290015
         ],
         "yaxis": "y"
        },
        {
         "line": {
          "color": "black",
          "width": 0.07
         },
         "mode": "lines",
         "showlegend": false,
         "type": "scatter",
         "x": [
          -0.23779368076312055,
          0.2323688640903199
         ],
         "xaxis": "x",
         "y": [
          0.0009762207620028113,
          0.0464781218893377
         ],
         "yaxis": "y"
        },
        {
         "line": {
          "color": "black",
          "width": 0.07
         },
         "mode": "lines",
         "showlegend": false,
         "type": "scatter",
         "x": [
          -0.22320459507179677,
          0.2330950202248672
         ],
         "xaxis": "x",
         "y": [
          0.03672461420988838,
          0.047831636885919765
         ],
         "yaxis": "y"
        },
        {
         "line": {
          "color": "black",
          "width": 0.07
         },
         "mode": "lines",
         "showlegend": false,
         "type": "scatter",
         "x": [
          -0.2008956332201415,
          0.22880524911002256
         ],
         "xaxis": "x",
         "y": [
          0.021570937944577193,
          0.05094213496612627
         ],
         "yaxis": "y"
        },
        {
         "line": {
          "color": "black",
          "width": 0.07
         },
         "mode": "lines",
         "showlegend": false,
         "type": "scatter",
         "x": [
          -0.2382842089905744,
          0.23334617137959546
         ],
         "xaxis": "x",
         "y": [
          -0.10740158815573536,
          -0.09363454281132579
         ],
         "yaxis": "y"
        },
        {
         "line": {
          "color": "black",
          "width": 0.07
         },
         "mode": "lines",
         "showlegend": false,
         "type": "scatter",
         "x": [
          -0.23068977289796974,
          0.2461814668548863
         ],
         "xaxis": "x",
         "y": [
          -0.0629638108122386,
          -0.08191946525435219
         ],
         "yaxis": "y"
        },
        {
         "line": {
          "color": "black",
          "width": 0.07
         },
         "mode": "lines",
         "showlegend": false,
         "type": "scatter",
         "x": [
          -0.22615754278913328,
          0.24882843598167576
         ],
         "xaxis": "x",
         "y": [
          -0.059203539905192226,
          -0.07546884569664473
         ],
         "yaxis": "y"
        },
        {
         "line": {
          "color": "black",
          "width": 0.07
         },
         "mode": "lines",
         "showlegend": false,
         "type": "scatter",
         "x": [
          -0.22120939048959626,
          0.21994498179032876
         ],
         "xaxis": "x",
         "y": [
          0.040292449881617544,
          0.05944343889259028
         ],
         "yaxis": "y"
        },
        {
         "line": {
          "color": "black",
          "width": 0.07
         },
         "mode": "lines",
         "showlegend": false,
         "type": "scatter",
         "x": [
          -0.21845903879291673,
          0.23584374618671763
         ],
         "xaxis": "x",
         "y": [
          0.034919048225086846,
          0.06137004705959228
         ],
         "yaxis": "y"
        },
        {
         "line": {
          "color": "black",
          "width": 0.07
         },
         "mode": "lines",
         "showlegend": false,
         "type": "scatter",
         "x": [
          -0.2117925835781501,
          0.23592864123517768
         ],
         "xaxis": "x",
         "y": [
          0.028747794611308466,
          0.055892797053249677
         ],
         "yaxis": "y"
        },
        {
         "line": {
          "color": "black",
          "width": 0.07
         },
         "mode": "lines",
         "showlegend": false,
         "type": "scatter",
         "x": [
          -0.22709181101891854,
          0.24294496897718265
         ],
         "xaxis": "x",
         "y": [
          -0.036217618970438244,
          -0.03389947820786491
         ],
         "yaxis": "y"
        },
        {
         "line": {
          "color": "black",
          "width": 0.07
         },
         "mode": "lines",
         "showlegend": false,
         "type": "scatter",
         "x": [
          -0.22283932206156354,
          0.24241421951068337
         ],
         "xaxis": "x",
         "y": [
          -0.045812713322194956,
          -0.03831937531056071
         ],
         "yaxis": "y"
        },
        {
         "line": {
          "color": "black",
          "width": 0.07
         },
         "mode": "lines",
         "showlegend": false,
         "type": "scatter",
         "x": [
          -0.22371153787717546,
          0.2445214390751243
         ],
         "xaxis": "x",
         "y": [
          -0.027195239623631386,
          -0.04024188960918038
         ],
         "yaxis": "y"
        },
        {
         "line": {
          "color": "black",
          "width": 0.07
         },
         "mode": "lines",
         "showlegend": false,
         "type": "scatter",
         "x": [
          -0.22573349976680895,
          0.23127821693204392
         ],
         "xaxis": "x",
         "y": [
          0.03357673085909592,
          0.07074291750406804
         ],
         "yaxis": "y"
        },
        {
         "line": {
          "color": "black",
          "width": 0.07
         },
         "mode": "lines",
         "showlegend": false,
         "type": "scatter",
         "x": [
          -0.22842954244113536,
          0.2235088174148713
         ],
         "xaxis": "x",
         "y": [
          0.03551511639927493,
          0.08126390278263365
         ],
         "yaxis": "y"
        },
        {
         "line": {
          "color": "black",
          "width": 0.07
         },
         "mode": "lines",
         "showlegend": false,
         "type": "scatter",
         "x": [
          -0.22072708095736523,
          0.2281605485053953
         ],
         "xaxis": "x",
         "y": [
          0.03828447374836145,
          0.07991826490034891
         ],
         "yaxis": "y"
        },
        {
         "line": {
          "color": "black",
          "width": 0.07
         },
         "mode": "lines",
         "showlegend": false,
         "type": "scatter",
         "x": [
          -0.23320291900817333,
          0.23002993544398614
         ],
         "xaxis": "x",
         "y": [
          -0.0191869189426242,
          0.004484232280203981
         ],
         "yaxis": "y"
        },
        {
         "line": {
          "color": "black",
          "width": 0.07
         },
         "mode": "lines",
         "showlegend": false,
         "type": "scatter",
         "x": [
          -0.23046747976904752,
          0.23688206845571605
         ],
         "xaxis": "x",
         "y": [
          -0.0093275741847883,
          0.0016833738491773475
         ],
         "yaxis": "y"
        },
        {
         "line": {
          "color": "black",
          "width": 0.07
         },
         "mode": "lines",
         "showlegend": false,
         "type": "scatter",
         "x": [
          -0.22707535934117062,
          0.2342826247151245
         ],
         "xaxis": "x",
         "y": [
          -0.02459886088846644,
          0.0020247751127838664
         ],
         "yaxis": "y"
        },
        {
         "line": {
          "color": "black",
          "width": 0.07
         },
         "mode": "lines",
         "showlegend": false,
         "type": "scatter",
         "x": [
          -0.22878766142569476,
          0.21575408293818032
         ],
         "xaxis": "x",
         "y": [
          0.08933460404700588,
          0.11774563813360606
         ],
         "yaxis": "y"
        },
        {
         "line": {
          "color": "black",
          "width": 0.07
         },
         "mode": "lines",
         "showlegend": false,
         "type": "scatter",
         "x": [
          -0.22584266452178328,
          0.2108060035945682
         ],
         "xaxis": "x",
         "y": [
          0.08823906568535908,
          0.11825143464965364
         ],
         "yaxis": "y"
        },
        {
         "line": {
          "color": "black",
          "width": 0.07
         },
         "mode": "lines",
         "showlegend": false,
         "type": "scatter",
         "x": [
          -0.22110017153863812,
          0.21217169837698777
         ],
         "xaxis": "x",
         "y": [
          0.08978625528993564,
          0.1262038882074693
         ],
         "yaxis": "y"
        },
        {
         "line": {
          "color": "black",
          "width": 0.07
         },
         "mode": "lines",
         "showlegend": false,
         "type": "scatter",
         "x": [
          -0.23250667619094847,
          0.22476095872335797
         ],
         "xaxis": "x",
         "y": [
          0.032278428902576185,
          0.03788604534886006
         ],
         "yaxis": "y"
        },
        {
         "line": {
          "color": "black",
          "width": 0.07
         },
         "mode": "lines",
         "showlegend": false,
         "type": "scatter",
         "x": [
          -0.23099611792738897,
          0.22251909373600934
         ],
         "xaxis": "x",
         "y": [
          0.03481942512555573,
          0.046714310014472196
         ],
         "yaxis": "y"
        },
        {
         "line": {
          "color": "black",
          "width": 0.07
         },
         "mode": "lines",
         "showlegend": false,
         "type": "scatter",
         "x": [
          -0.2336863022752819,
          0.2293265451917612
         ],
         "xaxis": "x",
         "y": [
          0.03522582994361403,
          0.0368542928843374
         ],
         "yaxis": "y"
        },
        {
         "line": {
          "color": "black",
          "width": 0.07
         },
         "mode": "lines",
         "showlegend": false,
         "type": "scatter",
         "x": [
          -0.2313396918107565,
          0.22704011951368258
         ],
         "xaxis": "x",
         "y": [
          0.017802100577719738,
          0.025447469988100456
         ],
         "yaxis": "y"
        },
        {
         "line": {
          "color": "black",
          "width": 0.07
         },
         "mode": "lines",
         "showlegend": false,
         "type": "scatter",
         "x": [
          -0.23205174681824148,
          0.2313823724499542
         ],
         "xaxis": "x",
         "y": [
          0.01953971788790304,
          0.016945554568246382
         ],
         "yaxis": "y"
        },
        {
         "line": {
          "color": "black",
          "width": 0.07
         },
         "mode": "lines",
         "showlegend": false,
         "type": "scatter",
         "x": [
          -0.23384198722998584,
          0.22502557859572223
         ],
         "xaxis": "x",
         "y": [
          0.0199587775228051,
          0.012241243407371628
         ],
         "yaxis": "y"
        },
        {
         "line": {
          "color": "black",
          "width": 0.07
         },
         "mode": "lines",
         "showlegend": false,
         "type": "scatter",
         "x": [
          -0.2351951878107541,
          0.2296526312002526
         ],
         "xaxis": "x",
         "y": [
          0.03702706010712429,
          0.042415147001474814
         ],
         "yaxis": "y"
        },
        {
         "line": {
          "color": "black",
          "width": 0.07
         },
         "mode": "lines",
         "showlegend": false,
         "type": "scatter",
         "x": [
          -0.23638404203843508,
          0.23096842387914632
         ],
         "xaxis": "x",
         "y": [
          0.03784780669002922,
          0.04575910592674556
         ],
         "yaxis": "y"
        },
        {
         "line": {
          "color": "black",
          "width": 0.07
         },
         "mode": "lines",
         "showlegend": false,
         "type": "scatter",
         "x": [
          -0.22747416565521406,
          0.22606786120549272
         ],
         "xaxis": "x",
         "y": [
          0.040019158165829204,
          0.05283997960163803
         ],
         "yaxis": "y"
        },
        {
         "line": {
          "color": "black",
          "width": 0.07
         },
         "mode": "lines",
         "showlegend": false,
         "type": "scatter",
         "x": [
          -0.2532161475238103,
          0.21187146092291204
         ],
         "xaxis": "x",
         "y": [
          0.05242170693011798,
          0.10738315221014319
         ],
         "yaxis": "y"
        },
        {
         "line": {
          "color": "black",
          "width": 0.07
         },
         "mode": "lines",
         "showlegend": false,
         "type": "scatter",
         "x": [
          -0.24167837585249158,
          0.21307556775750267
         ],
         "xaxis": "x",
         "y": [
          0.0840853024077478,
          0.10196831167960353
         ],
         "yaxis": "y"
        },
        {
         "line": {
          "color": "black",
          "width": 0.07
         },
         "mode": "lines",
         "showlegend": false,
         "type": "scatter",
         "x": [
          -0.23024630518114714,
          0.21196232156307215
         ],
         "xaxis": "x",
         "y": [
          0.08551715329760787,
          0.09795834266634687
         ],
         "yaxis": "y"
        },
        {
         "line": {
          "color": "black",
          "width": 0.07
         },
         "mode": "lines",
         "showlegend": false,
         "type": "scatter",
         "x": [
          -0.24970769208016888,
          0.23364124608173234
         ],
         "xaxis": "x",
         "y": [
          -0.019711104150235692,
          -0.010090185353519392
         ],
         "yaxis": "y"
        },
        {
         "line": {
          "color": "black",
          "width": 0.07
         },
         "mode": "lines",
         "showlegend": false,
         "type": "scatter",
         "x": [
          -0.2392703189190017,
          0.22964979884833742
         ],
         "xaxis": "x",
         "y": [
          0.003853327068880729,
          -0.02201779112936208
         ],
         "yaxis": "y"
        },
        {
         "line": {
          "color": "black",
          "width": 0.07
         },
         "mode": "lines",
         "showlegend": false,
         "type": "scatter",
         "x": [
          -0.23597979373900815,
          0.23258517614857535
         ],
         "xaxis": "x",
         "y": [
          0.003446532901114701,
          -0.02431426934126723
         ],
         "yaxis": "y"
        },
        {
         "line": {
          "color": "black",
          "width": 0.07
         },
         "mode": "lines",
         "showlegend": false,
         "type": "scatter",
         "x": [
          -0.2313280914742795,
          0.22810926716355157
         ],
         "xaxis": "x",
         "y": [
          0.02613906470372904,
          0.039301245817800985
         ],
         "yaxis": "y"
        },
        {
         "line": {
          "color": "black",
          "width": 0.07
         },
         "mode": "lines",
         "showlegend": false,
         "type": "scatter",
         "x": [
          -0.23266895415654912,
          0.22556954189613407
         ],
         "xaxis": "x",
         "y": [
          0.025582825349564436,
          0.03900847159861361
         ],
         "yaxis": "y"
        },
        {
         "line": {
          "color": "black",
          "width": 0.07
         },
         "mode": "lines",
         "showlegend": false,
         "type": "scatter",
         "x": [
          -0.2313294516326277,
          0.22745743759865372
         ],
         "xaxis": "x",
         "y": [
          0.027488316711233335,
          0.039966028317046334
         ],
         "yaxis": "y"
        },
        {
         "line": {
          "color": "black",
          "width": 0.07
         },
         "mode": "lines",
         "showlegend": false,
         "type": "scatter",
         "x": [
          -0.2424161104935258,
          0.22219890088804356
         ],
         "xaxis": "x",
         "y": [
          0.09059591836556323,
          0.11549991021811601
         ],
         "yaxis": "y"
        },
        {
         "line": {
          "color": "black",
          "width": 0.07
         },
         "mode": "lines",
         "showlegend": false,
         "type": "scatter",
         "x": [
          -0.23149703895236962,
          0.2173265076038169
         ],
         "xaxis": "x",
         "y": [
          0.08228784545528514,
          0.11850159730112338
         ],
         "yaxis": "y"
        },
        {
         "line": {
          "color": "black",
          "width": 0.07
         },
         "mode": "lines",
         "showlegend": false,
         "type": "scatter",
         "x": [
          -0.23741592142497708,
          0.22006496923100788
         ],
         "xaxis": "x",
         "y": [
          0.08086471944080277,
          0.12022990801297587
         ],
         "yaxis": "y"
        },
        {
         "line": {
          "color": "black",
          "width": 0.07
         },
         "mode": "lines",
         "showlegend": false,
         "type": "scatter",
         "x": [
          -0.2307612035630136,
          0.22419955495066404
         ],
         "xaxis": "x",
         "y": [
          0.04575233433200423,
          0.05680352845734859
         ],
         "yaxis": "y"
        },
        {
         "line": {
          "color": "black",
          "width": 0.07
         },
         "mode": "lines",
         "showlegend": false,
         "type": "scatter",
         "x": [
          -0.22821247431823574,
          0.22777761677310668
         ],
         "xaxis": "x",
         "y": [
          0.05221437915839044,
          0.06215732306035505
         ],
         "yaxis": "y"
        },
        {
         "line": {
          "color": "black",
          "width": 0.07
         },
         "mode": "lines",
         "showlegend": false,
         "type": "scatter",
         "x": [
          -0.22796242200380265,
          0.22802800659391037
         ],
         "xaxis": "x",
         "y": [
          0.05084070600926826,
          0.05742519223144231
         ],
         "yaxis": "y"
        },
        {
         "line": {
          "color": "black",
          "width": 0.07
         },
         "mode": "lines",
         "showlegend": false,
         "type": "scatter",
         "x": [
          -0.23344186460987446,
          0.21095144424138856
         ],
         "xaxis": "x",
         "y": [
          0.09330712999561207,
          0.11369614250997102
         ],
         "yaxis": "y"
        },
        {
         "line": {
          "color": "black",
          "width": 0.07
         },
         "mode": "lines",
         "showlegend": false,
         "type": "scatter",
         "x": [
          -0.23230672217765083,
          0.20945051852395463
         ],
         "xaxis": "x",
         "y": [
          0.08798966665558891,
          0.11795722265494117
         ],
         "yaxis": "y"
        },
        {
         "line": {
          "color": "black",
          "width": 0.07
         },
         "mode": "lines",
         "showlegend": false,
         "type": "scatter",
         "x": [
          -0.23007696393491145,
          0.21066768645455522
         ],
         "xaxis": "x",
         "y": [
          0.08720053731132771,
          0.11627578041354733
         ],
         "yaxis": "y"
        },
        {
         "line": {
          "color": "black",
          "width": 0.07
         },
         "mode": "lines",
         "showlegend": false,
         "type": "scatter",
         "x": [
          -0.23823259261919555,
          0.2325985535834141
         ],
         "xaxis": "x",
         "y": [
          0.01410369042072109,
          0.011415444815491047
         ],
         "yaxis": "y"
        },
        {
         "line": {
          "color": "black",
          "width": 0.07
         },
         "mode": "lines",
         "showlegend": false,
         "type": "scatter",
         "x": [
          -0.23522491823563735,
          0.22721918401954522
         ],
         "xaxis": "x",
         "y": [
          0.016379895927340054,
          0.019701251528798622
         ],
         "yaxis": "y"
        },
        {
         "line": {
          "color": "black",
          "width": 0.07
         },
         "mode": "lines",
         "showlegend": false,
         "type": "scatter",
         "x": [
          -0.24178921111377755,
          0.2301304135276257
         ],
         "xaxis": "x",
         "y": [
          0.012350962642904948,
          0.02041104352156504
         ],
         "yaxis": "y"
        },
        {
         "line": {
          "color": "black",
          "width": 0.07
         },
         "mode": "lines",
         "showlegend": false,
         "type": "scatter",
         "x": [
          -0.2806011021372786,
          0.2111698115171373
         ],
         "xaxis": "x",
         "y": [
          0.052298728525969895,
          0.1231487049561356
         ],
         "yaxis": "y"
        },
        {
         "line": {
          "color": "black",
          "width": 0.07
         },
         "mode": "lines",
         "showlegend": false,
         "type": "scatter",
         "x": [
          -0.24267583145482813,
          0.2198563345007452
         ],
         "xaxis": "x",
         "y": [
          0.09743082615043236,
          0.11473423234331287
         ],
         "yaxis": "y"
        },
        {
         "line": {
          "color": "black",
          "width": 0.07
         },
         "mode": "lines",
         "showlegend": false,
         "type": "scatter",
         "x": [
          -0.23891065276909418,
          0.21565920338833636
         ],
         "xaxis": "x",
         "y": [
          0.0954988077023814,
          0.1186681062770669
         ],
         "yaxis": "y"
        },
        {
         "line": {
          "color": "black",
          "width": 0.07
         },
         "mode": "lines",
         "showlegend": false,
         "type": "scatter",
         "x": [
          -0.23419942595387094,
          0.21212045405196528
         ],
         "xaxis": "x",
         "y": [
          0.08960332610057367,
          0.12161429224544715
         ],
         "yaxis": "y"
        },
        {
         "line": {
          "color": "black",
          "width": 0.07
         },
         "mode": "lines",
         "showlegend": false,
         "type": "scatter",
         "x": [
          -0.23039961650092022,
          0.21215369298072037
         ],
         "xaxis": "x",
         "y": [
          0.09058303422110786,
          0.12084545385177102
         ],
         "yaxis": "y"
        },
        {
         "line": {
          "color": "black",
          "width": 0.07
         },
         "mode": "lines",
         "showlegend": false,
         "type": "scatter",
         "x": [
          -0.229779634281209,
          0.21069251001280256
         ],
         "xaxis": "x",
         "y": [
          0.09272797189717963,
          0.12199999839183294
         ],
         "yaxis": "y"
        },
        {
         "line": {
          "color": "black",
          "width": 0.07
         },
         "mode": "lines",
         "showlegend": false,
         "type": "scatter",
         "x": [
          -0.22692880829284423,
          0.2280726122330044
         ],
         "xaxis": "x",
         "y": [
          0.04249827588691526,
          0.04073867081581294
         ],
         "yaxis": "y"
        },
        {
         "line": {
          "color": "black",
          "width": 0.07
         },
         "mode": "lines",
         "showlegend": false,
         "type": "scatter",
         "x": [
          -0.22641611244562548,
          0.22319418534832702
         ],
         "xaxis": "x",
         "y": [
          0.0404991071237625,
          0.05503494975686045
         ],
         "yaxis": "y"
        },
        {
         "line": {
          "color": "black",
          "width": 0.07
         },
         "mode": "lines",
         "showlegend": false,
         "type": "scatter",
         "x": [
          -0.22933196964492678,
          0.22325597826692511
         ],
         "xaxis": "x",
         "y": [
          0.05663610273505941,
          0.04733474061345657
         ],
         "yaxis": "y"
        },
        {
         "line": {
          "color": "black",
          "width": 0.07
         },
         "mode": "lines",
         "showlegend": false,
         "type": "scatter",
         "x": [
          -0.23319118868268734,
          0.21312459507169546
         ],
         "xaxis": "x",
         "y": [
          0.09124002418316524,
          0.1257190470854373
         ],
         "yaxis": "y"
        },
        {
         "line": {
          "color": "black",
          "width": 0.07
         },
         "mode": "lines",
         "showlegend": false,
         "type": "scatter",
         "x": [
          -0.23525433615684738,
          0.21552643833205276
         ],
         "xaxis": "x",
         "y": [
          0.0925757132752431,
          0.12252489997187604
         ],
         "yaxis": "y"
        },
        {
         "line": {
          "color": "black",
          "width": 0.07
         },
         "mode": "lines",
         "showlegend": false,
         "type": "scatter",
         "x": [
          -0.2326034817401217,
          0.21024824071200018
         ],
         "xaxis": "x",
         "y": [
          0.0891374231082114,
          0.12172498427218408
         ],
         "yaxis": "y"
        },
        {
         "line": {
          "color": "black",
          "width": 0.07
         },
         "mode": "lines",
         "showlegend": false,
         "type": "scatter",
         "x": [
          -0.08554145075604683,
          -0.11043579877242918
         ],
         "xaxis": "x2",
         "y": [
          -0.25237214588001283,
          -0.45302261464160043
         ],
         "yaxis": "y2"
        },
        {
         "line": {
          "color": "black",
          "width": 0.07
         },
         "mode": "lines",
         "showlegend": false,
         "type": "scatter",
         "x": [
          -0.12043573665621904,
          -0.09254321362256825
         ],
         "xaxis": "x2",
         "y": [
          -0.33358158579005454,
          -0.41823240153178637
         ],
         "yaxis": "y2"
        },
        {
         "line": {
          "color": "black",
          "width": 0.07
         },
         "mode": "lines",
         "showlegend": false,
         "type": "scatter",
         "x": [
          -0.11409418042753826,
          -0.09904250002457365
         ],
         "xaxis": "x2",
         "y": [
          -0.31240553657176545,
          -0.4372173376658523
         ],
         "yaxis": "y2"
        },
        {
         "line": {
          "color": "black",
          "width": 0.07
         },
         "mode": "lines",
         "showlegend": false,
         "type": "scatter",
         "x": [
          -0.20432186458805807,
          -0.25900448309607954
         ],
         "xaxis": "x2",
         "y": [
          0.05619984137775047,
          0.07055121889945545
         ],
         "yaxis": "y2"
        },
        {
         "line": {
          "color": "black",
          "width": 0.07
         },
         "mode": "lines",
         "showlegend": false,
         "type": "scatter",
         "x": [
          -0.19646513973787827,
          -0.2630943579622625
         ],
         "xaxis": "x2",
         "y": [
          0.04135167669686315,
          0.09963603445683235
         ],
         "yaxis": "y2"
        },
        {
         "line": {
          "color": "black",
          "width": 0.07
         },
         "mode": "lines",
         "showlegend": false,
         "type": "scatter",
         "x": [
          -0.21130770660451398,
          -0.2666741141662671
         ],
         "xaxis": "x2",
         "y": [
          0.039370257724508535,
          0.10184995544125149
         ],
         "yaxis": "y2"
        },
        {
         "line": {
          "color": "black",
          "width": 0.07
         },
         "mode": "lines",
         "showlegend": false,
         "type": "scatter",
         "x": [
          -0.20649460579096016,
          -0.23808548579685984
         ],
         "xaxis": "x2",
         "y": [
          -0.005925355989428861,
          -0.044771519682555966
         ],
         "yaxis": "y2"
        },
        {
         "line": {
          "color": "black",
          "width": 0.07
         },
         "mode": "lines",
         "showlegend": false,
         "type": "scatter",
         "x": [
          -0.20342428222613235,
          -0.23929886336935477
         ],
         "xaxis": "x2",
         "y": [
          -0.02063637427669156,
          -0.02433701656342104
         ],
         "yaxis": "y2"
        },
        {
         "line": {
          "color": "black",
          "width": 0.07
         },
         "mode": "lines",
         "showlegend": false,
         "type": "scatter",
         "x": [
          -0.21351548740591805,
          -0.24734017489400087
         ],
         "xaxis": "x2",
         "y": [
          -0.015923293282287237,
          -0.03024753721875212
         ],
         "yaxis": "y2"
        },
        {
         "line": {
          "color": "black",
          "width": 0.07
         },
         "mode": "lines",
         "showlegend": false,
         "type": "scatter",
         "x": [
          -0.2184863681099843,
          -0.2438234852157231
         ],
         "xaxis": "x2",
         "y": [
          0.021684835915523067,
          0.03546851532910285
         ],
         "yaxis": "y2"
        },
        {
         "line": {
          "color": "black",
          "width": 0.07
         },
         "mode": "lines",
         "showlegend": false,
         "type": "scatter",
         "x": [
          -0.20513842631054502,
          -0.24932125539349256
         ],
         "xaxis": "x2",
         "y": [
          0.027964379682445643,
          0.011382891248847476
         ],
         "yaxis": "y2"
        },
        {
         "line": {
          "color": "black",
          "width": 0.07
         },
         "mode": "lines",
         "showlegend": false,
         "type": "scatter",
         "x": [
          -0.21657457526662424,
          -0.24871042473486255
         ],
         "xaxis": "x2",
         "y": [
          0.022361204341176985,
          0.024969392025954513
         ],
         "yaxis": "y2"
        },
        {
         "line": {
          "color": "black",
          "width": 0.07
         },
         "mode": "lines",
         "showlegend": false,
         "type": "scatter",
         "x": [
          -0.21476187104089636,
          -0.25360891392969437
         ],
         "xaxis": "x2",
         "y": [
          0.02412617167013807,
          0.05285916638639421
         ],
         "yaxis": "y2"
        },
        {
         "line": {
          "color": "black",
          "width": 0.07
         },
         "mode": "lines",
         "showlegend": false,
         "type": "scatter",
         "x": [
          -0.2038472768204194,
          -0.2456773962098661
         ],
         "xaxis": "x2",
         "y": [
          0.023259192906299103,
          0.05541601181487054
         ],
         "yaxis": "y2"
        },
        {
         "line": {
          "color": "black",
          "width": 0.07
         },
         "mode": "lines",
         "showlegend": false,
         "type": "scatter",
         "x": [
          -0.22273520023913412,
          -0.2527348041045301
         ],
         "xaxis": "x2",
         "y": [
          0.021812293888633906,
          0.05295003260934912
         ],
         "yaxis": "y2"
        },
        {
         "line": {
          "color": "black",
          "width": 0.07
         },
         "mode": "lines",
         "showlegend": false,
         "type": "scatter",
         "x": [
          0.04096841581339007,
          0.0803208007199893
         ],
         "xaxis": "x2",
         "y": [
          0.021010693817909733,
          0.011711967102212452
         ],
         "yaxis": "y2"
        },
        {
         "line": {
          "color": "black",
          "width": 0.07
         },
         "mode": "lines",
         "showlegend": false,
         "type": "scatter",
         "x": [
          0.04664722620141225,
          0.08159177694133073
         ],
         "xaxis": "x2",
         "y": [
          0.008513306564347265,
          0.011395284429265653
         ],
         "yaxis": "y2"
        },
        {
         "line": {
          "color": "black",
          "width": 0.07
         },
         "mode": "lines",
         "showlegend": false,
         "type": "scatter",
         "x": [
          0.04037070246812669,
          0.09140062971290015
         ],
         "xaxis": "x2",
         "y": [
          0.00909211516694402,
          0.003959454070138669
         ],
         "yaxis": "y2"
        },
        {
         "line": {
          "color": "black",
          "width": 0.07
         },
         "mode": "lines",
         "showlegend": false,
         "type": "scatter",
         "x": [
          0.0009762207620028113,
          0.0464781218893377
         ],
         "xaxis": "x2",
         "y": [
          -0.2195660428782732,
          -0.0924623900336765
         ],
         "yaxis": "y2"
        },
        {
         "line": {
          "color": "black",
          "width": 0.07
         },
         "mode": "lines",
         "showlegend": false,
         "type": "scatter",
         "x": [
          0.03672461420988838,
          0.047831636885919765
         ],
         "xaxis": "x2",
         "y": [
          -0.06594306726013394,
          -0.1007671874635751
         ],
         "yaxis": "y2"
        },
        {
         "line": {
          "color": "black",
          "width": 0.07
         },
         "mode": "lines",
         "showlegend": false,
         "type": "scatter",
         "x": [
          0.021570937944577193,
          0.05094213496612627
         ],
         "xaxis": "x2",
         "y": [
          -0.06991168455487336,
          -0.0896415784451685
         ],
         "yaxis": "y2"
        },
        {
         "line": {
          "color": "black",
          "width": 0.07
         },
         "mode": "lines",
         "showlegend": false,
         "type": "scatter",
         "x": [
          -0.10740158815573536,
          -0.09363454281132579
         ],
         "xaxis": "x2",
         "y": [
          0.049436161930398556,
          0.07713979168178162
         ],
         "yaxis": "y2"
        },
        {
         "line": {
          "color": "black",
          "width": 0.07
         },
         "mode": "lines",
         "showlegend": false,
         "type": "scatter",
         "x": [
          -0.0629638108122386,
          -0.08191946525435219
         ],
         "xaxis": "x2",
         "y": [
          0.05299169538091459,
          0.08430383660588127
         ],
         "yaxis": "y2"
        },
        {
         "line": {
          "color": "black",
          "width": 0.07
         },
         "mode": "lines",
         "showlegend": false,
         "type": "scatter",
         "x": [
          -0.059203539905192226,
          -0.07546884569664473
         ],
         "xaxis": "x2",
         "y": [
          0.05588320152513466,
          0.08274346191354469
         ],
         "yaxis": "y2"
        },
        {
         "line": {
          "color": "black",
          "width": 0.07
         },
         "mode": "lines",
         "showlegend": false,
         "type": "scatter",
         "x": [
          0.040292449881617544,
          0.05944343889259028
         ],
         "xaxis": "x2",
         "y": [
          -0.0181094786418682,
          -0.04628342563417502
         ],
         "yaxis": "y2"
        },
        {
         "line": {
          "color": "black",
          "width": 0.07
         },
         "mode": "lines",
         "showlegend": false,
         "type": "scatter",
         "x": [
          0.034919048225086846,
          0.06137004705959228
         ],
         "xaxis": "x2",
         "y": [
          -0.010945168338451846,
          -0.04944297884026759
         ],
         "yaxis": "y2"
        },
        {
         "line": {
          "color": "black",
          "width": 0.07
         },
         "mode": "lines",
         "showlegend": false,
         "type": "scatter",
         "x": [
          0.028747794611308466,
          0.055892797053249677
         ],
         "xaxis": "x2",
         "y": [
          -0.009453298847843595,
          -0.05215316232735649
         ],
         "yaxis": "y2"
        },
        {
         "line": {
          "color": "black",
          "width": 0.07
         },
         "mode": "lines",
         "showlegend": false,
         "type": "scatter",
         "x": [
          -0.036217618970438244,
          -0.03389947820786491
         ],
         "xaxis": "x2",
         "y": [
          0.04949104561615358,
          0.0802243912042161
         ],
         "yaxis": "y2"
        },
        {
         "line": {
          "color": "black",
          "width": 0.07
         },
         "mode": "lines",
         "showlegend": false,
         "type": "scatter",
         "x": [
          -0.045812713322194956,
          -0.03831937531056071
         ],
         "xaxis": "x2",
         "y": [
          0.045448614938790155,
          0.08068150900069655
         ],
         "yaxis": "y2"
        },
        {
         "line": {
          "color": "black",
          "width": 0.07
         },
         "mode": "lines",
         "showlegend": false,
         "type": "scatter",
         "x": [
          -0.027195239623631386,
          -0.04024188960918038
         ],
         "xaxis": "x2",
         "y": [
          0.052489139425626725,
          0.08021357943239361
         ],
         "yaxis": "y2"
        },
        {
         "line": {
          "color": "black",
          "width": 0.07
         },
         "mode": "lines",
         "showlegend": false,
         "type": "scatter",
         "x": [
          0.03357673085909592,
          0.07074291750406804
         ],
         "xaxis": "x2",
         "y": [
          -0.001471154989977936,
          -0.011949477310357313
         ],
         "yaxis": "y2"
        },
        {
         "line": {
          "color": "black",
          "width": 0.07
         },
         "mode": "lines",
         "showlegend": false,
         "type": "scatter",
         "x": [
          0.03551511639927493,
          0.08126390278263365
         ],
         "xaxis": "x2",
         "y": [
          -0.0001959878416081609,
          -0.006552412728755389
         ],
         "yaxis": "y2"
        },
        {
         "line": {
          "color": "black",
          "width": 0.07
         },
         "mode": "lines",
         "showlegend": false,
         "type": "scatter",
         "x": [
          0.03828447374836145,
          0.07991826490034891
         ],
         "xaxis": "x2",
         "y": [
          0.0025875551940886957,
          -0.015133962401552526
         ],
         "yaxis": "y2"
        },
        {
         "line": {
          "color": "black",
          "width": 0.07
         },
         "mode": "lines",
         "showlegend": false,
         "type": "scatter",
         "x": [
          -0.0191869189426242,
          0.004484232280203981
         ],
         "xaxis": "x2",
         "y": [
          0.04805240980948757,
          0.06109914456674245
         ],
         "yaxis": "y2"
        },
        {
         "line": {
          "color": "black",
          "width": 0.07
         },
         "mode": "lines",
         "showlegend": false,
         "type": "scatter",
         "x": [
          -0.0093275741847883,
          0.0016833738491773475
         ],
         "xaxis": "x2",
         "y": [
          0.040810861343887804,
          0.07029068829153641
         ],
         "yaxis": "y2"
        },
        {
         "line": {
          "color": "black",
          "width": 0.07
         },
         "mode": "lines",
         "showlegend": false,
         "type": "scatter",
         "x": [
          -0.02459886088846644,
          0.0020247751127838664
         ],
         "xaxis": "x2",
         "y": [
          0.048159291259765605,
          0.068617360080883
         ],
         "yaxis": "y2"
        },
        {
         "line": {
          "color": "black",
          "width": 0.07
         },
         "mode": "lines",
         "showlegend": false,
         "type": "scatter",
         "x": [
          0.08933460404700588,
          0.11774563813360606
         ],
         "xaxis": "x2",
         "y": [
          0.018093974729933196,
          -0.005132053798890487
         ],
         "yaxis": "y2"
        },
        {
         "line": {
          "color": "black",
          "width": 0.07
         },
         "mode": "lines",
         "showlegend": false,
         "type": "scatter",
         "x": [
          0.08823906568535908,
          0.11825143464965364
         ],
         "xaxis": "x2",
         "y": [
          0.01506772897405797,
          0.0007013211341035799
         ],
         "yaxis": "y2"
        },
        {
         "line": {
          "color": "black",
          "width": 0.07
         },
         "mode": "lines",
         "showlegend": false,
         "type": "scatter",
         "x": [
          0.08978625528993564,
          0.1262038882074693
         ],
         "xaxis": "x2",
         "y": [
          0.013904331661075497,
          -0.011206600822496401
         ],
         "yaxis": "y2"
        },
        {
         "line": {
          "color": "black",
          "width": 0.07
         },
         "mode": "lines",
         "showlegend": false,
         "type": "scatter",
         "x": [
          0.032278428902576185,
          0.03788604534886006
         ],
         "xaxis": "x2",
         "y": [
          0.03193028736529238,
          0.03482312437113887
         ],
         "yaxis": "y2"
        },
        {
         "line": {
          "color": "black",
          "width": 0.07
         },
         "mode": "lines",
         "showlegend": false,
         "type": "scatter",
         "x": [
          0.03481942512555573,
          0.046714310014472196
         ],
         "xaxis": "x2",
         "y": [
          0.02914831768263985,
          0.025835601568064564
         ],
         "yaxis": "y2"
        },
        {
         "line": {
          "color": "black",
          "width": 0.07
         },
         "mode": "lines",
         "showlegend": false,
         "type": "scatter",
         "x": [
          0.03522582994361403,
          0.0368542928843374
         ],
         "xaxis": "x2",
         "y": [
          0.03213933330321605,
          0.02653446879138714
         ],
         "yaxis": "y2"
        },
        {
         "line": {
          "color": "black",
          "width": 0.07
         },
         "mode": "lines",
         "showlegend": false,
         "type": "scatter",
         "x": [
          0.017802100577719738,
          0.025447469988100456
         ],
         "xaxis": "x2",
         "y": [
          0.0395306697409397,
          0.04420004555376436
         ],
         "yaxis": "y2"
        },
        {
         "line": {
          "color": "black",
          "width": 0.07
         },
         "mode": "lines",
         "showlegend": false,
         "type": "scatter",
         "x": [
          0.01953971788790304,
          0.016945554568246382
         ],
         "xaxis": "x2",
         "y": [
          0.03820285693992877,
          0.0507804319935981
         ],
         "yaxis": "y2"
        },
        {
         "line": {
          "color": "black",
          "width": 0.07
         },
         "mode": "lines",
         "showlegend": false,
         "type": "scatter",
         "x": [
          0.0199587775228051,
          0.012241243407371628
         ],
         "xaxis": "x2",
         "y": [
          0.039964591940854714,
          0.0534513649496612
         ],
         "yaxis": "y2"
        },
        {
         "line": {
          "color": "black",
          "width": 0.07
         },
         "mode": "lines",
         "showlegend": false,
         "type": "scatter",
         "x": [
          0.03702706010712429,
          0.042415147001474814
         ],
         "xaxis": "x2",
         "y": [
          0.036113681007080366,
          0.040422636959055215
         ],
         "yaxis": "y2"
        },
        {
         "line": {
          "color": "black",
          "width": 0.07
         },
         "mode": "lines",
         "showlegend": false,
         "type": "scatter",
         "x": [
          0.03784780669002922,
          0.04575910592674556
         ],
         "xaxis": "x2",
         "y": [
          0.034459052648923724,
          0.043387072434323104
         ],
         "yaxis": "y2"
        },
        {
         "line": {
          "color": "black",
          "width": 0.07
         },
         "mode": "lines",
         "showlegend": false,
         "type": "scatter",
         "x": [
          0.040019158165829204,
          0.05283997960163803
         ],
         "xaxis": "x2",
         "y": [
          0.0367681848956706,
          0.03341793033552912
         ],
         "yaxis": "y2"
        },
        {
         "line": {
          "color": "black",
          "width": 0.07
         },
         "mode": "lines",
         "showlegend": false,
         "type": "scatter",
         "x": [
          0.05242170693011798,
          0.10738315221014319
         ],
         "xaxis": "x2",
         "y": [
          -0.1332281745834702,
          -0.07756159423613378
         ],
         "yaxis": "y2"
        },
        {
         "line": {
          "color": "black",
          "width": 0.07
         },
         "mode": "lines",
         "showlegend": false,
         "type": "scatter",
         "x": [
          0.0840853024077478,
          0.10196831167960353
         ],
         "xaxis": "x2",
         "y": [
          -0.0311295122114853,
          -0.08937088618785302
         ],
         "yaxis": "y2"
        },
        {
         "line": {
          "color": "black",
          "width": 0.07
         },
         "mode": "lines",
         "showlegend": false,
         "type": "scatter",
         "x": [
          0.08551715329760787,
          0.09795834266634687
         ],
         "xaxis": "x2",
         "y": [
          -0.0183199581823888,
          -0.09460723871990841
         ],
         "yaxis": "y2"
        },
        {
         "line": {
          "color": "black",
          "width": 0.07
         },
         "mode": "lines",
         "showlegend": false,
         "type": "scatter",
         "x": [
          -0.019711104150235692,
          -0.010090185353519392
         ],
         "xaxis": "x2",
         "y": [
          -0.050266026274150645,
          0.06027243136277233
         ],
         "yaxis": "y2"
        },
        {
         "line": {
          "color": "black",
          "width": 0.07
         },
         "mode": "lines",
         "showlegend": false,
         "type": "scatter",
         "x": [
          0.003853327068880729,
          -0.02201779112936208
         ],
         "xaxis": "x2",
         "y": [
          0.048241940052865265,
          0.056664143509582106
         ],
         "yaxis": "y2"
        },
        {
         "line": {
          "color": "black",
          "width": 0.07
         },
         "mode": "lines",
         "showlegend": false,
         "type": "scatter",
         "x": [
          0.003446532901114701,
          -0.02431426934126723
         ],
         "xaxis": "x2",
         "y": [
          0.04468093420609767,
          0.055568111500424094
         ],
         "yaxis": "y2"
        },
        {
         "line": {
          "color": "black",
          "width": 0.07
         },
         "mode": "lines",
         "showlegend": false,
         "type": "scatter",
         "x": [
          0.02613906470372904,
          0.039301245817800985
         ],
         "xaxis": "x2",
         "y": [
          0.041471650054980776,
          0.030276888974304514
         ],
         "yaxis": "y2"
        },
        {
         "line": {
          "color": "black",
          "width": 0.07
         },
         "mode": "lines",
         "showlegend": false,
         "type": "scatter",
         "x": [
          0.025582825349564436,
          0.03900847159861361
         ],
         "xaxis": "x2",
         "y": [
          0.03682808639880787,
          0.03732668762754691
         ],
         "yaxis": "y2"
        },
        {
         "line": {
          "color": "black",
          "width": 0.07
         },
         "mode": "lines",
         "showlegend": false,
         "type": "scatter",
         "x": [
          0.027488316711233335,
          0.039966028317046334
         ],
         "xaxis": "x2",
         "y": [
          0.037180201715677284,
          0.033811435886339024
         ],
         "yaxis": "y2"
        },
        {
         "line": {
          "color": "black",
          "width": 0.07
         },
         "mode": "lines",
         "showlegend": false,
         "type": "scatter",
         "x": [
          0.09059591836556323,
          0.11549991021811601
         ],
         "xaxis": "x2",
         "y": [
          0.011826845809415173,
          0.010706792316552813
         ],
         "yaxis": "y2"
        },
        {
         "line": {
          "color": "black",
          "width": 0.07
         },
         "mode": "lines",
         "showlegend": false,
         "type": "scatter",
         "x": [
          0.08228784545528514,
          0.11850159730112338
         ],
         "xaxis": "x2",
         "y": [
          0.016507882533813113,
          0.008173028784666239
         ],
         "yaxis": "y2"
        },
        {
         "line": {
          "color": "black",
          "width": 0.07
         },
         "mode": "lines",
         "showlegend": false,
         "type": "scatter",
         "x": [
          0.08086471944080277,
          0.12022990801297587
         ],
         "xaxis": "x2",
         "y": [
          0.018521470015300634,
          0.008663580003653758
         ],
         "yaxis": "y2"
        },
        {
         "line": {
          "color": "black",
          "width": 0.07
         },
         "mode": "lines",
         "showlegend": false,
         "type": "scatter",
         "x": [
          0.04575233433200423,
          0.05680352845734859
         ],
         "xaxis": "x2",
         "y": [
          0.030905915508283813,
          0.03132197420125771
         ],
         "yaxis": "y2"
        },
        {
         "line": {
          "color": "black",
          "width": 0.07
         },
         "mode": "lines",
         "showlegend": false,
         "type": "scatter",
         "x": [
          0.05221437915839044,
          0.06215732306035505
         ],
         "xaxis": "x2",
         "y": [
          0.029713033161611762,
          0.029031044109517026
         ],
         "yaxis": "y2"
        },
        {
         "line": {
          "color": "black",
          "width": 0.07
         },
         "mode": "lines",
         "showlegend": false,
         "type": "scatter",
         "x": [
          0.05084070600926826,
          0.05742519223144231
         ],
         "xaxis": "x2",
         "y": [
          0.03414143076642318,
          0.03138652704471719
         ],
         "yaxis": "y2"
        },
        {
         "line": {
          "color": "black",
          "width": 0.07
         },
         "mode": "lines",
         "showlegend": false,
         "type": "scatter",
         "x": [
          0.09330712999561207,
          0.11369614250997102
         ],
         "xaxis": "x2",
         "y": [
          -0.002003298649742186,
          -0.04481977077400925
         ],
         "yaxis": "y2"
        },
        {
         "line": {
          "color": "black",
          "width": 0.07
         },
         "mode": "lines",
         "showlegend": false,
         "type": "scatter",
         "x": [
          0.08798966665558891,
          0.11795722265494117
         ],
         "xaxis": "x2",
         "y": [
          -0.004628642613456821,
          -0.04413048709176223
         ],
         "yaxis": "y2"
        },
        {
         "line": {
          "color": "black",
          "width": 0.07
         },
         "mode": "lines",
         "showlegend": false,
         "type": "scatter",
         "x": [
          0.08720053731132771,
          0.11627578041354733
         ],
         "xaxis": "x2",
         "y": [
          -0.005003342916967105,
          -0.04105110858509822
         ],
         "yaxis": "y2"
        },
        {
         "line": {
          "color": "black",
          "width": 0.07
         },
         "mode": "lines",
         "showlegend": false,
         "type": "scatter",
         "x": [
          0.01410369042072109,
          0.011415444815491047
         ],
         "xaxis": "x2",
         "y": [
          0.040698325657631124,
          0.060391322209889575
         ],
         "yaxis": "y2"
        },
        {
         "line": {
          "color": "black",
          "width": 0.07
         },
         "mode": "lines",
         "showlegend": false,
         "type": "scatter",
         "x": [
          0.016379895927340054,
          0.019701251528798622
         ],
         "xaxis": "x2",
         "y": [
          0.04165051971714369,
          0.06125396850937154
         ],
         "yaxis": "y2"
        },
        {
         "line": {
          "color": "black",
          "width": 0.07
         },
         "mode": "lines",
         "showlegend": false,
         "type": "scatter",
         "x": [
          0.012350962642904948,
          0.02041104352156504
         ],
         "xaxis": "x2",
         "y": [
          0.023365089461293207,
          0.057574165537127985
         ],
         "yaxis": "y2"
        },
        {
         "line": {
          "color": "black",
          "width": 0.07
         },
         "mode": "lines",
         "showlegend": false,
         "type": "scatter",
         "x": [
          0.052298728525969895,
          0.1231487049561356
         ],
         "xaxis": "x2",
         "y": [
          -0.0987437448663723,
          0.0017214751820761075
         ],
         "yaxis": "y2"
        },
        {
         "line": {
          "color": "black",
          "width": 0.07
         },
         "mode": "lines",
         "showlegend": false,
         "type": "scatter",
         "x": [
          0.09743082615043236,
          0.11473423234331287
         ],
         "xaxis": "x2",
         "y": [
          0.005314587544690434,
          0.00339396683949786
         ],
         "yaxis": "y2"
        },
        {
         "line": {
          "color": "black",
          "width": 0.07
         },
         "mode": "lines",
         "showlegend": false,
         "type": "scatter",
         "x": [
          0.0954988077023814,
          0.1186681062770669
         ],
         "xaxis": "x2",
         "y": [
          -0.013226705906061112,
          0.008370754722097234
         ],
         "yaxis": "y2"
        },
        {
         "line": {
          "color": "black",
          "width": 0.07
         },
         "mode": "lines",
         "showlegend": false,
         "type": "scatter",
         "x": [
          0.08960332610057367,
          0.12161429224544715
         ],
         "xaxis": "x2",
         "y": [
          0.006228505141320785,
          -0.018032767013328434
         ],
         "yaxis": "y2"
        },
        {
         "line": {
          "color": "black",
          "width": 0.07
         },
         "mode": "lines",
         "showlegend": false,
         "type": "scatter",
         "x": [
          0.09058303422110786,
          0.12084545385177102
         ],
         "xaxis": "x2",
         "y": [
          0.006568671933386222,
          -0.014158285631363943
         ],
         "yaxis": "y2"
        },
        {
         "line": {
          "color": "black",
          "width": 0.07
         },
         "mode": "lines",
         "showlegend": false,
         "type": "scatter",
         "x": [
          0.09272797189717963,
          0.12199999839183294
         ],
         "xaxis": "x2",
         "y": [
          0.005436887755007185,
          -0.020589450547202924
         ],
         "yaxis": "y2"
        },
        {
         "line": {
          "color": "black",
          "width": 0.07
         },
         "mode": "lines",
         "showlegend": false,
         "type": "scatter",
         "x": [
          0.04249827588691526,
          0.04073867081581294
         ],
         "xaxis": "x2",
         "y": [
          0.04156671532957575,
          0.0448578005932434
         ],
         "yaxis": "y2"
        },
        {
         "line": {
          "color": "black",
          "width": 0.07
         },
         "mode": "lines",
         "showlegend": false,
         "type": "scatter",
         "x": [
          0.0404991071237625,
          0.05503494975686045
         ],
         "xaxis": "x2",
         "y": [
          0.04454732096759838,
          0.03685805246955864
         ],
         "yaxis": "y2"
        },
        {
         "line": {
          "color": "black",
          "width": 0.07
         },
         "mode": "lines",
         "showlegend": false,
         "type": "scatter",
         "x": [
          0.05663610273505941,
          0.04733474061345657
         ],
         "xaxis": "x2",
         "y": [
          0.02333812652282624,
          0.03960790261628387
         ],
         "yaxis": "y2"
        },
        {
         "line": {
          "color": "black",
          "width": 0.07
         },
         "mode": "lines",
         "showlegend": false,
         "type": "scatter",
         "x": [
          0.09124002418316524,
          0.1257190470854373
         ],
         "xaxis": "x2",
         "y": [
          0.013816410330524566,
          -0.005595691332749011
         ],
         "yaxis": "y2"
        },
        {
         "line": {
          "color": "black",
          "width": 0.07
         },
         "mode": "lines",
         "showlegend": false,
         "type": "scatter",
         "x": [
          0.0925757132752431,
          0.12252489997187604
         ],
         "xaxis": "x2",
         "y": [
          0.013375305481230008,
          -0.0012853777637249256
         ],
         "yaxis": "y2"
        },
        {
         "line": {
          "color": "black",
          "width": 0.07
         },
         "mode": "lines",
         "showlegend": false,
         "type": "scatter",
         "x": [
          0.0891374231082114,
          0.12172498427218408
         ],
         "xaxis": "x2",
         "y": [
          0.007705190407687663,
          0.003446154118689308
         ],
         "yaxis": "y2"
        },
        {
         "legendgroup": "Fecal_1",
         "marker": {
          "color": "rgb(0, 95, 115)",
          "line": {
           "color": "black",
           "width": [
            0.8,
            0.8,
            0.8,
            0.8,
            0.8,
            0.8
           ]
          },
          "opacity": 0.95,
          "size": [
           11,
           11,
           11,
           11,
           11,
           11
          ]
         },
         "mode": "markers",
         "name": "Fecal_1",
         "showlegend": true,
         "type": "scatter",
         "x": [
          -0.22584266452178328,
          -0.22110017153863812,
          -0.22878766142569476,
          0.21575408293818032,
          0.2108060035945682,
          0.21217169837698777
         ],
         "xaxis": "x",
         "y": [
          0.08823906568535908,
          0.08978625528993564,
          0.08933460404700588,
          0.11774563813360606,
          0.11825143464965364,
          0.1262038882074693
         ],
         "yaxis": "y"
        },
        {
         "legendgroup": "Fecal_1",
         "marker": {
          "color": "rgb(0, 95, 115)",
          "line": {
           "color": "black",
           "width": [
            0.8,
            0.8,
            0.8,
            0.8,
            0.8,
            0.8
           ]
          },
          "opacity": 0.95,
          "size": [
           11,
           11,
           11,
           11,
           11,
           11
          ]
         },
         "mode": "markers",
         "name": "Fecal_1",
         "showlegend": false,
         "type": "scatter",
         "x": [
          0.08823906568535908,
          0.08978625528993564,
          0.08933460404700588,
          0.11774563813360606,
          0.11825143464965364,
          0.1262038882074693
         ],
         "xaxis": "x2",
         "y": [
          0.01506772897405797,
          0.013904331661075497,
          0.018093974729933196,
          -0.005132053798890487,
          0.0007013211341035799,
          -0.011206600822496401
         ],
         "yaxis": "y2"
        },
        {
         "legendgroup": "Fecal_2",
         "marker": {
          "color": "rgb(148, 210, 189)",
          "line": {
           "color": "black",
           "width": [
            0.8,
            0.8,
            0.8,
            0.8,
            0.8,
            0.8
           ]
          },
          "opacity": 0.95,
          "size": [
           11,
           11,
           11,
           11,
           11,
           11
          ]
         },
         "mode": "markers",
         "name": "Fecal_2",
         "showlegend": true,
         "type": "scatter",
         "x": [
          -0.229462703709194,
          -0.2199598114878027,
          -0.22742946204838013,
          0.2231006288413035,
          0.22280032882288434,
          0.22303829685200027
         ],
         "xaxis": "x",
         "y": [
          0.04664722620141225,
          0.04037070246812669,
          0.04096841581339007,
          0.0803208007199893,
          0.08159177694133073,
          0.09140062971290015
         ],
         "yaxis": "y"
        },
        {
         "legendgroup": "Fecal_2",
         "marker": {
          "color": "rgb(148, 210, 189)",
          "line": {
           "color": "black",
           "width": [
            0.8,
            0.8,
            0.8,
            0.8,
            0.8,
            0.8
           ]
          },
          "opacity": 0.95,
          "size": [
           11,
           11,
           11,
           11,
           11,
           11
          ]
         },
         "mode": "markers",
         "name": "Fecal_2",
         "showlegend": false,
         "type": "scatter",
         "x": [
          0.04664722620141225,
          0.04037070246812669,
          0.04096841581339007,
          0.0803208007199893,
          0.08159177694133073,
          0.09140062971290015
         ],
         "xaxis": "x2",
         "y": [
          0.008513306564347265,
          0.00909211516694402,
          0.021010693817909733,
          0.011711967102212452,
          0.011395284429265653,
          0.003959454070138669
         ],
         "yaxis": "y2"
        },
        {
         "legendgroup": "Plasma",
         "marker": {
          "color": "rgb(233, 216, 166)",
          "line": {
           "color": "black",
           "width": [
            0.8,
            0.8,
            0.8,
            0.8,
            0.8,
            0.8
           ]
          },
          "opacity": 0.95,
          "size": [
           11,
           11,
           11,
           11,
           11,
           11
          ]
         },
         "mode": "markers",
         "name": "Plasma",
         "showlegend": true,
         "type": "scatter",
         "x": [
          -0.1775352565115224,
          -0.17633960448411937,
          -0.2620626143632,
          0.20985970238927298,
          0.21825469218655494,
          0.20918436454589542
         ],
         "xaxis": "x",
         "y": [
          -0.12043573665621904,
          -0.11409418042753826,
          -0.08554145075604683,
          -0.11043579877242918,
          -0.09254321362256825,
          -0.09904250002457365
         ],
         "yaxis": "y"
        },
        {
         "legendgroup": "Plasma",
         "marker": {
          "color": "rgb(233, 216, 166)",
          "line": {
           "color": "black",
           "width": [
            0.8,
            0.8,
            0.8,
            0.8,
            0.8,
            0.8
           ]
          },
          "opacity": 0.95,
          "size": [
           11,
           11,
           11,
           11,
           11,
           11
          ]
         },
         "mode": "markers",
         "name": "Plasma",
         "showlegend": false,
         "type": "scatter",
         "x": [
          -0.12043573665621904,
          -0.11409418042753826,
          -0.08554145075604683,
          -0.11043579877242918,
          -0.09254321362256825,
          -0.09904250002457365
         ],
         "xaxis": "x2",
         "y": [
          -0.33358158579005454,
          -0.31240553657176545,
          -0.25237214588001283,
          -0.45302261464160043,
          -0.41823240153178637,
          -0.4372173376658523
         ],
         "yaxis": "y2"
        },
        {
         "legendgroup": "Tomato",
         "marker": {
          "color": "rgb(155, 34, 38)",
          "line": {
           "color": "black",
           "width": [
            0.8,
            0.8,
            0.8,
            0.8,
            0.8,
            0.8
           ]
          },
          "opacity": 0.95,
          "size": [
           11,
           11,
           11,
           11,
           11,
           11
          ]
         },
         "mode": "markers",
         "name": "Tomato",
         "showlegend": true,
         "type": "scatter",
         "x": [
          -0.23722550451487198,
          -0.2341398219913824,
          -0.23032320097027154,
          0.24747360477481464,
          0.2538376122390216,
          0.255207192402036
         ],
         "xaxis": "x",
         "y": [
          -0.19646513973787827,
          -0.21130770660451398,
          -0.20432186458805807,
          -0.25900448309607954,
          -0.2630943579622625,
          -0.2666741141662671
         ],
         "yaxis": "y"
        },
        {
         "legendgroup": "Tomato",
         "marker": {
          "color": "rgb(155, 34, 38)",
          "line": {
           "color": "black",
           "width": [
            0.8,
            0.8,
            0.8,
            0.8,
            0.8,
            0.8
           ]
          },
          "opacity": 0.95,
          "size": [
           11,
           11,
           11,
           11,
           11,
           11
          ]
         },
         "mode": "markers",
         "name": "Tomato",
         "showlegend": false,
         "type": "scatter",
         "x": [
          -0.19646513973787827,
          -0.21130770660451398,
          -0.20432186458805807,
          -0.25900448309607954,
          -0.2630943579622625,
          -0.2666741141662671
         ],
         "xaxis": "x2",
         "y": [
          0.04135167669686315,
          0.039370257724508535,
          0.05619984137775047,
          0.07055121889945545,
          0.09963603445683235,
          0.10184995544125149
         ],
         "yaxis": "y2"
        },
        {
         "legendgroup": "Fecal_1 + Fecal_2",
         "marker": {
          "color": "rgb(10, 147, 150)",
          "line": {
           "color": "black",
           "width": [
            0,
            0,
            0,
            0,
            0,
            0,
            0,
            0,
            0,
            0,
            0,
            0,
            0,
            0,
            0,
            0,
            0,
            0
           ]
          },
          "opacity": 0.95,
          "size": [
           7,
           7,
           7,
           7,
           7,
           7,
           7,
           7,
           7,
           7,
           7,
           7,
           7,
           7,
           7,
           7,
           7,
           7
          ]
         },
         "mode": "markers",
         "name": "Fecal_1 + Fecal_2",
         "showlegend": true,
         "type": "scatter",
         "x": [
          -0.23149703895236962,
          -0.23741592142497708,
          -0.2424161104935258,
          -0.24267583145482813,
          -0.23891065276909418,
          -0.2806011021372786,
          -0.23525433615684738,
          -0.2326034817401217,
          -0.23319118868268734,
          0.22219890088804356,
          0.2173265076038169,
          0.22006496923100788,
          0.2111698115171373,
          0.2198563345007452,
          0.21565920338833636,
          0.21312459507169546,
          0.21552643833205276,
          0.21024824071200018
         ],
         "xaxis": "x",
         "y": [
          0.08228784545528514,
          0.08086471944080277,
          0.09059591836556323,
          0.09743082615043236,
          0.0954988077023814,
          0.052298728525969895,
          0.0925757132752431,
          0.0891374231082114,
          0.09124002418316524,
          0.11549991021811601,
          0.11850159730112338,
          0.12022990801297587,
          0.1231487049561356,
          0.11473423234331287,
          0.1186681062770669,
          0.1257190470854373,
          0.12252489997187604,
          0.12172498427218408
         ],
         "yaxis": "y"
        },
        {
         "legendgroup": "Fecal_1 + Fecal_2",
         "marker": {
          "color": "rgb(10, 147, 150)",
          "line": {
           "color": "black",
           "width": [
            0,
            0,
            0,
            0,
            0,
            0,
            0,
            0,
            0,
            0,
            0,
            0,
            0,
            0,
            0,
            0,
            0,
            0
           ]
          },
          "opacity": 0.95,
          "size": [
           7,
           7,
           7,
           7,
           7,
           7,
           7,
           7,
           7,
           7,
           7,
           7,
           7,
           7,
           7,
           7,
           7,
           7
          ]
         },
         "mode": "markers",
         "name": "Fecal_1 + Fecal_2",
         "showlegend": false,
         "type": "scatter",
         "x": [
          0.08228784545528514,
          0.08086471944080277,
          0.09059591836556323,
          0.09743082615043236,
          0.0954988077023814,
          0.052298728525969895,
          0.0925757132752431,
          0.0891374231082114,
          0.09124002418316524,
          0.11549991021811601,
          0.11850159730112338,
          0.12022990801297587,
          0.1231487049561356,
          0.11473423234331287,
          0.1186681062770669,
          0.1257190470854373,
          0.12252489997187604,
          0.12172498427218408
         ],
         "xaxis": "x2",
         "y": [
          0.016507882533813113,
          0.018521470015300634,
          0.011826845809415173,
          0.005314587544690434,
          -0.013226705906061112,
          -0.0987437448663723,
          0.013375305481230008,
          0.007705190407687663,
          0.013816410330524566,
          0.010706792316552813,
          0.008173028784666239,
          0.008663580003653758,
          0.0017214751820761075,
          0.00339396683949786,
          0.008370754722097234,
          -0.005595691332749011,
          -0.0012853777637249256,
          0.003446154118689308
         ],
         "yaxis": "y2"
        },
        {
         "legendgroup": "Fecal_1 + Tomato",
         "marker": {
          "color": "rgb(202, 103, 2)",
          "line": {
           "color": "black",
           "width": [
            0,
            0,
            0,
            0,
            0,
            0,
            0,
            0,
            0,
            0,
            0,
            0,
            0,
            0,
            0,
            0,
            0,
            0
           ]
          },
          "opacity": 0.95,
          "size": [
           7,
           7,
           7,
           7,
           7,
           7,
           7,
           7,
           7,
           7,
           7,
           7,
           7,
           7,
           7,
           7,
           7,
           7
          ]
         },
         "mode": "markers",
         "name": "Fecal_1 + Tomato",
         "showlegend": true,
         "type": "scatter",
         "x": [
          -0.2392703189190017,
          -0.23597979373900815,
          -0.24970769208016888,
          -0.23522491823563735,
          -0.24178921111377755,
          -0.23823259261919555,
          -0.22641611244562548,
          -0.22933196964492678,
          -0.22692880829284423,
          0.23364124608173234,
          0.22964979884833742,
          0.23258517614857535,
          0.2325985535834141,
          0.22721918401954522,
          0.2301304135276257,
          0.2280726122330044,
          0.22319418534832702,
          0.22325597826692511
         ],
         "xaxis": "x",
         "y": [
          0.003853327068880729,
          0.003446532901114701,
          -0.019711104150235692,
          0.016379895927340054,
          0.012350962642904948,
          0.01410369042072109,
          0.0404991071237625,
          0.05663610273505941,
          0.04249827588691526,
          -0.010090185353519392,
          -0.02201779112936208,
          -0.02431426934126723,
          0.011415444815491047,
          0.019701251528798622,
          0.02041104352156504,
          0.04073867081581294,
          0.05503494975686045,
          0.04733474061345657
         ],
         "yaxis": "y"
        },
        {
         "legendgroup": "Fecal_1 + Tomato",
         "marker": {
          "color": "rgb(202, 103, 2)",
          "line": {
           "color": "black",
           "width": [
            0,
            0,
            0,
            0,
            0,
            0,
            0,
            0,
            0,
            0,
            0,
            0,
            0,
            0,
            0,
            0,
            0,
            0
           ]
          },
          "opacity": 0.95,
          "size": [
           7,
           7,
           7,
           7,
           7,
           7,
           7,
           7,
           7,
           7,
           7,
           7,
           7,
           7,
           7,
           7,
           7,
           7
          ]
         },
         "mode": "markers",
         "name": "Fecal_1 + Tomato",
         "showlegend": false,
         "type": "scatter",
         "x": [
          0.003853327068880729,
          0.003446532901114701,
          -0.019711104150235692,
          0.016379895927340054,
          0.012350962642904948,
          0.01410369042072109,
          0.0404991071237625,
          0.05663610273505941,
          0.04249827588691526,
          -0.010090185353519392,
          -0.02201779112936208,
          -0.02431426934126723,
          0.011415444815491047,
          0.019701251528798622,
          0.02041104352156504,
          0.04073867081581294,
          0.05503494975686045,
          0.04733474061345657
         ],
         "xaxis": "x2",
         "y": [
          0.048241940052865265,
          0.04468093420609767,
          -0.050266026274150645,
          0.04165051971714369,
          0.023365089461293207,
          0.040698325657631124,
          0.04454732096759838,
          0.02333812652282624,
          0.04156671532957575,
          0.06027243136277233,
          0.056664143509582106,
          0.055568111500424094,
          0.060391322209889575,
          0.06125396850937154,
          0.057574165537127985,
          0.0448578005932434,
          0.03685805246955864,
          0.03960790261628387
         ],
         "yaxis": "y2"
        },
        {
         "legendgroup": "Fecal_1 + Plasma",
         "marker": {
          "color": "rgb(0, 150, 199)",
          "line": {
           "color": "black",
           "width": [
            0,
            0,
            0,
            0,
            0,
            0,
            0,
            0,
            0,
            0,
            0,
            0,
            0,
            0,
            0,
            0,
            0,
            0
           ]
          },
          "opacity": 0.95,
          "size": [
           7,
           7,
           7,
           7,
           7,
           7,
           7,
           7,
           7,
           7,
           7,
           7,
           7,
           7,
           7,
           7,
           7,
           7
          ]
         },
         "mode": "markers",
         "name": "Fecal_1 + Plasma",
         "showlegend": true,
         "type": "scatter",
         "x": [
          -0.24167837585249158,
          -0.23024630518114714,
          -0.2532161475238103,
          -0.23230672217765083,
          -0.23007696393491145,
          -0.23344186460987446,
          -0.23039961650092022,
          -0.229779634281209,
          -0.23419942595387094,
          0.21187146092291204,
          0.21307556775750267,
          0.21196232156307215,
          0.21095144424138856,
          0.20945051852395463,
          0.21066768645455522,
          0.21212045405196528,
          0.21215369298072037,
          0.21069251001280256
         ],
         "xaxis": "x",
         "y": [
          0.0840853024077478,
          0.08551715329760787,
          0.05242170693011798,
          0.08798966665558891,
          0.08720053731132771,
          0.09330712999561207,
          0.09058303422110786,
          0.09272797189717963,
          0.08960332610057367,
          0.10738315221014319,
          0.10196831167960353,
          0.09795834266634687,
          0.11369614250997102,
          0.11795722265494117,
          0.11627578041354733,
          0.12161429224544715,
          0.12084545385177102,
          0.12199999839183294
         ],
         "yaxis": "y"
        },
        {
         "legendgroup": "Fecal_1 + Plasma",
         "marker": {
          "color": "rgb(0, 150, 199)",
          "line": {
           "color": "black",
           "width": [
            0,
            0,
            0,
            0,
            0,
            0,
            0,
            0,
            0,
            0,
            0,
            0,
            0,
            0,
            0,
            0,
            0,
            0
           ]
          },
          "opacity": 0.95,
          "size": [
           7,
           7,
           7,
           7,
           7,
           7,
           7,
           7,
           7,
           7,
           7,
           7,
           7,
           7,
           7,
           7,
           7,
           7
          ]
         },
         "mode": "markers",
         "name": "Fecal_1 + Plasma",
         "showlegend": false,
         "type": "scatter",
         "x": [
          0.0840853024077478,
          0.08551715329760787,
          0.05242170693011798,
          0.08798966665558891,
          0.08720053731132771,
          0.09330712999561207,
          0.09058303422110786,
          0.09272797189717963,
          0.08960332610057367,
          0.10738315221014319,
          0.10196831167960353,
          0.09795834266634687,
          0.11369614250997102,
          0.11795722265494117,
          0.11627578041354733,
          0.12161429224544715,
          0.12084545385177102,
          0.12199999839183294
         ],
         "xaxis": "x2",
         "y": [
          -0.0311295122114853,
          -0.0183199581823888,
          -0.1332281745834702,
          -0.004628642613456821,
          -0.005003342916967105,
          -0.002003298649742186,
          0.006568671933386222,
          0.005436887755007185,
          0.006228505141320785,
          -0.07756159423613378,
          -0.08937088618785302,
          -0.09460723871990841,
          -0.04481977077400925,
          -0.04413048709176223,
          -0.04105110858509822,
          -0.018032767013328434,
          -0.014158285631363943,
          -0.020589450547202924
         ],
         "yaxis": "y2"
        },
        {
         "legendgroup": "Fecal_1 + Fecal_2 + Tomato + Plasma",
         "marker": {
          "color": "rgb(0, 18, 25)",
          "line": {
           "color": "black",
           "width": [
            0,
            0,
            0,
            0,
            0,
            0,
            0,
            0,
            0,
            0,
            0,
            0,
            0,
            0,
            0,
            0,
            0,
            0,
            0,
            0,
            0,
            0,
            0,
            0,
            0,
            0,
            0,
            0,
            0,
            0
           ]
          },
          "opacity": 0.95,
          "size": [
           7,
           7,
           7,
           7,
           7,
           7,
           7,
           7,
           7,
           7,
           7,
           7,
           7,
           7,
           7,
           7,
           7,
           7,
           7,
           7,
           7,
           7,
           7,
           7,
           7,
           7,
           7,
           7,
           7,
           7
          ]
         },
         "mode": "markers",
         "name": "Fecal_1 + Fecal_2 + Tomato + Plasma",
         "showlegend": true,
         "type": "scatter",
         "x": [
          -0.23099611792738897,
          -0.2336863022752819,
          -0.23250667619094847,
          -0.23205174681824148,
          -0.23384198722998584,
          -0.2313396918107565,
          -0.23638404203843508,
          -0.22747416565521406,
          -0.2351951878107541,
          -0.23266895415654912,
          -0.2313294516326277,
          -0.2313280914742795,
          -0.22821247431823574,
          -0.22796242200380265,
          -0.2307612035630136,
          0.22476095872335797,
          0.22251909373600934,
          0.2293265451917612,
          0.22704011951368258,
          0.2313823724499542,
          0.22502557859572223,
          0.2296526312002526,
          0.23096842387914632,
          0.22606786120549272,
          0.22810926716355157,
          0.22556954189613407,
          0.22745743759865372,
          0.22419955495066404,
          0.22777761677310668,
          0.22802800659391037
         ],
         "xaxis": "x",
         "y": [
          0.03481942512555573,
          0.03522582994361403,
          0.032278428902576185,
          0.01953971788790304,
          0.0199587775228051,
          0.017802100577719738,
          0.03784780669002922,
          0.040019158165829204,
          0.03702706010712429,
          0.025582825349564436,
          0.027488316711233335,
          0.02613906470372904,
          0.05221437915839044,
          0.05084070600926826,
          0.04575233433200423,
          0.03788604534886006,
          0.046714310014472196,
          0.0368542928843374,
          0.025447469988100456,
          0.016945554568246382,
          0.012241243407371628,
          0.042415147001474814,
          0.04575910592674556,
          0.05283997960163803,
          0.039301245817800985,
          0.03900847159861361,
          0.039966028317046334,
          0.05680352845734859,
          0.06215732306035505,
          0.05742519223144231
         ],
         "yaxis": "y"
        },
        {
         "legendgroup": "Fecal_1 + Fecal_2 + Tomato + Plasma",
         "marker": {
          "color": "rgb(0, 18, 25)",
          "line": {
           "color": "black",
           "width": [
            0,
            0,
            0,
            0,
            0,
            0,
            0,
            0,
            0,
            0,
            0,
            0,
            0,
            0,
            0,
            0,
            0,
            0,
            0,
            0,
            0,
            0,
            0,
            0,
            0,
            0,
            0,
            0,
            0,
            0
           ]
          },
          "opacity": 0.95,
          "size": [
           7,
           7,
           7,
           7,
           7,
           7,
           7,
           7,
           7,
           7,
           7,
           7,
           7,
           7,
           7,
           7,
           7,
           7,
           7,
           7,
           7,
           7,
           7,
           7,
           7,
           7,
           7,
           7,
           7,
           7
          ]
         },
         "mode": "markers",
         "name": "Fecal_1 + Fecal_2 + Tomato + Plasma",
         "showlegend": false,
         "type": "scatter",
         "x": [
          0.03481942512555573,
          0.03522582994361403,
          0.032278428902576185,
          0.01953971788790304,
          0.0199587775228051,
          0.017802100577719738,
          0.03784780669002922,
          0.040019158165829204,
          0.03702706010712429,
          0.025582825349564436,
          0.027488316711233335,
          0.02613906470372904,
          0.05221437915839044,
          0.05084070600926826,
          0.04575233433200423,
          0.03788604534886006,
          0.046714310014472196,
          0.0368542928843374,
          0.025447469988100456,
          0.016945554568246382,
          0.012241243407371628,
          0.042415147001474814,
          0.04575910592674556,
          0.05283997960163803,
          0.039301245817800985,
          0.03900847159861361,
          0.039966028317046334,
          0.05680352845734859,
          0.06215732306035505,
          0.05742519223144231
         ],
         "xaxis": "x2",
         "y": [
          0.02914831768263985,
          0.03213933330321605,
          0.03193028736529238,
          0.03820285693992877,
          0.039964591940854714,
          0.0395306697409397,
          0.034459052648923724,
          0.0367681848956706,
          0.036113681007080366,
          0.03682808639880787,
          0.037180201715677284,
          0.041471650054980776,
          0.029713033161611762,
          0.03414143076642318,
          0.030905915508283813,
          0.03482312437113887,
          0.025835601568064564,
          0.02653446879138714,
          0.04420004555376436,
          0.0507804319935981,
          0.0534513649496612,
          0.040422636959055215,
          0.043387072434323104,
          0.03341793033552912,
          0.030276888974304514,
          0.03732668762754691,
          0.033811435886339024,
          0.03132197420125771,
          0.029031044109517026,
          0.03138652704471719
         ],
         "yaxis": "y2"
        },
        {
         "legendgroup": "Fecal_2 + Tomato",
         "marker": {
          "color": "rgb(187, 62, 3)",
          "line": {
           "color": "black",
           "width": [
            0,
            0,
            0,
            0,
            0,
            0,
            0,
            0,
            0,
            0,
            0,
            0,
            0,
            0,
            0,
            0,
            0,
            0
           ]
          },
          "opacity": 0.95,
          "size": [
           7,
           7,
           7,
           7,
           7,
           7,
           7,
           7,
           7,
           7,
           7,
           7,
           7,
           7,
           7,
           7,
           7,
           7
          ]
         },
         "mode": "markers",
         "name": "Fecal_2 + Tomato",
         "showlegend": true,
         "type": "scatter",
         "x": [
          -0.23068977289796974,
          -0.22615754278913328,
          -0.2382842089905744,
          -0.22283932206156354,
          -0.22371153787717546,
          -0.22709181101891854,
          -0.23046747976904752,
          -0.22707535934117062,
          -0.23320291900817333,
          0.23334617137959546,
          0.2461814668548863,
          0.24882843598167576,
          0.24294496897718265,
          0.24241421951068337,
          0.2445214390751243,
          0.23002993544398614,
          0.23688206845571605,
          0.2342826247151245
         ],
         "xaxis": "x",
         "y": [
          -0.0629638108122386,
          -0.059203539905192226,
          -0.10740158815573536,
          -0.045812713322194956,
          -0.027195239623631386,
          -0.036217618970438244,
          -0.0093275741847883,
          -0.02459886088846644,
          -0.0191869189426242,
          -0.09363454281132579,
          -0.08191946525435219,
          -0.07546884569664473,
          -0.03389947820786491,
          -0.03831937531056071,
          -0.04024188960918038,
          0.004484232280203981,
          0.0016833738491773475,
          0.0020247751127838664
         ],
         "yaxis": "y"
        },
        {
         "legendgroup": "Fecal_2 + Tomato",
         "marker": {
          "color": "rgb(187, 62, 3)",
          "line": {
           "color": "black",
           "width": [
            0,
            0,
            0,
            0,
            0,
            0,
            0,
            0,
            0,
            0,
            0,
            0,
            0,
            0,
            0,
            0,
            0,
            0
           ]
          },
          "opacity": 0.95,
          "size": [
           7,
           7,
           7,
           7,
           7,
           7,
           7,
           7,
           7,
           7,
           7,
           7,
           7,
           7,
           7,
           7,
           7,
           7
          ]
         },
         "mode": "markers",
         "name": "Fecal_2 + Tomato",
         "showlegend": false,
         "type": "scatter",
         "x": [
          -0.0629638108122386,
          -0.059203539905192226,
          -0.10740158815573536,
          -0.045812713322194956,
          -0.027195239623631386,
          -0.036217618970438244,
          -0.0093275741847883,
          -0.02459886088846644,
          -0.0191869189426242,
          -0.09363454281132579,
          -0.08191946525435219,
          -0.07546884569664473,
          -0.03389947820786491,
          -0.03831937531056071,
          -0.04024188960918038,
          0.004484232280203981,
          0.0016833738491773475,
          0.0020247751127838664
         ],
         "xaxis": "x2",
         "y": [
          0.05299169538091459,
          0.05588320152513466,
          0.049436161930398556,
          0.045448614938790155,
          0.052489139425626725,
          0.04949104561615358,
          0.040810861343887804,
          0.048159291259765605,
          0.04805240980948757,
          0.07713979168178162,
          0.08430383660588127,
          0.08274346191354469,
          0.0802243912042161,
          0.08068150900069655,
          0.08021357943239361,
          0.06109914456674245,
          0.07029068829153641,
          0.068617360080883
         ],
         "yaxis": "y2"
        },
        {
         "legendgroup": "Fecal_2 + Plasma",
         "marker": {
          "color": "rgb(72, 202, 228)",
          "line": {
           "color": "black",
           "width": [
            0,
            0,
            0,
            0,
            0,
            0,
            0,
            0,
            0,
            0,
            0,
            0,
            0,
            0,
            0,
            0,
            0,
            0
           ]
          },
          "opacity": 0.95,
          "size": [
           7,
           7,
           7,
           7,
           7,
           7,
           7,
           7,
           7,
           7,
           7,
           7,
           7,
           7,
           7,
           7,
           7,
           7
          ]
         },
         "mode": "markers",
         "name": "Fecal_2 + Plasma",
         "showlegend": true,
         "type": "scatter",
         "x": [
          -0.22320459507179677,
          -0.2008956332201415,
          -0.23779368076312055,
          -0.21845903879291673,
          -0.2117925835781501,
          -0.22120939048959626,
          -0.22842954244113536,
          -0.22072708095736523,
          -0.22573349976680895,
          0.2323688640903199,
          0.2330950202248672,
          0.22880524911002256,
          0.21994498179032876,
          0.23584374618671763,
          0.23592864123517768,
          0.23127821693204392,
          0.2235088174148713,
          0.2281605485053953
         ],
         "xaxis": "x",
         "y": [
          0.03672461420988838,
          0.021570937944577193,
          0.0009762207620028113,
          0.034919048225086846,
          0.028747794611308466,
          0.040292449881617544,
          0.03551511639927493,
          0.03828447374836145,
          0.03357673085909592,
          0.0464781218893377,
          0.047831636885919765,
          0.05094213496612627,
          0.05944343889259028,
          0.06137004705959228,
          0.055892797053249677,
          0.07074291750406804,
          0.08126390278263365,
          0.07991826490034891
         ],
         "yaxis": "y"
        },
        {
         "legendgroup": "Fecal_2 + Plasma",
         "marker": {
          "color": "rgb(72, 202, 228)",
          "line": {
           "color": "black",
           "width": [
            0,
            0,
            0,
            0,
            0,
            0,
            0,
            0,
            0,
            0,
            0,
            0,
            0,
            0,
            0,
            0,
            0,
            0
           ]
          },
          "opacity": 0.95,
          "size": [
           7,
           7,
           7,
           7,
           7,
           7,
           7,
           7,
           7,
           7,
           7,
           7,
           7,
           7,
           7,
           7,
           7,
           7
          ]
         },
         "mode": "markers",
         "name": "Fecal_2 + Plasma",
         "showlegend": false,
         "type": "scatter",
         "x": [
          0.03672461420988838,
          0.021570937944577193,
          0.0009762207620028113,
          0.034919048225086846,
          0.028747794611308466,
          0.040292449881617544,
          0.03551511639927493,
          0.03828447374836145,
          0.03357673085909592,
          0.0464781218893377,
          0.047831636885919765,
          0.05094213496612627,
          0.05944343889259028,
          0.06137004705959228,
          0.055892797053249677,
          0.07074291750406804,
          0.08126390278263365,
          0.07991826490034891
         ],
         "xaxis": "x2",
         "y": [
          -0.06594306726013394,
          -0.06991168455487336,
          -0.2195660428782732,
          -0.010945168338451846,
          -0.009453298847843595,
          -0.0181094786418682,
          -0.0001959878416081609,
          0.0025875551940886957,
          -0.001471154989977936,
          -0.0924623900336765,
          -0.1007671874635751,
          -0.0896415784451685,
          -0.04628342563417502,
          -0.04944297884026759,
          -0.05215316232735649,
          -0.011949477310357313,
          -0.006552412728755389,
          -0.015133962401552526
         ],
         "yaxis": "y2"
        },
        {
         "legendgroup": "Tomato + Plasma",
         "marker": {
          "color": "rgb(238, 155, 0)",
          "line": {
           "color": "black",
           "width": [
            0,
            0,
            0,
            0,
            0,
            0,
            0,
            0,
            0,
            0,
            0,
            0,
            0,
            0,
            0,
            0,
            0,
            0
           ]
          },
          "opacity": 0.95,
          "size": [
           7,
           7,
           7,
           7,
           7,
           7,
           7,
           7,
           7,
           7,
           7,
           7,
           7,
           7,
           7,
           7,
           7,
           7
          ]
         },
         "mode": "markers",
         "name": "Tomato + Plasma",
         "showlegend": true,
         "type": "scatter",
         "x": [
          -0.2375731822277394,
          -0.22208140964517564,
          -0.23464971409672447,
          -0.22262972476812604,
          -0.21942399727737213,
          -0.2256847570941063,
          -0.225758892954732,
          -0.2273221306551302,
          -0.2230978339868111,
          0.27041590224292367,
          0.2665496039381247,
          0.27323020608387566,
          0.25952875851636154,
          0.27200176772473195,
          0.2668349133325852,
          0.26294546117877093,
          0.263801379120427,
          0.26321133966321725
         ],
         "xaxis": "x",
         "y": [
          -0.20342428222613235,
          -0.21351548740591805,
          -0.20649460579096016,
          -0.20513842631054502,
          -0.21657457526662424,
          -0.2184863681099843,
          -0.2038472768204194,
          -0.22273520023913412,
          -0.21476187104089636,
          -0.23808548579685984,
          -0.23929886336935477,
          -0.24734017489400087,
          -0.2438234852157231,
          -0.24932125539349256,
          -0.24871042473486255,
          -0.25360891392969437,
          -0.2456773962098661,
          -0.2527348041045301
         ],
         "yaxis": "y"
        },
        {
         "legendgroup": "Tomato + Plasma",
         "marker": {
          "color": "rgb(238, 155, 0)",
          "line": {
           "color": "black",
           "width": [
            0,
            0,
            0,
            0,
            0,
            0,
            0,
            0,
            0,
            0,
            0,
            0,
            0,
            0,
            0,
            0,
            0,
            0
           ]
          },
          "opacity": 0.95,
          "size": [
           7,
           7,
           7,
           7,
           7,
           7,
           7,
           7,
           7,
           7,
           7,
           7,
           7,
           7,
           7,
           7,
           7,
           7
          ]
         },
         "mode": "markers",
         "name": "Tomato + Plasma",
         "showlegend": false,
         "type": "scatter",
         "x": [
          -0.20342428222613235,
          -0.21351548740591805,
          -0.20649460579096016,
          -0.20513842631054502,
          -0.21657457526662424,
          -0.2184863681099843,
          -0.2038472768204194,
          -0.22273520023913412,
          -0.21476187104089636,
          -0.23808548579685984,
          -0.23929886336935477,
          -0.24734017489400087,
          -0.2438234852157231,
          -0.24932125539349256,
          -0.24871042473486255,
          -0.25360891392969437,
          -0.2456773962098661,
          -0.2527348041045301
         ],
         "xaxis": "x2",
         "y": [
          -0.02063637427669156,
          -0.015923293282287237,
          -0.005925355989428861,
          0.027964379682445643,
          0.022361204341176985,
          0.021684835915523067,
          0.023259192906299103,
          0.021812293888633906,
          0.02412617167013807,
          -0.044771519682555966,
          -0.02433701656342104,
          -0.03024753721875212,
          0.03546851532910285,
          0.011382891248847476,
          0.024969392025954513,
          0.05285916638639421,
          0.05541601181487054,
          0.05295003260934912
         ],
         "yaxis": "y2"
        }
       ],
       "layout": {
        "annotations": [
         {
          "font": {
           "size": 20
          },
          "showarrow": false,
          "text": "PC1 and PC2",
          "x": 0.2,
          "xanchor": "center",
          "xref": "paper",
          "y": 1,
          "yanchor": "bottom",
          "yref": "paper"
         },
         {
          "font": {
           "size": 20
          },
          "showarrow": false,
          "text": "PC2 and PC3",
          "x": 0.8,
          "xanchor": "center",
          "xref": "paper",
          "y": 1,
          "yanchor": "bottom",
          "yref": "paper"
         }
        ],
        "height": 550,
        "legend": {
         "font": {
          "color": "black",
          "size": 12
         },
         "orientation": "h",
         "y": -0.5,
         "yanchor": "bottom"
        },
        "template": {
         "data": {
          "bar": [
           {
            "error_x": {
             "color": "rgb(36,36,36)"
            },
            "error_y": {
             "color": "rgb(36,36,36)"
            },
            "marker": {
             "line": {
              "color": "white",
              "width": 0.5
             },
             "pattern": {
              "fillmode": "overlay",
              "size": 10,
              "solidity": 0.2
             }
            },
            "type": "bar"
           }
          ],
          "barpolar": [
           {
            "marker": {
             "line": {
              "color": "white",
              "width": 0.5
             },
             "pattern": {
              "fillmode": "overlay",
              "size": 10,
              "solidity": 0.2
             }
            },
            "type": "barpolar"
           }
          ],
          "carpet": [
           {
            "aaxis": {
             "endlinecolor": "rgb(36,36,36)",
             "gridcolor": "white",
             "linecolor": "white",
             "minorgridcolor": "white",
             "startlinecolor": "rgb(36,36,36)"
            },
            "baxis": {
             "endlinecolor": "rgb(36,36,36)",
             "gridcolor": "white",
             "linecolor": "white",
             "minorgridcolor": "white",
             "startlinecolor": "rgb(36,36,36)"
            },
            "type": "carpet"
           }
          ],
          "choropleth": [
           {
            "colorbar": {
             "outlinewidth": 1,
             "tickcolor": "rgb(36,36,36)",
             "ticks": "outside"
            },
            "type": "choropleth"
           }
          ],
          "contour": [
           {
            "colorbar": {
             "outlinewidth": 1,
             "tickcolor": "rgb(36,36,36)",
             "ticks": "outside"
            },
            "colorscale": [
             [
              0,
              "#440154"
             ],
             [
              0.1111111111111111,
              "#482878"
             ],
             [
              0.2222222222222222,
              "#3e4989"
             ],
             [
              0.3333333333333333,
              "#31688e"
             ],
             [
              0.4444444444444444,
              "#26828e"
             ],
             [
              0.5555555555555556,
              "#1f9e89"
             ],
             [
              0.6666666666666666,
              "#35b779"
             ],
             [
              0.7777777777777778,
              "#6ece58"
             ],
             [
              0.8888888888888888,
              "#b5de2b"
             ],
             [
              1,
              "#fde725"
             ]
            ],
            "type": "contour"
           }
          ],
          "contourcarpet": [
           {
            "colorbar": {
             "outlinewidth": 1,
             "tickcolor": "rgb(36,36,36)",
             "ticks": "outside"
            },
            "type": "contourcarpet"
           }
          ],
          "heatmap": [
           {
            "colorbar": {
             "outlinewidth": 1,
             "tickcolor": "rgb(36,36,36)",
             "ticks": "outside"
            },
            "colorscale": [
             [
              0,
              "#440154"
             ],
             [
              0.1111111111111111,
              "#482878"
             ],
             [
              0.2222222222222222,
              "#3e4989"
             ],
             [
              0.3333333333333333,
              "#31688e"
             ],
             [
              0.4444444444444444,
              "#26828e"
             ],
             [
              0.5555555555555556,
              "#1f9e89"
             ],
             [
              0.6666666666666666,
              "#35b779"
             ],
             [
              0.7777777777777778,
              "#6ece58"
             ],
             [
              0.8888888888888888,
              "#b5de2b"
             ],
             [
              1,
              "#fde725"
             ]
            ],
            "type": "heatmap"
           }
          ],
          "heatmapgl": [
           {
            "colorbar": {
             "outlinewidth": 1,
             "tickcolor": "rgb(36,36,36)",
             "ticks": "outside"
            },
            "colorscale": [
             [
              0,
              "#440154"
             ],
             [
              0.1111111111111111,
              "#482878"
             ],
             [
              0.2222222222222222,
              "#3e4989"
             ],
             [
              0.3333333333333333,
              "#31688e"
             ],
             [
              0.4444444444444444,
              "#26828e"
             ],
             [
              0.5555555555555556,
              "#1f9e89"
             ],
             [
              0.6666666666666666,
              "#35b779"
             ],
             [
              0.7777777777777778,
              "#6ece58"
             ],
             [
              0.8888888888888888,
              "#b5de2b"
             ],
             [
              1,
              "#fde725"
             ]
            ],
            "type": "heatmapgl"
           }
          ],
          "histogram": [
           {
            "marker": {
             "line": {
              "color": "white",
              "width": 0.6
             }
            },
            "type": "histogram"
           }
          ],
          "histogram2d": [
           {
            "colorbar": {
             "outlinewidth": 1,
             "tickcolor": "rgb(36,36,36)",
             "ticks": "outside"
            },
            "colorscale": [
             [
              0,
              "#440154"
             ],
             [
              0.1111111111111111,
              "#482878"
             ],
             [
              0.2222222222222222,
              "#3e4989"
             ],
             [
              0.3333333333333333,
              "#31688e"
             ],
             [
              0.4444444444444444,
              "#26828e"
             ],
             [
              0.5555555555555556,
              "#1f9e89"
             ],
             [
              0.6666666666666666,
              "#35b779"
             ],
             [
              0.7777777777777778,
              "#6ece58"
             ],
             [
              0.8888888888888888,
              "#b5de2b"
             ],
             [
              1,
              "#fde725"
             ]
            ],
            "type": "histogram2d"
           }
          ],
          "histogram2dcontour": [
           {
            "colorbar": {
             "outlinewidth": 1,
             "tickcolor": "rgb(36,36,36)",
             "ticks": "outside"
            },
            "colorscale": [
             [
              0,
              "#440154"
             ],
             [
              0.1111111111111111,
              "#482878"
             ],
             [
              0.2222222222222222,
              "#3e4989"
             ],
             [
              0.3333333333333333,
              "#31688e"
             ],
             [
              0.4444444444444444,
              "#26828e"
             ],
             [
              0.5555555555555556,
              "#1f9e89"
             ],
             [
              0.6666666666666666,
              "#35b779"
             ],
             [
              0.7777777777777778,
              "#6ece58"
             ],
             [
              0.8888888888888888,
              "#b5de2b"
             ],
             [
              1,
              "#fde725"
             ]
            ],
            "type": "histogram2dcontour"
           }
          ],
          "mesh3d": [
           {
            "colorbar": {
             "outlinewidth": 1,
             "tickcolor": "rgb(36,36,36)",
             "ticks": "outside"
            },
            "type": "mesh3d"
           }
          ],
          "parcoords": [
           {
            "line": {
             "colorbar": {
              "outlinewidth": 1,
              "tickcolor": "rgb(36,36,36)",
              "ticks": "outside"
             }
            },
            "type": "parcoords"
           }
          ],
          "pie": [
           {
            "automargin": true,
            "type": "pie"
           }
          ],
          "scatter": [
           {
            "marker": {
             "colorbar": {
              "outlinewidth": 1,
              "tickcolor": "rgb(36,36,36)",
              "ticks": "outside"
             }
            },
            "type": "scatter"
           }
          ],
          "scatter3d": [
           {
            "line": {
             "colorbar": {
              "outlinewidth": 1,
              "tickcolor": "rgb(36,36,36)",
              "ticks": "outside"
             }
            },
            "marker": {
             "colorbar": {
              "outlinewidth": 1,
              "tickcolor": "rgb(36,36,36)",
              "ticks": "outside"
             }
            },
            "type": "scatter3d"
           }
          ],
          "scattercarpet": [
           {
            "marker": {
             "colorbar": {
              "outlinewidth": 1,
              "tickcolor": "rgb(36,36,36)",
              "ticks": "outside"
             }
            },
            "type": "scattercarpet"
           }
          ],
          "scattergeo": [
           {
            "marker": {
             "colorbar": {
              "outlinewidth": 1,
              "tickcolor": "rgb(36,36,36)",
              "ticks": "outside"
             }
            },
            "type": "scattergeo"
           }
          ],
          "scattergl": [
           {
            "marker": {
             "colorbar": {
              "outlinewidth": 1,
              "tickcolor": "rgb(36,36,36)",
              "ticks": "outside"
             }
            },
            "type": "scattergl"
           }
          ],
          "scattermapbox": [
           {
            "marker": {
             "colorbar": {
              "outlinewidth": 1,
              "tickcolor": "rgb(36,36,36)",
              "ticks": "outside"
             }
            },
            "type": "scattermapbox"
           }
          ],
          "scatterpolar": [
           {
            "marker": {
             "colorbar": {
              "outlinewidth": 1,
              "tickcolor": "rgb(36,36,36)",
              "ticks": "outside"
             }
            },
            "type": "scatterpolar"
           }
          ],
          "scatterpolargl": [
           {
            "marker": {
             "colorbar": {
              "outlinewidth": 1,
              "tickcolor": "rgb(36,36,36)",
              "ticks": "outside"
             }
            },
            "type": "scatterpolargl"
           }
          ],
          "scatterternary": [
           {
            "marker": {
             "colorbar": {
              "outlinewidth": 1,
              "tickcolor": "rgb(36,36,36)",
              "ticks": "outside"
             }
            },
            "type": "scatterternary"
           }
          ],
          "surface": [
           {
            "colorbar": {
             "outlinewidth": 1,
             "tickcolor": "rgb(36,36,36)",
             "ticks": "outside"
            },
            "colorscale": [
             [
              0,
              "#440154"
             ],
             [
              0.1111111111111111,
              "#482878"
             ],
             [
              0.2222222222222222,
              "#3e4989"
             ],
             [
              0.3333333333333333,
              "#31688e"
             ],
             [
              0.4444444444444444,
              "#26828e"
             ],
             [
              0.5555555555555556,
              "#1f9e89"
             ],
             [
              0.6666666666666666,
              "#35b779"
             ],
             [
              0.7777777777777778,
              "#6ece58"
             ],
             [
              0.8888888888888888,
              "#b5de2b"
             ],
             [
              1,
              "#fde725"
             ]
            ],
            "type": "surface"
           }
          ],
          "table": [
           {
            "cells": {
             "fill": {
              "color": "rgb(237,237,237)"
             },
             "line": {
              "color": "white"
             }
            },
            "header": {
             "fill": {
              "color": "rgb(217,217,217)"
             },
             "line": {
              "color": "white"
             }
            },
            "type": "table"
           }
          ]
         },
         "layout": {
          "annotationdefaults": {
           "arrowhead": 0,
           "arrowwidth": 1
          },
          "autotypenumbers": "strict",
          "coloraxis": {
           "colorbar": {
            "outlinewidth": 1,
            "tickcolor": "rgb(36,36,36)",
            "ticks": "outside"
           }
          },
          "colorscale": {
           "diverging": [
            [
             0,
             "rgb(103,0,31)"
            ],
            [
             0.1,
             "rgb(178,24,43)"
            ],
            [
             0.2,
             "rgb(214,96,77)"
            ],
            [
             0.3,
             "rgb(244,165,130)"
            ],
            [
             0.4,
             "rgb(253,219,199)"
            ],
            [
             0.5,
             "rgb(247,247,247)"
            ],
            [
             0.6,
             "rgb(209,229,240)"
            ],
            [
             0.7,
             "rgb(146,197,222)"
            ],
            [
             0.8,
             "rgb(67,147,195)"
            ],
            [
             0.9,
             "rgb(33,102,172)"
            ],
            [
             1,
             "rgb(5,48,97)"
            ]
           ],
           "sequential": [
            [
             0,
             "#440154"
            ],
            [
             0.1111111111111111,
             "#482878"
            ],
            [
             0.2222222222222222,
             "#3e4989"
            ],
            [
             0.3333333333333333,
             "#31688e"
            ],
            [
             0.4444444444444444,
             "#26828e"
            ],
            [
             0.5555555555555556,
             "#1f9e89"
            ],
            [
             0.6666666666666666,
             "#35b779"
            ],
            [
             0.7777777777777778,
             "#6ece58"
            ],
            [
             0.8888888888888888,
             "#b5de2b"
            ],
            [
             1,
             "#fde725"
            ]
           ],
           "sequentialminus": [
            [
             0,
             "#440154"
            ],
            [
             0.1111111111111111,
             "#482878"
            ],
            [
             0.2222222222222222,
             "#3e4989"
            ],
            [
             0.3333333333333333,
             "#31688e"
            ],
            [
             0.4444444444444444,
             "#26828e"
            ],
            [
             0.5555555555555556,
             "#1f9e89"
            ],
            [
             0.6666666666666666,
             "#35b779"
            ],
            [
             0.7777777777777778,
             "#6ece58"
            ],
            [
             0.8888888888888888,
             "#b5de2b"
            ],
            [
             1,
             "#fde725"
            ]
           ]
          },
          "colorway": [
           "#1F77B4",
           "#FF7F0E",
           "#2CA02C",
           "#D62728",
           "#9467BD",
           "#8C564B",
           "#E377C2",
           "#7F7F7F",
           "#BCBD22",
           "#17BECF"
          ],
          "font": {
           "color": "rgb(36,36,36)"
          },
          "geo": {
           "bgcolor": "white",
           "lakecolor": "white",
           "landcolor": "white",
           "showlakes": true,
           "showland": true,
           "subunitcolor": "white"
          },
          "hoverlabel": {
           "align": "left"
          },
          "hovermode": "closest",
          "mapbox": {
           "style": "light"
          },
          "paper_bgcolor": "white",
          "plot_bgcolor": "white",
          "polar": {
           "angularaxis": {
            "gridcolor": "rgb(232,232,232)",
            "linecolor": "rgb(36,36,36)",
            "showgrid": false,
            "showline": true,
            "ticks": "outside"
           },
           "bgcolor": "white",
           "radialaxis": {
            "gridcolor": "rgb(232,232,232)",
            "linecolor": "rgb(36,36,36)",
            "showgrid": false,
            "showline": true,
            "ticks": "outside"
           }
          },
          "scene": {
           "xaxis": {
            "backgroundcolor": "white",
            "gridcolor": "rgb(232,232,232)",
            "gridwidth": 2,
            "linecolor": "rgb(36,36,36)",
            "showbackground": true,
            "showgrid": false,
            "showline": true,
            "ticks": "outside",
            "zeroline": false,
            "zerolinecolor": "rgb(36,36,36)"
           },
           "yaxis": {
            "backgroundcolor": "white",
            "gridcolor": "rgb(232,232,232)",
            "gridwidth": 2,
            "linecolor": "rgb(36,36,36)",
            "showbackground": true,
            "showgrid": false,
            "showline": true,
            "ticks": "outside",
            "zeroline": false,
            "zerolinecolor": "rgb(36,36,36)"
           },
           "zaxis": {
            "backgroundcolor": "white",
            "gridcolor": "rgb(232,232,232)",
            "gridwidth": 2,
            "linecolor": "rgb(36,36,36)",
            "showbackground": true,
            "showgrid": false,
            "showline": true,
            "ticks": "outside",
            "zeroline": false,
            "zerolinecolor": "rgb(36,36,36)"
           }
          },
          "shapedefaults": {
           "fillcolor": "black",
           "line": {
            "width": 0
           },
           "opacity": 0.3
          },
          "ternary": {
           "aaxis": {
            "gridcolor": "rgb(232,232,232)",
            "linecolor": "rgb(36,36,36)",
            "showgrid": false,
            "showline": true,
            "ticks": "outside"
           },
           "baxis": {
            "gridcolor": "rgb(232,232,232)",
            "linecolor": "rgb(36,36,36)",
            "showgrid": false,
            "showline": true,
            "ticks": "outside"
           },
           "bgcolor": "white",
           "caxis": {
            "gridcolor": "rgb(232,232,232)",
            "linecolor": "rgb(36,36,36)",
            "showgrid": false,
            "showline": true,
            "ticks": "outside"
           }
          },
          "title": {
           "x": 0.05
          },
          "xaxis": {
           "automargin": true,
           "gridcolor": "rgb(232,232,232)",
           "linecolor": "rgb(36,36,36)",
           "showgrid": false,
           "showline": true,
           "ticks": "outside",
           "title": {
            "standoff": 15
           },
           "zeroline": false,
           "zerolinecolor": "rgb(36,36,36)"
          },
          "yaxis": {
           "automargin": true,
           "gridcolor": "rgb(232,232,232)",
           "linecolor": "rgb(36,36,36)",
           "showgrid": false,
           "showline": true,
           "ticks": "outside",
           "title": {
            "standoff": 15
           },
           "zeroline": false,
           "zerolinecolor": "rgb(36,36,36)"
          }
         }
        },
        "width": 1000,
        "xaxis": {
         "anchor": "y",
         "domain": [
          0,
          0.4
         ],
         "title": {
          "text": "PC1 (57.3 %)"
         }
        },
        "xaxis2": {
         "anchor": "y2",
         "domain": [
          0.6000000000000001,
          1
         ],
         "title": {
          "text": "PC2 (13.2 %)"
         }
        },
        "yaxis": {
         "anchor": "x",
         "domain": [
          0,
          1
         ],
         "title": {
          "text": "PC2 (13.2 %)"
         }
        },
        "yaxis2": {
         "anchor": "x2",
         "domain": [
          0,
          1
         ],
         "title": {
          "text": "PC3 (8.0 %)"
         }
        }
       }
      }
     },
     "metadata": {},
     "output_type": "display_data"
    }
   ],
   "source": [
    "plot = 'contains' # instrument contains\n",
    "\n",
    "if plot == 'contains':\n",
    "    colorsIdx = {\n",
    "        'Fecal_1': 'rgb(0, 95, 115)',\n",
    "        'Fecal_2': 'rgb(148, 210, 189)',\n",
    "        'Plasma': 'rgb(233, 216, 166)',\n",
    "        'Tomato': 'rgb(155, 34, 38)',\n",
    "        'Fecal_1 + Fecal_2': 'rgb(10, 147, 150)',\n",
    "        'Fecal_1 + Tomato': 'rgb(202, 103, 2)',\n",
    "        'Fecal_1 + Plasma': 'rgb(0, 150, 199)',\n",
    "        'Fecal_1 + Fecal_2 + Tomato + Plasma': 'rgb(0, 18, 25)',\n",
    "        'Fecal_2 + Tomato': 'rgb(187, 62, 3)',\n",
    "        'Fecal_2 + Plasma': 'rgb(72, 202, 228)',\n",
    "        'Tomato + Plasma': 'rgb(238, 155, 0)',\n",
    "    }\n",
    "elif plot == 'instrument':\n",
    "    colorsIdx = {\n",
    "        'QE': 'rgb(238, 155, 0)',\n",
    "        'qTOF': 'rgb(0, 95, 115)'\n",
    "        }\n",
    "\n",
    "fig = make_subplots(rows=1, cols=2,\n",
    "                    shared_xaxes=False,\n",
    "                    vertical_spacing=0.13,\n",
    "                    horizontal_spacing=0.2,\n",
    "                    subplot_titles=('PC1 and PC2', 'PC2 and PC3'))\n",
    "\n",
    "cats = list(colorsIdx.keys())\n",
    "\n",
    "# Plot  lines\n",
    "\n",
    "result_cat = results.copy()\n",
    "for pc, position in zip(PCs, pos):\n",
    "    for sample in list(result_cat['Samplename'].unique()):\n",
    "        for triplicate in [1,2,3]:\n",
    "            from_x = list(result_cat[(result_cat['Samplename'] == sample) & (result_cat['instrument'] == 'QE') & (result_cat['Triplicate_number'] == triplicate)][pc[0]])[0]\n",
    "            from_y = list(result_cat[(result_cat['Samplename'] == sample) & (result_cat['instrument'] == 'QE') & (result_cat['Triplicate_number'] == triplicate)][pc[1]])[0]\n",
    "            to_x =  list(result_cat[(result_cat['Samplename'] == sample) & (result_cat['instrument'] == 'qTOF') & (result_cat['Triplicate_number'] == triplicate)][pc[0]])[0]\n",
    "            to_y =  list(result_cat[(result_cat['Samplename'] == sample) & (result_cat['instrument'] == 'qTOF') & (result_cat['Triplicate_number'] == triplicate)][pc[1]])[0]\n",
    "\n",
    "            fig.add_trace(\n",
    "                go.Scatter(\n",
    "                    x= [from_x, to_x],\n",
    "                    y = [from_y, to_y],\n",
    "                    mode='lines', showlegend = False,\n",
    "                    line=dict(color='black', width=0.07)\n",
    "                    ),\n",
    "                row=position[0], col=position[1])\n",
    "\n",
    "for cat in cats:  \n",
    "    result_cat = results[results[plot] == cat]\n",
    "    for pc, position, legend_bool in zip(PCs, pos, legend):\n",
    "        fig.add_trace(\n",
    "            go.Scatter(\n",
    "                marker=dict(size=list(result_cat['size']), line_width=list(result_cat['line']), line_color ='black', opacity=0.95), \n",
    "                x= result_cat[pc[0]], y = result_cat[pc[1]],\n",
    "                mode='markers', marker_color= colorsIdx[cat], name=cat, legendgroup=cat, showlegend=legend_bool\n",
    "                ),\n",
    "            row=position[0], col=position[1])\n",
    "\n",
    "# Update xaxis properties\n",
    "fig.update_xaxes(title_text=f\"PC1 ({varPC1} %)\", row=1, col=1)\n",
    "fig.update_xaxes(title_text=f\"PC2 ({varPC2} %)\", row=1, col=2)\n",
    "\n",
    "# Update yaxis properties\n",
    "fig.update_yaxes(title_text=f\"PC2 ({varPC2} %)\", row=1, col=1)\n",
    "fig.update_yaxes(title_text=f\"PC3 ({varPC3} %)\", row=1, col=2)\n",
    "\n",
    "fig.update_layout(height=550, width=1000, template = 'simple_white')\n",
    "\n",
    "fig.update_layout(legend=dict(\n",
    "    orientation=\"h\",\n",
    "    yanchor = 'bottom', \n",
    "    y = -0.5,\n",
    "    font=dict(\n",
    "        size=12,\n",
    "        color=\"black\"\n",
    "        ),\n",
    "))\n",
    "fig.update_annotations(font_size=20)\n",
    "\n",
    "fig.show()"
   ]
  },
  {
   "cell_type": "markdown",
   "metadata": {},
   "source": [
    "## PERMANOVA\n",
    "Compute the PERMANOVA statistical analysis for a given group parameter on the different metrics"
   ]
  },
  {
   "cell_type": "code",
   "execution_count": 32,
   "metadata": {},
   "outputs": [
    {
     "data": {
      "text/plain": [
       "method name                PERMANOVA\n",
       "test statistic name         pseudo-F\n",
       "sample size                      162\n",
       "number of groups                   2\n",
       "test statistic            215.649445\n",
       "p-value                        0.001\n",
       "number of permutations           999\n",
       "Name: PERMANOVA results, dtype: object"
      ]
     },
     "execution_count": 32,
     "metadata": {},
     "output_type": "execute_result"
    }
   ],
   "source": [
    "group = 'instrument' # instrument contains\n",
    "\n",
    "samples = memo_merged.memo_matrix.index.to_list()\n",
    "\n",
    "sk_bio_dm_memo = DistanceMatrix(dm_memo, samples)\n",
    "\n",
    "df_meta_2 = df_meta.set_index('Filename')\n",
    "\n",
    "permanova(sk_bio_dm_memo, df_meta_2, column=group, permutations=999)"
   ]
  }
 ],
 "metadata": {
  "interpreter": {
   "hash": "bf27a2d4a0753834bb94f8ff78247bd00bc6063ee2884368a40f3120b4342aed"
  },
  "kernelspec": {
   "display_name": "Python 3.9.6 64-bit ('memo': conda)",
   "language": "python",
   "name": "python3"
  },
  "language_info": {
   "codemirror_mode": {
    "name": "ipython",
    "version": 3
   },
   "file_extension": ".py",
   "mimetype": "text/x-python",
   "name": "python",
   "nbconvert_exporter": "python",
   "pygments_lexer": "ipython3",
   "version": "3.9.6"
  },
  "orig_nbformat": 4
 },
 "nbformat": 4,
 "nbformat_minor": 2
}
